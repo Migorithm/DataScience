{
 "cells": [
  {
   "cell_type": "code",
   "execution_count": null,
   "metadata": {},
   "outputs": [],
   "source": [
    "# C:\\images\\폐사진\n",
    "# 폐사진들을 숫자로 변환한 리스트 값을 인공 신경망에 넣기 위해 \n",
    "# 리스트 객체에 저장 하려고 한다. 파일을 읽어와서 숫자로 변환하자 .\n",
    "#  이미지  => numpy 모듈의  array  변환  \n",
    "import numpy as np  \n",
    "import cv2 \n",
    "import os   #  디렉토리 탐색을 한 후 파일을 추출하기 위한 모듈\n",
    "import re   # 데이터 정제 "
   ]
  },
  {
   "cell_type": "code",
   "execution_count": null,
   "metadata": {},
   "outputs": [],
   "source": [
    "test_images = 'c:\\\\images'\n",
    "\n",
    "#이미지 파일을 list 객체에 담아 정렬할 수 있는 함수 \n",
    "def img_load(path):\n",
    "    file_list = os.listdir(path)#해당 디렉토리에 파일을 추출\n",
    "    file_name=[] \n",
    "    #파일의 이름을 검증해서 list 객체에 저장 후 정렬\n",
    "    for i in file_list:  \n",
    "        a = re.sub('[^0-9]','',i) #i의 값 중에서 숫자가 아니면 ''로 변경 null변경 \n",
    "        file_name.append(int(a))\n",
    "        file_name.sort()\n",
    "   \n",
    "    file_res =[]  # 파일 목록을 저장할 변수  \n",
    "    for  k in file_name:\n",
    "        file_res.append('c:\\\\images\\\\'+ str(k) + '.png')  #c:\\\\images\\\\1.png\n",
    "        \n",
    "    image =[]\n",
    "    for  h in file_res :\n",
    "        img = cv2.imread(h) #이미지파일을 읽어서 숫자 ndarray 변환\n",
    "        image.append(img)\n",
    "\n",
    "    #return image  \n",
    "    return np.array(image)          \n"
   ]
  },
  {
   "cell_type": "code",
   "execution_count": null,
   "metadata": {},
   "outputs": [],
   "source": [
    "print(img_load(test_images)) # test_images 디렉토리에 있는 모든 파일을 배열로 리턴"
   ]
  },
  {
   "cell_type": "markdown",
   "metadata": {},
   "source": [
    "* 이미지 프로세싱에서 가장 많이 사용하는 기법\n",
    "0~255 <127>     127보다 작으면 모두 0으로, 127보다 크면 모드 255값으로 처리  \n",
    "\n",
    "임계값 처리  :  cv2.threshold(src, thresh, maxval, type[, dst])\n",
    "\n",
    "cv2.threshold(대상이미지, 임계값, 임계값보다 큰값 , 임계값적용타입)\n",
    "\n",
    "<<enum cv::ThresholdTypes>>\n",
    "Python: cv.THRESH_BINARY    :  픽셀값src(x,y) thresh 값보다 크면  value, 작으면  0 \n",
    "Python: cv.THRESH_BINARY_INV  :  픽셀값src(x,y) thresh 값보다 크면  0, 작으면  value \n",
    "Python: cv.THRESH_TRUNC  : 픽셀값src(x,y) thresh 값보다 크면  thresh, 작으면 픽셀값src(x,y) \n",
    "Python: cv.THRESH_TOZERO  : 픽셀값src(x,y) thresh 값보다 크면  픽셀값src(x,y) , 작으면  0 \n",
    "Python: cv.THRESH_TOZERO_INV  : 픽셀값src(x,y) thresh 값보다 크면 0, 작으면 픽셀값 src(x,y)\n"
   ]
  },
  {
   "cell_type": "code",
   "execution_count": null,
   "metadata": {},
   "outputs": [],
   "source": [
    "#1. 임계값 지정하기전 이미지를 흑백으로 읽어 오자. \n",
    "image = cv2.imread('c:\\\\myImg\\\\Lenna.png')\n",
    "#cv2.imwrite('c:\\\\myImg\\\\temp\\\\G01.png',image)\n",
    "\n",
    "th, im_th =cv2.threshold(image,127,255, cv2.THRESH_BINARY)\n",
    "print(th)\n",
    "\n",
    "cv2.imwrite('c:\\\\myImg\\\\temp\\\\G02.png',im_th)\n",
    "\n",
    "# 임계값 보다 큰값은 원래의 상태로 작은값은 0으로 지정해서 이미지를 확인 하자. \n",
    "\n",
    "th, im_th =cv2.threshold(image,127,255, cv2.THRESH_TOZERO)\n",
    "print(th)\n",
    "\n",
    "cv2.imwrite('c:\\\\myImg\\\\temp\\\\G03.png',im_th)\n",
    "\n",
    "\n"
   ]
  },
  {
   "cell_type": "code",
   "execution_count": null,
   "metadata": {},
   "outputs": [],
   "source": [
    "import cv2\n",
    "#1. 임계값 지정하기전 이미지를 흑백으로 읽어 오자. \n",
    "image = cv2.imread('c:\\\\myImg\\\\Lenna.png',0)\n",
    "ret ,  img_thresh  =  cv2 . threshold ( image ,  100 ,  255 ,  cv2 . THRESH_BINARY )\n",
    "\n",
    "cv2 . imshow ( \"img_th\" ,  img_thresh ) \n",
    "cv2 . waitKey() \n",
    "cv2 . destroyAllWindows()"
   ]
  },
  {
   "cell_type": "code",
   "execution_count": null,
   "metadata": {},
   "outputs": [],
   "source": [
    "import cv2\n",
    "#임계값 자동으로 처리 cv2.threshold  cv2.THRESH_OTSU\n",
    "image = cv2.imread('c:\\\\myImg\\\\Lenna.png',0)  \n",
    "\n",
    "ret2 ,  img_otsu  =  cv2 . threshold ( image ,  0 ,  255 ,  cv2.THRESH_OTSU )\n",
    "print ( \"ret2 : {}\" . format ( ret2 ))\n",
    "cv2 . imshow ( \"otsu\" ,  img_otsu ) \n",
    "cv2 . waitKey () \n",
    "cv2 . destroyAllWindows()"
   ]
  },
  {
   "cell_type": "markdown",
   "metadata": {},
   "source": [
    "cv2.imread('c:\\\\myImg\\\\Lenna.png',flags)\n",
    "-1 : 변화없이\n",
    "0  : 그레이\n",
    "1  : 색상\n",
    "2  : 임의의 깊이 \n",
    "3  : 임의의 색상"
   ]
  },
  {
   "cell_type": "markdown",
   "metadata": {},
   "source": [
    "day03\n",
    "1. 임계값처리\n",
    "2. 이미지 처리   _ 흑백, 지정 범위 색상 추출[HSV]  , 가장자리, 크기조정 , 이미지 히스토그램 시각화 \n",
    "3. 이미지 처리   _ 감마처리 , 평행이동, 회전 \n",
    "4. 이미지 처리   - 회선 방법  \n",
    "5. 특정 픽셀   - ORB 특징 픽셀 추출  , 매칭, 거리계산  \n"
   ]
  },
  {
   "cell_type": "code",
   "execution_count": null,
   "metadata": {},
   "outputs": [],
   "source": [
    "# 2. 지정범위색상 추출  \n",
    "#색상(Hue) 0~360, 채도(Saturation) 원의 중심에서 0~100 , 명도(Value) 높이로 0~100\n",
    "# OpenCV   H [0~179] ,SV [ 0~255]\n",
    "\n",
    "import cv2\n",
    "import numpy as np\n",
    "# 1)대상이미지      : imread(), cvtColor()\n",
    "img = cv2.imread('c:\\\\myImg\\\\Lenna.png')  \n",
    "hsv = cv2.cvtColor(img,  cv2.COLOR_BGR2HSV) \n",
    "\n",
    "#2) -> 추출색상 범위를 지정한 이미지 mask :  cv2.inRange(대상, 시작범위, 마지막범위)\n",
    "start_color = np.array([20,50,50])\n",
    "end_color = np.array([ 255,255,255])\n",
    "img_mask =cv2.inRange(hsv,start_color,end_color)\n",
    "\n",
    "#3) -> 원본이미지와 mask이미지를 2진으로 비교 : cv2.bitwise_and(대상, 대상, mask )\n",
    "img_color  =  cv2.bitwise_and(img, img, mask = img_mask )\n",
    "cv2.imwrite(\"c:\\\\myImg\\\\temp\\HSV_mask.png\", img_color )\n"
   ]
  },
  {
   "cell_type": "code",
   "execution_count": null,
   "metadata": {},
   "outputs": [],
   "source": [
    "#2.가장자리  \n",
    "# Canny(image, threshold1, threshold2[, edges[, apertureSize[, L2gradient]]]) -> edges\n",
    "# Canny(image, threshold1[최소], threshold2[최대], edges 저장변수[, \n",
    " #       apertureSize[그레디언트값 기본 3], L2gradient]]]) -> edges\n",
    "   # L2gradient =False   dI/dx|+|dI/dy|   \n",
    "  # L2gradient =True   sqrt{(dI/dx)^2 + (dI/dy)^2}  \n",
    "import cv2\n",
    "import numpy as np\n",
    "# 1)대상이미지   흑백이미지    : imread()\n",
    "img = cv2.imread('c:\\\\myImg\\\\Lenna.png', 0)     \n",
    "\n",
    "#2) edges 검색 \n",
    "c_img    =  cv2.Canny(img,50,110)\n",
    "cv2.imwrite(\"c:\\\\myImg\\\\temp\\Canny.png\", c_img )\n",
    "    \n",
    "    "
   ]
  },
  {
   "cell_type": "code",
   "execution_count": null,
   "metadata": {},
   "outputs": [],
   "source": [
    "#크기조정  resize() \n",
    "import cv2\n",
    "import numpy as np\n",
    "img = cv2.imread('c:\\\\myImg\\\\Lenna.png', 1)     \n",
    "w,h  =60,60\n",
    "img_res = cv2.resize(img,(w,h))\n",
    "\n",
    "cv2.imwrite(\"c:\\\\myImg\\\\temp\\Resize.png\", img_res )"
   ]
  },
  {
   "cell_type": "code",
   "execution_count": null,
   "metadata": {},
   "outputs": [],
   "source": [
    "#2. 이미지 히스토그램 시각화   cv2.calcHist()\n",
    "#이미지에서 B,G,R  를 가진 화소로 구성된것을 그래프로 표현   \n",
    "# calcHist(images, channels, mask, histSize, ranges[, hist[, accumulate]]) -> hist\n",
    "import cv2\n",
    "import numpy as np\n",
    "from matplotlib import pyplot as plt\n",
    "\n",
    "img = cv2.imread('c:\\\\myImg\\\\apple.jpg')  \n",
    "color  = ('b','g','r')\n",
    "\n",
    "for i, col in enumerate( color):  \n",
    "    histr  = cv2.calcHist([img],[i],None,[256],[0,256])\n",
    "    plt.plot(histr, color = col)\n",
    "    plt.xlim([0,256])    \n",
    "plt.show()"
   ]
  },
  {
   "cell_type": "code",
   "execution_count": null,
   "metadata": {},
   "outputs": [],
   "source": [
    "#임의의 이미지를 다운로드 받아  흑백으로 추출하고, 가장자리 추출해서 저장해보자 \n",
    "import  cv2\n",
    "#상수정의 \n",
    "o_w_n =\"org\"\n",
    "g_w_n=\"gray\"\n",
    "c_w_n=\"canny\"\n",
    "\n",
    "o_f_n = \"c:\\\\myImg\\\\OIP.jpg\"\n",
    "g_f_n= \"c:\\\\myImg\\\\OIPG.jpg\"\n",
    "c_f_n=\"c:\\\\myImg\\\\OIPC.jpg\"\n",
    "\n",
    "#원본이미지 로드\n",
    "org_img= cv2.imread(o_f_n,cv2.IMREAD_UNCHANGED)\n",
    "\n",
    "#그레이스케일로 변환하면서 로드\n",
    "gray_img = cv2.imread(o_f_n, cv2.cv2.IMREAD_GRAYSCALE)\n",
    "\n",
    "# 에지 추출 \n",
    "canny_img = cv2.Canny(gray_img,50,100)\n",
    "\n",
    "#프레임 창에 표시\n",
    "cv2.namedWindow(o_w_n)\n",
    "cv2.namedWindow(g_w_n)\n",
    "cv2.namedWindow(c_w_n)\n",
    "\n",
    "#제목과 추출 이미지 표시\n",
    "cv2.imshow(o_w_n, org_img  )\n",
    "cv2.imshow(g_w_n, gray_img  )\n",
    "cv2.imshow(c_w_n, canny_img  )\n",
    "\n",
    "#파일에 저장 \n",
    "cv2.imwrite(g_f_n,gray_img)\n",
    "cv2.imwrite(c_f_n,canny_img)\n",
    "\n",
    "#종료\n",
    "cv2.waitKey(0) # 무한기다림  \n",
    "cv2.destroyAllWindows()\n",
    "\n",
    "\n"
   ]
  },
  {
   "cell_type": "code",
   "execution_count": 5,
   "metadata": {},
   "outputs": [
    {
     "data": {
      "text/plain": [
       "True"
      ]
     },
     "execution_count": 5,
     "metadata": {},
     "output_type": "execute_result"
    }
   ],
   "source": [
    "#3. 이미지 처리   _ 감마처리 : 이미지 밝기를 변경  \n",
    "#  y= 255*(x / 255) ^ (1/r)     r의 값이 1보다  크면 밝다 , 1보다 작으면 어둡다  \n",
    "# LUT(src, lut[, dst]) -> dst \n",
    "# https://ko.wikipedia.org/wiki/YCbCr \n",
    "\n",
    "import cv2\n",
    "import numpy  as np \n",
    "#감마 테이블을 만들어 이미지 적용해보자.  \n",
    "r=1.8\n",
    "lookup_table =  np.zeros(   (256,1),  dtype ='uint8') \n",
    "\n",
    "for  i  in range(256):\n",
    "      lookup_table[i][0]= 255 *pow( float(i)/ 255,    1.0/r)\n",
    "\n",
    "\n",
    "o_f_n = \"c:\\\\myImg\\\\road2.jpg\"\n",
    "#파일 읽어서 감마처리 후 파일 저장\n",
    "img_src = cv2.imread(o_f_n, 1)\n",
    "img_gamma = cv2.LUT(img_src ,lookup_table )\n",
    "\n",
    "cv2.imwrite('c:\\\\myImg\\\\road2_gamma.jpg', img_gamma)\n",
    "\n",
    "\n",
    "\n"
   ]
  },
  {
   "cell_type": "code",
   "execution_count": 10,
   "metadata": {},
   "outputs": [
    {
     "data": {
      "image/png": "[encoded data removed]",
      "text/plain": [
       "<Figure size 432x288 with 1 Axes>"
      ]
     },
     "metadata": {
      "needs_background": "light"
     },
     "output_type": "display_data"
    }
   ],
   "source": [
    "# YCbCr( YCC )를 이용해 보자 cv2.cvtColor(img, cv2.COLOR_BGR2YCR_CB)\n",
    "import cv2\n",
    "import numpy  as np \n",
    "import pylab as plt\n",
    "\n",
    "o_img = cv2.imread('c:\\\\myImg\\\\road1.png',1)\n",
    "lut_img =  cv2.imread('c:\\\\myImg\\\\road1_gamma.png',1)\n",
    "#1. 이미지를 YCC로 변환  \n",
    "o_ycc = cv2.cvtColor(o_img, cv2.COLOR_BGR2YCR_CB)\n",
    "lut_ycc = cv2.cvtColor(lut_img, cv2.COLOR_BGR2YCR_CB)\n",
    "\n",
    "#2. Y의 히스토그램 비교 \n",
    "#cv2.calcHist(images, channels, mask, histSize, ranges[, hist[, accumulate]]) \n",
    "\n",
    "#3. Cb, Cr값 비교 \n",
    "h_o  =cv2.calcHist([o_ycc],[2] , None,[256],[0,256])\n",
    "h_lut =cv2.calcHist([lut_ycc],[2],None,[256],[0,256])\n",
    "\n",
    "plt.plot(h_o)\n",
    "plt.plot(h_lut)\n",
    "plt.xlim([0,256])\n",
    "plt.show()\n",
    "\n",
    "#channels 밝기 y를 지정하고 마스크없이 크기를 256으로 범위를 지정 \n",
    "#h_o  =cv2.calcHist([o_ycc],[0] , None,[256],[0,256])\n",
    "#h_lut =cv2.calcHist([lut_ycc],[0],None,[256],[0,256])\n",
    "\n",
    "#channels 밝기 1를 지정하고 마스크없이 크기를 256으로 범위를 지정 Cr\n",
    "#h_o  =cv2.calcHist([o_ycc],[1] , None,[256],[0,256])\n",
    "#h_lut =cv2.calcHist([lut_ycc],[1],None,[256],[0,256])\n",
    "\n",
    "#channels 밝기 2를 지정하고 마스크없이 크기를 256으로 범위를 지정 Cb\n",
    "#h_o  =cv2.calcHist([o_ycc],[2] , None,[256],[0,256])\n",
    "#h_lut =cv2.calcHist([lut_ycc],[2],None,[256],[0,256])\n"
   ]
  },
  {
   "cell_type": "markdown",
   "metadata": {},
   "source": [
    " 이미지 처리   _\n",
    " 1. 아핀변환(2*3)  :  affine transformation 평행 사변형으로 변환 \n",
    "      1) 평행이동, 회전  =  Euclidean space \n",
    "      2)평행이동, 회전  + 확대 , 축소   = similarity transformation\n",
    "      \n",
    " 2. 투영 변환(3*3)  : projective transformation      사각형으로 변환 (보정작업)\n",
    "       1) 투시 변환 perspective transformation  \n",
    "       2) 호모 그래피 변환(평면 투영 변환)  homograpyh transformation   "
   ]
  },
  {
   "cell_type": "code",
   "execution_count": 13,
   "metadata": {},
   "outputs": [
    {
     "name": "stdout",
     "output_type": "stream",
     "text": [
      "256 256 3\n",
      "[[  0.35355339   0.35355339  37.49033201]\n",
      " [ -0.35355339   0.35355339 128.        ]]\n"
     ]
    }
   ],
   "source": [
    "#cv2. getRotationMatrix2D(center, angle, scale) -> retval\n",
    "#cv2. warpAffine(src, M, dsize[, dst[, flags[, borderMode[, borderValue]]]]) -> ds\n",
    "# case 1  : getRotationMatrix2D\n",
    "import cv2\n",
    "import numpy as np\n",
    "import math\n",
    "\n",
    "img = cv2.imread('c:\\\\myImg\\\\Lenna.png') \n",
    "h,w,c = img.shape\n",
    "print(h,w,c)\n",
    "\n",
    "mat  = cv2.getRotationMatrix2D( (w/2,h/2), 45, 0.5  )\n",
    "print(mat)\n",
    "\n",
    "#affine_img = cv2.warpAffine(img,mat,(w,h),borderValue=(0,128,255) )#BRG\n",
    "#img02 = cv2.imread('c:\\\\myImg\\\\apple.jpg') \n",
    "#dst =img02 // 4\n",
    "#affine_img = cv2.warpAffine(img,mat,(w,h),borderMode=cv2.BORDER_TRANSPARENT, dst=dst )#BRG\n",
    "\n",
    "#affine_img = cv2.warpAffine(img,mat,(w,h),borderMode=cv2.BORDER_REPLICATE )#BRG\n",
    "affine_img = cv2.warpAffine(img,mat,(w,h),borderMode = cv2 . BORDER_WRAP  )#BRG\n",
    "cv2.imshow(\"res\", affine_img)\n",
    "cv2 . waitKey ()\n",
    "cv2 . destroyAllWindows ()\n"
   ]
  },
  {
   "cell_type": "code",
   "execution_count": 5,
   "metadata": {},
   "outputs": [],
   "source": [
    "#cv2. getRotationMatrix2D(center, angle, scale) -> retval\n",
    "#cv2. warpAffine(src, M, dsize[, dst[, flags[, borderMode[, borderValue]]]]) -> ds\n",
    "'''\n",
    "flags\n",
    "cv2.INTER_NEAREST:\n",
    "cv2.INTER_LINEAR: \n",
    "cv2.INTER_CUBIC: \n",
    "cv2.INTER_LANCZOS4: \n",
    "\n",
    "'''\n",
    "borderMode\n",
    "cv2.BORDER_CONSTANT\n",
    "cv2.BORDER_REPLICATE \n",
    "cv2.BORDER_REFLECT\n",
    "cv2.BORDER_WRAP\n",
    "cv2.BORDER_REFLECT_101: \n",
    "cv2.BORDER_TRANSPARENT\n",
    "'''\n",
    "# case 2 : np.float32()    -> 평행 이동만  \n",
    "import cv2\n",
    "import numpy as np\n",
    "import math\n",
    "\n",
    "img = cv2.imread('c:\\\\myImg\\\\Lenna.png') \n",
    "h,w = img.shape[:2]\n",
    "\n",
    "dx, dy = 30,30 \n",
    "\n",
    "mat = np.float32([   [1,0,dx],\n",
    "                     [0,1,dy]])\n",
    "\n",
    "affine_img = cv2.warpAffine(img,mat,(w,h))\n",
    "\n",
    "cv2.imshow(\"res\", affine_img)\n",
    "\n",
    "cv2 . waitKey()\n",
    "cv2 . destroyAllWindows()\n"
   ]
  },
  {
   "cell_type": "markdown",
   "metadata": {},
   "source": [
    "2. 투영 변환(3*3)   \n",
    "\n",
    "cv2. getPerspectiveTransform(src, dst[, solveMethod]) -> retval\n",
    " cv2.warpPerspective(src, M (float), dsize[, dst[, flags[, borderMode[, borderValue]]]]) -> dst\n",
    "\n",
    "과제  1. api를 확인한 화면 캡처1 \n",
    "과제  2. 튜터리얼의 소스코드를 실행 후 캡처2 \n",
    "과제  3. 주어진 소스코드를 가지고  ____________을 채워보자.  \n",
    "\n",
    "\n",
    "\n",
    "\n",
    "\n"
   ]
  },
  {
   "cell_type": "code",
   "execution_count": null,
   "metadata": {},
   "outputs": [],
   "source": []
  }
 ],
 "metadata": {
  "kernelspec": {
   "display_name": "Python 3",
   "language": "python",
   "name": "python3"
  },
  "language_info": {
   "codemirror_mode": {
    "name": "ipython",
    "version": 3
   },
   "file_extension": ".py",
   "mimetype": "text/x-python",
   "name": "python",
   "nbconvert_exporter": "python",
   "pygments_lexer": "ipython3",
   "version": "3.8.8"
  }
 },
 "nbformat": 4,
 "nbformat_minor": 4
}
