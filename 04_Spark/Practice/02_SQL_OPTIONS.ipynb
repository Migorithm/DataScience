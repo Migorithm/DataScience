{
 "cells": [
  {
   "cell_type": "code",
   "execution_count": 1,
   "id": "fc70954b",
   "metadata": {},
   "outputs": [
    {
     "name": "stdout",
     "output_type": "stream",
     "text": [
      "You are working with 1 cores\n"
     ]
    },
    {
     "data": {
      "text/html": [
       "\n",
       "            <div>\n",
       "                <p><b>SparkSession - in-memory</b></p>\n",
       "                \n",
       "        <div>\n",
       "            <p><b>SparkContext</b></p>\n",
       "\n",
       "            <p><a href=\"http://DESKTOP-JOJHKCD:4044\">Spark UI</a></p>\n",
       "\n",
       "            <dl>\n",
       "              <dt>Version</dt>\n",
       "                <dd><code>v3.0.3</code></dd>\n",
       "              <dt>Master</dt>\n",
       "                <dd><code>local[*]</code></dd>\n",
       "              <dt>AppName</dt>\n",
       "                <dd><code>search_filter</code></dd>\n",
       "            </dl>\n",
       "        </div>\n",
       "        \n",
       "            </div>\n",
       "        "
      ],
      "text/plain": [
       "<pyspark.sql.session.SparkSession at 0x13e77b6f070>"
      ]
     },
     "execution_count": 1,
     "metadata": {},
     "output_type": "execute_result"
    }
   ],
   "source": [
    "import findspark\n",
    "findspark.init()\n",
    "\n",
    "from pyspark.sql import SparkSession\n",
    "\n",
    "spark = SparkSession.builder.appName(\"search_filter\").getOrCreate()\n",
    "cores = spark._jsc.sc().getExecutorMemoryStatus().keySet().size()\n",
    "print(\"You are working with {} cores\".format(cores))\n",
    "\n",
    "spark"
   ]
  },
  {
   "cell_type": "code",
   "execution_count": 7,
   "id": "6553d06e",
   "metadata": {
    "scrolled": false
   },
   "outputs": [
    {
     "data": {
      "text/html": [
       "<div>\n",
       "<style scoped>\n",
       "    .dataframe tbody tr th:only-of-type {\n",
       "        vertical-align: middle;\n",
       "    }\n",
       "\n",
       "    .dataframe tbody tr th {\n",
       "        vertical-align: top;\n",
       "    }\n",
       "\n",
       "    .dataframe thead th {\n",
       "        text-align: right;\n",
       "    }\n",
       "</style>\n",
       "<table border=\"1\" class=\"dataframe\">\n",
       "  <thead>\n",
       "    <tr style=\"text-align: right;\">\n",
       "      <th></th>\n",
       "      <th>12 months ending</th>\n",
       "      <th>PFA</th>\n",
       "      <th>Region</th>\n",
       "      <th>Offence</th>\n",
       "      <th>Rolling year total number of offences</th>\n",
       "    </tr>\n",
       "  </thead>\n",
       "  <tbody>\n",
       "    <tr>\n",
       "      <th>0</th>\n",
       "      <td>31/03/2003</td>\n",
       "      <td>Avon and Somerset</td>\n",
       "      <td>South West</td>\n",
       "      <td>All other theft offences</td>\n",
       "      <td>25959</td>\n",
       "    </tr>\n",
       "    <tr>\n",
       "      <th>1</th>\n",
       "      <td>31/03/2003</td>\n",
       "      <td>Avon and Somerset</td>\n",
       "      <td>South West</td>\n",
       "      <td>Bicycle theft</td>\n",
       "      <td>3090</td>\n",
       "    </tr>\n",
       "    <tr>\n",
       "      <th>2</th>\n",
       "      <td>31/03/2003</td>\n",
       "      <td>Avon and Somerset</td>\n",
       "      <td>South West</td>\n",
       "      <td>Criminal damage and arson</td>\n",
       "      <td>26202</td>\n",
       "    </tr>\n",
       "  </tbody>\n",
       "</table>\n",
       "</div>"
      ],
      "text/plain": [
       "  12 months ending                PFA      Region                    Offence  \\\n",
       "0       31/03/2003  Avon and Somerset  South West   All other theft offences   \n",
       "1       31/03/2003  Avon and Somerset  South West              Bicycle theft   \n",
       "2       31/03/2003  Avon and Somerset  South West  Criminal damage and arson   \n",
       "\n",
       "   Rolling year total number of offences  \n",
       "0                                  25959  \n",
       "1                                   3090  \n",
       "2                                  26202  "
      ]
     },
     "execution_count": 7,
     "metadata": {},
     "output_type": "execute_result"
    }
   ],
   "source": [
    "path = \"../../data/rec_crime_pfa.csv\"\n",
    "\n",
    "crime = spark.read.csv(path,inferSchema=True,header=True)\n",
    "\n",
    "crime.limit(3).toPandas()"
   ]
  },
  {
   "cell_type": "code",
   "execution_count": 3,
   "id": "970721a9",
   "metadata": {
    "scrolled": true
   },
   "outputs": [
    {
     "name": "stdout",
     "output_type": "stream",
     "text": [
      "root\n",
      " |-- 12 months ending: string (nullable = true)\n",
      " |-- PFA: string (nullable = true)\n",
      " |-- Region: string (nullable = true)\n",
      " |-- Offence: string (nullable = true)\n",
      " |-- Rolling year total number of offences: integer (nullable = true)\n",
      "\n"
     ]
    }
   ],
   "source": [
    "crime.printSchema()"
   ]
  },
  {
   "cell_type": "code",
   "execution_count": 8,
   "id": "8482b531",
   "metadata": {
    "scrolled": true
   },
   "outputs": [
    {
     "data": {
      "text/html": [
       "<div>\n",
       "<style scoped>\n",
       "    .dataframe tbody tr th:only-of-type {\n",
       "        vertical-align: middle;\n",
       "    }\n",
       "\n",
       "    .dataframe tbody tr th {\n",
       "        vertical-align: top;\n",
       "    }\n",
       "\n",
       "    .dataframe thead th {\n",
       "        text-align: right;\n",
       "    }\n",
       "</style>\n",
       "<table border=\"1\" class=\"dataframe\">\n",
       "  <thead>\n",
       "    <tr style=\"text-align: right;\">\n",
       "      <th></th>\n",
       "      <th>12 months ending</th>\n",
       "      <th>PFA</th>\n",
       "      <th>Region</th>\n",
       "      <th>Offence</th>\n",
       "      <th>Rolling year total number of offences</th>\n",
       "    </tr>\n",
       "  </thead>\n",
       "  <tbody>\n",
       "    <tr>\n",
       "      <th>0</th>\n",
       "      <td>31/03/2003</td>\n",
       "      <td>Avon and Somerset</td>\n",
       "      <td>South West</td>\n",
       "      <td>All other theft offences</td>\n",
       "      <td>25959</td>\n",
       "    </tr>\n",
       "    <tr>\n",
       "      <th>1</th>\n",
       "      <td>31/03/2003</td>\n",
       "      <td>Avon and Somerset</td>\n",
       "      <td>South West</td>\n",
       "      <td>Bicycle theft</td>\n",
       "      <td>3090</td>\n",
       "    </tr>\n",
       "    <tr>\n",
       "      <th>2</th>\n",
       "      <td>31/03/2003</td>\n",
       "      <td>Avon and Somerset</td>\n",
       "      <td>South West</td>\n",
       "      <td>Criminal damage and arson</td>\n",
       "      <td>26202</td>\n",
       "    </tr>\n",
       "    <tr>\n",
       "      <th>3</th>\n",
       "      <td>31/03/2003</td>\n",
       "      <td>Avon and Somerset</td>\n",
       "      <td>South West</td>\n",
       "      <td>Death or serious injury caused by illegal driving</td>\n",
       "      <td>2</td>\n",
       "    </tr>\n",
       "    <tr>\n",
       "      <th>4</th>\n",
       "      <td>31/03/2003</td>\n",
       "      <td>Avon and Somerset</td>\n",
       "      <td>South West</td>\n",
       "      <td>Domestic burglary</td>\n",
       "      <td>14561</td>\n",
       "    </tr>\n",
       "    <tr>\n",
       "      <th>...</th>\n",
       "      <td>...</td>\n",
       "      <td>...</td>\n",
       "      <td>...</td>\n",
       "      <td>...</td>\n",
       "      <td>...</td>\n",
       "    </tr>\n",
       "    <tr>\n",
       "      <th>46464</th>\n",
       "      <td>31/12/2018</td>\n",
       "      <td>Wiltshire</td>\n",
       "      <td>South West</td>\n",
       "      <td>Stalking and harassment</td>\n",
       "      <td>2380</td>\n",
       "    </tr>\n",
       "    <tr>\n",
       "      <th>46465</th>\n",
       "      <td>31/12/2018</td>\n",
       "      <td>Wiltshire</td>\n",
       "      <td>South West</td>\n",
       "      <td>Theft from the person</td>\n",
       "      <td>347</td>\n",
       "    </tr>\n",
       "    <tr>\n",
       "      <th>46466</th>\n",
       "      <td>31/12/2018</td>\n",
       "      <td>Wiltshire</td>\n",
       "      <td>South West</td>\n",
       "      <td>Vehicle offences</td>\n",
       "      <td>2895</td>\n",
       "    </tr>\n",
       "    <tr>\n",
       "      <th>46467</th>\n",
       "      <td>31/12/2018</td>\n",
       "      <td>Wiltshire</td>\n",
       "      <td>South West</td>\n",
       "      <td>Violence with injury</td>\n",
       "      <td>5701</td>\n",
       "    </tr>\n",
       "    <tr>\n",
       "      <th>46468</th>\n",
       "      <td>31/12/2018</td>\n",
       "      <td>Wiltshire</td>\n",
       "      <td>South West</td>\n",
       "      <td>Violence without injury</td>\n",
       "      <td>5840</td>\n",
       "    </tr>\n",
       "  </tbody>\n",
       "</table>\n",
       "<p>46469 rows × 5 columns</p>\n",
       "</div>"
      ],
      "text/plain": [
       "      12 months ending                PFA      Region  \\\n",
       "0           31/03/2003  Avon and Somerset  South West   \n",
       "1           31/03/2003  Avon and Somerset  South West   \n",
       "2           31/03/2003  Avon and Somerset  South West   \n",
       "3           31/03/2003  Avon and Somerset  South West   \n",
       "4           31/03/2003  Avon and Somerset  South West   \n",
       "...                ...                ...         ...   \n",
       "46464       31/12/2018          Wiltshire  South West   \n",
       "46465       31/12/2018          Wiltshire  South West   \n",
       "46466       31/12/2018          Wiltshire  South West   \n",
       "46467       31/12/2018          Wiltshire  South West   \n",
       "46468       31/12/2018          Wiltshire  South West   \n",
       "\n",
       "                                                 Offence  \\\n",
       "0                               All other theft offences   \n",
       "1                                          Bicycle theft   \n",
       "2                              Criminal damage and arson   \n",
       "3      Death or serious injury caused by illegal driving   \n",
       "4                                      Domestic burglary   \n",
       "...                                                  ...   \n",
       "46464                            Stalking and harassment   \n",
       "46465                              Theft from the person   \n",
       "46466                                   Vehicle offences   \n",
       "46467                               Violence with injury   \n",
       "46468                            Violence without injury   \n",
       "\n",
       "       Rolling year total number of offences  \n",
       "0                                      25959  \n",
       "1                                       3090  \n",
       "2                                      26202  \n",
       "3                                          2  \n",
       "4                                      14561  \n",
       "...                                      ...  \n",
       "46464                                   2380  \n",
       "46465                                    347  \n",
       "46466                                   2895  \n",
       "46467                                   5701  \n",
       "46468                                   5840  \n",
       "\n",
       "[46469 rows x 5 columns]"
      ]
     },
     "execution_count": 8,
     "metadata": {},
     "output_type": "execute_result"
    }
   ],
   "source": [
    "crime.toPandas()"
   ]
  },
  {
   "cell_type": "markdown",
   "id": "2bc25d57",
   "metadata": {},
   "source": [
    "#### SQL OPTION1 :: Dataframe"
   ]
  },
  {
   "cell_type": "code",
   "execution_count": 17,
   "id": "aa14fa96",
   "metadata": {},
   "outputs": [],
   "source": [
    "from pyspark.sql.types import *\n",
    "from pyspark.sql.functions import *\n",
    "\n",
    "crime = crime.withColumn(\"12 months ending\",to_timestamp(crime[\"12 months ending\"],format=\"dd/MM/yyyy\"))\n",
    "crime = crime.withColumnRenamed(\"12 months ending\",\"12_months_ending\")"
   ]
  },
  {
   "cell_type": "code",
   "execution_count": 27,
   "id": "474de4c0",
   "metadata": {},
   "outputs": [
    {
     "data": {
      "text/html": [
       "<div>\n",
       "<style scoped>\n",
       "    .dataframe tbody tr th:only-of-type {\n",
       "        vertical-align: middle;\n",
       "    }\n",
       "\n",
       "    .dataframe tbody tr th {\n",
       "        vertical-align: top;\n",
       "    }\n",
       "\n",
       "    .dataframe thead th {\n",
       "        text-align: right;\n",
       "    }\n",
       "</style>\n",
       "<table border=\"1\" class=\"dataframe\">\n",
       "  <thead>\n",
       "    <tr style=\"text-align: right;\">\n",
       "      <th></th>\n",
       "      <th>12_months_ending</th>\n",
       "      <th>sum(Rolling year total number of offences)</th>\n",
       "    </tr>\n",
       "  </thead>\n",
       "  <tbody>\n",
       "    <tr>\n",
       "      <th>0</th>\n",
       "      <td>2003-03-31</td>\n",
       "      <td>5974960</td>\n",
       "    </tr>\n",
       "    <tr>\n",
       "      <th>1</th>\n",
       "      <td>2004-03-31</td>\n",
       "      <td>6013759</td>\n",
       "    </tr>\n",
       "    <tr>\n",
       "      <th>2</th>\n",
       "      <td>2005-03-31</td>\n",
       "      <td>5637511</td>\n",
       "    </tr>\n",
       "    <tr>\n",
       "      <th>3</th>\n",
       "      <td>2006-03-31</td>\n",
       "      <td>5555172</td>\n",
       "    </tr>\n",
       "    <tr>\n",
       "      <th>4</th>\n",
       "      <td>2007-03-31</td>\n",
       "      <td>5427558</td>\n",
       "    </tr>\n",
       "    <tr>\n",
       "      <th>5</th>\n",
       "      <td>2007-06-30</td>\n",
       "      <td>5331397</td>\n",
       "    </tr>\n",
       "    <tr>\n",
       "      <th>6</th>\n",
       "      <td>2007-09-30</td>\n",
       "      <td>5213506</td>\n",
       "    </tr>\n",
       "    <tr>\n",
       "      <th>7</th>\n",
       "      <td>2007-12-31</td>\n",
       "      <td>5053088</td>\n",
       "    </tr>\n",
       "    <tr>\n",
       "      <th>8</th>\n",
       "      <td>2008-03-31</td>\n",
       "      <td>4952277</td>\n",
       "    </tr>\n",
       "    <tr>\n",
       "      <th>9</th>\n",
       "      <td>2008-06-30</td>\n",
       "      <td>4870476</td>\n",
       "    </tr>\n",
       "    <tr>\n",
       "      <th>10</th>\n",
       "      <td>2008-09-30</td>\n",
       "      <td>4837928</td>\n",
       "    </tr>\n",
       "    <tr>\n",
       "      <th>11</th>\n",
       "      <td>2008-12-31</td>\n",
       "      <td>4788657</td>\n",
       "    </tr>\n",
       "    <tr>\n",
       "      <th>12</th>\n",
       "      <td>2009-03-31</td>\n",
       "      <td>4702697</td>\n",
       "    </tr>\n",
       "    <tr>\n",
       "      <th>13</th>\n",
       "      <td>2009-06-30</td>\n",
       "      <td>4654592</td>\n",
       "    </tr>\n",
       "    <tr>\n",
       "      <th>14</th>\n",
       "      <td>2009-09-30</td>\n",
       "      <td>4554256</td>\n",
       "    </tr>\n",
       "    <tr>\n",
       "      <th>15</th>\n",
       "      <td>2009-12-31</td>\n",
       "      <td>4447490</td>\n",
       "    </tr>\n",
       "    <tr>\n",
       "      <th>16</th>\n",
       "      <td>2010-03-31</td>\n",
       "      <td>4338295</td>\n",
       "    </tr>\n",
       "    <tr>\n",
       "      <th>17</th>\n",
       "      <td>2010-06-30</td>\n",
       "      <td>4267799</td>\n",
       "    </tr>\n",
       "    <tr>\n",
       "      <th>18</th>\n",
       "      <td>2010-09-30</td>\n",
       "      <td>4223254</td>\n",
       "    </tr>\n",
       "    <tr>\n",
       "      <th>19</th>\n",
       "      <td>2010-12-31</td>\n",
       "      <td>4159914</td>\n",
       "    </tr>\n",
       "    <tr>\n",
       "      <th>20</th>\n",
       "      <td>2011-03-31</td>\n",
       "      <td>4150916</td>\n",
       "    </tr>\n",
       "    <tr>\n",
       "      <th>21</th>\n",
       "      <td>2011-06-30</td>\n",
       "      <td>4192243</td>\n",
       "    </tr>\n",
       "    <tr>\n",
       "      <th>22</th>\n",
       "      <td>2011-09-30</td>\n",
       "      <td>4253239</td>\n",
       "    </tr>\n",
       "    <tr>\n",
       "      <th>23</th>\n",
       "      <td>2011-12-31</td>\n",
       "      <td>4336452</td>\n",
       "    </tr>\n",
       "    <tr>\n",
       "      <th>24</th>\n",
       "      <td>2012-03-31</td>\n",
       "      <td>4379984</td>\n",
       "    </tr>\n",
       "    <tr>\n",
       "      <th>25</th>\n",
       "      <td>2012-06-30</td>\n",
       "      <td>4271597</td>\n",
       "    </tr>\n",
       "    <tr>\n",
       "      <th>26</th>\n",
       "      <td>2012-09-30</td>\n",
       "      <td>4192070</td>\n",
       "    </tr>\n",
       "    <tr>\n",
       "      <th>27</th>\n",
       "      <td>2012-12-31</td>\n",
       "      <td>4142326</td>\n",
       "    </tr>\n",
       "    <tr>\n",
       "      <th>28</th>\n",
       "      <td>2013-03-31</td>\n",
       "      <td>4063571</td>\n",
       "    </tr>\n",
       "    <tr>\n",
       "      <th>29</th>\n",
       "      <td>2013-06-30</td>\n",
       "      <td>4041108</td>\n",
       "    </tr>\n",
       "    <tr>\n",
       "      <th>30</th>\n",
       "      <td>2013-09-30</td>\n",
       "      <td>4022412</td>\n",
       "    </tr>\n",
       "    <tr>\n",
       "      <th>31</th>\n",
       "      <td>2013-12-31</td>\n",
       "      <td>4001090</td>\n",
       "    </tr>\n",
       "    <tr>\n",
       "      <th>32</th>\n",
       "      <td>2014-03-31</td>\n",
       "      <td>4028456</td>\n",
       "    </tr>\n",
       "    <tr>\n",
       "      <th>33</th>\n",
       "      <td>2014-06-30</td>\n",
       "      <td>4057038</td>\n",
       "    </tr>\n",
       "    <tr>\n",
       "      <th>34</th>\n",
       "      <td>2014-09-30</td>\n",
       "      <td>4087752</td>\n",
       "    </tr>\n",
       "    <tr>\n",
       "      <th>35</th>\n",
       "      <td>2014-12-31</td>\n",
       "      <td>4136897</td>\n",
       "    </tr>\n",
       "    <tr>\n",
       "      <th>36</th>\n",
       "      <td>2015-03-31</td>\n",
       "      <td>4167357</td>\n",
       "    </tr>\n",
       "    <tr>\n",
       "      <th>37</th>\n",
       "      <td>2015-06-30</td>\n",
       "      <td>4255225</td>\n",
       "    </tr>\n",
       "    <tr>\n",
       "      <th>38</th>\n",
       "      <td>2015-09-30</td>\n",
       "      <td>4325867</td>\n",
       "    </tr>\n",
       "    <tr>\n",
       "      <th>39</th>\n",
       "      <td>2015-12-31</td>\n",
       "      <td>4421168</td>\n",
       "    </tr>\n",
       "    <tr>\n",
       "      <th>40</th>\n",
       "      <td>2016-03-31</td>\n",
       "      <td>4509604</td>\n",
       "    </tr>\n",
       "    <tr>\n",
       "      <th>41</th>\n",
       "      <td>2016-06-30</td>\n",
       "      <td>4577820</td>\n",
       "    </tr>\n",
       "    <tr>\n",
       "      <th>42</th>\n",
       "      <td>2016-09-30</td>\n",
       "      <td>4678305</td>\n",
       "    </tr>\n",
       "    <tr>\n",
       "      <th>43</th>\n",
       "      <td>2016-12-31</td>\n",
       "      <td>4811414</td>\n",
       "    </tr>\n",
       "    <tr>\n",
       "      <th>44</th>\n",
       "      <td>2017-03-31</td>\n",
       "      <td>4976852</td>\n",
       "    </tr>\n",
       "    <tr>\n",
       "      <th>45</th>\n",
       "      <td>2017-06-30</td>\n",
       "      <td>5164515</td>\n",
       "    </tr>\n",
       "    <tr>\n",
       "      <th>46</th>\n",
       "      <td>2017-09-30</td>\n",
       "      <td>5338732</td>\n",
       "    </tr>\n",
       "    <tr>\n",
       "      <th>47</th>\n",
       "      <td>2017-12-30</td>\n",
       "      <td>5447811</td>\n",
       "    </tr>\n",
       "    <tr>\n",
       "      <th>48</th>\n",
       "      <td>2018-03-31</td>\n",
       "      <td>5516661</td>\n",
       "    </tr>\n",
       "    <tr>\n",
       "      <th>49</th>\n",
       "      <td>2018-06-30</td>\n",
       "      <td>5615514</td>\n",
       "    </tr>\n",
       "    <tr>\n",
       "      <th>50</th>\n",
       "      <td>2018-09-30</td>\n",
       "      <td>5723330</td>\n",
       "    </tr>\n",
       "    <tr>\n",
       "      <th>51</th>\n",
       "      <td>2018-12-31</td>\n",
       "      <td>5829016</td>\n",
       "    </tr>\n",
       "  </tbody>\n",
       "</table>\n",
       "</div>"
      ],
      "text/plain": [
       "   12_months_ending  sum(Rolling year total number of offences)\n",
       "0        2003-03-31                                     5974960\n",
       "1        2004-03-31                                     6013759\n",
       "2        2005-03-31                                     5637511\n",
       "3        2006-03-31                                     5555172\n",
       "4        2007-03-31                                     5427558\n",
       "5        2007-06-30                                     5331397\n",
       "6        2007-09-30                                     5213506\n",
       "7        2007-12-31                                     5053088\n",
       "8        2008-03-31                                     4952277\n",
       "9        2008-06-30                                     4870476\n",
       "10       2008-09-30                                     4837928\n",
       "11       2008-12-31                                     4788657\n",
       "12       2009-03-31                                     4702697\n",
       "13       2009-06-30                                     4654592\n",
       "14       2009-09-30                                     4554256\n",
       "15       2009-12-31                                     4447490\n",
       "16       2010-03-31                                     4338295\n",
       "17       2010-06-30                                     4267799\n",
       "18       2010-09-30                                     4223254\n",
       "19       2010-12-31                                     4159914\n",
       "20       2011-03-31                                     4150916\n",
       "21       2011-06-30                                     4192243\n",
       "22       2011-09-30                                     4253239\n",
       "23       2011-12-31                                     4336452\n",
       "24       2012-03-31                                     4379984\n",
       "25       2012-06-30                                     4271597\n",
       "26       2012-09-30                                     4192070\n",
       "27       2012-12-31                                     4142326\n",
       "28       2013-03-31                                     4063571\n",
       "29       2013-06-30                                     4041108\n",
       "30       2013-09-30                                     4022412\n",
       "31       2013-12-31                                     4001090\n",
       "32       2014-03-31                                     4028456\n",
       "33       2014-06-30                                     4057038\n",
       "34       2014-09-30                                     4087752\n",
       "35       2014-12-31                                     4136897\n",
       "36       2015-03-31                                     4167357\n",
       "37       2015-06-30                                     4255225\n",
       "38       2015-09-30                                     4325867\n",
       "39       2015-12-31                                     4421168\n",
       "40       2016-03-31                                     4509604\n",
       "41       2016-06-30                                     4577820\n",
       "42       2016-09-30                                     4678305\n",
       "43       2016-12-31                                     4811414\n",
       "44       2017-03-31                                     4976852\n",
       "45       2017-06-30                                     5164515\n",
       "46       2017-09-30                                     5338732\n",
       "47       2017-12-30                                     5447811\n",
       "48       2018-03-31                                     5516661\n",
       "49       2018-06-30                                     5615514\n",
       "50       2018-09-30                                     5723330\n",
       "51       2018-12-31                                     5829016"
      ]
     },
     "execution_count": 27,
     "metadata": {},
     "output_type": "execute_result"
    }
   ],
   "source": [
    "#count number of offences given year\n",
    "\n",
    "crime.groupBy(\"12_months_ending\")\\\n",
    "        .agg(sum(\"Rolling year total number of offences\"))\\\n",
    "        .orderBy(\"12_months_ending\").toPandas()"
   ]
  },
  {
   "cell_type": "code",
   "execution_count": 41,
   "id": "d3bd970d",
   "metadata": {},
   "outputs": [
    {
     "data": {
      "text/plain": [
       "<AxesSubplot:xlabel='year'>"
      ]
     },
     "execution_count": 41,
     "metadata": {},
     "output_type": "execute_result"
    },
    {
     "data": {
      "image/png": "[encoded data removed]",
      "text/plain": [
       "<Figure size 432x288 with 1 Axes>"
      ]
     },
     "metadata": {
      "needs_background": "light"
     },
     "output_type": "display_data"
    }
   ],
   "source": [
    "crime.select(year(\"12_months_ending\").alias(\"year\"),\"Rolling year total number of offences\")\\\n",
    "        .groupBy(\"year\").sum(\"Rolling year total number of offences\")\\\n",
    "        .orderBy(\"year\").toPandas().set_index(\"year\").plot()"
   ]
  },
  {
   "cell_type": "markdown",
   "id": "6084d50d",
   "metadata": {},
   "source": [
    "#### SQL OPTION2 :: tempview"
   ]
  },
  {
   "cell_type": "code",
   "execution_count": 43,
   "id": "1a726080",
   "metadata": {},
   "outputs": [],
   "source": [
    "crime.createOrReplaceTempView(\"crime\")"
   ]
  },
  {
   "cell_type": "code",
   "execution_count": 50,
   "id": "95b30c5b",
   "metadata": {
    "scrolled": true
   },
   "outputs": [
    {
     "name": "stdout",
     "output_type": "stream",
     "text": [
      "root\n",
      " |-- 12_months_ending: timestamp (nullable = true)\n",
      " |-- PFA: string (nullable = true)\n",
      " |-- Region: string (nullable = true)\n",
      " |-- Offence: string (nullable = true)\n",
      " |-- Rolling year total number of offences: integer (nullable = true)\n",
      "\n"
     ]
    }
   ],
   "source": [
    "spark.sql(\"SELECT * FROM crime\").printSchema()\n",
    "\n",
    "#crime numbers based on region."
   ]
  },
  {
   "cell_type": "code",
   "execution_count": 55,
   "id": "ab73f2d5",
   "metadata": {
    "collapsed": true
   },
   "outputs": [
    {
     "ename": "AnalysisException",
     "evalue": "cannot resolve '`rolling_year_total_number_of_offences`' given input columns: [crime.12_months_ending, crime.Offence, crime.PFA, crime.Region, crime.Rolling year total number of offences]; line 1 pos 14;\n'Project [region#60, 'rolling_year_total_number_of_offences]\n+- SubqueryAlias crime\n   +- Project [12 months ending#113 AS 12_months_ending#124, PFA#59, Region#60, Offence#61, Rolling year total number of offences#62]\n      +- Project [to_timestamp(12 months ending#58, Some(dd/MM/yyyy)) AS 12 months ending#113, PFA#59, Region#60, Offence#61, Rolling year total number of offences#62]\n         +- Relation[12 months ending#58,PFA#59,Region#60,Offence#61,Rolling year total number of offences#62] csv\n",
     "output_type": "error",
     "traceback": [
      "\u001b[1;31m---------------------------------------------------------------------------\u001b[0m",
      "\u001b[1;31mAnalysisException\u001b[0m                         Traceback (most recent call last)",
      "\u001b[1;32m<ipython-input-55-2d5fdf4878f2>\u001b[0m in \u001b[0;36m<module>\u001b[1;34m\u001b[0m\n\u001b[1;32m----> 1\u001b[1;33m \u001b[0mspark\u001b[0m\u001b[1;33m.\u001b[0m\u001b[0msql\u001b[0m\u001b[1;33m(\u001b[0m\u001b[1;34m\"\"\"SELECT region,rolling_year_total_number_of_offences from crime\"\"\"\u001b[0m\u001b[1;33m)\u001b[0m\u001b[1;33m.\u001b[0m\u001b[0mshow\u001b[0m\u001b[1;33m(\u001b[0m\u001b[1;33m)\u001b[0m\u001b[1;33m\u001b[0m\u001b[1;33m\u001b[0m\u001b[0m\n\u001b[0m",
      "\u001b[1;32mC:\\encore_migo\\spark\\spark-3.0.3-bin-hadoop2.7\\python\\pyspark\\sql\\session.py\u001b[0m in \u001b[0;36msql\u001b[1;34m(self, sqlQuery)\u001b[0m\n\u001b[0;32m    647\u001b[0m         \u001b[1;33m[\u001b[0m\u001b[0mRow\u001b[0m\u001b[1;33m(\u001b[0m\u001b[0mf1\u001b[0m\u001b[1;33m=\u001b[0m\u001b[1;36m1\u001b[0m\u001b[1;33m,\u001b[0m \u001b[0mf2\u001b[0m\u001b[1;33m=\u001b[0m\u001b[1;34mu'row1'\u001b[0m\u001b[1;33m)\u001b[0m\u001b[1;33m,\u001b[0m \u001b[0mRow\u001b[0m\u001b[1;33m(\u001b[0m\u001b[0mf1\u001b[0m\u001b[1;33m=\u001b[0m\u001b[1;36m2\u001b[0m\u001b[1;33m,\u001b[0m \u001b[0mf2\u001b[0m\u001b[1;33m=\u001b[0m\u001b[1;34mu'row2'\u001b[0m\u001b[1;33m)\u001b[0m\u001b[1;33m,\u001b[0m \u001b[0mRow\u001b[0m\u001b[1;33m(\u001b[0m\u001b[0mf1\u001b[0m\u001b[1;33m=\u001b[0m\u001b[1;36m3\u001b[0m\u001b[1;33m,\u001b[0m \u001b[0mf2\u001b[0m\u001b[1;33m=\u001b[0m\u001b[1;34mu'row3'\u001b[0m\u001b[1;33m)\u001b[0m\u001b[1;33m]\u001b[0m\u001b[1;33m\u001b[0m\u001b[1;33m\u001b[0m\u001b[0m\n\u001b[0;32m    648\u001b[0m         \"\"\"\n\u001b[1;32m--> 649\u001b[1;33m         \u001b[1;32mreturn\u001b[0m \u001b[0mDataFrame\u001b[0m\u001b[1;33m(\u001b[0m\u001b[0mself\u001b[0m\u001b[1;33m.\u001b[0m\u001b[0m_jsparkSession\u001b[0m\u001b[1;33m.\u001b[0m\u001b[0msql\u001b[0m\u001b[1;33m(\u001b[0m\u001b[0msqlQuery\u001b[0m\u001b[1;33m)\u001b[0m\u001b[1;33m,\u001b[0m \u001b[0mself\u001b[0m\u001b[1;33m.\u001b[0m\u001b[0m_wrapped\u001b[0m\u001b[1;33m)\u001b[0m\u001b[1;33m\u001b[0m\u001b[1;33m\u001b[0m\u001b[0m\n\u001b[0m\u001b[0;32m    650\u001b[0m \u001b[1;33m\u001b[0m\u001b[0m\n\u001b[0;32m    651\u001b[0m     \u001b[1;33m@\u001b[0m\u001b[0msince\u001b[0m\u001b[1;33m(\u001b[0m\u001b[1;36m2.0\u001b[0m\u001b[1;33m)\u001b[0m\u001b[1;33m\u001b[0m\u001b[1;33m\u001b[0m\u001b[0m\n",
      "\u001b[1;32mC:\\encore_migo\\spark\\spark-3.0.3-bin-hadoop2.7\\python\\lib\\py4j-0.10.9-src.zip\\py4j\\java_gateway.py\u001b[0m in \u001b[0;36m__call__\u001b[1;34m(self, *args)\u001b[0m\n\u001b[0;32m   1302\u001b[0m \u001b[1;33m\u001b[0m\u001b[0m\n\u001b[0;32m   1303\u001b[0m         \u001b[0manswer\u001b[0m \u001b[1;33m=\u001b[0m \u001b[0mself\u001b[0m\u001b[1;33m.\u001b[0m\u001b[0mgateway_client\u001b[0m\u001b[1;33m.\u001b[0m\u001b[0msend_command\u001b[0m\u001b[1;33m(\u001b[0m\u001b[0mcommand\u001b[0m\u001b[1;33m)\u001b[0m\u001b[1;33m\u001b[0m\u001b[1;33m\u001b[0m\u001b[0m\n\u001b[1;32m-> 1304\u001b[1;33m         return_value = get_return_value(\n\u001b[0m\u001b[0;32m   1305\u001b[0m             answer, self.gateway_client, self.target_id, self.name)\n\u001b[0;32m   1306\u001b[0m \u001b[1;33m\u001b[0m\u001b[0m\n",
      "\u001b[1;32mC:\\encore_migo\\spark\\spark-3.0.3-bin-hadoop2.7\\python\\pyspark\\sql\\utils.py\u001b[0m in \u001b[0;36mdeco\u001b[1;34m(*a, **kw)\u001b[0m\n\u001b[0;32m    132\u001b[0m                 \u001b[1;31m# Hide where the exception came from that shows a non-Pythonic\u001b[0m\u001b[1;33m\u001b[0m\u001b[1;33m\u001b[0m\u001b[1;33m\u001b[0m\u001b[0m\n\u001b[0;32m    133\u001b[0m                 \u001b[1;31m# JVM exception message.\u001b[0m\u001b[1;33m\u001b[0m\u001b[1;33m\u001b[0m\u001b[1;33m\u001b[0m\u001b[0m\n\u001b[1;32m--> 134\u001b[1;33m                 \u001b[0mraise_from\u001b[0m\u001b[1;33m(\u001b[0m\u001b[0mconverted\u001b[0m\u001b[1;33m)\u001b[0m\u001b[1;33m\u001b[0m\u001b[1;33m\u001b[0m\u001b[0m\n\u001b[0m\u001b[0;32m    135\u001b[0m             \u001b[1;32melse\u001b[0m\u001b[1;33m:\u001b[0m\u001b[1;33m\u001b[0m\u001b[1;33m\u001b[0m\u001b[0m\n\u001b[0;32m    136\u001b[0m                 \u001b[1;32mraise\u001b[0m\u001b[1;33m\u001b[0m\u001b[1;33m\u001b[0m\u001b[0m\n",
      "\u001b[1;32mC:\\encore_migo\\spark\\spark-3.0.3-bin-hadoop2.7\\python\\pyspark\\sql\\utils.py\u001b[0m in \u001b[0;36mraise_from\u001b[1;34m(e)\u001b[0m\n",
      "\u001b[1;31mAnalysisException\u001b[0m: cannot resolve '`rolling_year_total_number_of_offences`' given input columns: [crime.12_months_ending, crime.Offence, crime.PFA, crime.Region, crime.Rolling year total number of offences]; line 1 pos 14;\n'Project [region#60, 'rolling_year_total_number_of_offences]\n+- SubqueryAlias crime\n   +- Project [12 months ending#113 AS 12_months_ending#124, PFA#59, Region#60, Offence#61, Rolling year total number of offences#62]\n      +- Project [to_timestamp(12 months ending#58, Some(dd/MM/yyyy)) AS 12 months ending#113, PFA#59, Region#60, Offence#61, Rolling year total number of offences#62]\n         +- Relation[12 months ending#58,PFA#59,Region#60,Offence#61,Rolling year total number of offences#62] csv\n"
     ]
    }
   ],
   "source": [
    "spark.sql(\"\"\"SELECT region,rolling_year_total_number_of_offences from crime\"\"\").show()\n",
    "\n",
    "#lesson learned! you can't query column with spaces"
   ]
  },
  {
   "cell_type": "code",
   "execution_count": 65,
   "id": "0cd71ddf",
   "metadata": {},
   "outputs": [],
   "source": [
    "crime = crime.withColumnRenamed(\"Rolling year total number of offences\",\"total_number\")"
   ]
  },
  {
   "cell_type": "code",
   "execution_count": 66,
   "id": "c28b91ab",
   "metadata": {},
   "outputs": [],
   "source": [
    "crime.createOrReplaceTempView(\"crime\")"
   ]
  },
  {
   "cell_type": "code",
   "execution_count": 70,
   "id": "bb6f539b",
   "metadata": {},
   "outputs": [
    {
     "name": "stdout",
     "output_type": "stream",
     "text": [
      "+--------------------+-----------------+\n",
      "|              region|sum(total_number)|\n",
      "+--------------------+-----------------+\n",
      "|              London|         42691902|\n",
      "|          South East|         30911995|\n",
      "|          North West|         30235732|\n",
      "|Yorkshire and The...|         23769180|\n",
      "|       West Midlands|         21040955|\n",
      "+--------------------+-----------------+\n",
      "\n"
     ]
    }
   ],
   "source": [
    "spark.sql(\"SELECT region, sum(total_number) FROM crime group by region order by 2 desc limit 5\").show()"
   ]
  },
  {
   "cell_type": "code",
   "execution_count": 80,
   "id": "3f0d832b",
   "metadata": {},
   "outputs": [
    {
     "name": "stdout",
     "output_type": "stream",
     "text": [
      "+-------------------+-------+----------+----------+\n",
      "|   12_months_ending| London|South East|North West|\n",
      "+-------------------+-------+----------+----------+\n",
      "|2003-03-31 00:00:00|1089903|    691115|    794964|\n",
      "|2004-03-31 00:00:00|1070177|    733883|    820724|\n",
      "|2005-03-31 00:00:00|1023679|    725780|    780087|\n",
      "|2006-03-31 00:00:00| 992557|    728473|    781975|\n",
      "|2007-03-31 00:00:00| 929751|    746010|    751262|\n",
      "|2007-06-30 00:00:00| 913679|    728863|    724749|\n",
      "|2007-09-30 00:00:00| 900534|    715110|    701903|\n",
      "|2007-12-31 00:00:00| 883153|    694843|    678173|\n",
      "|2008-03-31 00:00:00| 870205|    680588|    663141|\n",
      "|2008-06-30 00:00:00| 863378|    669444|    653061|\n",
      "|2008-09-30 00:00:00| 860363|    662196|    649594|\n",
      "|2008-12-31 00:00:00| 859068|    657691|    638866|\n",
      "|2009-03-31 00:00:00| 852311|    648784|    622910|\n",
      "|2009-06-30 00:00:00| 851319|    642634|    607933|\n",
      "|2009-09-30 00:00:00| 847271|    630085|    596225|\n",
      "|2009-12-31 00:00:00| 839314|    615280|    576249|\n",
      "|2010-03-31 00:00:00| 835965|    599877|    556491|\n",
      "|2010-06-30 00:00:00| 833957|    591038|    543448|\n",
      "|2010-09-30 00:00:00| 834350|    581916|    532784|\n",
      "|2010-12-31 00:00:00| 830926|    562210|    523606|\n",
      "+-------------------+-------+----------+----------+\n",
      "only showing top 20 rows\n",
      "\n"
     ]
    }
   ],
   "source": [
    "#depending on regions and year, calculate total_numer of crimes\n",
    "\n",
    "spark.sql(\"\"\"SELECT * FROM (SELECT 12_months_ending, region,total_number FROM crime group by 12_months_ending, region,total_number )\n",
    "        PIVOT(\n",
    "        SUM(total_number) as t \n",
    "        FOR region in ('London', 'South East', 'North West')\n",
    "        \n",
    "        )\n",
    "        order by 12_months_ending\n",
    "        \n",
    "\"\"\").show()"
   ]
  },
  {
   "cell_type": "markdown",
   "id": "22afea49",
   "metadata": {},
   "source": [
    "#### SQL OPTION 3 :: SQL TRANSFORMER"
   ]
  },
  {
   "cell_type": "code",
   "execution_count": 81,
   "id": "10a59881",
   "metadata": {},
   "outputs": [],
   "source": [
    "from pyspark.ml.feature import SQLTransformer"
   ]
  },
  {
   "cell_type": "code",
   "execution_count": 82,
   "id": "006e64da",
   "metadata": {},
   "outputs": [
    {
     "data": {
      "text/plain": [
       "['12_months_ending', 'PFA', 'Region', 'Offence', 'total_number']"
      ]
     },
     "execution_count": 82,
     "metadata": {},
     "output_type": "execute_result"
    }
   ],
   "source": [
    "crime.columns"
   ]
  },
  {
   "cell_type": "code",
   "execution_count": 83,
   "id": "bcf7413c",
   "metadata": {},
   "outputs": [],
   "source": [
    "sqlTrans = SQLTransformer(statement=\"SELECT PFA, Region, Offence FROM __THIS__\")\n"
   ]
  },
  {
   "cell_type": "code",
   "execution_count": 84,
   "id": "178a4f52",
   "metadata": {
    "scrolled": true
   },
   "outputs": [
    {
     "name": "stdout",
     "output_type": "stream",
     "text": [
      "+-----------------+----------+--------------------+\n",
      "|              PFA|    Region|             Offence|\n",
      "+-----------------+----------+--------------------+\n",
      "|Avon and Somerset|South West|All other theft o...|\n",
      "|Avon and Somerset|South West|       Bicycle theft|\n",
      "|Avon and Somerset|South West|Criminal damage a...|\n",
      "|Avon and Somerset|South West|Death or serious ...|\n",
      "|Avon and Somerset|South West|   Domestic burglary|\n",
      "+-----------------+----------+--------------------+\n",
      "only showing top 5 rows\n",
      "\n"
     ]
    }
   ],
   "source": [
    "sqlTrans.transform(crime).show(5)"
   ]
  }
 ],
 "metadata": {
  "kernelspec": {
   "display_name": "Python 3",
   "language": "python",
   "name": "python3"
  },
  "language_info": {
   "codemirror_mode": {
    "name": "ipython",
    "version": 3
   },
   "file_extension": ".py",
   "mimetype": "text/x-python",
   "name": "python",
   "nbconvert_exporter": "python",
   "pygments_lexer": "ipython3",
   "version": "3.8.8"
  },
  "toc": {
   "base_numbering": 1,
   "nav_menu": {},
   "number_sections": true,
   "sideBar": true,
   "skip_h1_title": false,
   "title_cell": "Table of Contents",
   "title_sidebar": "Contents",
   "toc_cell": false,
   "toc_position": {},
   "toc_section_display": true,
   "toc_window_display": false
  }
 },
 "nbformat": 4,
 "nbformat_minor": 5
}
