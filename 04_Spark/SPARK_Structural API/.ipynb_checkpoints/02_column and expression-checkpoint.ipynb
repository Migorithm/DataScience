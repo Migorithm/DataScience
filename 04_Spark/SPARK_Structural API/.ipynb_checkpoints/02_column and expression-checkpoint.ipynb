{
 "cells": [
  {
   "cell_type": "markdown",
   "id": "3749b219",
   "metadata": {},
   "source": [
    "## Column and expression\n",
    "- client can manipulate DataFrame's column through expression\n",
    "- With that said though, column is a just logical structure to represent calculated values in record unit\n",
    "- Therefore, to get an actual value, we need Row and to get Row, we need DataFrame.\n",
    "- If it not for DataFrame, you can access column. "
   ]
  },
  {
   "cell_type": "code",
   "execution_count": 1,
   "id": "5d5cc187",
   "metadata": {},
   "outputs": [],
   "source": [
    "import findspark\n",
    "findspark.init()\n",
    "\n",
    "from pyspark.sql import SparkSession\n",
    "\n",
    "spark = SparkSession.builder.appName(\"col\").getOrCreate()"
   ]
  },
  {
   "cell_type": "code",
   "execution_count": 3,
   "id": "0232e53b",
   "metadata": {},
   "outputs": [
    {
     "data": {
      "text/plain": [
       "Column<b'somColumnName'>"
      ]
     },
     "execution_count": 3,
     "metadata": {},
     "output_type": "execute_result"
    }
   ],
   "source": [
    "from pyspark.sql.functions import col, column\n",
    "col(\"somColumnName\")"
   ]
  },
  {
   "cell_type": "markdown",
   "id": "64ad5de7",
   "metadata": {},
   "source": [
    "- At this point, we can't tell if DataFrame has the column defined by col function.\n",
    "- It'll remain undefined until its column name is compared to one in catalogue.\n"
   ]
  },
  {
   "cell_type": "markdown",
   "id": "d7237ad3",
   "metadata": {},
   "source": [
    "### Explicit reference to column"
   ]
  },
  {
   "cell_type": "code",
   "execution_count": 4,
   "id": "925193d6",
   "metadata": {},
   "outputs": [
    {
     "data": {
      "text/plain": [
       "DataFrame[DEST_COUNTRY_NAME: string, ORIGIN_COUNTRY_NAME: string, count: bigint]"
      ]
     },
     "execution_count": 4,
     "metadata": {},
     "output_type": "execute_result"
    }
   ],
   "source": [
    "df = spark.read.format(\"json\").load(\"../../data/2015-summary.json\")"
   ]
  },
  {
   "cell_type": "code",
   "execution_count": 10,
   "id": "c92dce7e",
   "metadata": {},
   "outputs": [
    {
     "name": "stdout",
     "output_type": "stream",
     "text": [
      "+-----+\n",
      "|count|\n",
      "+-----+\n",
      "|   15|\n",
      "|    1|\n",
      "|  344|\n",
      "|   15|\n",
      "|   62|\n",
      "|    1|\n",
      "|   62|\n",
      "|  588|\n",
      "|   40|\n",
      "|    1|\n",
      "|  325|\n",
      "|   39|\n",
      "|   64|\n",
      "|    1|\n",
      "|   41|\n",
      "|   30|\n",
      "|    6|\n",
      "|    4|\n",
      "|  230|\n",
      "|    1|\n",
      "+-----+\n",
      "only showing top 20 rows\n",
      "\n"
     ]
    }
   ],
   "source": [
    "df.select(col(\"count\")).show()"
   ]
  },
  {
   "cell_type": "markdown",
   "id": "b39cda88",
   "metadata": {},
   "source": [
    "### expr\n",
    "- column is nothing but a expression.\n",
    "- column and its transformation is compiled as per logical execution equivalent to the parsed expression."
   ]
  },
  {
   "cell_type": "code",
   "execution_count": 11,
   "id": "b2e15a14",
   "metadata": {},
   "outputs": [],
   "source": [
    "from pyspark.sql.functions import expr"
   ]
  },
  {
   "cell_type": "code",
   "execution_count": 16,
   "id": "84186998",
   "metadata": {},
   "outputs": [
    {
     "name": "stdout",
     "output_type": "stream",
     "text": [
      "+-----------------------+\n",
      "|(((count - 5) * 5) - 5)|\n",
      "+-----------------------+\n",
      "|                     45|\n",
      "|                    -25|\n",
      "|                   1690|\n",
      "+-----------------------+\n",
      "only showing top 3 rows\n",
      "\n"
     ]
    }
   ],
   "source": [
    "df.select(expr(\"count -5\")*5-5).show(3)"
   ]
  }
 ],
 "metadata": {
  "kernelspec": {
   "display_name": "Python 3",
   "language": "python",
   "name": "python3"
  },
  "language_info": {
   "codemirror_mode": {
    "name": "ipython",
    "version": 3
   },
   "file_extension": ".py",
   "mimetype": "text/x-python",
   "name": "python",
   "nbconvert_exporter": "python",
   "pygments_lexer": "ipython3",
   "version": "3.8.8"
  },
  "toc": {
   "base_numbering": 1,
   "nav_menu": {},
   "number_sections": true,
   "sideBar": true,
   "skip_h1_title": false,
   "title_cell": "Table of Contents",
   "title_sidebar": "Contents",
   "toc_cell": false,
   "toc_position": {},
   "toc_section_display": true,
   "toc_window_display": false
  }
 },
 "nbformat": 4,
 "nbformat_minor": 5
}
