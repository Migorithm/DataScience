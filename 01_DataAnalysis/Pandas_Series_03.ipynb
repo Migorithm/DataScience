{
 "cells": [
  {
   "cell_type": "markdown",
   "id": "403950e6",
   "metadata": {},
   "source": [
    "## Pandas\n",
    "- Panel Data + s 의 약자로 파이썬을 이용한 데이터 분석에서 가장 많이 사용됌.\n",
    "- numpy를 기반해서 개발되어 numpy를 사용하는 어플리케이션에서 쉽게 사용 가능.\n",
    "- 데이터 muning, prepareation, cleaning, integration\n",
    "- R의 data.frame과 유사\n",
    "\n",
    "\n",
    "\n",
    "### 자료구조\n",
    "- 데이터구조\n",
    " - **Series**(1D, vector)\n",
    " - **DataFrame**(2D, matrix) \n",
    "   - 행을 구분하는 것 - **index**\n",
    "   - 열을 구분하는 것 - **column**\n",
    "   - 별도로 행과 열을 지정해주지 않으면 인덱스는 리스트에서처럼 0부터 시작하는 정수로 설정.\n",
    " - Panel(3D)     - \n",
    "\n",
    "- Index\n",
    " - 모든 데이터의 차원은 각각 인덱스를 가진다.\n",
    " - join작업이 가능하고 원하는 데이터를 추출할 수 있다. \n",
    "\n",
    "\n"
   ]
  },
  {
   "cell_type": "markdown",
   "id": "d9a26f1a",
   "metadata": {},
   "source": [
    "#### 시리즈 생성, 구조 확인"
   ]
  },
  {
   "cell_type": "code",
   "execution_count": 1,
   "id": "f15f18b1",
   "metadata": {},
   "outputs": [],
   "source": [
    "import numpy as np\n",
    "import pandas as pd\n",
    "from pandas import Series, DataFrame"
   ]
  },
  {
   "cell_type": "code",
   "execution_count": 2,
   "id": "2e90949a",
   "metadata": {},
   "outputs": [],
   "source": [
    "#시리즈 구조를 먼저 확인\n",
    "'''\n",
    "data\n",
    "index로 구성 가능\n",
    "columns 옵션은 빠져있다\n",
    "이유는 벡터구조이기 때문에.\n",
    "'''\n",
    "ser1 = Series?"
   ]
  },
  {
   "cell_type": "code",
   "execution_count": 3,
   "id": "571aac61",
   "metadata": {},
   "outputs": [
    {
     "name": "stdout",
     "output_type": "stream",
     "text": [
      "a    18\n",
      "b    18\n",
      "c    13\n",
      "d    17\n",
      "e    17\n",
      "dtype: int32\n",
      "Index(['a', 'b', 'c', 'd', 'e'], dtype='object')\n",
      "[18 18 13 17 17]\n",
      "int32\n"
     ]
    }
   ],
   "source": [
    "np.random.seed(100)\n",
    "'''\n",
    "인덱스를 명시적으로 지정할때는 반드시 리스트 형태의 값으로 지정한다. \n",
    "'''\n",
    "\n",
    "\n",
    "ser1 = Series(np.random.randint(10,20,5),\n",
    "             index = list(['a','b','c','d','e'])\n",
    "             ) #인덱스는 리스트값을 받는다. 즉 인덱스 자체의 타입은 자유롭다.\n",
    "\n",
    "print(ser1)\n",
    "print(ser1.index)\n",
    "print(ser1.values)\n",
    "print(ser1.dtype) #내부 요소(인덱스가 아닌)의 데이터타입"
   ]
  },
  {
   "cell_type": "markdown",
   "id": "3eeaf4d4",
   "metadata": {},
   "source": [
    "####  시리즈 값 조회하기\n",
    "- Slicing 방법<br>\n",
    "  1) 숫자사용 :: 마지막 숫자는 포함되지 않는다.<br>\n",
    "  2) 라벨사용 :: 마지막 라벨은 포함시킨다.<br>"
   ]
  },
  {
   "cell_type": "code",
   "execution_count": 4,
   "id": "fa0cac48",
   "metadata": {},
   "outputs": [
    {
     "data": {
      "text/plain": [
       "a    18\n",
       "b    18\n",
       "c    13\n",
       "d    17\n",
       "e    17\n",
       "dtype: int32"
      ]
     },
     "execution_count": 4,
     "metadata": {},
     "output_type": "execute_result"
    }
   ],
   "source": [
    "ser1\n"
   ]
  },
  {
   "cell_type": "markdown",
   "id": "358d0907",
   "metadata": {},
   "source": [
    "#### Slicing through labels"
   ]
  },
  {
   "cell_type": "code",
   "execution_count": 14,
   "id": "4c1f4e07",
   "metadata": {},
   "outputs": [
    {
     "name": "stdout",
     "output_type": "stream",
     "text": [
      "a    18\n",
      "b    18\n",
      "c    13\n",
      "d    17\n",
      "dtype: int32\n",
      "17\n",
      "18\n"
     ]
    },
    {
     "data": {
      "text/plain": [
       "a    18\n",
       "b    18\n",
       "c    13\n",
       "d    17\n",
       "e    17\n",
       "dtype: int32"
      ]
     },
     "execution_count": 14,
     "metadata": {},
     "output_type": "execute_result"
    }
   ],
   "source": [
    "print(ser1['a':'d'])  #인덱스에 순서가 있으므로, 비록 abcd와 같은 alphabetical order가 아니더라도 'a'지점에서 'd'지점까지 리턴.\n",
    "\n",
    "\n",
    "print(ser1['d'])\n",
    "print(ser1['a'])\n",
    "ser1"
   ]
  },
  {
   "cell_type": "markdown",
   "id": "eefa451f",
   "metadata": {},
   "source": [
    "#### Stepping"
   ]
  },
  {
   "cell_type": "code",
   "execution_count": 15,
   "id": "bd8a1eb1",
   "metadata": {},
   "outputs": [
    {
     "data": {
      "text/plain": [
       "a    18\n",
       "c    13\n",
       "e    17\n",
       "dtype: int32"
      ]
     },
     "execution_count": 15,
     "metadata": {},
     "output_type": "execute_result"
    }
   ],
   "source": [
    "ser1_1= ser1[::2] #stepping\n",
    "ser1_1"
   ]
  },
  {
   "cell_type": "markdown",
   "id": "68f24da9",
   "metadata": {},
   "source": [
    "#### 시리즈간의 연산"
   ]
  },
  {
   "cell_type": "code",
   "execution_count": 22,
   "id": "dde0e624",
   "metadata": {
    "scrolled": true
   },
   "outputs": [
    {
     "data": {
      "text/plain": [
       "a    36.0\n",
       "b     NaN\n",
       "c    26.0\n",
       "d     NaN\n",
       "e    34.0\n",
       "dtype: float64"
      ]
     },
     "execution_count": 22,
     "metadata": {},
     "output_type": "execute_result"
    }
   ],
   "source": [
    "resSer = ser1 + ser1_1  #인덱스가 같은 것을 찾아서 연산한다!  \n",
    "resSer   \n",
    "#값이 정해지지 않은 것은 연산시 널값처리 . \n",
    "#NaN은 float64에 속하여 전체 데이터 타입은 float64로 변한다.\n",
    "#즉 Series는 ndarray 타입이다. \n"
   ]
  },
  {
   "cell_type": "markdown",
   "id": "dcde9259",
   "metadata": {},
   "source": [
    "#### 결측데이터 조회하기\n",
    "1) isnull() <br>\n",
    "2) notnull() "
   ]
  },
  {
   "cell_type": "code",
   "execution_count": 23,
   "id": "8b242ff0",
   "metadata": {},
   "outputs": [
    {
     "name": "stdout",
     "output_type": "stream",
     "text": [
      "a    False\n",
      "b     True\n",
      "c    False\n",
      "d     True\n",
      "e    False\n",
      "dtype: bool\n",
      "---------------------\n",
      "---------------------\n",
      "a     True\n",
      "b    False\n",
      "c     True\n",
      "d    False\n",
      "e     True\n",
      "dtype: bool\n",
      "---------------------\n",
      "---------------------\n",
      "b   NaN\n",
      "d   NaN\n",
      "dtype: float64\n",
      "a    36.0\n",
      "c    26.0\n",
      "e    34.0\n",
      "dtype: float64\n",
      "---------------------\n",
      "---------------------\n",
      "2\n"
     ]
    }
   ],
   "source": [
    "print(resSer.isnull())\n",
    "\n",
    "print('---------------------')\n",
    "print('---------------------')\n",
    "print(resSer.notnull())\n",
    "print('---------------------')\n",
    "print('---------------------')\n",
    "print(resSer[resSer.isnull()])#트루에 해당하는 것만 나온다, 즉 인덱스와 NaN만 나온다.\n",
    "print(resSer[resSer.notnull()]) #마찬가지로 트루인(널값이 아닌) elements와 그에 해당하는 인덱스가 나온다.\n",
    "\n",
    "print('---------------------')\n",
    "print('---------------------')\n",
    "print(resSer.isnull().sum()) # 왜 2가 나오는가? 그것은 트루가 1로 인식되기 때문인듯. \n"
   ]
  },
  {
   "cell_type": "markdown",
   "id": "6997500a",
   "metadata": {},
   "source": [
    "### Pandas를 이용한 시각화\n",
    "- 위에서 했던 작업을 좀 더 보기좋게 시각화해보자\n",
    "- 여러 데이터 중 누락데이터가 아닌 것만 그래프로 표시한다."
   ]
  },
  {
   "cell_type": "code",
   "execution_count": 24,
   "id": "bfcc488c",
   "metadata": {},
   "outputs": [],
   "source": [
    "import matplotlib.pyplot as plt"
   ]
  },
  {
   "cell_type": "code",
   "execution_count": 25,
   "id": "0f37a379",
   "metadata": {},
   "outputs": [
    {
     "data": {
      "image/png": "[encoded data removed]",
      "text/plain": [
       "<Figure size 432x288 with 1 Axes>"
      ]
     },
     "metadata": {
      "needs_background": "light"
     },
     "output_type": "display_data"
    }
   ],
   "source": [
    "resSer[resSer.notnull()].plot(kind='line') #plot의 디폴트 = line graph. 즉, kind인자가 주어지지 않으면 line.\n",
    "plt.show()\n",
    "\n",
    "\n",
    "\n"
   ]
  }
 ],
 "metadata": {
  "kernelspec": {
   "display_name": "Python 3",
   "language": "python",
   "name": "python3"
  },
  "language_info": {
   "codemirror_mode": {
    "name": "ipython",
    "version": 3
   },
   "file_extension": ".py",
   "mimetype": "text/x-python",
   "name": "python",
   "nbconvert_exporter": "python",
   "pygments_lexer": "ipython3",
   "version": "3.8.8"
  }
 },
 "nbformat": 4,
 "nbformat_minor": 5
}
