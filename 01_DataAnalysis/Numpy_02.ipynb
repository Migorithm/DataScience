{
 "cells": [
  {
   "cell_type": "markdown",
   "id": "d60eacd7",
   "metadata": {},
   "source": [
    "### Numpy 배열 생성"
   ]
  },
  {
   "cell_type": "markdown",
   "id": "1b97c1b9",
   "metadata": {},
   "source": [
    "##### Putting more than one types in a list ( possible )"
   ]
  },
  {
   "cell_type": "code",
   "execution_count": 1,
   "id": "54f838cc",
   "metadata": {},
   "outputs": [
    {
     "name": "stdout",
     "output_type": "stream",
     "text": [
      "[1, 2, 3, '4', 5, 6]\n",
      "<class 'list'>\n"
     ]
    }
   ],
   "source": [
    "import numpy as np\n",
    "import sys\n",
    "myList =[1,2,3,'4',5,6]\n",
    "print(myList)\n",
    "print(type(myList))"
   ]
  },
  {
   "cell_type": "markdown",
   "id": "7317b2f7",
   "metadata": {},
   "source": [
    "##### Putting more than one types in an array (impossible)\n",
    "(unified as one type. in this case integers are converted into string)"
   ]
  },
  {
   "cell_type": "code",
   "execution_count": 2,
   "id": "03924e3a",
   "metadata": {},
   "outputs": [
    {
     "name": "stdout",
     "output_type": "stream",
     "text": [
      "['1' '2' '33443423' '4' '5']\n",
      "<class 'numpy.str_'>\n"
     ]
    }
   ],
   "source": [
    "myArr = np.array([1,2,33443423,'4',5])\n",
    "print(myArr)\n",
    "print(type(myArr[2]))"
   ]
  },
  {
   "cell_type": "code",
   "execution_count": 3,
   "id": "9ebbbee6",
   "metadata": {},
   "outputs": [
    {
     "name": "stdout",
     "output_type": "stream",
     "text": [
      "['1' '2' '3' '4']\n",
      "82\n",
      "[1.  2.  3.  5.3]\n",
      "82\n",
      "['1' '2321312' '4']\n",
      "88\n"
     ]
    }
   ],
   "source": [
    "myArr2 = np.array([1,2,3,'4'])\n",
    "print(myArr2)\n",
    "print(sys.getsizeof(myArr2[3]))\n",
    "\n",
    "\n",
    "myArr3 = np.array([1,2,3,5.3])\n",
    "print(myArr3)\n",
    "print(sys.getsizeof(myArr2[3])) #자료형을 통일시킨다. 우선순위가 있으며 정수, 실수, 스트링 중 스트링이 가장 우선순위가 높다.\n",
    "\n",
    "myArr4 = np.array([1,2321312,'4'])\n",
    "print(myArr4)\n",
    "print(sys.getsizeof(myArr4[1])) #1번 인덱스에 위치한 값이 더 큰데도 스트링으로 통일되었다. "
   ]
  },
  {
   "cell_type": "markdown",
   "id": "611b5c06",
   "metadata": {},
   "source": [
    "##### Specifying types"
   ]
  },
  {
   "cell_type": "code",
   "execution_count": 4,
   "id": "4d7f53ac",
   "metadata": {},
   "outputs": [],
   "source": [
    "myArr5 = np.array([1,2,3,4],dtype='float64')"
   ]
  },
  {
   "cell_type": "code",
   "execution_count": 5,
   "id": "f5166abd",
   "metadata": {},
   "outputs": [
    {
     "name": "stdout",
     "output_type": "stream",
     "text": [
      "[1. 2. 3. 4.]\n",
      "<class 'numpy.float64'>\n"
     ]
    }
   ],
   "source": [
    "print(myArr5)\n",
    "print(type(myArr5[3])) #기본타입 float64"
   ]
  },
  {
   "cell_type": "markdown",
   "id": "1ecc4af7",
   "metadata": {},
   "source": [
    "### Numpy배열의 속성과 메소드\n",
    "- **ndim, shape, reshape, size, type, dtype**<br>\n",
    "  - Attribute로도, method로도 사용가능하다\n",
    "\n",
    "\n",
    "- Numpy 배열의 타입은 ndarray 클래스이다<br>\n"
   ]
  },
  {
   "cell_type": "code",
   "execution_count": 6,
   "id": "d8d8b1ed",
   "metadata": {},
   "outputs": [],
   "source": [
    "A = np.array([[1,2,3],[3,3,1],[1,9,3]])"
   ]
  },
  {
   "cell_type": "code",
   "execution_count": 7,
   "id": "c1a9954d",
   "metadata": {},
   "outputs": [
    {
     "name": "stdout",
     "output_type": "stream",
     "text": [
      "[[1 2 3]\n",
      " [3 3 1]\n",
      " [1 9 3]]\n",
      "A is 2 dimenstional array\n",
      "9\n",
      "7\n",
      "(3, 3)\n",
      "int32\n",
      "<class 'numpy.ndarray'>\n",
      "******************************\n"
     ]
    }
   ],
   "source": [
    "print(A)\n",
    "print(\"A is\", A.ndim, \"dimenstional array\") #몇 차원인가를 리턴. \n",
    "print(A.size) # number of elements\n",
    "print(A.argmax())\n",
    "print(A.shape) # 몇행 몇열인지 알 수 있다. \n",
    "print(A.dtype) \n",
    "print(type(A))\n",
    "print('*'*30)\n",
    "\n",
    "\n"
   ]
  },
  {
   "cell_type": "markdown",
   "id": "26d7bfbb",
   "metadata": {},
   "source": [
    "##### numpy 배열의 원소타입을 한번에 바꾸기. "
   ]
  },
  {
   "cell_type": "code",
   "execution_count": 8,
   "id": "71a47c5c",
   "metadata": {},
   "outputs": [
    {
     "data": {
      "text/plain": [
       "array(['1', '2', '33443423', '4', '5'], dtype='<U11')"
      ]
     },
     "execution_count": 8,
     "metadata": {},
     "output_type": "execute_result"
    }
   ],
   "source": [
    "myArr"
   ]
  },
  {
   "cell_type": "code",
   "execution_count": 9,
   "id": "f4e7e5fe",
   "metadata": {},
   "outputs": [
    {
     "data": {
      "text/plain": [
       "array([       1,        2, 33443423,        4,        5])"
      ]
     },
     "execution_count": 9,
     "metadata": {},
     "output_type": "execute_result"
    }
   ],
   "source": [
    "myArr_1 = myArr.astype(int) #if it's possible\n",
    "\n",
    "myArr_1"
   ]
  },
  {
   "cell_type": "code",
   "execution_count": 10,
   "id": "ba233d1f",
   "metadata": {},
   "outputs": [],
   "source": [
    "myArr[2] = '9'  #요소를 바꾸고 참조관계가 드대로 유지되어있는지 확인해보자."
   ]
  },
  {
   "cell_type": "code",
   "execution_count": 11,
   "id": "c238bfe0",
   "metadata": {},
   "outputs": [
    {
     "name": "stdout",
     "output_type": "stream",
     "text": [
      "['1' '2' '9' '4' '5']\n",
      "[       1        2 33443423        4        5]\n"
     ]
    }
   ],
   "source": [
    "print(myArr)\n",
    "print(myArr_1) #참조관계가 바뀌었다. "
   ]
  },
  {
   "cell_type": "markdown",
   "id": "e18f30b3",
   "metadata": {},
   "source": [
    "#####  numpy에 arange함수를 적용하고 차원 더하기."
   ]
  },
  {
   "cell_type": "code",
   "execution_count": 12,
   "id": "2b95d288",
   "metadata": {},
   "outputs": [],
   "source": [
    "arr1 = np.arange(32) #<-> 파이썬 list(range(32))"
   ]
  },
  {
   "cell_type": "code",
   "execution_count": 13,
   "id": "2a281c3a",
   "metadata": {},
   "outputs": [
    {
     "data": {
      "text/plain": [
       "array([[ 0,  1,  2,  3,  4,  5,  6,  7],\n",
       "       [ 8,  9, 10, 11, 12, 13, 14, 15],\n",
       "       [16, 17, 18, 19, 20, 21, 22, 23],\n",
       "       [24, 25, 26, 27, 28, 29, 30, 31]])"
      ]
     },
     "execution_count": 13,
     "metadata": {},
     "output_type": "execute_result"
    }
   ],
   "source": [
    "arr1.reshape(4,8)"
   ]
  },
  {
   "cell_type": "code",
   "execution_count": 14,
   "id": "9ca14ad3",
   "metadata": {},
   "outputs": [
    {
     "data": {
      "text/plain": [
       "array([[ 0,  1,  2,  3],\n",
       "       [ 4,  5,  6,  7],\n",
       "       [ 8,  9, 10, 11],\n",
       "       [12, 13, 14, 15],\n",
       "       [16, 17, 18, 19],\n",
       "       [20, 21, 22, 23],\n",
       "       [24, 25, 26, 27],\n",
       "       [28, 29, 30, 31]])"
      ]
     },
     "execution_count": 14,
     "metadata": {},
     "output_type": "execute_result"
    }
   ],
   "source": [
    "arr1.reshape(8,4)"
   ]
  },
  {
   "cell_type": "markdown",
   "id": "6a4ab0aa",
   "metadata": {},
   "source": [
    "### 랜덤함수와 seed값 설정하기\n",
    "\n",
    "<h6>특정한 시작 숫자를 정해주어서 난수를 발생시키면 고정적인 난수가 발생된다. <br><br>\n",
    "결과확인 시 시작숫자가 동일하다면 테스트 확인시에 용이하다\n",
    "</h6>"
   ]
  },
  {
   "cell_type": "code",
   "execution_count": 15,
   "id": "83c7f9dd",
   "metadata": {},
   "outputs": [],
   "source": [
    "\n",
    "arr2 = np.random.randn(4,4)\n",
    "#random이므로 실행할때마다 값이 바뀐다."
   ]
  },
  {
   "cell_type": "code",
   "execution_count": 16,
   "id": "a162b423",
   "metadata": {
    "scrolled": true
   },
   "outputs": [
    {
     "data": {
      "text/plain": [
       "array([[-0.2703008 , -0.46074612, -0.3461773 , -0.26702933],\n",
       "       [ 1.24132799,  0.74725548, -0.05024084, -1.44451055],\n",
       "       [-0.97770077, -0.70487365,  0.52004275,  1.47557449],\n",
       "       [ 0.58583892,  1.3168825 ,  0.3714031 ,  1.63131229]])"
      ]
     },
     "execution_count": 16,
     "metadata": {},
     "output_type": "execute_result"
    }
   ],
   "source": [
    "arr2"
   ]
  },
  {
   "cell_type": "code",
   "execution_count": 17,
   "id": "62897b84",
   "metadata": {},
   "outputs": [
    {
     "data": {
      "text/plain": [
       "array([[ 1.76405235,  0.40015721,  0.97873798,  2.2408932 ],\n",
       "       [ 1.86755799, -0.97727788,  0.95008842, -0.15135721],\n",
       "       [-0.10321885,  0.4105985 ,  0.14404357,  1.45427351],\n",
       "       [ 0.76103773,  0.12167502,  0.44386323,  0.33367433]])"
      ]
     },
     "execution_count": 17,
     "metadata": {},
     "output_type": "execute_result"
    }
   ],
   "source": [
    "np.random.seed(0)\n",
    " #씨드는 한번 주면 다음 랜덤에 대해서 고정 난수를 만든다. \n",
    "arr3=np.random.randn(4,4)\n",
    "arr3"
   ]
  },
  {
   "cell_type": "code",
   "execution_count": 20,
   "id": "8b8f79c0",
   "metadata": {},
   "outputs": [
    {
     "data": {
      "text/plain": [
       "array([[14, 13, 14, 14],\n",
       "       [18, 14, 13, 17],\n",
       "       [15, 15, 10, 11],\n",
       "       [15, 19, 13, 10]])"
      ]
     },
     "execution_count": 20,
     "metadata": {},
     "output_type": "execute_result"
    }
   ],
   "source": [
    "arr4 = np.random.randint(10,20,16).reshape(4,4) # or np.random.randint(10,20,size=(4,4))\n",
    "arr4\n"
   ]
  },
  {
   "cell_type": "code",
   "execution_count": null,
   "id": "f78890c7",
   "metadata": {},
   "outputs": [],
   "source": [
    "#"
   ]
  },
  {
   "cell_type": "markdown",
   "id": "34d79c91",
   "metadata": {},
   "source": [
    "#### 인덱싱과 조건 슬라이싱"
   ]
  },
  {
   "cell_type": "code",
   "execution_count": null,
   "id": "ded80d4d",
   "metadata": {},
   "outputs": [],
   "source": [
    "#1. 논리연산자 사용\n",
    "print(arr3[arr3>0])\n",
    "print(\"---\"*30)\n",
    "print(arr3[arr3<0])"
   ]
  },
  {
   "cell_type": "code",
   "execution_count": null,
   "id": "cfc1a094",
   "metadata": {},
   "outputs": [],
   "source": [
    "#2. 0보다 작은 값들을 전부다 0으로 바꿔보자.\n",
    "arr3[arr3<0] = 0  #this is crazy!\n",
    "arr3"
   ]
  },
  {
   "cell_type": "code",
   "execution_count": null,
   "id": "4c5753fb",
   "metadata": {},
   "outputs": [],
   "source": [
    "#3. where 함수를 적용... 조건부 슬라이싱\n",
    "np.where(arr3>0,arr3,-1) #ternary operator\n",
    "\n",
    "np.where(arr3>0.5,arr3*20,arr3*(-20))\n",
    "\n",
    "\n"
   ]
  },
  {
   "cell_type": "markdown",
   "id": "d7698462",
   "metadata": {},
   "source": [
    "#### Important Note!\n",
    "\n",
    "<h6> It seems numpy takes a shot-gun approach in terms of matching conditional operator. <br>\n",
    "    \n",
    "</h6>\n",
    "Take a look at an example below."
   ]
  },
  {
   "cell_type": "code",
   "execution_count": null,
   "id": "a03fc3d5",
   "metadata": {},
   "outputs": [],
   "source": [
    "arr5  =np.arange(1,7).reshape(3,2)\n",
    "print(arr5)\n",
    "print(arr5[arr5>2])"
   ]
  },
  {
   "cell_type": "code",
   "execution_count": null,
   "id": "80ab7484",
   "metadata": {},
   "outputs": [],
   "source": [
    "bool_idx = arr5 >2\n",
    "print(bool_idx)"
   ]
  },
  {
   "cell_type": "code",
   "execution_count": null,
   "id": "a57baaf4",
   "metadata": {},
   "outputs": [],
   "source": [
    "arr5[bool_idx]"
   ]
  },
  {
   "cell_type": "markdown",
   "id": "7777b342",
   "metadata": {},
   "source": [
    "#### 형변환"
   ]
  },
  {
   "cell_type": "code",
   "execution_count": null,
   "id": "22c254a5",
   "metadata": {},
   "outputs": [],
   "source": [
    "array1 = np.array([1,2,3,4,5,2,3,'8',111,2,3,4,4,1])\n",
    "array1.dtype"
   ]
  },
  {
   "cell_type": "code",
   "execution_count": null,
   "id": "235f0737",
   "metadata": {},
   "outputs": [],
   "source": [
    "num_array1 = array1.astype(float) \n",
    "print(num_array1)\n",
    "print(array1)"
   ]
  },
  {
   "cell_type": "code",
   "execution_count": null,
   "id": "30406a37",
   "metadata": {
    "scrolled": false
   },
   "outputs": [],
   "source": [
    "arr4"
   ]
  },
  {
   "cell_type": "markdown",
   "id": "28003d6d",
   "metadata": {},
   "source": [
    "-----------------------------------------------------"
   ]
  },
  {
   "cell_type": "markdown",
   "id": "4879d39c",
   "metadata": {},
   "source": [
    "#### 인덱싱과 슬라이싱 "
   ]
  },
  {
   "cell_type": "code",
   "execution_count": null,
   "id": "7baffe27",
   "metadata": {},
   "outputs": [],
   "source": [
    "#1) 2차원 arr4에서 1행 3열 요소를 가져오자.\n",
    "print(arr4[0][2])  # 이렇게 접근해도,\n",
    "\n",
    "print(arr4[0,2])   # 이렇게 접근해도 ok -> [행 index, 열 index]\n",
    "\n",
    "bb = np.array([[1,2,3,4,5,3],[2,3,6,8,9,1]])\n",
    "\n",
    "bb[:,1:-1:2]\n"
   ]
  },
  {
   "cell_type": "code",
   "execution_count": null,
   "id": "bca0e0f1",
   "metadata": {},
   "outputs": [],
   "source": [
    "#2) 2번째 라인 값을 가져오려면?\n",
    "print(arr4[1])\n",
    "print(arr4[1,0:]) #이렇게 해도\n",
    "print(arr4[1,:])  #이렇게 해도\n",
    "print(arr4[1,0:4])#이렇게 해도 ok\n",
    "print(arr4[1:2,:])#- > 이건 2차원 형태 유지."
   ]
  },
  {
   "cell_type": "code",
   "execution_count": null,
   "id": "fac1d958",
   "metadata": {},
   "outputs": [],
   "source": [
    "#3) 전체 행에 대해서 4번째 열을 다 가지고 온다?\n",
    "print(arr4)\n",
    "print(arr4[0:,3]) #1차원형\n",
    "print(arr4[:,3]) #1차원형\n",
    "\n",
    "print(arr4[:,3:]) #2차원형\n",
    "print(arr4[0:,3:4]) #2차원형\n"
   ]
  },
  {
   "cell_type": "code",
   "execution_count": null,
   "id": "10c6228c",
   "metadata": {
    "scrolled": true
   },
   "outputs": [],
   "source": [
    "#4) 전체 행에 대해서 1,2 열을 가지고 온다.\n",
    "print(arr4[:,:2])\n",
    "\n",
    "#5) 전체 행에서 1,3열을 가지고 온다?\n",
    "print(arr4[:,::2]) #파이썬에서의 논리와 같이, 두 칸 뛰기 가능."
   ]
  },
  {
   "cell_type": "markdown",
   "id": "78e9742d",
   "metadata": {},
   "source": [
    "### 통계함수\n",
    "- Pandas에서 디테일하게 다루기 때문에 간단하게 정리.\n",
    "- sum, mean, std, min, max,argmax,argmin,cumsum\n",
    " - argmax : 배열 중 최고값인 원소의 인덱스 \n",
    " - argmin : 배열 중 최저값인 원소의 인덱스\n",
    " - cunsum : 누적합"
   ]
  },
  {
   "cell_type": "code",
   "execution_count": null,
   "id": "f3c01c95",
   "metadata": {},
   "outputs": [],
   "source": [
    "x = np.array([[1,2],[3,4]])\n",
    "print(x.sum()) #or\n",
    "print(np.sum(x))\n",
    "print('--'*20)\n",
    "print(x)\n",
    "print(np.sum(x, axis=0)) #각 행들의 '같은 열에 있는 값들'을 합쳐서 리턴, 즉 모든 행'들'을 더한다.\n",
    "print(np.sum(x, axis=1)) #각 행들에 있는 모든 열을 합쳐서 리턴. "
   ]
  },
  {
   "cell_type": "code",
   "execution_count": null,
   "id": "e1e28c13",
   "metadata": {},
   "outputs": [],
   "source": [
    "print(arr4)"
   ]
  },
  {
   "cell_type": "code",
   "execution_count": null,
   "id": "ca2a2482",
   "metadata": {},
   "outputs": [],
   "source": [
    "print(arr4.sum())\n",
    "print(arr4.sum(axis=0)) #결과값 네개, 45,51 .... \n",
    "print(arr4.sum(axis=1)) #결과값 네개, 54 .... \n",
    "\n",
    "print(np.cumsum(arr4,axis=0)) #누적합. 행기준 이동\n",
    "print(np.cumsum(arr4,axis=1)) #누적합, 열기준 이동\n",
    "\n"
   ]
  },
  {
   "cell_type": "code",
   "execution_count": null,
   "id": "0dc87ffb",
   "metadata": {},
   "outputs": [],
   "source": [
    "print(np.argmax(arr4,axis=0))  #같은 열에 있는 모든 행들에서 최고 값인 것의 행 인덱스 번호\n",
    "print(np.argmax(arr4,axis=1))  #같은 행에 있는 모든 열들에서 최고 값인 것의 열 인덱스 번호\n"
   ]
  },
  {
   "cell_type": "code",
   "execution_count": null,
   "id": "39c3d0b3",
   "metadata": {},
   "outputs": [],
   "source": [
    "prac = np.random.randint(0,2,100).reshape(10,10)\n",
    "prac = np.where(prac==0,-1,prac)\n",
    "\n",
    "#첫번째 10칸의을 했을때 음수에 위치하는가 양수에 위치하는가?\n",
    "prac[0].cumsum()[-1] #or prac[0].sum()\n",
    "\n",
    "\n"
   ]
  },
  {
   "cell_type": "code",
   "execution_count": null,
   "id": "1f55597e",
   "metadata": {},
   "outputs": [],
   "source": [
    "np.argmax([prac.cumsum()>3])\n"
   ]
  },
  {
   "cell_type": "code",
   "execution_count": null,
   "id": "5705588e",
   "metadata": {},
   "outputs": [],
   "source": []
  },
  {
   "cell_type": "code",
   "execution_count": null,
   "id": "9eaa508b",
   "metadata": {},
   "outputs": [],
   "source": []
  },
  {
   "cell_type": "code",
   "execution_count": null,
   "id": "7637c063",
   "metadata": {},
   "outputs": [],
   "source": []
  },
  {
   "cell_type": "markdown",
   "id": "8e4e6345",
   "metadata": {},
   "source": [
    "#### Concatenation "
   ]
  },
  {
   "cell_type": "code",
   "execution_count": null,
   "id": "2c61aafa",
   "metadata": {},
   "outputs": [],
   "source": [
    "array = np.array([1,2])\n",
    "array2 = np.array([1,2])\n",
    "print(np.concatenate((array,array2),axis=0)) #x축 기준 합치기.\n",
    "\n",
    "array3 = np.concatenate((array,array2),axis=0).reshape(2,2)\n",
    "print(array3)\n",
    "\n",
    "array4 = (np.concatenate((array3,array3),axis=0))\n",
    "array4\n"
   ]
  },
  {
   "cell_type": "code",
   "execution_count": null,
   "id": "526698d0",
   "metadata": {},
   "outputs": [],
   "source": []
  },
  {
   "cell_type": "code",
   "execution_count": null,
   "id": "9635827f",
   "metadata": {},
   "outputs": [],
   "source": []
  },
  {
   "cell_type": "code",
   "execution_count": null,
   "id": "629b13ca",
   "metadata": {},
   "outputs": [],
   "source": []
  }
 ],
 "metadata": {
  "kernelspec": {
   "display_name": "Python 3",
   "language": "python",
   "name": "python3"
  },
  "language_info": {
   "codemirror_mode": {
    "name": "ipython",
    "version": 3
   },
   "file_extension": ".py",
   "mimetype": "text/x-python",
   "name": "python",
   "nbconvert_exporter": "python",
   "pygments_lexer": "ipython3",
   "version": "3.8.8"
  }
 },
 "nbformat": 4,
 "nbformat_minor": 5
}
