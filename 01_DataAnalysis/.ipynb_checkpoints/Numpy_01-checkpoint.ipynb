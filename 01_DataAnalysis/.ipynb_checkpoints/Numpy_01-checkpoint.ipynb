{
 "cells": [
  {
   "cell_type": "markdown",
   "id": "2b36e80a",
   "metadata": {},
   "source": [
    "### Numpy 배열 생성하기\n",
    "\n",
    "Numpy is an abbreviation of \"Numeric Python\"\n",
    "It's a library required for extensive areas like statistics, scientific calculation, computing, data analysis and more. \n",
    "\n",
    "Numpy array is quite similar to a list but it is faster and more efficient in memory use, therefore well-performing.\n",
    "\n",
    "**1) np.array() , np.random.rand()**"
   ]
  },
  {
   "cell_type": "code",
   "execution_count": 1,
   "id": "c456575b",
   "metadata": {},
   "outputs": [],
   "source": [
    "import numpy as np"
   ]
  },
  {
   "cell_type": "code",
   "execution_count": 8,
   "id": "400e98fe",
   "metadata": {},
   "outputs": [
    {
     "data": {
      "text/plain": [
       "array([1, 2, 3, 4, 3, 3, 2])"
      ]
     },
     "execution_count": 8,
     "metadata": {},
     "output_type": "execute_result"
    }
   ],
   "source": [
    "abc = np.array([1,2,3,4,3,3,2])\n",
    "abc"
   ]
  },
  {
   "cell_type": "code",
   "execution_count": 12,
   "id": "d79af5cf",
   "metadata": {},
   "outputs": [],
   "source": [
    "a=np.random.randint(6)"
   ]
  },
  {
   "cell_type": "code",
   "execution_count": 13,
   "id": "8f28e503",
   "metadata": {},
   "outputs": [
    {
     "data": {
      "text/plain": [
       "1"
      ]
     },
     "execution_count": 13,
     "metadata": {},
     "output_type": "execute_result"
    }
   ],
   "source": [
    "a"
   ]
  },
  {
   "cell_type": "markdown",
   "id": "3ab282aa",
   "metadata": {},
   "source": [
    "### 리스트와 numpy배열을 각각 생성, 두개를 비교해보자.\n",
    "\n",
    "#### numpy 배열을 만드는 방법\n",
    "1) array() \n",
    "\n",
    "2) 랜덤함수"
   ]
  },
  {
   "cell_type": "markdown",
   "id": "d86c986f",
   "metadata": {},
   "source": [
    "##### List 생성"
   ]
  },
  {
   "cell_type": "code",
   "execution_count": 33,
   "id": "3098da8a",
   "metadata": {},
   "outputs": [
    {
     "data": {
      "text/plain": [
       "[4, 5, 6, 7]"
      ]
     },
     "execution_count": 33,
     "metadata": {},
     "output_type": "execute_result"
    }
   ],
   "source": [
    "myList = [4,5,6,7]\n",
    "myList"
   ]
  },
  {
   "cell_type": "markdown",
   "id": "c2f16198",
   "metadata": {},
   "source": [
    "##### numpy Array 생성"
   ]
  },
  {
   "cell_type": "code",
   "execution_count": 34,
   "id": "e9ca695d",
   "metadata": {},
   "outputs": [
    {
     "data": {
      "text/plain": [
       "array([4, 5, 6, 7])"
      ]
     },
     "execution_count": 34,
     "metadata": {},
     "output_type": "execute_result"
    }
   ],
   "source": [
    "myArray = np.array(myList)\n",
    "myArray"
   ]
  },
  {
   "cell_type": "code",
   "execution_count": 35,
   "id": "edd946d9",
   "metadata": {},
   "outputs": [
    {
     "name": "stdout",
     "output_type": "stream",
     "text": [
      "[4, 5, 6, 7]\n",
      "[4 5 6 7]\n"
     ]
    }
   ],
   "source": [
    "print(myList)\n",
    "print(myArray)"
   ]
  },
  {
   "cell_type": "code",
   "execution_count": 36,
   "id": "d2dece21",
   "metadata": {},
   "outputs": [
    {
     "data": {
      "text/plain": [
       "array([[ 1,  2,  3],\n",
       "       [45,  5,  3]])"
      ]
     },
     "execution_count": 36,
     "metadata": {},
     "output_type": "execute_result"
    }
   ],
   "source": [
    "mylst = [[1,2,3],[45,5,3]]\n",
    "nparray = np.array(mylst)\n",
    "nparray #automatically recognize them as 'n-dimentional array', therefore, ndarray."
   ]
  },
  {
   "cell_type": "code",
   "execution_count": 28,
   "id": "eba9f988",
   "metadata": {},
   "outputs": [
    {
     "name": "stderr",
     "output_type": "stream",
     "text": [
      "<ipython-input-28-4705621ea4b1>:2: VisibleDeprecationWarning: Creating an ndarray from ragged nested sequences (which is a list-or-tuple of lists-or-tuples-or ndarrays with different lengths or shapes) is deprecated. If you meant to do this, you must specify 'dtype=object' when creating the ndarray.\n",
      "  tryNpArray=np.array(notMatrix)\n"
     ]
    }
   ],
   "source": [
    "notMatrix=[[1,2,3],[2,3]]\n",
    "tryNpArray=np.array(notMatrix)"
   ]
  },
  {
   "cell_type": "markdown",
   "id": "2ad37e81",
   "metadata": {},
   "source": [
    "##### Slicing & Indexing"
   ]
  },
  {
   "cell_type": "code",
   "execution_count": 37,
   "id": "df259b0b",
   "metadata": {},
   "outputs": [
    {
     "name": "stdout",
     "output_type": "stream",
     "text": [
      "[5, 6]\n"
     ]
    }
   ],
   "source": [
    "list_sub = myList[1:3] #숫자형 슬라이싱  #파이썬에서 변수는 snake_case\n",
    "print(list_sub)"
   ]
  },
  {
   "cell_type": "code",
   "execution_count": 38,
   "id": "9c8ab93c",
   "metadata": {},
   "outputs": [
    {
     "name": "stdout",
     "output_type": "stream",
     "text": [
      "[5 6]\n"
     ]
    }
   ],
   "source": [
    "arr_sub= myArray[1:3]  #numpy array도 슬라이싱이 된다!\n",
    "print(arr_sub)"
   ]
  },
  {
   "cell_type": "code",
   "execution_count": 41,
   "id": "8a234dd4",
   "metadata": {},
   "outputs": [
    {
     "name": "stdout",
     "output_type": "stream",
     "text": [
      "[-5, 6]\n",
      "[-5  6]\n",
      "[4, 5, 6, 7]\n",
      "[ 4 -5  6  7]\n"
     ]
    }
   ],
   "source": [
    "list_sub[0] = -5\n",
    "arr_sub[0] = -5\n",
    "\n",
    "print(list_sub)\n",
    "print(arr_sub)\n",
    "print(myList)\n",
    "print(myArray)"
   ]
  },
  {
   "cell_type": "code",
   "execution_count": 42,
   "id": "afc66c3d",
   "metadata": {},
   "outputs": [
    {
     "name": "stdout",
     "output_type": "stream",
     "text": [
      "[4, 5, 6, 7]\n",
      "[ 4 -5  6  7]\n"
     ]
    }
   ],
   "source": [
    "'''\n",
    "List는 원본이 바뀌지 않는다 \n",
    "WHEREAS\n",
    "npArray는 원본 뷰가 바뀐다. \n",
    "::\n",
    "메모리 활용 성능면에서는 np배열이 성능이 좋아진다.\n",
    "'''\n",
    "\n",
    "print(myList)\n",
    "print(myArray) #Surprisingly, it takes on a fixed memory area. "
   ]
  },
  {
   "cell_type": "markdown",
   "id": "9bf62b8d",
   "metadata": {},
   "source": [
    "##### for loop with np.array"
   ]
  },
  {
   "cell_type": "code",
   "execution_count": 43,
   "id": "6c645279",
   "metadata": {},
   "outputs": [
    {
     "name": "stdout",
     "output_type": "stream",
     "text": [
      "12\n",
      "-15\n",
      "18\n",
      "21\n"
     ]
    }
   ],
   "source": [
    "for i in myArray:\n",
    "    print(i*3)"
   ]
  },
  {
   "cell_type": "markdown",
   "id": "9719b8c8",
   "metadata": {},
   "source": [
    "##### Numpy 배열생성\n",
    "- random submodule 사용"
   ]
  },
  {
   "cell_type": "markdown",
   "id": "f5c54924",
   "metadata": {},
   "source": [
    "###### rand()"
   ]
  },
  {
   "cell_type": "code",
   "execution_count": 44,
   "id": "e7e8d2ed",
   "metadata": {},
   "outputs": [
    {
     "data": {
      "text/plain": [
       "array([[0.0341553 , 0.89489803, 0.7650099 ],\n",
       "       [0.82473287, 0.78122885, 0.32577344]])"
      ]
     },
     "execution_count": 44,
     "metadata": {},
     "output_type": "execute_result"
    }
   ],
   "source": [
    "  #모르는 게 있을땐 '?'\n",
    "\n",
    "np.random.rand(2,3) # 2-dimensional matrix\n"
   ]
  },
  {
   "cell_type": "code",
   "execution_count": 46,
   "id": "160e8885",
   "metadata": {},
   "outputs": [
    {
     "data": {
      "text/plain": [
       "array([0.18747601, 0.42900802, 0.12194936, 0.3748436 , 0.07456895])"
      ]
     },
     "execution_count": 46,
     "metadata": {},
     "output_type": "execute_result"
    }
   ],
   "source": [
    "np.random.rand(5) # 1-dimensional matrix"
   ]
  },
  {
   "cell_type": "markdown",
   "id": "c46bb009",
   "metadata": {},
   "source": [
    "###### randint()"
   ]
  },
  {
   "cell_type": "code",
   "execution_count": 47,
   "id": "c41c4164",
   "metadata": {},
   "outputs": [
    {
     "data": {
      "text/plain": [
       "array([6, 6, 5, 3, 6])"
      ]
     },
     "execution_count": 47,
     "metadata": {},
     "output_type": "execute_result"
    }
   ],
   "source": [
    "b = np.random.randint(1,10,5) # 1부터 10까지 숫자중 5개만 10 not included.\n",
    "b"
   ]
  },
  {
   "cell_type": "markdown",
   "id": "70a6b605",
   "metadata": {},
   "source": [
    "###### randn \n",
    "- 가우시안 표준분포 값 (정규분포값)"
   ]
  },
  {
   "cell_type": "code",
   "execution_count": 49,
   "id": "6aa92b85",
   "metadata": {},
   "outputs": [
    {
     "data": {
      "text/plain": [
       "array([[ 0.4081987 , -1.79332631,  0.50828097, -0.59892615, -0.02425781],\n",
       "       [-1.14189784,  0.36723039,  0.52516543, -0.81107555, -1.39789916],\n",
       "       [-1.32738352, -0.81144544,  1.12977337, -0.61830076,  0.53438241],\n",
       "       [ 0.23704481,  0.1514986 ,  0.25756093,  0.20547064, -0.78387668],\n",
       "       [-0.30695943,  1.69904184,  0.56067272,  0.65881554,  0.08886572],\n",
       "       [ 0.63329776,  0.54037797, -1.63416128,  0.1729114 , -0.09673411],\n",
       "       [ 1.07966612,  0.02075176, -0.59569926, -0.34894238,  0.92440641],\n",
       "       [-0.71558039, -0.41545046, -0.11379355,  0.93165473, -0.74901945],\n",
       "       [ 0.21188944,  0.75767454, -1.87304545, -0.44082505, -0.52316314],\n",
       "       [ 1.27239334,  0.01127277,  1.33138033,  0.14415988, -0.59177002]])"
      ]
     },
     "execution_count": 49,
     "metadata": {},
     "output_type": "execute_result"
    }
   ],
   "source": [
    "c = np.random.randn(10,5)\n",
    "c"
   ]
  },
  {
   "cell_type": "markdown",
   "id": "b1dc3ff3",
   "metadata": {},
   "source": [
    "##### numpy 배열 생성과 동시에 초기화 "
   ]
  },
  {
   "cell_type": "code",
   "execution_count": 50,
   "id": "29e7ff9d",
   "metadata": {},
   "outputs": [
    {
     "name": "stdout",
     "output_type": "stream",
     "text": [
      "[[0. 0. 0. 0. 0.]\n",
      " [0. 0. 0. 0. 0.]]\n",
      "[[1. 1. 1. 1. 1. 1. 1. 1. 1. 1.]\n",
      " [1. 1. 1. 1. 1. 1. 1. 1. 1. 1.]\n",
      " [1. 1. 1. 1. 1. 1. 1. 1. 1. 1.]\n",
      " [1. 1. 1. 1. 1. 1. 1. 1. 1. 1.]\n",
      " [1. 1. 1. 1. 1. 1. 1. 1. 1. 1.]\n",
      " [1. 1. 1. 1. 1. 1. 1. 1. 1. 1.]\n",
      " [1. 1. 1. 1. 1. 1. 1. 1. 1. 1.]\n",
      " [1. 1. 1. 1. 1. 1. 1. 1. 1. 1.]\n",
      " [1. 1. 1. 1. 1. 1. 1. 1. 1. 1.]\n",
      " [1. 1. 1. 1. 1. 1. 1. 1. 1. 1.]]\n",
      "<class 'numpy.float64'>\n"
     ]
    }
   ],
   "source": [
    "zero = np.zeros(10).reshape(2,5)\n",
    "one = np.ones(100).reshape(10,10)\n",
    "\n",
    "print(zero)\n",
    "print(one)\n",
    "print(type(one[0][0]))"
   ]
  },
  {
   "cell_type": "code",
   "execution_count": 53,
   "id": "d47958d3",
   "metadata": {},
   "outputs": [
    {
     "name": "stdout",
     "output_type": "stream",
     "text": [
      "[1. 1. 1. 1. 1. 1. 1. 1. 1. 1.]\n",
      "[5. 5. 5. 5. 5. 5. 5. 5. 5. 5.]\n",
      "[11. 11. 11. 11. 11. 11. 11. 11. 11. 11.]\n"
     ]
    }
   ],
   "source": [
    "a1 = np.ones(10)\n",
    "a5 = np.ones(10)*5  #곱하여 초기화값 설정.\n",
    "a11 = np.ones(10)*11 \n",
    "\n",
    "print(a1)\n",
    "print(a5)\n",
    "print(a11)\n",
    "\n",
    "a3 = np.ones(10)+3 # 더하여 초기화값 설정.\n"
   ]
  },
  {
   "cell_type": "markdown",
   "id": "6ae7ba60",
   "metadata": {},
   "source": [
    "###### eye"
   ]
  },
  {
   "cell_type": "code",
   "execution_count": 67,
   "id": "3c596418",
   "metadata": {
    "scrolled": true
   },
   "outputs": [
    {
     "data": {
      "text/plain": [
       "array([[1., 0., 0.],\n",
       "       [0., 1., 0.],\n",
       "       [0., 0., 1.]])"
      ]
     },
     "execution_count": 67,
     "metadata": {},
     "output_type": "execute_result"
    }
   ],
   "source": [
    "ae = np.eye(3) #단위행렬 생성 -> matrix구조\n",
    "ae"
   ]
  },
  {
   "cell_type": "code",
   "execution_count": 68,
   "id": "56f7e863",
   "metadata": {},
   "outputs": [
    {
     "data": {
      "text/plain": [
       "array([[1., 0., 0.],\n",
       "       [0., 1., 0.],\n",
       "       [0., 0., 1.]])"
      ]
     },
     "execution_count": 68,
     "metadata": {},
     "output_type": "execute_result"
    }
   ],
   "source": [
    "ae * ae  "
   ]
  },
  {
   "cell_type": "markdown",
   "id": "2010676b",
   "metadata": {},
   "source": [
    "###### arange"
   ]
  },
  {
   "cell_type": "code",
   "execution_count": 69,
   "id": "b8f09e73",
   "metadata": {},
   "outputs": [],
   "source": [
    "np.arange(0,3) # = np.arrange(3)\n",
    "a = np.arange(3,18).reshape(3,5)\n",
    "b = np.arange(3,18).reshape(5,3)\n"
   ]
  },
  {
   "cell_type": "markdown",
   "id": "83501e7c",
   "metadata": {},
   "source": [
    "###### full()"
   ]
  },
  {
   "cell_type": "code",
   "execution_count": 70,
   "id": "371e8ac2",
   "metadata": {},
   "outputs": [
    {
     "name": "stdout",
     "output_type": "stream",
     "text": [
      "[[-11 -11 -11 -11 -11]\n",
      " [-11 -11 -11 -11 -11]\n",
      " [-11 -11 -11 -11 -11]\n",
      " [-11 -11 -11 -11 -11]\n",
      " [-11 -11 -11 -11 -11]]\n",
      "[[-11. -11. -11. -11. -11.]\n",
      " [-11. -11. -11. -11. -11.]\n",
      " [-11. -11. -11. -11. -11.]\n",
      " [-11. -11. -11. -11. -11.]\n",
      " [-11. -11. -11. -11. -11.]]\n"
     ]
    }
   ],
   "source": [
    "afull = np.full((5,5),-11)  \n",
    "#except for the elements being int32, it's practically the same as \n",
    "#np.zeros(25).reshape(5,5) -11\n",
    "\n",
    "print(afull)\n",
    "\n",
    "b = np.zeros(25).reshape(5,5) -11\n",
    "\n",
    "print(b)\n"
   ]
  },
  {
   "cell_type": "code",
   "execution_count": null,
   "id": "8abd3270",
   "metadata": {},
   "outputs": [],
   "source": []
  },
  {
   "cell_type": "code",
   "execution_count": null,
   "id": "e79fda6e",
   "metadata": {},
   "outputs": [],
   "source": []
  },
  {
   "cell_type": "code",
   "execution_count": null,
   "id": "9f4fe60c",
   "metadata": {},
   "outputs": [],
   "source": []
  },
  {
   "cell_type": "code",
   "execution_count": null,
   "id": "74e35023",
   "metadata": {},
   "outputs": [],
   "source": []
  },
  {
   "cell_type": "code",
   "execution_count": null,
   "id": "28a6f802",
   "metadata": {},
   "outputs": [],
   "source": []
  },
  {
   "cell_type": "code",
   "execution_count": null,
   "id": "30124293",
   "metadata": {},
   "outputs": [],
   "source": []
  }
 ],
 "metadata": {
  "kernelspec": {
   "display_name": "Python 3",
   "language": "python",
   "name": "python3"
  },
  "language_info": {
   "codemirror_mode": {
    "name": "ipython",
    "version": 3
   },
   "file_extension": ".py",
   "mimetype": "text/x-python",
   "name": "python",
   "nbconvert_exporter": "python",
   "pygments_lexer": "ipython3",
   "version": "3.8.8"
  }
 },
 "nbformat": 4,
 "nbformat_minor": 5
}
