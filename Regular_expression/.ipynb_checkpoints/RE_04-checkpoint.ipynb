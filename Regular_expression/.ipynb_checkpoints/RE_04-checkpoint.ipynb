{
 "cells": [
  {
   "cell_type": "markdown",
   "metadata": {
    "id": "XUoPp-4jRGRz"
   },
   "source": [
    "# zero-width assertion 메타 문자에 대한 이야기다."
   ]
  },
  {
   "cell_type": "code",
   "execution_count": 1,
   "metadata": {
    "colab": {
     "base_uri": "https://localhost:8080/"
    },
    "executionInfo": {
     "elapsed": 232,
     "status": "ok",
     "timestamp": 1627789736975,
     "user": {
      "displayName": "이원석",
      "photoUrl": "",
      "userId": "03961924367760525796"
     },
     "user_tz": -540
    },
    "id": "hQWMJWsWQk4N",
    "outputId": "27205b43-d38f-426a-9333-b6706ded8142"
   },
   "outputs": [
    {
     "name": "stdout",
     "output_type": "stream",
     "text": [
      "<re.Match object; span=(0, 5), match='hello'>\n",
      "<re.Match object; span=(1, 6), match='hello'>\n",
      "None\n"
     ]
    }
   ],
   "source": [
    "import re\n",
    "\n",
    "# \\b는 단어구분자를 의미한다. 아래의 예제를 살펴보자.\n",
    "print(re.search(r\"\\bhello\", \"hello\"))\n",
    "print(re.search(r\"\\bhello\", \" hello\"))\n",
    "print(re.search(r\"\\bhello\", \"hhello\")) #세번째는 hello가 하나의 단위로 묶여있지 않으므로 버려진다."
   ]
  },
  {
   "cell_type": "code",
   "execution_count": 18,
   "metadata": {},
   "outputs": [
    {
     "name": "stdout",
     "output_type": "stream",
     "text": [
      "None\n"
     ]
    },
    {
     "data": {
      "text/plain": [
       "'breaking'"
      ]
     },
     "execution_count": 18,
     "metadata": {},
     "output_type": "execute_result"
    }
   ],
   "source": [
    "match = re.search(r\"\\bbreaking\",\"bbreakingg news\") #이 결과는 나오지 않지만\n",
    "\n",
    "if match:\n",
    "    print(match.group())\n",
    "else:\n",
    "    print(match)\n",
    "matched = re.search(r\"breaking\",\"bbreakingg news\") #이 결과는 나온다. \n",
    "matched.group()"
   ]
  },
  {
   "cell_type": "code",
   "execution_count": 19,
   "metadata": {
    "colab": {
     "base_uri": "https://localhost:8080/"
    },
    "executionInfo": {
     "elapsed": 617,
     "status": "ok",
     "timestamp": 1608788648094,
     "user": {
      "displayName": "정기철",
      "photoUrl": "https://lh3.googleusercontent.com/a-/AOh14GgYAVv9rtOitu8mToGxJidXav9jjZ5UMrJRIaRuoA=s64",
      "userId": "01277761849616350757"
     },
     "user_tz": -540
    },
    "id": "zEveGaV0RWHL",
    "outputId": "3cd2879e-0acb-4958-deb7-93f816151962"
   },
   "outputs": [
    {
     "name": "stdout",
     "output_type": "stream",
     "text": [
      "<re.Match object; span=(0, 11), match='love python'>\n",
      "None\n",
      "None\n"
     ]
    }
   ],
   "source": [
    "# \\s는 white space를 의미하는 메타문자이다. 그렇지만 이 메타문자는 문자열의 위치를 변경시킨다.\n",
    "# 즉, zero-width assertions이 아니다.\n",
    "\n",
    "print(re.search(r\"love\\spython\",\"love python\"))\n",
    "print(re.search(r\"love\\spython\",\"lovepython\"))\n",
    "print(re.search(r\"love\\spython\",\"love-python\"))"
   ]
  },
  {
   "cell_type": "code",
   "execution_count": 21,
   "metadata": {
    "colab": {
     "base_uri": "https://localhost:8080/"
    },
    "executionInfo": {
     "elapsed": 249,
     "status": "ok",
     "timestamp": 1627789886580,
     "user": {
      "displayName": "이원석",
      "photoUrl": "",
      "userId": "03961924367760525796"
     },
     "user_tz": -540
    },
    "id": "yhtvzjWtdSif",
    "outputId": "c0ac49fa-60ea-4749-ccb9-bf0c3aa028db"
   },
   "outputs": [
    {
     "name": "stdout",
     "output_type": "stream",
     "text": [
      "<re.Match object; span=(0, 4), match='Crow'>\n",
      "<re.Match object; span=(3, 8), match='class'>\n",
      "<re.Match object; span=(8, 13), match='class'>\n",
      "None\n",
      "None\n",
      "<re.Match object; span=(6, 11), match='class'>\n",
      "None\n"
     ]
    }
   ],
   "source": [
    "# 기타\n",
    "\n",
    "p = re.compile('Crow|Servo')  \n",
    "#기본적으로 re.search(compile,argument) 인 것을 p = re.complie(\"조건\") -> p.match(argument) 로 이분. \n",
    "\n",
    "m = p.match('CrowHello')\n",
    "print(m)\n",
    "\n",
    "# 단어 구분자\n",
    "p = re.compile(r'\\bclass\\b') # blank의 의미\n",
    "print(p.search('no class at all'))  \n",
    "print(p.search('no      class at all'))  \n",
    "print(p.search('the declassified algorithm'))\n",
    "\n",
    "\n",
    "p = re.compile(r'\\Bclass\\B') # !blank의 의미\n",
    "print(p.search('no class at all'))  \n",
    "print(p.search('the declassified algorithm'))\n",
    "print(p.search('one subclass is'))"
   ]
  },
  {
   "cell_type": "markdown",
   "metadata": {
    "id": "4jY55wScR6BC"
   },
   "source": [
    "# 지금부터는 grouping에 대해서 알아보자.\n"
   ]
  },
  {
   "cell_type": "code",
   "execution_count": 5,
   "metadata": {
    "colab": {
     "base_uri": "https://localhost:8080/"
    },
    "executionInfo": {
     "elapsed": 368,
     "status": "ok",
     "timestamp": 1627790153945,
     "user": {
      "displayName": "이원석",
      "photoUrl": "",
      "userId": "03961924367760525796"
     },
     "user_tz": -540
    },
    "id": "qYUwYnvZSdmp",
    "outputId": "ea80dc4e-ee19-441b-e983-f2884832ffed"
   },
   "outputs": [
    {
     "name": "stdout",
     "output_type": "stream",
     "text": [
      "<re.Match object; span=(0, 18), match='jung:010-1234-5678'>\n"
     ]
    }
   ],
   "source": [
    "# 예를 들어서 전화번호 문자열에서 원하는 위치의 문자를 뽑아내고자 하면...\n",
    "\n",
    "m = re.search(r\"[a-zA-Z|_][a-zA-Z0-9]*:\\d+-\\d+-\\d+\", \"jung:010-1234-5678\")\n",
    "print(m)\n",
    "\n",
    "# 위와 같이 사용하면, 매칭여부는 알 수 있지만, 원하는 부분을 뽑아올 수 없다.\n",
    "# 이때 grouping 기능을 사용하자."
   ]
  },
  {
   "cell_type": "code",
   "execution_count": 29,
   "metadata": {
    "colab": {
     "base_uri": "https://localhost:8080/"
    },
    "executionInfo": {
     "elapsed": 243,
     "status": "ok",
     "timestamp": 1627790215262,
     "user": {
      "displayName": "이원석",
      "photoUrl": "",
      "userId": "03961924367760525796"
     },
     "user_tz": -540
    },
    "id": "7NU7grMWJp47",
    "outputId": "b497a6d4-c469-48e9-f29b-e50ac8433b51"
   },
   "outputs": [
    {
     "name": "stdout",
     "output_type": "stream",
     "text": [
      "jung:010-1234-5678\n",
      "jung\n",
      "010\n",
      "1234\n",
      "5678\n"
     ]
    }
   ],
   "source": [
    "m = re.search(r\"([a-zA-Z|_][a-zA-Z0-9]*):(\\d+)-(\\d+)-(\\d+)\", \"jung:010-1234-5678\")\n",
    "print(m.group(0))\n",
    "print(m.group(1))\n",
    "print(m.group(2))\n",
    "print(m.group(3))\n",
    "print(m.group(4))\n"
   ]
  },
  {
   "cell_type": "code",
   "execution_count": 30,
   "metadata": {},
   "outputs": [
    {
     "data": {
      "text/plain": [
       "'01063245109'"
      ]
     },
     "execution_count": 30,
     "metadata": {},
     "output_type": "execute_result"
    }
   ],
   "source": [
    "#전화번호만 뽑아오기!\n",
    "m = re.search(r\"(\\d*)-(\\d*)-(\\d*)\",\"이원석 : 010-6324-5109\") \n",
    "m.group(1) + m.group(2) + m.group(3)"
   ]
  },
  {
   "cell_type": "markdown",
   "metadata": {
    "id": "HicQGITiVhpG"
   },
   "source": [
    "# 실습"
   ]
  },
  {
   "cell_type": "code",
   "execution_count": 45,
   "metadata": {
    "id": "J9pmfLahGAE0"
   },
   "outputs": [
    {
     "name": "stdout",
     "output_type": "stream",
     "text": [
      "남자다잉\n"
     ]
    }
   ],
   "source": [
    "# 한국의 주민등록번호를 검사할 수 있는 정규식을 작성하고\n",
    "# 이를 테스트하는 코드를 작성하시오.\n",
    "\n",
    "\n",
    "p = re.compile(r\"(\\d*)-(\\d*)\")\n",
    "m = p.search(\"이원석 : 910907-1234567\")\n",
    "m.group()\n",
    "if m.group(1).startswith(\"0\"):\n",
    "    if m.group(2).startswith(\"3\"):\n",
    "        print(\"20남자다잉\")\n",
    "    elif m.group(2).startswith(\"3\"):\n",
    "        print(\"여자다잉\")\n",
    "else:\n",
    "    if m.group(2).startswith(\"1\"):\n",
    "        print(\"남자다잉\")\n",
    "    elif m.group(2).startswith(\"2\"):\n",
    "        print(\"여자다잉\")"
   ]
  }
 ],
 "metadata": {
  "colab": {
   "collapsed_sections": [],
   "name": "2_RE_04.ipynb",
   "provenance": [
    {
     "file_id": "1jVfSqzxQFHZ0SHCglYR4vKVL4dqsFQYd",
     "timestamp": 1627732108758
    },
    {
     "file_id": "1ZSKtQbJP_J7cOoEIeik8kNbWuNzgTigM",
     "timestamp": 1580262493749
    },
    {
     "file_id": "10vLuoBA2h78ti3gXCEJgoVABQINMtVgN",
     "timestamp": 1580262299214
    },
    {
     "file_id": "1ZZUGR7GYbEH8bjZEjEvMSBiDIC6_4meX",
     "timestamp": 1580262029746
    }
   ]
  },
  "kernelspec": {
   "display_name": "Python 3",
   "language": "python",
   "name": "python3"
  },
  "language_info": {
   "codemirror_mode": {
    "name": "ipython",
    "version": 3
   },
   "file_extension": ".py",
   "mimetype": "text/x-python",
   "name": "python",
   "nbconvert_exporter": "python",
   "pygments_lexer": "ipython3",
   "version": "3.8.8"
  }
 },
 "nbformat": 4,
 "nbformat_minor": 1
}
