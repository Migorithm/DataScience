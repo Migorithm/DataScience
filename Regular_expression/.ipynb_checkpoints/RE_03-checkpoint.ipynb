{
 "cells": [
  {
   "cell_type": "markdown",
   "metadata": {
    "id": "23GtXg_uJSYx"
   },
   "source": [
    "# Issues with backslashes(\\\\)\n",
    "- Let's go in detail"
   ]
  },
  {
   "cell_type": "code",
   "execution_count": 1,
   "metadata": {
    "colab": {
     "base_uri": "https://localhost:8080/"
    },
    "executionInfo": {
     "elapsed": 7,
     "status": "ok",
     "timestamp": 1627788860582,
     "user": {
      "displayName": "이원석",
      "photoUrl": "",
      "userId": "03961924367760525796"
     },
     "user_tz": -540
    },
    "id": "wXYSf8KCJRKB",
    "outputId": "dec37468-0cb8-4681-e2a8-9613556913a8"
   },
   "outputs": [
    {
     "name": "stdout",
     "output_type": "stream",
     "text": [
      "Hello\\Python\n",
      "Hello\n",
      "Python\n",
      "Hello\\nPython\n"
     ]
    }
   ],
   "source": [
    "# 참고: \n",
    "# https://lerner.co.il/2018/07/24/avoiding-windows-backslash-problems-with-pythons-raw-strings/\n",
    "\n",
    "# \\(backslash)에 대한 문제\n",
    "# 파이썬에서의 \\n은 특별한 의미가 있다.\n",
    "print('Hello\\Python')\n",
    "print('Hello\\nPython')\n",
    "\n",
    "# '\\n'을 출력하려면?\n",
    "# \\\\와 같이 2개를 입력해야한다.\n",
    "# 그러면 \\\\가 문자 \\임을 의미한다.\n",
    "print('Hello\\\\nPython')"
   ]
  },
  {
   "cell_type": "code",
   "execution_count": 2,
   "metadata": {
    "colab": {
     "base_uri": "https://localhost:8080/"
    },
    "executionInfo": {
     "elapsed": 5,
     "status": "ok",
     "timestamp": 1627788860583,
     "user": {
      "displayName": "이원석",
      "photoUrl": "",
      "userId": "03961924367760525796"
     },
     "user_tz": -540
    },
    "id": "fl9dpqZzQTu_",
    "outputId": "5b490212-27aa-4221-b46c-95d12a618684"
   },
   "outputs": [
    {
     "name": "stdout",
     "output_type": "stream",
     "text": [
      "1 \n",
      "\n",
      "just for checkinig new line\n",
      "2 \\n\n"
     ]
    }
   ],
   "source": [
    "import re\n",
    "\n",
    "# 아래의 문자열은 길이가 1이다. 즉, 1개의 문자로써 '줄바꿈'문자를 의미한다.\n",
    "# 따라서, 이를 출력하면 줄이 바뀐다.\n",
    "s = \"\\n\"\n",
    "print(len(s), s)\n",
    "print(\"just for checkinig new line\")\n",
    "\n",
    "# 아래의 문자열은 길이가 2이다. \"\\\\\"는 escape sequence로써 1개의 backslash를 의미한다.\n",
    "# 그리고 \"n\"이라는 문자가 연결된것이다.\n",
    "s = \"\\\\n\"\n",
    "print(len(s), s)"
   ]
  },
  {
   "cell_type": "code",
   "execution_count": 3,
   "metadata": {
    "colab": {
     "base_uri": "https://localhost:8080/"
    },
    "executionInfo": {
     "elapsed": 338,
     "status": "ok",
     "timestamp": 1627788860918,
     "user": {
      "displayName": "이원석",
      "photoUrl": "",
      "userId": "03961924367760525796"
     },
     "user_tz": -540
    },
    "id": "XYX_BtOjIr68",
    "outputId": "e6f83029-30c0-4b88-b83a-52c4b25c4e9f"
   },
   "outputs": [
    {
     "name": "stdout",
     "output_type": "stream",
     "text": [
      "None\n"
     ]
    }
   ],
   "source": [
    "# 정규식을 이용해서 '\\section'이라는 문자열을 찾으려면\n",
    "# 아래와 같이 정규식을 적으면 않된다.\n",
    "# 왜 그럴까?\n",
    "# \\는 파이썬 언어 자체에서도 특별한 의미로 다루어지고\n",
    "# \\는 정규식에서도 특별한 의미로 \n",
    "# 즉, 2중으로 특별한 의미로 다루어지기 때문이다.\n",
    "print(re.search(\"\\\\section\",' \\\\section')) ##파이썬에서 \\\\는 \\으로, 정규식에서 \\s는 스페이스로 처리. 따라서 \" ection\"이 된다. "
   ]
  },
  {
   "cell_type": "code",
   "execution_count": 3,
   "metadata": {
    "colab": {
     "base_uri": "https://localhost:8080/"
    },
    "executionInfo": {
     "elapsed": 8,
     "status": "ok",
     "timestamp": 1627788860919,
     "user": {
      "displayName": "이원석",
      "photoUrl": "",
      "userId": "03961924367760525796"
     },
     "user_tz": -540
    },
    "id": "ZalNsoy6NOG7",
    "outputId": "8b5704a1-ba9f-4819-e6e8-b1c2e5ee578d"
   },
   "outputs": [
    {
     "name": "stdout",
     "output_type": "stream",
     "text": [
      "<re.Match object; span=(5, 12), match=' ection'>\n"
     ]
    }
   ],
   "source": [
    "# 정규식에서 \\s는 하나의 whitespace(빈칸, 줄바꿈, Tab 등)을 의미한다.\n",
    "# 따라서 정규식 \"\\\\section\"은 파이썬 언어에서 \\\\가 \\을 의미해서\n",
    "# 정규식의 의미로는 \\section이 된다.\n",
    "# 정규식에서 \\s는 whitespace를 의미해서, \"white space 1개+ection\"을 의미하는 정규식이된다.\n",
    "# 휴.. 어렵다.. 이해가 되지 않으면 다시 읽어보기 바란다.\n",
    "\n",
    "print(re.search(\"\\\\section\",'test  ection'))"
   ]
  },
  {
   "cell_type": "code",
   "execution_count": 5,
   "metadata": {
    "colab": {
     "base_uri": "https://localhost:8080/"
    },
    "executionInfo": {
     "elapsed": 7,
     "status": "ok",
     "timestamp": 1627788860919,
     "user": {
      "displayName": "이원석",
      "photoUrl": "",
      "userId": "03961924367760525796"
     },
     "user_tz": -540
    },
    "id": "G3oTfWO3OBcZ",
    "outputId": "36b8c2ea-5e6b-4901-f0b8-2f4b61a7220d"
   },
   "outputs": [
    {
     "name": "stdout",
     "output_type": "stream",
     "text": [
      "<re.Match object; span=(0, 8), match='\\\\section'>\n"
     ]
    }
   ],
   "source": [
    "# 따라서 아래와 같이 작성해야 \"\\section\" 문자열을 검색하게 된다.\n",
    "print(re.search(\"\\\\\\\\section\",'\\\\section'))\n",
    "# 위의 정규식 \"\\\\\\\\section\"은 \"\\section\" 문자열을 의미한다."
   ]
  },
  {
   "cell_type": "code",
   "execution_count": 25,
   "metadata": {
    "colab": {
     "base_uri": "https://localhost:8080/"
    },
    "executionInfo": {
     "elapsed": 6,
     "status": "ok",
     "timestamp": 1627788860919,
     "user": {
      "displayName": "이원석",
      "photoUrl": "",
      "userId": "03961924367760525796"
     },
     "user_tz": -540
    },
    "id": "NgPcmnykOuAQ",
    "outputId": "5f2c2e7c-8d44-411d-faae-2ec3a4de8bba"
   },
   "outputs": [
    {
     "name": "stdout",
     "output_type": "stream",
     "text": [
      "<re.Match object; span=(0, 8), match='\\\\section'>\n",
      "'\\'\n"
     ]
    }
   ],
   "source": [
    "# 이렇게 backslash와 관련된 사항을 쉽게 처리하기 위해서\n",
    "# 파이썬 정규식에서 raw string 개념을 사용한다.\n",
    "# raw string은 파이썬에서의 \\ 심볼을 그냥 \\로 생각하게 하자는 의미다.(escape sequence 의미를 사용하지 않겠다는 의미다)\n",
    "\n",
    "print(re.search(r\"\\\\section\",'\\section'))\n",
    "\n",
    "# 명확히 하자\n",
    "# 파이썬의 문자열 규칙에 따른 \\ 처리 문제와 더불어\n",
    "# 정규식 엔진에서의 \\ 처리문제가 이중으로 관여되기 때문에 발생하는 문제다\n"
   ]
  },
  {
   "cell_type": "markdown",
   "metadata": {
    "id": "V0GYRtu1Ow4o"
   },
   "source": [
    "# 이제부터는 혼란을 줄이기 위해서 모든 정규식을 raw string으로 표현할것이다."
   ]
  },
  {
   "cell_type": "code",
   "execution_count": 26,
   "metadata": {
    "colab": {
     "base_uri": "https://localhost:8080/"
    },
    "executionInfo": {
     "elapsed": 6,
     "status": "ok",
     "timestamp": 1627788860920,
     "user": {
      "displayName": "이원석",
      "photoUrl": "",
      "userId": "03961924367760525796"
     },
     "user_tz": -540
    },
    "id": "Rdw_H5ZLQcSs",
    "outputId": "e9b0b025-1dc8-4fea-aaa6-88d85bf9ab3e"
   },
   "outputs": [
    {
     "name": "stdout",
     "output_type": "stream",
     "text": [
      "2 \\n\n",
      "test\n",
      "\test\n",
      "\\test\n",
      "\\test\n"
     ]
    }
   ],
   "source": [
    "# 파이썬에서는 문자열 앞에 r을 붙이면 escape sequence를 무력화한다.\n",
    "# 이를 raw string이라고 한다.\n",
    "s = r\"\\n\"\n",
    "print(len(s), s)\n",
    "\n",
    "print('test')\n",
    "print('\\test') # 여기서 \\t는 Tab 문자를 의미한다.\n",
    "print('\\\\test') # 여기서 \\\\는 \\ 문자를 의미한다.\n",
    "print(r'\\test') # raw string이다."
   ]
  },
  {
   "cell_type": "code",
   "execution_count": 31,
   "metadata": {
    "colab": {
     "base_uri": "https://localhost:8080/"
    },
    "executionInfo": {
     "elapsed": 245,
     "status": "ok",
     "timestamp": 1627789258826,
     "user": {
      "displayName": "이원석",
      "photoUrl": "",
      "userId": "03961924367760525796"
     },
     "user_tz": -540
    },
    "id": "8_nbMTxSIubi",
    "outputId": "8d38cdce-16c2-4075-a618-74f26d8ca695"
   },
   "outputs": [
    {
     "name": "stdout",
     "output_type": "stream",
     "text": [
      "<re.Match object; span=(0, 6), match='Cookie'>\n",
      "<re.Match object; span=(0, 3), match='119'>\n",
      "<re.Match object; span=(0, 6), match='hello1'>\n",
      "<re.Match object; span=(0, 6), match='hello~'>\n",
      "<re.Match object; span=(0, 11), match='love python'>\n",
      "None\n",
      "<re.Match object; span=(0, 4), match='Pine'>\n",
      "<re.Match object; span=(4, 9), match='Apple'>\n",
      "<re.Match object; span=(0, 14), match='ApplePineApple'>\n"
     ]
    }
   ],
   "source": [
    "# 이제부터는 혼란을 줄이기 위해서 모든 정규식을 raw string으로 표현할것이다.\n",
    "\n",
    "print(re.search(r\"Co.k.e\",'Cookie'))\n",
    "print(re.search(r\"\\d\\d\\d\",\"119\")) #\\d 는 [0-9]와 같다.\n",
    "print(re.search(r\"hello\\w\", \"hello1\")) # \\w는 alphanumeric + \"_\" 즉  [a-zA-Z0-9_]와 같다.\n",
    "print(re.search(r\"hello\\W\", \"hello~\")) \n",
    "print(re.search(r\"love\\spython\",\"love python\"))\n",
    "print(re.search(r\"love\\spython\",\"love  python\"))\n",
    "print(re.search(r\"^Pine\",\"PineApple\")) # ^은 곽괄호 안에 없는 경우, 문장의 시작을 의미.\n",
    "print(re.search(r\"Apple$\",\"PineApple\")) # $ -> 문장끝.\n",
    "print(re.search(r\".*Apple$\",\"ApplePineApple\")) #뭐가 되든 상관없는데 (.) 뒤에 Apple이 나오면 리턴해줘라."
   ]
  }
 ],
 "metadata": {
  "colab": {
   "collapsed_sections": [],
   "name": "2_RE_03.ipynb",
   "provenance": [
    {
     "file_id": "1kOxV2e4WK6njZM2hP4BDGzonRArMzmrO",
     "timestamp": 1627732095050
    },
    {
     "file_id": "1ZSKtQbJP_J7cOoEIeik8kNbWuNzgTigM",
     "timestamp": 1580954591346
    },
    {
     "file_id": "10vLuoBA2h78ti3gXCEJgoVABQINMtVgN",
     "timestamp": 1580262299214
    },
    {
     "file_id": "1ZZUGR7GYbEH8bjZEjEvMSBiDIC6_4meX",
     "timestamp": 1580262029746
    }
   ]
  },
  "kernelspec": {
   "display_name": "Python 3",
   "language": "python",
   "name": "python3"
  },
  "language_info": {
   "codemirror_mode": {
    "name": "ipython",
    "version": 3
   },
   "file_extension": ".py",
   "mimetype": "text/x-python",
   "name": "python",
   "nbconvert_exporter": "python",
   "pygments_lexer": "ipython3",
   "version": "3.8.8"
  }
 },
 "nbformat": 4,
 "nbformat_minor": 1
}
