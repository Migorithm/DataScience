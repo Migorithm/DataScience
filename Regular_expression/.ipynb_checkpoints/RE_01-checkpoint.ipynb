{
 "cells": [
  {
   "cell_type": "markdown",
   "metadata": {
    "id": "TFtxwECnfa-a"
   },
   "source": [
    "# 정규식을 위한 re(regular expression의 약어) 모듈을 사용하자.\n",
    "- 별도의 설치과정없이 기본적으로 설치된 모듈이다.\n",
    "- 향후에 자세한 설명을 하겠지만, 여기서는 간단한 사용법 위주로 설명한다."
   ]
  },
  {
   "cell_type": "code",
   "execution_count": 1,
   "metadata": {
    "executionInfo": {
     "elapsed": 247,
     "status": "ok",
     "timestamp": 1627787741199,
     "user": {
      "displayName": "이원석",
      "photoUrl": "",
      "userId": "03961924367760525796"
     },
     "user_tz": -540
    },
    "id": "Mz8xcyeA9kMi"
   },
   "outputs": [],
   "source": [
    "import re"
   ]
  },
  {
   "cell_type": "code",
   "execution_count": 4,
   "metadata": {
    "colab": {
     "base_uri": "https://localhost:8080/"
    },
    "executionInfo": {
     "elapsed": 288,
     "status": "ok",
     "timestamp": 1627787782982,
     "user": {
      "displayName": "이원석",
      "photoUrl": "",
      "userId": "03961924367760525796"
     },
     "user_tz": -540
    },
    "id": "gsCOt61iLDow",
    "outputId": "64218a6f-1e81-406d-e329-8b7059882def"
   },
   "outputs": [
    {
     "name": "stdout",
     "output_type": "stream",
     "text": [
      "<re.Match object; span=(0, 1), match='0'>\n",
      "<class 're.Match'>\n",
      "0\n"
     ]
    }
   ],
   "source": [
    "# 아래는 정규식을 이용한 문자열 매칭(검색)의 예제다. \n",
    "# 지금은 코드의 내용을 이해하지 못하겠지만, 아래의 설명을 읽어보자. \n",
    "\n",
    "# 패턴을 검색하는 다른 함수로써 re.search() 함수를 살펴보자.\n",
    "# re.search() 함수는 문자열 전체를 검색하여 정규식과 매치되는지 조사한다. 1번째 파라미터는 정규식, 2번째 파라미터는 검색 대상 문자열이다.\n",
    "# 즉, re.search(\"정규식\", \"탐색 대상 문자열\") 함수는 매칭된 첫번째 문자열에 관련된 정보(Match 객체)를 반환하고,\n",
    "# 매칭되지 않으면 None을 반환한다.\n",
    "\n",
    "# 즉, 아래의 문장은 문자열에서 알파벳 대소문자이거나 숫자가 1개 있는지를 확인하고 이를 반환한다.\n",
    "m = re.search(\"[a-zA-Z0-9]\", \"0\")\n",
    "\n",
    "print(m)\n",
    "print(type(m))\n",
    "print(m.group()) # Match 객채의 group() 메쏘드는 매칭된 문자열(쳣번째)을 반환한다."
   ]
  },
  {
   "cell_type": "code",
   "execution_count": 5,
   "metadata": {
    "colab": {
     "base_uri": "https://localhost:8080/"
    },
    "executionInfo": {
     "elapsed": 6,
     "status": "ok",
     "timestamp": 1627787742752,
     "user": {
      "displayName": "이원석",
      "photoUrl": "",
      "userId": "03961924367760525796"
     },
     "user_tz": -540
    },
    "id": "Z8JOmxVVEeTb",
    "outputId": "4ac0379a-2ab9-4f47-e0d0-45f4c28eceb6"
   },
   "outputs": [
    {
     "name": "stdout",
     "output_type": "stream",
     "text": [
      "None\n",
      "None\n",
      "None\n"
     ]
    }
   ],
   "source": [
    "#  아래와 같이 일치되지 않으면 None을 반환한다.\n",
    "print(re.search(\"[a-zA-Z0-9]\", \"#\")) #a-z까지, A-Z까지, 0-9중에 하나. 오른쪽 argument는 비교대상물\n",
    "print(re.search(\"[a-zA-Z0-9]\", \"-\"))\n",
    "print(re.search(\"[a-zA-Z0-9]\", \"+\"))"
   ]
  },
  {
   "cell_type": "code",
   "execution_count": 19,
   "metadata": {
    "colab": {
     "base_uri": "https://localhost:8080/"
    },
    "executionInfo": {
     "elapsed": 239,
     "status": "ok",
     "timestamp": 1627787887132,
     "user": {
      "displayName": "이원석",
      "photoUrl": "",
      "userId": "03961924367760525796"
     },
     "user_tz": -540
    },
    "id": "xUIbccggE5Sg",
    "outputId": "f4805639-a3ed-4a0d-855b-3273219d8f36"
   },
   "outputs": [
    {
     "name": "stdout",
     "output_type": "stream",
     "text": [
      "<re.Match object; span=(0, 1), match='1'>\n",
      "None\n",
      "None\n",
      "<re.Match object; span=(2, 3), match='B'>\n"
     ]
    }
   ],
   "source": [
    "#알파벳이 아닌 것을 찾기.\n",
    "print(re.search(\"[^a-zA-Z]\", \"1\")) \n",
    "print(re.search(\"[^a-zA-Z]\", \"a\"))\n",
    "print(re.search(\"[^a-zA-Z]\", \"A\"))\n",
    "print(re.search(r\"[^a-z]\",\"adBBe\")) #처음 하나만 리턴."
   ]
  },
  {
   "cell_type": "markdown",
   "metadata": {
    "id": "cvlEuIOyFCa4"
   },
   "source": [
    "# 아직까지는 search() 함수의 반환값을 자유롭게 사용하지는 못한다.\n",
    "- 다만 일치하는 문자열이 있는지 없는지 정도의 정보만 사용하고 있는데\n",
    "- 자세한 내용이 곧 소개된다."
   ]
  },
  {
   "cell_type": "code",
   "execution_count": 21,
   "metadata": {
    "colab": {
     "base_uri": "https://localhost:8080/"
    },
    "executionInfo": {
     "elapsed": 240,
     "status": "ok",
     "timestamp": 1627787988389,
     "user": {
      "displayName": "이원석",
      "photoUrl": "",
      "userId": "03961924367760525796"
     },
     "user_tz": -540
    },
    "id": "u7fFSWWOhoPV",
    "outputId": "ee190e74-923b-4f5b-e472-1ba3ce864d0f"
   },
   "outputs": [
    {
     "name": "stdout",
     "output_type": "stream",
     "text": [
      "<re.Match object; span=(0, 1), match='a'>\n",
      "None\n",
      "<re.Match object; span=(0, 1), match='-'>\n",
      "<re.Match object; span=(0, 1), match='a'>\n",
      "<re.Match object; span=(0, 1), match='a'>\n",
      "<re.Match object; span=(5, 6), match=' '>\n"
     ]
    }
   ],
   "source": [
    "print(re.search(\"[a-zA-Z0-9]\", \"a\"))\n",
    "print(re.search(\"[a-zA-Z0-9]\", \"-\"))  # 매칭되지 않음. 이 경우에는 None을 반환함\n",
    "print(re.search(\"[^a-zA-Z0-9]\", \"-\"))\n",
    "print(re.search(\"[abc]\", \"apple\"))\n",
    "print(re.search(\"[abc]\", \"apple ace\"))\n",
    "print(re.search(\"[ ]\", \"apple ace\")) #공백문자도 가능\n",
    "\n",
    "# search() 함수는 처음 매칭된 문자열 1개만 반환한다."
   ]
  }
 ],
 "metadata": {
  "colab": {
   "collapsed_sections": [],
   "name": "2_RE_01.ipynb",
   "provenance": [
    {
     "file_id": "10vLuoBA2h78ti3gXCEJgoVABQINMtVgN",
     "timestamp": 1627732058776
    },
    {
     "file_id": "1ZZUGR7GYbEH8bjZEjEvMSBiDIC6_4meX",
     "timestamp": 1580262029746
    }
   ]
  },
  "kernelspec": {
   "display_name": "Python 3",
   "language": "python",
   "name": "python3"
  },
  "language_info": {
   "codemirror_mode": {
    "name": "ipython",
    "version": 3
   },
   "file_extension": ".py",
   "mimetype": "text/x-python",
   "name": "python",
   "nbconvert_exporter": "python",
   "pygments_lexer": "ipython3",
   "version": "3.8.8"
  }
 },
 "nbformat": 4,
 "nbformat_minor": 1
}
