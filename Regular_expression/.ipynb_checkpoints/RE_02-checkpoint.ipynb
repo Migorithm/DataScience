{
 "cells": [
  {
   "cell_type": "code",
   "execution_count": 8,
   "metadata": {
    "colab": {
     "base_uri": "https://localhost:8080/"
    },
    "executionInfo": {
     "elapsed": 8,
     "status": "ok",
     "timestamp": 1627788023421,
     "user": {
      "displayName": "이원석",
      "photoUrl": "",
      "userId": "03961924367760525796"
     },
     "user_tz": -540
    },
    "id": "hEjlJXk9xWut",
    "outputId": "3bb65175-deba-42a5-c282-ab268bbb97e3"
   },
   "outputs": [
    {
     "name": "stdout",
     "output_type": "stream",
     "text": [
      "1\n",
      "132\n"
     ]
    }
   ],
   "source": [
    "import re\n",
    "\n",
    "# To reiterate, search() returns the first matched string.\n",
    "# check if the return value is none as follows.\n",
    "# search() 함수의 반환값, 즉 Marched 객체의 group() 메쏘드는, 매칭된 문자열을 반환한다.\n",
    "\n",
    "matched = re.search(\"[a-zA-Z0-9]\", \"123abc\")\n",
    "if matched: \n",
    "    print(matched.group())\n",
    "\n",
    "matched2 = re.search(\"[1-9]*\",'132a2bd') #a에서 끊기고 그 다음 2는 리턴되지 않았다. \n",
    "if matched2:\n",
    "    print(matched2.group())"
   ]
  },
  {
   "cell_type": "markdown",
   "metadata": {
    "id": "aP3vH0rCHMO_"
   },
   "source": [
    "# Let's find out meta character that enables repeated characters (*)"
   ]
  },
  {
   "cell_type": "code",
   "execution_count": 6,
   "metadata": {
    "colab": {
     "base_uri": "https://localhost:8080/"
    },
    "executionInfo": {
     "elapsed": 253,
     "status": "ok",
     "timestamp": 1627788499375,
     "user": {
      "displayName": "이원석",
      "photoUrl": "",
      "userId": "03961924367760525796"
     },
     "user_tz": -540
    },
    "id": "Wl8pVoAhGtXP",
    "outputId": "ea7051db-f5bf-4604-af4f-640a35fb6569"
   },
   "outputs": [
    {
     "name": "stdout",
     "output_type": "stream",
     "text": [
      "i\n",
      "*** NOT MATCH ***\n",
      "Tom7\n",
      "_Tom7\n",
      "tom\n",
      "have\n"
     ]
    }
   ],
   "source": [
    "matched = re.search(\"[a-zA-Z|_][a-zA-Z0-9]*\", \"i\") #맨처음 글자는 a-zA-z이거나 _ 그리고 그 이후는 [a-zA-Z0-9]\n",
    "if matched: \n",
    "    print(matched.group())\n",
    "\n",
    "matched = re.search(\"[a-zA-Z|_][a-zA-Z0-9]*\", \"007\") \n",
    "if matched: \n",
    "    print(matched.group())\n",
    "else:\n",
    "    print(\"*** NOT MATCH ***\")\n",
    "\n",
    "matched = re.search(\"[a-zA-Z|_][a-zA-Z0-9]*\", \"Tom7\")\n",
    "if matched: \n",
    "    print(matched.group())\n",
    "\n",
    "matched = re.search(\"[a-zA-Z|_][a-zA-Z0-9]*\", \"_Tom7\")\n",
    "if matched: \n",
    "    print(matched.group())\n",
    "\n",
    "matched = re.search(\"[a-zA-Z|_][a-zA-Z0-9]*\", \"tom\")\n",
    "if matched: \n",
    "    print(matched.group())\n",
    "\n",
    "matched = re.search(\"[a-zA-Z|_][a-zA-Z0-9]*\", \"have a nice day\")\n",
    "if matched: \n",
    "    print(matched.group())\n",
    "\n"
   ]
  },
  {
   "cell_type": "markdown",
   "metadata": {
    "id": "KG6P3fw9HprM"
   },
   "source": [
    "# have a deeper dive!"
   ]
  },
  {
   "cell_type": "code",
   "execution_count": 9,
   "metadata": {
    "colab": {
     "base_uri": "https://localhost:8080/"
    },
    "executionInfo": {
     "elapsed": 5,
     "status": "ok",
     "timestamp": 1627788023422,
     "user": {
      "displayName": "이원석",
      "photoUrl": "",
      "userId": "03961924367760525796"
     },
     "user_tz": -540
    },
    "id": "fjBHjoXWGPCw",
    "outputId": "9074c106-683d-400a-c9ef-ae8647fa0270"
   },
   "outputs": [
    {
     "name": "stdout",
     "output_type": "stream",
     "text": [
      "<re.Match object; span=(0, 5), match='JUNG0'>\n",
      "JUNG0\n",
      "<re.Match object; span=(0, 5), match='JUNG1'>\n",
      "JUNG1\n",
      "None\n"
     ]
    }
   ],
   "source": [
    "import re\n",
    "\n",
    "# 조금 실용적인 예제를 만들어보자.\n",
    "# \"JUNG\"으로 시작하고 뒤에는 숫자가 따르는 문자열을 찾고자 한다.\n",
    "m = re.search(\"JUNG[0-9]\", \"JUNG0\")\n",
    "print(m)\n",
    "if m:\n",
    "    print(m.group())\n",
    "\n",
    "m = re.search(\"JUNG[0-9]\", \"JUNG1\")\n",
    "print(m)\n",
    "if m:\n",
    "    print(m.group())\n",
    "\n",
    "m = re.search(\"JUNG[0-9]\", \"JUNG*\") #even though JUNG matches, the following doesn't. So it returns None.\n",
    "print(m)\n",
    "if m:\n",
    "    print(m.group())"
   ]
  },
  {
   "cell_type": "code",
   "execution_count": 10,
   "metadata": {
    "colab": {
     "base_uri": "https://localhost:8080/"
    },
    "executionInfo": {
     "elapsed": 245,
     "status": "ok",
     "timestamp": 1627788717221,
     "user": {
      "displayName": "이원석",
      "photoUrl": "",
      "userId": "03961924367760525796"
     },
     "user_tz": -540
    },
    "id": "9TTg6Cr8GSou",
    "outputId": "3a3f98b3-496a-4401-945b-6d839ef174fa"
   },
   "outputs": [
    {
     "name": "stdout",
     "output_type": "stream",
     "text": [
      "<re.Match object; span=(0, 7), match='JUNG123'>\n",
      "JUNG123\n",
      "<re.Match object; span=(0, 4), match='JUNG'>\n",
      "JUNG\n",
      "<re.Match object; span=(0, 5), match='JUNG5'>\n",
      "JUNG5\n"
     ]
    }
   ],
   "source": [
    "# 아래와 같이 정규식에 반복을 위한 메타문자*을 붙이면 결과가 조금 달라진다\n",
    "\n",
    "m = re.search(\"JUNG[0-9]*\", \"JUNG123\")\n",
    "print(m)\n",
    "if m:\n",
    "    print(m.group())\n",
    "\n",
    "\n",
    "m = re.search(\"JUNG[0-9]*\", \"JUNG\")\n",
    "print(m)\n",
    "if m:\n",
    "    print(m.group())\n",
    "\n",
    "m = re.search(\"JUNG[0-9]*\", \"JUNG5\")\n",
    "print(m)\n",
    "if m:\n",
    "    print(m.group())\n"
   ]
  },
  {
   "cell_type": "code",
   "execution_count": 11,
   "metadata": {
    "colab": {
     "base_uri": "https://localhost:8080/"
    },
    "executionInfo": {
     "elapsed": 3,
     "status": "ok",
     "timestamp": 1627788740054,
     "user": {
      "displayName": "이원석",
      "photoUrl": "",
      "userId": "03961924367760525796"
     },
     "user_tz": -540
    },
    "id": "quut122sGQ-m",
    "outputId": "0f82f741-f84d-46f5-b311-7b77b63152c3"
   },
   "outputs": [
    {
     "name": "stdout",
     "output_type": "stream",
     "text": [
      "<re.Match object; span=(0, 5), match='JUNG1'>\n",
      "JUNG1\n"
     ]
    }
   ],
   "source": [
    "# 아래는 \"JUNG1\"까지만 매칭된다.\n",
    "\n",
    "m = re.search(\"JUNG[0-9]\", \"JUNG123\")\n",
    "print(m)\n",
    "print(m.group())\n"
   ]
  },
  {
   "cell_type": "markdown",
   "metadata": {
    "id": "uj14pRyjI6tS"
   },
   "source": [
    "# Issues with backslash(\\\\)"
   ]
  },
  {
   "cell_type": "code",
   "execution_count": 12,
   "metadata": {
    "colab": {
     "base_uri": "https://localhost:8080/"
    },
    "executionInfo": {
     "elapsed": 237,
     "status": "ok",
     "timestamp": 1627788827896,
     "user": {
      "displayName": "이원석",
      "photoUrl": "",
      "userId": "03961924367760525796"
     },
     "user_tz": -540
    },
    "id": "5rFAL9aICjSj",
    "outputId": "56ed96c4-ab4b-452a-aa4b-538334df3328"
   },
   "outputs": [
    {
     "name": "stdout",
     "output_type": "stream",
     "text": [
      "Hello\\Python\n",
      "Hello\n",
      "Python\n",
      "Hello\\nPython\n"
     ]
    }
   ],
   "source": [
    "# 참고: \n",
    "# https://lerner.co.il/2018/07/24/avoiding-windows-backslash-problems-with-pythons-raw-strings/\n",
    "\n",
    "# \\(backslash)에 대한 문제\n",
    "# 파이썬에서의 \\n은 특별한 의미가 있다.\n",
    "print('Hello\\Python')\n",
    "print('Hello\\nPython')\n",
    "\n",
    "# '\\n'을 출력하려면?\n",
    "# \\\\와 같이 2개를 입력해야한다.\n",
    "# 그러면 \\\\가 문자 \\임을 의미한다.\n",
    "print('Hello\\\\nPython')\n",
    "\n",
    "\n"
   ]
  },
  {
   "cell_type": "markdown",
   "metadata": {
    "id": "2eWZFbsXJIby"
   },
   "source": [
    "# What about backlashes with regular expression? \n",
    "\n",
    "- to be continued..."
   ]
  }
 ],
 "metadata": {
  "colab": {
   "collapsed_sections": [],
   "name": "2_RE_02.ipynb",
   "provenance": [
    {
     "file_id": "1S0dt_c1cZLEi3Mzp0kk5WtNOfEcBG1uP",
     "timestamp": 1627732079386
    },
    {
     "file_id": "1BAxbUIxr4UdwePhAB-Exil7ornR_oD8D",
     "timestamp": 1579064113292
    },
    {
     "file_id": "1ZZUGR7GYbEH8bjZEjEvMSBiDIC6_4meX",
     "timestamp": 1579057233512
    }
   ]
  },
  "kernelspec": {
   "display_name": "Python 3",
   "language": "python",
   "name": "python3"
  },
  "language_info": {
   "codemirror_mode": {
    "name": "ipython",
    "version": 3
   },
   "file_extension": ".py",
   "mimetype": "text/x-python",
   "name": "python",
   "nbconvert_exporter": "python",
   "pygments_lexer": "ipython3",
   "version": "3.8.8"
  }
 },
 "nbformat": 4,
 "nbformat_minor": 1
}
