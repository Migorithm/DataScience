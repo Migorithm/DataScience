{
 "cells": [
  {
   "cell_type": "markdown",
   "metadata": {
    "id": "ByKFuQeJazmX"
   },
   "source": [
    "# 1. InputData"
   ]
  },
  {
   "cell_type": "markdown",
   "metadata": {
    "id": "dh79ISrdg7nl"
   },
   "source": [
    "#### 방법1. gdrive 연동\n",
    "gdrive InputData 폴더와 Colab 연동"
   ]
  },
  {
   "cell_type": "code",
   "execution_count": 1,
   "metadata": {
    "id": "29EWN_igfxm1"
   },
   "outputs": [
    {
     "ename": "ModuleNotFoundError",
     "evalue": "No module named 'google'",
     "output_type": "error",
     "traceback": [
      "\u001b[1;31m---------------------------------------------------------------------------\u001b[0m",
      "\u001b[1;31mModuleNotFoundError\u001b[0m                       Traceback (most recent call last)",
      "\u001b[1;32m<ipython-input-1-cb9b955b3e5b>\u001b[0m in \u001b[0;36m<module>\u001b[1;34m\u001b[0m\n\u001b[0;32m      1\u001b[0m \u001b[1;32mfrom\u001b[0m \u001b[0mos\u001b[0m \u001b[1;32mimport\u001b[0m \u001b[0mpath\u001b[0m\u001b[1;33m\u001b[0m\u001b[1;33m\u001b[0m\u001b[0m\n\u001b[1;32m----> 2\u001b[1;33m \u001b[1;32mfrom\u001b[0m \u001b[0mgoogle\u001b[0m\u001b[1;33m.\u001b[0m\u001b[0mcolab\u001b[0m \u001b[1;32mimport\u001b[0m \u001b[0mdrive\u001b[0m\u001b[1;33m\u001b[0m\u001b[1;33m\u001b[0m\u001b[0m\n\u001b[0m\u001b[0;32m      3\u001b[0m \u001b[0mdrive\u001b[0m\u001b[1;33m.\u001b[0m\u001b[0mmount\u001b[0m\u001b[1;33m(\u001b[0m\u001b[1;34m'/content/gdrive'\u001b[0m\u001b[1;33m)\u001b[0m\u001b[1;33m\u001b[0m\u001b[1;33m\u001b[0m\u001b[0m\n",
      "\u001b[1;31mModuleNotFoundError\u001b[0m: No module named 'google'"
     ]
    }
   ],
   "source": [
    "from os import path\n",
    "from google.colab import drive\n",
    "drive.mount('/content/gdrive')"
   ]
  },
  {
   "cell_type": "code",
   "execution_count": null,
   "metadata": {
    "id": "GbDkzyI1k9XG"
   },
   "outputs": [],
   "source": [
    "#notebooks_dir_name = 'MyDrive/InputData'\n",
    "#InputData = path.join('/content/gdrive', notebooks_dir_name)\n",
    "InputData = '/content/gdrive/MyDrive/InputData/자연어전처리실습1/01-regex'"
   ]
  },
  {
   "cell_type": "code",
   "execution_count": null,
   "metadata": {
    "id": "Vu07ANLbfnxv"
   },
   "outputs": [],
   "source": [
    "#!ls /content/gdrive/MyDrive/InputData\n",
    "!ls $InputData"
   ]
  },
  {
   "cell_type": "code",
   "execution_count": null,
   "metadata": {
    "id": "IwV4pDpNsL2N"
   },
   "outputs": [],
   "source": [
    "%cd $InputData"
   ]
  },
  {
   "cell_type": "code",
   "execution_count": null,
   "metadata": {
    "id": "EXL2LRxwsRlR"
   },
   "outputs": [],
   "source": [
    "!pwd"
   ]
  },
  {
   "cell_type": "code",
   "execution_count": null,
   "metadata": {
    "id": "XN_od2oMgWgJ"
   },
   "outputs": [],
   "source": [
    "!ls -al"
   ]
  },
  {
   "cell_type": "code",
   "execution_count": null,
   "metadata": {
    "id": "Ac7ro0Yqgh4-"
   },
   "outputs": [],
   "source": [
    "!cat review.sorted.uniq.tsv | head -n 10"
   ]
  },
  {
   "cell_type": "code",
   "execution_count": null,
   "metadata": {
    "id": "NOEu53kwgl88"
   },
   "outputs": [],
   "source": [
    "!cat refine.regex.txt"
   ]
  },
  {
   "cell_type": "code",
   "execution_count": null,
   "metadata": {
    "id": "hIcal8xyhQpS"
   },
   "outputs": [],
   "source": [
    "%cat refine.py"
   ]
  },
  {
   "cell_type": "code",
   "execution_count": null,
   "metadata": {
    "id": "HRotVJZehaRl"
   },
   "outputs": [],
   "source": [
    "import sys\n",
    "import re\n",
    "\n",
    "def read_regex(fn):\n",
    "    regexs = []\n",
    "\n",
    "    f = open(fn, 'r')\n",
    "\n",
    "    for line in f:\n",
    "        if not line.startswith(\"#\"):\n",
    "            tokens = line.split('\\t')\n",
    "\n",
    "            if len(tokens) == 1:\n",
    "                tokens += [' ']\n",
    "\n",
    "            tokens[0] = tokens[0][:-1] if tokens[0].endswith('\\n') else tokens[0]\n",
    "            tokens[1] = tokens[1][:-1] if tokens[1].endswith('\\n') else tokens[1]\n",
    "\n",
    "            regexs += [(tokens[0], tokens[1])]\n",
    "\n",
    "    f.close()\n",
    "\n",
    "    return regexs\n",
    "\n",
    "if __name__ == \"__main__\":\n",
    "    fn = sys.argv[1]\n",
    "    target_index = int(sys.argv[2])\n",
    "\n",
    "    regexs = read_regex(fn)\n",
    "\n",
    "    for line in sys.stdin:\n",
    "        if line.strip() != \"\":\n",
    "            columns = line.strip().split('\\t')\n",
    "\n",
    "            for r in regexs:\n",
    "                columns[target_index] = re.sub(r'%s' % r[0], r[1], columns[target_index].strip())\n",
    "\n",
    "            sys.stdout.write('\\t'.join(columns) + \"\\n\")\n",
    "        else:\n",
    "            sys.stdout.write('\\n')"
   ]
  },
  {
   "cell_type": "code",
   "execution_count": null,
   "metadata": {
    "id": "-3fK3YJUiEBm"
   },
   "outputs": [],
   "source": [
    "!python --version"
   ]
  },
  {
   "cell_type": "code",
   "execution_count": null,
   "metadata": {
    "id": "D-lYqmqhiFo8"
   },
   "outputs": [],
   "source": [
    "!python refine.py refine.regex.txt 1 < review.sorted.uniq.tsv > review.sorted.uniq.refined.tsv"
   ]
  },
  {
   "cell_type": "code",
   "execution_count": null,
   "metadata": {
    "id": "Orj9J1UcizAl"
   },
   "outputs": [],
   "source": [
    "!cat review.sorted.uniq.refined.tsv | head -n 5"
   ]
  },
  {
   "cell_type": "code",
   "execution_count": null,
   "metadata": {
    "id": "WF_3jXVhi5rM"
   },
   "outputs": [],
   "source": [
    "!cat review.sorted.uniq.tsv | head -n 5"
   ]
  },
  {
   "cell_type": "code",
   "execution_count": null,
   "metadata": {
    "id": "033154VWjZHQ"
   },
   "outputs": [],
   "source": []
  }
 ],
 "metadata": {
  "accelerator": "GPU",
  "colab": {
   "authorship_tag": "ABX9TyNjsIEIqai9Iqgfq+feFLz5",
   "collapsed_sections": [],
   "name": "2_RE_05_Assignment_1.ipynb",
   "provenance": []
  },
  "kernelspec": {
   "display_name": "Python 3",
   "language": "python",
   "name": "python3"
  },
  "language_info": {
   "codemirror_mode": {
    "name": "ipython",
    "version": 3
   },
   "file_extension": ".py",
   "mimetype": "text/x-python",
   "name": "python",
   "nbconvert_exporter": "python",
   "pygments_lexer": "ipython3",
   "version": "3.8.8"
  }
 },
 "nbformat": 4,
 "nbformat_minor": 1
}
