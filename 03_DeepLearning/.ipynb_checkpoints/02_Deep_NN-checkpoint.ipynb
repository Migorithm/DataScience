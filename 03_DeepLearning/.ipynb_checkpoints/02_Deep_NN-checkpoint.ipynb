{
 "cells": [
  {
   "cell_type": "code",
   "execution_count": 5,
   "id": "a204fcd2",
   "metadata": {},
   "outputs": [],
   "source": [
    "import torch\n",
    "import torch.nn as nn\n",
    "import numpy as np"
   ]
  },
  {
   "cell_type": "code",
   "execution_count": 6,
   "id": "01902957",
   "metadata": {},
   "outputs": [],
   "source": [
    "#Hyper Parameter\n",
    "input_size = 1 #1차원을 의미한다.\n",
    "output_size = 1 # 1차원\n",
    "num_epoch = 100\n",
    "learning_rate = 0.001"
   ]
  },
  {
   "cell_type": "code",
   "execution_count": 7,
   "id": "337a1dc6",
   "metadata": {},
   "outputs": [
    {
     "data": {
      "text/plain": [
       "(array([[ 3.3  ],\n",
       "        [ 4.4  ],\n",
       "        [ 5.5  ],\n",
       "        [ 6.71 ],\n",
       "        [ 6.93 ],\n",
       "        [ 4.168],\n",
       "        [ 9.779],\n",
       "        [ 6.182],\n",
       "        [ 7.59 ],\n",
       "        [ 2.167],\n",
       "        [ 7.042],\n",
       "        [10.791],\n",
       "        [ 5.313],\n",
       "        [ 7.997],\n",
       "        [ 3.1  ]], dtype=float32),\n",
       " array([[1.7  ],\n",
       "        [2.76 ],\n",
       "        [2.09 ],\n",
       "        [3.19 ],\n",
       "        [1.694],\n",
       "        [1.573],\n",
       "        [3.366],\n",
       "        [2.596],\n",
       "        [2.53 ],\n",
       "        [1.221],\n",
       "        [2.827],\n",
       "        [3.465],\n",
       "        [1.65 ],\n",
       "        [2.904],\n",
       "        [1.3  ]], dtype=float32))"
      ]
     },
     "execution_count": 7,
     "metadata": {},
     "output_type": "execute_result"
    }
   ],
   "source": [
    "#Toy DataSet\n",
    "\n",
    "x_train = np.array([[3.3], [4.4], [5.5], [6.71], [6.93], [4.168], \n",
    "                    [9.779], [6.182], [7.59], [2.167], [7.042], \n",
    "                    [10.791], [5.313], [7.997], [3.1]], dtype=np.float32)\n",
    "\n",
    "y_train = np.array([[1.7], [2.76], [2.09], [3.19], [1.694], [1.573], \n",
    "                    [3.366], [2.596], [2.53], [1.221], [2.827], \n",
    "                    [3.465], [1.65], [2.904], [1.3]], dtype=np.float32)\n",
    "\n",
    "x_train, y_train\n"
   ]
  },
  {
   "cell_type": "markdown",
   "id": "6b5ab6cd",
   "metadata": {},
   "source": [
    "### Pipeline\n",
    "- 모델생성\n",
    "- loss function 정의\n",
    "- optimization 정의"
   ]
  },
  {
   "cell_type": "code",
   "execution_count": 9,
   "id": "7a70433b",
   "metadata": {},
   "outputs": [],
   "source": [
    "#모델\n",
    "model = nn.Linear(input_size,output_size) #w의 크기라고 볼 수 있다. \n",
    "\n",
    "#loss function\n",
    "loss_func = nn.MSELoss()\n",
    "\n",
    "#optimizer - Adamboost\n",
    "optimizer = torch.optim.Adam(model.parameters(), lr=learning_rate)"
   ]
  },
  {
   "cell_type": "code",
   "execution_count": 10,
   "id": "24a053ad",
   "metadata": {
    "scrolled": true
   },
   "outputs": [
    {
     "name": "stdout",
     "output_type": "stream",
     "text": [
      "Epoch [5/100], Loss:0.554\n",
      "Epoch [10/100], Loss:0.549\n",
      "Epoch [15/100], Loss:0.546\n",
      "Epoch [20/100], Loss:0.545\n",
      "Epoch [25/100], Loss:0.543\n",
      "Epoch [30/100], Loss:0.541\n",
      "Epoch [35/100], Loss:0.538\n",
      "Epoch [40/100], Loss:0.536\n",
      "Epoch [45/100], Loss:0.534\n",
      "Epoch [50/100], Loss:0.532\n",
      "Epoch [55/100], Loss:0.530\n",
      "Epoch [60/100], Loss:0.528\n",
      "Epoch [65/100], Loss:0.526\n",
      "Epoch [70/100], Loss:0.524\n",
      "Epoch [75/100], Loss:0.522\n",
      "Epoch [80/100], Loss:0.520\n",
      "Epoch [85/100], Loss:0.518\n",
      "Epoch [90/100], Loss:0.516\n",
      "Epoch [95/100], Loss:0.514\n",
      "Epoch [100/100], Loss:0.512\n"
     ]
    }
   ],
   "source": [
    "'''\n",
    "학습을 진행\n",
    "학습은 여러번 진행한다.. epoch...for\n",
    "1. 모델에 값을 입력한 결과로 예측값 리턴\n",
    "2. loss\n",
    "3. backward\n",
    "4. step\n",
    "'''\n",
    "inputs = torch.from_numpy(x_train) #convert numpy array to torch tensor\n",
    "targets = torch.from_numpy(y_train)\n",
    "\n",
    "for epoch in range(num_epoch):\n",
    "    #Forward 진행\n",
    "    pred = model(inputs)\n",
    "    loss = loss_func(pred,targets)\n",
    "    \n",
    "    #Backward and Optimization 진행\n",
    "    optimizer.zero_grad() #옵티마이저 초기화. 계산된 값을 0으로 하여 기존값에 영향 안 받도록.\n",
    "    loss.backward()\n",
    "    optimizer.step()\n",
    "    \n",
    "    if(epoch+1) % 5 == 0:\n",
    "        print(\"Epoch [{}/{}], Loss:{:.3f}\".format(epoch+1,num_epoch,loss.item()))\n",
    "    "
   ]
  },
  {
   "cell_type": "markdown",
   "id": "d096569e",
   "metadata": {},
   "source": [
    "### Plot visualization"
   ]
  },
  {
   "cell_type": "code",
   "execution_count": 11,
   "id": "b3e331d1",
   "metadata": {},
   "outputs": [],
   "source": [
    "import matplotlib.pyplot as plt"
   ]
  },
  {
   "cell_type": "code",
   "execution_count": 13,
   "id": "d465e229",
   "metadata": {},
   "outputs": [
    {
     "data": {
      "text/plain": [
       "array([[0.755192  ],\n",
       "       [1.2963588 ],\n",
       "       [1.8375256 ],\n",
       "       [2.432809  ],\n",
       "       [2.5410423 ],\n",
       "       [1.1822219 ],\n",
       "       [3.9426644 ],\n",
       "       [2.173049  ],\n",
       "       [2.8657424 ],\n",
       "       [0.1977902 ],\n",
       "       [2.596143  ],\n",
       "       [4.4405375 ],\n",
       "       [1.7455273 ],\n",
       "       [3.0659742 ],\n",
       "       [0.65679795]], dtype=float32)"
      ]
     },
     "execution_count": 13,
     "metadata": {},
     "output_type": "execute_result"
    }
   ],
   "source": [
    "#넘파이형식으로 예상치를 뽑아오기.\n",
    "\n",
    "prediction = model(torch.from_numpy(x_train)).detach().numpy()\n",
    "prediction "
   ]
  },
  {
   "cell_type": "code",
   "execution_count": 14,
   "id": "ac091809",
   "metadata": {},
   "outputs": [
    {
     "data": {
      "image/png": "[encoded data removed]",
      "text/plain": [
       "<Figure size 432x288 with 1 Axes>"
      ]
     },
     "metadata": {
      "needs_background": "light"
     },
     "output_type": "display_data"
    }
   ],
   "source": [
    "plt.plot(x_train,y_train,'yo',label=\"original dataset\")\n",
    "plt.plot(x_train,prediction,label=\"predicted line\")\n",
    "plt.legend()\n",
    "plt.show()"
   ]
  },
  {
   "cell_type": "markdown",
   "id": "0c5a3315",
   "metadata": {},
   "source": [
    "### Save the model checkpoint value"
   ]
  },
  {
   "cell_type": "code",
   "execution_count": null,
   "id": "22b23c59",
   "metadata": {},
   "outputs": [],
   "source": [
    "torch.save(model.state_dict(),\"model.ckpt\") #확장자명 ckpt "
   ]
  },
  {
   "cell_type": "code",
   "execution_count": 15,
   "id": "352487b1",
   "metadata": {},
   "outputs": [
    {
     "data": {
      "text/plain": [
       "array([[ 3.3  ],\n",
       "       [ 4.4  ],\n",
       "       [ 5.5  ],\n",
       "       [ 6.71 ],\n",
       "       [ 6.93 ],\n",
       "       [ 4.168],\n",
       "       [ 9.779],\n",
       "       [ 6.182],\n",
       "       [ 7.59 ],\n",
       "       [ 2.167],\n",
       "       [ 7.042],\n",
       "       [10.791],\n",
       "       [ 5.313],\n",
       "       [ 7.997],\n",
       "       [ 3.1  ]], dtype=float32)"
      ]
     },
     "execution_count": 15,
     "metadata": {},
     "output_type": "execute_result"
    }
   ],
   "source": []
  },
  {
   "cell_type": "code",
   "execution_count": null,
   "id": "20cb73db",
   "metadata": {},
   "outputs": [],
   "source": []
  },
  {
   "cell_type": "code",
   "execution_count": null,
   "id": "09c2e971",
   "metadata": {},
   "outputs": [],
   "source": []
  }
 ],
 "metadata": {
  "kernelspec": {
   "display_name": "Python 3",
   "language": "python",
   "name": "python3"
  },
  "language_info": {
   "codemirror_mode": {
    "name": "ipython",
    "version": 3
   },
   "file_extension": ".py",
   "mimetype": "text/x-python",
   "name": "python",
   "nbconvert_exporter": "python",
   "pygments_lexer": "ipython3",
   "version": "3.8.8"
  },
  "toc": {
   "base_numbering": 1,
   "nav_menu": {},
   "number_sections": true,
   "sideBar": true,
   "skip_h1_title": false,
   "title_cell": "Table of Contents",
   "title_sidebar": "Contents",
   "toc_cell": false,
   "toc_position": {},
   "toc_section_display": true,
   "toc_window_display": false
  }
 },
 "nbformat": 4,
 "nbformat_minor": 5
}
