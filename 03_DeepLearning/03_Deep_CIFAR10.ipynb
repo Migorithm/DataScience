{
 "cells": [
  {
   "cell_type": "code",
   "execution_count": 1,
   "id": "fe136f24",
   "metadata": {},
   "outputs": [],
   "source": [
    "import torch\n",
    "\n",
    "#image processing에 특화된 library\n",
    "import torchvision\n",
    "\n",
    "import torch.nn as nn\n",
    "\n",
    "import numpy as np\n",
    "\n",
    "#augmentation과 관련된 모듈 \n",
    "import torchvision.transforms as transforms\n",
    "\n",
    "\n",
    "import matplotlib.pyplot as plt"
   ]
  },
  {
   "cell_type": "markdown",
   "id": "17a7e0fa",
   "metadata": {},
   "source": [
    "### CIFAR10 DataSet Loading and Show Image\n",
    "\n",
    "#### Data loader\n",
    "- 물리적 저장위치 저장\n",
    "    - torchvision.datasets. ~~~\n",
    "        - train\n",
    "        - transform \n",
    "            - torchvision.transforms.ToTesntor()\n",
    "                - scaling\n",
    "                - type conversion\n",
    "                - channeling forwarding\n",
    "- 트레이닝 데이터셋, 테스트 데이터 셋 구분\n",
    "\n"
   ]
  },
  {
   "cell_type": "code",
   "execution_count": 2,
   "id": "939a5ee8",
   "metadata": {},
   "outputs": [
    {
     "name": "stdout",
     "output_type": "stream",
     "text": [
      "Files already downloaded and verified\n"
     ]
    }
   ],
   "source": [
    "#torchvision.datasets에는 기본적으로 처리가 용이한 (상대적으로) 데이터 셋이 내장되어있다.\n",
    "train_dataset= torchvision.datasets.CIFAR10(root=\"../../data/\",\n",
    "                             train=True, #train DataSet을 다운로드 받겠다는 의미.\n",
    "                             transform = transforms.ToTensor(),\n",
    "                             download=True\n",
    "                            )\n",
    "\n",
    "#ToTensor() -> \n",
    "#1)스케일링, \n",
    "#2)tensor타입 변환... \n",
    "#3)channel을 앞으로 보내준다."
   ]
  },
  {
   "cell_type": "markdown",
   "id": "defcbbfe",
   "metadata": {},
   "source": [
    "---\n",
    "\n",
    "위의 데이터를 잠시 살펴보자.\n",
    "\n",
    "---"
   ]
  },
  {
   "cell_type": "code",
   "execution_count": 3,
   "id": "1b22f550",
   "metadata": {},
   "outputs": [
    {
     "name": "stdout",
     "output_type": "stream",
     "text": [
      "(tensor([[[0.2314, 0.1686, 0.1961,  ..., 0.6196, 0.5961, 0.5804],\n",
      "         [0.0627, 0.0000, 0.0706,  ..., 0.4824, 0.4667, 0.4784],\n",
      "         [0.0980, 0.0627, 0.1922,  ..., 0.4627, 0.4706, 0.4275],\n",
      "         ...,\n",
      "         [0.8157, 0.7882, 0.7765,  ..., 0.6275, 0.2196, 0.2078],\n",
      "         [0.7059, 0.6784, 0.7294,  ..., 0.7216, 0.3804, 0.3255],\n",
      "         [0.6941, 0.6588, 0.7020,  ..., 0.8471, 0.5922, 0.4824]],\n",
      "\n",
      "        [[0.2431, 0.1804, 0.1882,  ..., 0.5176, 0.4902, 0.4863],\n",
      "         [0.0784, 0.0000, 0.0314,  ..., 0.3451, 0.3255, 0.3412],\n",
      "         [0.0941, 0.0275, 0.1059,  ..., 0.3294, 0.3294, 0.2863],\n",
      "         ...,\n",
      "         [0.6667, 0.6000, 0.6314,  ..., 0.5216, 0.1216, 0.1333],\n",
      "         [0.5451, 0.4824, 0.5647,  ..., 0.5804, 0.2431, 0.2078],\n",
      "         [0.5647, 0.5059, 0.5569,  ..., 0.7216, 0.4627, 0.3608]],\n",
      "\n",
      "        [[0.2471, 0.1765, 0.1686,  ..., 0.4235, 0.4000, 0.4039],\n",
      "         [0.0784, 0.0000, 0.0000,  ..., 0.2157, 0.1961, 0.2235],\n",
      "         [0.0824, 0.0000, 0.0314,  ..., 0.1961, 0.1961, 0.1647],\n",
      "         ...,\n",
      "         [0.3765, 0.1333, 0.1020,  ..., 0.2745, 0.0275, 0.0784],\n",
      "         [0.3765, 0.1647, 0.1176,  ..., 0.3686, 0.1333, 0.1333],\n",
      "         [0.4549, 0.3686, 0.3412,  ..., 0.5490, 0.3294, 0.2824]]]), 6)\n"
     ]
    }
   ],
   "source": [
    "#다운로드 받은 데이터중 하나를 출력해보자.\n",
    "\n",
    "print(train_dataset[0])\n",
    "\n",
    "#픽셀값의 범위가 0~255가 아니라 0~1사이의 출력되었다는 걸 확인.\n",
    "#scailing하였다.\n",
    "\n",
    "\n",
    "#6은 여기서 라벨을 의미한다. -> target!"
   ]
  },
  {
   "cell_type": "code",
   "execution_count": 4,
   "id": "faf18003",
   "metadata": {},
   "outputs": [
    {
     "name": "stdout",
     "output_type": "stream",
     "text": [
      "tensor([[[0.2314, 0.1686, 0.1961,  ..., 0.6196, 0.5961, 0.5804],\n",
      "         [0.0627, 0.0000, 0.0706,  ..., 0.4824, 0.4667, 0.4784],\n",
      "         [0.0980, 0.0627, 0.1922,  ..., 0.4627, 0.4706, 0.4275],\n",
      "         ...,\n",
      "         [0.8157, 0.7882, 0.7765,  ..., 0.6275, 0.2196, 0.2078],\n",
      "         [0.7059, 0.6784, 0.7294,  ..., 0.7216, 0.3804, 0.3255],\n",
      "         [0.6941, 0.6588, 0.7020,  ..., 0.8471, 0.5922, 0.4824]],\n",
      "\n",
      "        [[0.2431, 0.1804, 0.1882,  ..., 0.5176, 0.4902, 0.4863],\n",
      "         [0.0784, 0.0000, 0.0314,  ..., 0.3451, 0.3255, 0.3412],\n",
      "         [0.0941, 0.0275, 0.1059,  ..., 0.3294, 0.3294, 0.2863],\n",
      "         ...,\n",
      "         [0.6667, 0.6000, 0.6314,  ..., 0.5216, 0.1216, 0.1333],\n",
      "         [0.5451, 0.4824, 0.5647,  ..., 0.5804, 0.2431, 0.2078],\n",
      "         [0.5647, 0.5059, 0.5569,  ..., 0.7216, 0.4627, 0.3608]],\n",
      "\n",
      "        [[0.2471, 0.1765, 0.1686,  ..., 0.4235, 0.4000, 0.4039],\n",
      "         [0.0784, 0.0000, 0.0000,  ..., 0.2157, 0.1961, 0.2235],\n",
      "         [0.0824, 0.0000, 0.0314,  ..., 0.1961, 0.1961, 0.1647],\n",
      "         ...,\n",
      "         [0.3765, 0.1333, 0.1020,  ..., 0.2745, 0.0275, 0.0784],\n",
      "         [0.3765, 0.1647, 0.1176,  ..., 0.3686, 0.1333, 0.1333],\n",
      "         [0.4549, 0.3686, 0.3412,  ..., 0.5490, 0.3294, 0.2824]]]) <class 'torch.Tensor'>\n",
      "6 <class 'int'>\n"
     ]
    }
   ],
   "source": [
    "#image와 label을 나눠준다. 각각이 튜플안에 처리되어있으므로 간단하게 변수 두개로 지정할 수 있다. \n",
    "\n",
    "image,label = train_dataset[0]\n",
    "print(image,type(image))\n",
    "print(label,type(label))"
   ]
  },
  {
   "cell_type": "code",
   "execution_count": 5,
   "id": "1f48a12e",
   "metadata": {},
   "outputs": [
    {
     "name": "stdout",
     "output_type": "stream",
     "text": [
      "image.size(): torch.Size([3, 32, 32])\n"
     ]
    }
   ],
   "source": [
    "print(\"image.size():\",image.shape)"
   ]
  },
  {
   "cell_type": "code",
   "execution_count": 6,
   "id": "6461c57c",
   "metadata": {
    "scrolled": true
   },
   "outputs": [
    {
     "name": "stdout",
     "output_type": "stream",
     "text": [
      "****************************************\n",
      "(32, 32, 3)\n"
     ]
    },
    {
     "data": {
      "text/plain": [
       "<matplotlib.image.AxesImage at 0x20983da2730>"
      ]
     },
     "execution_count": 6,
     "metadata": {},
     "output_type": "execute_result"
    },
    {
     "data": {
      "image/png": "[encoded data removed]",
      "text/plain": [
       "<Figure size 432x288 with 1 Axes>"
      ]
     },
     "metadata": {
      "needs_background": "light"
     },
     "output_type": "display_data"
    }
   ],
   "source": [
    "print(\"*\"*40)\n",
    "image = image.numpy() #tensor array -> numpy array\n",
    "image = np.moveaxis(image,0,-1) #0번째에 있는 것을 맨 뒤로 옮긴다. (채널의 위치 변경)\n",
    "\n",
    "\n",
    "print(image.shape)\n",
    "plt.imshow(image) #image를 보여주기위함 "
   ]
  },
  {
   "cell_type": "markdown",
   "id": "402c25d0",
   "metadata": {},
   "source": [
    "---\n",
    "\n",
    "check 완료.\n",
    "\n",
    "---\n"
   ]
  },
  {
   "cell_type": "markdown",
   "id": "ae9aa825",
   "metadata": {},
   "source": [
    "#### 2단계 :::: BatchSize로 Loading"
   ]
  },
  {
   "cell_type": "code",
   "execution_count": 8,
   "id": "5a9a6740",
   "metadata": {},
   "outputs": [],
   "source": [
    "#dataset을 키워드 매개변수로 하고, 위에서 로딩한 train_dataset을 넣어준다.\n",
    "train_loader = torch.utils.data.DataLoader(dataset=train_dataset,\n",
    "                                           batch_size=64,\n",
    "                                           shuffle=True)\n",
    "\n",
    "#이 놈이 실제 모델로 들어가는 놈.\n",
    "\n",
    "#batch_size = 64  -> 무슨말인가?\n",
    "#현재 트레이닝 데이터 5만개. \n",
    "#64개씩 나눈다.  -> 781.25    ->  drop_last=False가 디폴트로 나머지 25장도 한번 더 돌려준다.\n",
    "\n",
    "#그리고 각 배치마다 새로운 로스를 구하고(L(W)) backwards...\n",
    "#"
   ]
  },
  {
   "cell_type": "code",
   "execution_count": 11,
   "id": "34b5d315",
   "metadata": {},
   "outputs": [
    {
     "name": "stdout",
     "output_type": "stream",
     "text": [
      "cnt 782\n"
     ]
    }
   ],
   "source": [
    "cnt =0 \n",
    "for images, labels in train_loader: \n",
    "    #모델 생성, \n",
    "    \n",
    "    #loss정의 ,\n",
    "    \n",
    "    \n",
    "    #optimization 정의, \n",
    "    \n",
    "    \n",
    "    #입력값  넣어 예측\n",
    "    \n",
    "    #lossfunction\n",
    "    \n",
    "    #backward\n",
    "    \n",
    "    #step을 진행한다...\n",
    "\n",
    "    cnt = cnt+1\n",
    "\n",
    "\n",
    "print(\"cnt\",cnt)\n"
   ]
  },
  {
   "cell_type": "code",
   "execution_count": null,
   "id": "10a9d057",
   "metadata": {},
   "outputs": [],
   "source": []
  },
  {
   "cell_type": "code",
   "execution_count": null,
   "id": "0a32b30d",
   "metadata": {},
   "outputs": [],
   "source": []
  },
  {
   "cell_type": "code",
   "execution_count": null,
   "id": "b21e662b",
   "metadata": {},
   "outputs": [],
   "source": []
  }
 ],
 "metadata": {
  "kernelspec": {
   "display_name": "Python 3",
   "language": "python",
   "name": "python3"
  },
  "language_info": {
   "codemirror_mode": {
    "name": "ipython",
    "version": 3
   },
   "file_extension": ".py",
   "mimetype": "text/x-python",
   "name": "python",
   "nbconvert_exporter": "python",
   "pygments_lexer": "ipython3",
   "version": "3.8.8"
  },
  "toc": {
   "base_numbering": 1,
   "nav_menu": {},
   "number_sections": true,
   "sideBar": true,
   "skip_h1_title": false,
   "title_cell": "Table of Contents",
   "title_sidebar": "Contents",
   "toc_cell": false,
   "toc_position": {},
   "toc_section_display": true,
   "toc_window_display": false
  }
 },
 "nbformat": 4,
 "nbformat_minor": 5
}
