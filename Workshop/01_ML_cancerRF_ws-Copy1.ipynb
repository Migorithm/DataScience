{
 "cells": [
  {
   "cell_type": "markdown",
   "metadata": {},
   "source": [
    "### Modules"
   ]
  },
  {
   "cell_type": "code",
   "execution_count": 1,
   "metadata": {},
   "outputs": [],
   "source": [
    "from sklearn.datasets import load_breast_cancer\n",
    "from sklearn.ensemble import RandomForestClassifier\n",
    "from sklearn.model_selection import train_test_split\n",
    "import matplotlib.pyplot as plt\n",
    "import numpy as np\n",
    "import pandas as pd\n"
   ]
  },
  {
   "cell_type": "code",
   "execution_count": 2,
   "metadata": {},
   "outputs": [],
   "source": [
    "cancer = load_breast_cancer()\n"
   ]
  },
  {
   "cell_type": "code",
   "execution_count": 3,
   "metadata": {
    "collapsed": true
   },
   "outputs": [
    {
     "data": {
      "text/plain": [
       "{'data': array([[1.799e+01, 1.038e+01, 1.228e+02, ..., 2.654e-01, 4.601e-01,\n",
       "         1.189e-01],\n",
       "        [2.057e+01, 1.777e+01, 1.329e+02, ..., 1.860e-01, 2.750e-01,\n",
       "         8.902e-02],\n",
       "        [1.969e+01, 2.125e+01, 1.300e+02, ..., 2.430e-01, 3.613e-01,\n",
       "         8.758e-02],\n",
       "        ...,\n",
       "        [1.660e+01, 2.808e+01, 1.083e+02, ..., 1.418e-01, 2.218e-01,\n",
       "         7.820e-02],\n",
       "        [2.060e+01, 2.933e+01, 1.401e+02, ..., 2.650e-01, 4.087e-01,\n",
       "         1.240e-01],\n",
       "        [7.760e+00, 2.454e+01, 4.792e+01, ..., 0.000e+00, 2.871e-01,\n",
       "         7.039e-02]]),\n",
       " 'target': array([0, 0, 0, 0, 0, 0, 0, 0, 0, 0, 0, 0, 0, 0, 0, 0, 0, 0, 0, 1, 1, 1,\n",
       "        0, 0, 0, 0, 0, 0, 0, 0, 0, 0, 0, 0, 0, 0, 0, 1, 0, 0, 0, 0, 0, 0,\n",
       "        0, 0, 1, 0, 1, 1, 1, 1, 1, 0, 0, 1, 0, 0, 1, 1, 1, 1, 0, 1, 0, 0,\n",
       "        1, 1, 1, 1, 0, 1, 0, 0, 1, 0, 1, 0, 0, 1, 1, 1, 0, 0, 1, 0, 0, 0,\n",
       "        1, 1, 1, 0, 1, 1, 0, 0, 1, 1, 1, 0, 0, 1, 1, 1, 1, 0, 1, 1, 0, 1,\n",
       "        1, 1, 1, 1, 1, 1, 1, 0, 0, 0, 1, 0, 0, 1, 1, 1, 0, 0, 1, 0, 1, 0,\n",
       "        0, 1, 0, 0, 1, 1, 0, 1, 1, 0, 1, 1, 1, 1, 0, 1, 1, 1, 1, 1, 1, 1,\n",
       "        1, 1, 0, 1, 1, 1, 1, 0, 0, 1, 0, 1, 1, 0, 0, 1, 1, 0, 0, 1, 1, 1,\n",
       "        1, 0, 1, 1, 0, 0, 0, 1, 0, 1, 0, 1, 1, 1, 0, 1, 1, 0, 0, 1, 0, 0,\n",
       "        0, 0, 1, 0, 0, 0, 1, 0, 1, 0, 1, 1, 0, 1, 0, 0, 0, 0, 1, 1, 0, 0,\n",
       "        1, 1, 1, 0, 1, 1, 1, 1, 1, 0, 0, 1, 1, 0, 1, 1, 0, 0, 1, 0, 1, 1,\n",
       "        1, 1, 0, 1, 1, 1, 1, 1, 0, 1, 0, 0, 0, 0, 0, 0, 0, 0, 0, 0, 0, 0,\n",
       "        0, 0, 1, 1, 1, 1, 1, 1, 0, 1, 0, 1, 1, 0, 1, 1, 0, 1, 0, 0, 1, 1,\n",
       "        1, 1, 1, 1, 1, 1, 1, 1, 1, 1, 1, 0, 1, 1, 0, 1, 0, 1, 1, 1, 1, 1,\n",
       "        1, 1, 1, 1, 1, 1, 1, 1, 1, 0, 1, 1, 1, 0, 1, 0, 1, 1, 1, 1, 0, 0,\n",
       "        0, 1, 1, 1, 1, 0, 1, 0, 1, 0, 1, 1, 1, 0, 1, 1, 1, 1, 1, 1, 1, 0,\n",
       "        0, 0, 1, 1, 1, 1, 1, 1, 1, 1, 1, 1, 1, 0, 0, 1, 0, 0, 0, 1, 0, 0,\n",
       "        1, 1, 1, 1, 1, 0, 1, 1, 1, 1, 1, 0, 1, 1, 1, 0, 1, 1, 0, 0, 1, 1,\n",
       "        1, 1, 1, 1, 0, 1, 1, 1, 1, 1, 1, 1, 0, 1, 1, 1, 1, 1, 0, 1, 1, 0,\n",
       "        1, 1, 1, 1, 1, 1, 1, 1, 1, 1, 1, 1, 0, 1, 0, 0, 1, 0, 1, 1, 1, 1,\n",
       "        1, 0, 1, 1, 0, 1, 0, 1, 1, 0, 1, 0, 1, 1, 1, 1, 1, 1, 1, 1, 0, 0,\n",
       "        1, 1, 1, 1, 1, 1, 0, 1, 1, 1, 1, 1, 1, 1, 1, 1, 1, 0, 1, 1, 1, 1,\n",
       "        1, 1, 1, 0, 1, 0, 1, 1, 0, 1, 1, 1, 1, 1, 0, 0, 1, 0, 1, 0, 1, 1,\n",
       "        1, 1, 1, 0, 1, 1, 0, 1, 0, 1, 0, 0, 1, 1, 1, 0, 1, 1, 1, 1, 1, 1,\n",
       "        1, 1, 1, 1, 1, 0, 1, 0, 0, 1, 1, 1, 1, 1, 1, 1, 1, 1, 1, 1, 1, 1,\n",
       "        1, 1, 1, 1, 1, 1, 1, 1, 1, 1, 1, 1, 0, 0, 0, 0, 0, 0, 1]),\n",
       " 'frame': None,\n",
       " 'target_names': array(['malignant', 'benign'], dtype='<U9'),\n",
       " 'DESCR': '.. _breast_cancer_dataset:\\n\\nBreast cancer wisconsin (diagnostic) dataset\\n--------------------------------------------\\n\\n**Data Set Characteristics:**\\n\\n    :Number of Instances: 569\\n\\n    :Number of Attributes: 30 numeric, predictive attributes and the class\\n\\n    :Attribute Information:\\n        - radius (mean of distances from center to points on the perimeter)\\n        - texture (standard deviation of gray-scale values)\\n        - perimeter\\n        - area\\n        - smoothness (local variation in radius lengths)\\n        - compactness (perimeter^2 / area - 1.0)\\n        - concavity (severity of concave portions of the contour)\\n        - concave points (number of concave portions of the contour)\\n        - symmetry\\n        - fractal dimension (\"coastline approximation\" - 1)\\n\\n        The mean, standard error, and \"worst\" or largest (mean of the three\\n        worst/largest values) of these features were computed for each image,\\n        resulting in 30 features.  For instance, field 0 is Mean Radius, field\\n        10 is Radius SE, field 20 is Worst Radius.\\n\\n        - class:\\n                - WDBC-Malignant\\n                - WDBC-Benign\\n\\n    :Summary Statistics:\\n\\n    ===================================== ====== ======\\n                                           Min    Max\\n    ===================================== ====== ======\\n    radius (mean):                        6.981  28.11\\n    texture (mean):                       9.71   39.28\\n    perimeter (mean):                     43.79  188.5\\n    area (mean):                          143.5  2501.0\\n    smoothness (mean):                    0.053  0.163\\n    compactness (mean):                   0.019  0.345\\n    concavity (mean):                     0.0    0.427\\n    concave points (mean):                0.0    0.201\\n    symmetry (mean):                      0.106  0.304\\n    fractal dimension (mean):             0.05   0.097\\n    radius (standard error):              0.112  2.873\\n    texture (standard error):             0.36   4.885\\n    perimeter (standard error):           0.757  21.98\\n    area (standard error):                6.802  542.2\\n    smoothness (standard error):          0.002  0.031\\n    compactness (standard error):         0.002  0.135\\n    concavity (standard error):           0.0    0.396\\n    concave points (standard error):      0.0    0.053\\n    symmetry (standard error):            0.008  0.079\\n    fractal dimension (standard error):   0.001  0.03\\n    radius (worst):                       7.93   36.04\\n    texture (worst):                      12.02  49.54\\n    perimeter (worst):                    50.41  251.2\\n    area (worst):                         185.2  4254.0\\n    smoothness (worst):                   0.071  0.223\\n    compactness (worst):                  0.027  1.058\\n    concavity (worst):                    0.0    1.252\\n    concave points (worst):               0.0    0.291\\n    symmetry (worst):                     0.156  0.664\\n    fractal dimension (worst):            0.055  0.208\\n    ===================================== ====== ======\\n\\n    :Missing Attribute Values: None\\n\\n    :Class Distribution: 212 - Malignant, 357 - Benign\\n\\n    :Creator:  Dr. William H. Wolberg, W. Nick Street, Olvi L. Mangasarian\\n\\n    :Donor: Nick Street\\n\\n    :Date: November, 1995\\n\\nThis is a copy of UCI ML Breast Cancer Wisconsin (Diagnostic) datasets.\\nhttps://goo.gl/U2Uwz2\\n\\nFeatures are computed from a digitized image of a fine needle\\naspirate (FNA) of a breast mass.  They describe\\ncharacteristics of the cell nuclei present in the image.\\n\\nSeparating plane described above was obtained using\\nMultisurface Method-Tree (MSM-T) [K. P. Bennett, \"Decision Tree\\nConstruction Via Linear Programming.\" Proceedings of the 4th\\nMidwest Artificial Intelligence and Cognitive Science Society,\\npp. 97-101, 1992], a classification method which uses linear\\nprogramming to construct a decision tree.  Relevant features\\nwere selected using an exhaustive search in the space of 1-4\\nfeatures and 1-3 separating planes.\\n\\nThe actual linear program used to obtain the separating plane\\nin the 3-dimensional space is that described in:\\n[K. P. Bennett and O. L. Mangasarian: \"Robust Linear\\nProgramming Discrimination of Two Linearly Inseparable Sets\",\\nOptimization Methods and Software 1, 1992, 23-34].\\n\\nThis database is also available through the UW CS ftp server:\\n\\nftp ftp.cs.wisc.edu\\ncd math-prog/cpo-dataset/machine-learn/WDBC/\\n\\n.. topic:: References\\n\\n   - W.N. Street, W.H. Wolberg and O.L. Mangasarian. Nuclear feature extraction \\n     for breast tumor diagnosis. IS&T/SPIE 1993 International Symposium on \\n     Electronic Imaging: Science and Technology, volume 1905, pages 861-870,\\n     San Jose, CA, 1993.\\n   - O.L. Mangasarian, W.N. Street and W.H. Wolberg. Breast cancer diagnosis and \\n     prognosis via linear programming. Operations Research, 43(4), pages 570-577, \\n     July-August 1995.\\n   - W.H. Wolberg, W.N. Street, and O.L. Mangasarian. Machine learning techniques\\n     to diagnose breast cancer from fine-needle aspirates. Cancer Letters 77 (1994) \\n     163-171.',\n",
       " 'feature_names': array(['mean radius', 'mean texture', 'mean perimeter', 'mean area',\n",
       "        'mean smoothness', 'mean compactness', 'mean concavity',\n",
       "        'mean concave points', 'mean symmetry', 'mean fractal dimension',\n",
       "        'radius error', 'texture error', 'perimeter error', 'area error',\n",
       "        'smoothness error', 'compactness error', 'concavity error',\n",
       "        'concave points error', 'symmetry error',\n",
       "        'fractal dimension error', 'worst radius', 'worst texture',\n",
       "        'worst perimeter', 'worst area', 'worst smoothness',\n",
       "        'worst compactness', 'worst concavity', 'worst concave points',\n",
       "        'worst symmetry', 'worst fractal dimension'], dtype='<U23'),\n",
       " 'filename': 'C:\\\\anaconda3\\\\lib\\\\site-packages\\\\sklearn\\\\datasets\\\\data\\\\breast_cancer.csv'}"
      ]
     },
     "execution_count": 3,
     "metadata": {},
     "output_type": "execute_result"
    }
   ],
   "source": [
    "cancer"
   ]
  },
  {
   "cell_type": "markdown",
   "metadata": {},
   "source": [
    "### Dataframe visualization"
   ]
  },
  {
   "cell_type": "code",
   "execution_count": 4,
   "metadata": {
    "scrolled": true
   },
   "outputs": [
    {
     "data": {
      "text/html": [
       "<div>\n",
       "<style scoped>\n",
       "    .dataframe tbody tr th:only-of-type {\n",
       "        vertical-align: middle;\n",
       "    }\n",
       "\n",
       "    .dataframe tbody tr th {\n",
       "        vertical-align: top;\n",
       "    }\n",
       "\n",
       "    .dataframe thead th {\n",
       "        text-align: right;\n",
       "    }\n",
       "</style>\n",
       "<table border=\"1\" class=\"dataframe\">\n",
       "  <thead>\n",
       "    <tr style=\"text-align: right;\">\n",
       "      <th></th>\n",
       "      <th>mean radius</th>\n",
       "      <th>mean texture</th>\n",
       "      <th>mean perimeter</th>\n",
       "      <th>mean area</th>\n",
       "      <th>mean smoothness</th>\n",
       "      <th>mean compactness</th>\n",
       "      <th>mean concavity</th>\n",
       "      <th>mean concave points</th>\n",
       "      <th>mean symmetry</th>\n",
       "      <th>mean fractal dimension</th>\n",
       "      <th>...</th>\n",
       "      <th>worst radius</th>\n",
       "      <th>worst texture</th>\n",
       "      <th>worst perimeter</th>\n",
       "      <th>worst area</th>\n",
       "      <th>worst smoothness</th>\n",
       "      <th>worst compactness</th>\n",
       "      <th>worst concavity</th>\n",
       "      <th>worst concave points</th>\n",
       "      <th>worst symmetry</th>\n",
       "      <th>worst fractal dimension</th>\n",
       "    </tr>\n",
       "  </thead>\n",
       "  <tbody>\n",
       "    <tr>\n",
       "      <th>0</th>\n",
       "      <td>17.99</td>\n",
       "      <td>10.38</td>\n",
       "      <td>122.8</td>\n",
       "      <td>1001.0</td>\n",
       "      <td>0.11840</td>\n",
       "      <td>0.27760</td>\n",
       "      <td>0.3001</td>\n",
       "      <td>0.14710</td>\n",
       "      <td>0.2419</td>\n",
       "      <td>0.07871</td>\n",
       "      <td>...</td>\n",
       "      <td>25.38</td>\n",
       "      <td>17.33</td>\n",
       "      <td>184.6</td>\n",
       "      <td>2019.0</td>\n",
       "      <td>0.1622</td>\n",
       "      <td>0.6656</td>\n",
       "      <td>0.7119</td>\n",
       "      <td>0.2654</td>\n",
       "      <td>0.4601</td>\n",
       "      <td>0.11890</td>\n",
       "    </tr>\n",
       "    <tr>\n",
       "      <th>1</th>\n",
       "      <td>20.57</td>\n",
       "      <td>17.77</td>\n",
       "      <td>132.9</td>\n",
       "      <td>1326.0</td>\n",
       "      <td>0.08474</td>\n",
       "      <td>0.07864</td>\n",
       "      <td>0.0869</td>\n",
       "      <td>0.07017</td>\n",
       "      <td>0.1812</td>\n",
       "      <td>0.05667</td>\n",
       "      <td>...</td>\n",
       "      <td>24.99</td>\n",
       "      <td>23.41</td>\n",
       "      <td>158.8</td>\n",
       "      <td>1956.0</td>\n",
       "      <td>0.1238</td>\n",
       "      <td>0.1866</td>\n",
       "      <td>0.2416</td>\n",
       "      <td>0.1860</td>\n",
       "      <td>0.2750</td>\n",
       "      <td>0.08902</td>\n",
       "    </tr>\n",
       "    <tr>\n",
       "      <th>2</th>\n",
       "      <td>19.69</td>\n",
       "      <td>21.25</td>\n",
       "      <td>130.0</td>\n",
       "      <td>1203.0</td>\n",
       "      <td>0.10960</td>\n",
       "      <td>0.15990</td>\n",
       "      <td>0.1974</td>\n",
       "      <td>0.12790</td>\n",
       "      <td>0.2069</td>\n",
       "      <td>0.05999</td>\n",
       "      <td>...</td>\n",
       "      <td>23.57</td>\n",
       "      <td>25.53</td>\n",
       "      <td>152.5</td>\n",
       "      <td>1709.0</td>\n",
       "      <td>0.1444</td>\n",
       "      <td>0.4245</td>\n",
       "      <td>0.4504</td>\n",
       "      <td>0.2430</td>\n",
       "      <td>0.3613</td>\n",
       "      <td>0.08758</td>\n",
       "    </tr>\n",
       "  </tbody>\n",
       "</table>\n",
       "<p>3 rows × 30 columns</p>\n",
       "</div>"
      ],
      "text/plain": [
       "   mean radius  mean texture  mean perimeter  mean area  mean smoothness  \\\n",
       "0        17.99         10.38           122.8     1001.0          0.11840   \n",
       "1        20.57         17.77           132.9     1326.0          0.08474   \n",
       "2        19.69         21.25           130.0     1203.0          0.10960   \n",
       "\n",
       "   mean compactness  mean concavity  mean concave points  mean symmetry  \\\n",
       "0           0.27760          0.3001              0.14710         0.2419   \n",
       "1           0.07864          0.0869              0.07017         0.1812   \n",
       "2           0.15990          0.1974              0.12790         0.2069   \n",
       "\n",
       "   mean fractal dimension  ...  worst radius  worst texture  worst perimeter  \\\n",
       "0                 0.07871  ...         25.38          17.33            184.6   \n",
       "1                 0.05667  ...         24.99          23.41            158.8   \n",
       "2                 0.05999  ...         23.57          25.53            152.5   \n",
       "\n",
       "   worst area  worst smoothness  worst compactness  worst concavity  \\\n",
       "0      2019.0            0.1622             0.6656           0.7119   \n",
       "1      1956.0            0.1238             0.1866           0.2416   \n",
       "2      1709.0            0.1444             0.4245           0.4504   \n",
       "\n",
       "   worst concave points  worst symmetry  worst fractal dimension  \n",
       "0                0.2654          0.4601                  0.11890  \n",
       "1                0.1860          0.2750                  0.08902  \n",
       "2                0.2430          0.3613                  0.08758  \n",
       "\n",
       "[3 rows x 30 columns]"
      ]
     },
     "execution_count": 4,
     "metadata": {},
     "output_type": "execute_result"
    }
   ],
   "source": [
    "#### feature를 컬럼으로 DataFrame 생성\n",
    "data_df = pd.DataFrame(cancer.data,columns=cancer.feature_names)\n",
    "data_df.head(3)"
   ]
  },
  {
   "cell_type": "markdown",
   "metadata": {},
   "source": [
    "### Data split and shuffle"
   ]
  },
  {
   "cell_type": "code",
   "execution_count": 6,
   "metadata": {},
   "outputs": [],
   "source": [
    "## train_test_split 함수를 이용해서 cancer와 target을 섞는다..비율은 8:2 , random_state = 0\n",
    "\n",
    "## RandomForestClassifier 모델 생성(모델명 forest). 결정트리갯수는 100\n",
    "\n",
    "## 학습시킴\n",
    "X_train, X_test, y_train,y_test = train_test_split(cancer.data,cancer.target,test_size=0.2,random_state=0)"
   ]
  },
  {
   "cell_type": "markdown",
   "metadata": {},
   "source": [
    "### Generating and training model "
   ]
  },
  {
   "cell_type": "code",
   "execution_count": 49,
   "metadata": {
    "scrolled": true
   },
   "outputs": [
    {
     "data": {
      "text/plain": [
       "RandomForestClassifier(max_depth=4, max_features=11, random_state=2)"
      ]
     },
     "execution_count": 49,
     "metadata": {},
     "output_type": "execute_result"
    }
   ],
   "source": [
    "forest = RandomForestClassifier(n_estimators=100,max_depth=4,max_features=11,random_state=2)\n",
    "forest.fit(X_train,y_train)"
   ]
  },
  {
   "cell_type": "markdown",
   "metadata": {},
   "source": [
    "### Accuracy validation"
   ]
  },
  {
   "cell_type": "code",
   "execution_count": 50,
   "metadata": {
    "scrolled": true
   },
   "outputs": [
    {
     "name": "stdout",
     "output_type": "stream",
     "text": [
      "Training DataSet Accuracy 0.991\n",
      "Test DataSet Accuracy 0.982\n"
     ]
    }
   ],
   "source": [
    "## Training DataSet Accuracy, Test DataSet Accuracy를 출력함\n",
    "\n",
    "#훈련데이터 정확도 검증 through model.score()\n",
    "print(\"Training DataSet Accuracy {}\".format(round(forest.score(X_train,y_train),3)))\n",
    "#테스트 정확도 검증 through model.score()\n",
    "print(\"Test DataSet Accuracy {}\".format(round(forest.score(X_test,y_test),3)))\n",
    "\n",
    "\n",
    "\n",
    "# prediction = forest.predict(X_test)\n",
    "# from sklearn.metrics import accuracy_score\n",
    "# print(accuracy_score(prediction,y_test))"
   ]
  },
  {
   "cell_type": "code",
   "execution_count": 38,
   "metadata": {
    "scrolled": true
   },
   "outputs": [
    {
     "name": "stdout",
     "output_type": "stream",
     "text": [
      "when i is... : 1\n",
      "Test DataSet Accuracy 0.9649122807017544\n",
      "------------------------------------------------------------------------------------------\n",
      "when i is... : 2\n",
      "Test DataSet Accuracy 0.9736842105263158\n",
      "------------------------------------------------------------------------------------------\n",
      "when i is... : 3\n",
      "Test DataSet Accuracy 0.9824561403508771\n",
      "------------------------------------------------------------------------------------------\n",
      "when i is... : 4\n",
      "Test DataSet Accuracy 0.9824561403508771\n",
      "------------------------------------------------------------------------------------------\n",
      "when i is... : 5\n",
      "Test DataSet Accuracy 0.9824561403508771\n",
      "------------------------------------------------------------------------------------------\n",
      "when i is... : 6\n",
      "Test DataSet Accuracy 0.9824561403508771\n",
      "------------------------------------------------------------------------------------------\n",
      "when i is... : 7\n",
      "Test DataSet Accuracy 0.9736842105263158\n",
      "------------------------------------------------------------------------------------------\n",
      "when i is... : 8\n",
      "Test DataSet Accuracy 0.9824561403508771\n",
      "------------------------------------------------------------------------------------------\n",
      "when i is... : 9\n",
      "Test DataSet Accuracy 0.9824561403508771\n",
      "------------------------------------------------------------------------------------------\n",
      "when i is... : 10\n",
      "Test DataSet Accuracy 0.9824561403508771\n",
      "------------------------------------------------------------------------------------------\n",
      "when i is... : 11\n",
      "Test DataSet Accuracy 0.9824561403508771\n",
      "------------------------------------------------------------------------------------------\n",
      "when i is... : 12\n",
      "Test DataSet Accuracy 0.9824561403508771\n",
      "------------------------------------------------------------------------------------------\n",
      "when i is... : 13\n",
      "Test DataSet Accuracy 0.9824561403508771\n",
      "------------------------------------------------------------------------------------------\n",
      "when i is... : 14\n",
      "Test DataSet Accuracy 0.9824561403508771\n",
      "------------------------------------------------------------------------------------------\n",
      "when i is... : 15\n",
      "Test DataSet Accuracy 0.9824561403508771\n",
      "------------------------------------------------------------------------------------------\n",
      "when i is... : 16\n",
      "Test DataSet Accuracy 0.9824561403508771\n",
      "------------------------------------------------------------------------------------------\n",
      "when i is... : 17\n",
      "Test DataSet Accuracy 0.9824561403508771\n",
      "------------------------------------------------------------------------------------------\n",
      "when i is... : 18\n",
      "Test DataSet Accuracy 0.9824561403508771\n",
      "------------------------------------------------------------------------------------------\n",
      "when i is... : 19\n",
      "Test DataSet Accuracy 0.9824561403508771\n",
      "------------------------------------------------------------------------------------------\n",
      "when i is... : 20\n",
      "Test DataSet Accuracy 0.9824561403508771\n",
      "------------------------------------------------------------------------------------------\n",
      "when i is... : 21\n",
      "Test DataSet Accuracy 0.9824561403508771\n",
      "------------------------------------------------------------------------------------------\n",
      "when i is... : 22\n",
      "Test DataSet Accuracy 0.9824561403508771\n",
      "------------------------------------------------------------------------------------------\n",
      "when i is... : 23\n",
      "Test DataSet Accuracy 0.9824561403508771\n",
      "------------------------------------------------------------------------------------------\n",
      "when i is... : 24\n",
      "Test DataSet Accuracy 0.9824561403508771\n",
      "------------------------------------------------------------------------------------------\n",
      "when i is... : 25\n",
      "Test DataSet Accuracy 0.9824561403508771\n",
      "------------------------------------------------------------------------------------------\n",
      "when i is... : 26\n",
      "Test DataSet Accuracy 0.9824561403508771\n",
      "------------------------------------------------------------------------------------------\n",
      "when i is... : 27\n",
      "Test DataSet Accuracy 0.9824561403508771\n",
      "------------------------------------------------------------------------------------------\n",
      "when i is... : 28\n",
      "Test DataSet Accuracy 0.9824561403508771\n",
      "------------------------------------------------------------------------------------------\n",
      "when i is... : 29\n",
      "Test DataSet Accuracy 0.9824561403508771\n",
      "------------------------------------------------------------------------------------------\n"
     ]
    }
   ],
   "source": [
    "## 하이퍼 파라미터값을 지정...오버핏팅이 줄어들고 정확도가 올라가는 값으로 지정하자\n",
    "## 데이타의 단순성 때문에 Test 정확도가 함께 내려갈 가능성도 있음\n",
    "## max_features=11!\n",
    "## max_depth=4\n",
    "\n",
    "for i in range(1,30):\n",
    "    print(\"when i is... :\", i)\n",
    "    forest = RandomForestClassifier(n_estimators=100,max_features=11,max_depth=i,random_state=2,n_jobs=-1)\n",
    "    forest.fit(X_train,y_train)\n",
    "    print(\"Test DataSet Accuracy {}\".format(forest.score(X_test,y_test)))\n",
    "    \n",
    "    print(\"---\"*30)\n"
   ]
  },
  {
   "cell_type": "markdown",
   "metadata": {},
   "source": [
    "### 특성중요도 확인"
   ]
  },
  {
   "cell_type": "code",
   "execution_count": 53,
   "metadata": {},
   "outputs": [
    {
     "name": "stdout",
     "output_type": "stream",
     "text": [
      "특성 중요도: \n",
      "[0.01695138 0.01993049 0.00757414 0.02700886 0.0028045  0.00304954\n",
      " 0.03120045 0.14020343 0.00337061 0.00236311 0.00536564 0.00394243\n",
      " 0.00701685 0.0119604  0.00129923 0.00129767 0.00293445 0.00199468\n",
      " 0.0028159  0.00479801 0.18869037 0.0167034  0.15134288 0.1246932\n",
      " 0.00871723 0.01045486 0.0158688  0.17408377 0.00881476 0.00274895]\n"
     ]
    }
   ],
   "source": [
    "# 특성 중요도 출력하기\n",
    "print(\"특성 중요도: \\n{}\".format(forest.feature_importances_))"
   ]
  },
  {
   "cell_type": "code",
   "execution_count": 82,
   "metadata": {},
   "outputs": [
    {
     "data": {
      "text/plain": [
       "array(['mean radius', 'mean texture', 'mean perimeter', 'mean area',\n",
       "       'mean smoothness', 'mean compactness', 'mean concavity',\n",
       "       'mean concave points', 'mean symmetry', 'mean fractal dimension',\n",
       "       'radius error', 'texture error', 'perimeter error', 'area error',\n",
       "       'smoothness error', 'compactness error', 'concavity error',\n",
       "       'concave points error', 'symmetry error',\n",
       "       'fractal dimension error', 'worst radius', 'worst texture',\n",
       "       'worst perimeter', 'worst area', 'worst smoothness',\n",
       "       'worst compactness', 'worst concavity', 'worst concave points',\n",
       "       'worst symmetry', 'worst fractal dimension'], dtype='<U23')"
      ]
     },
     "execution_count": 82,
     "metadata": {},
     "output_type": "execute_result"
    }
   ],
   "source": [
    "cancer.feature_names"
   ]
  },
  {
   "cell_type": "markdown",
   "metadata": {},
   "source": [
    "#### 특성중요도 시각화"
   ]
  },
  {
   "cell_type": "code",
   "execution_count": 91,
   "metadata": {},
   "outputs": [
    {
     "data": {
      "image/png": "[encoded data removed]",
      "text/plain": [
       "<Figure size 936x504 with 1 Axes>"
      ]
     },
     "metadata": {
      "needs_background": "light"
     },
     "output_type": "display_data"
    }
   ],
   "source": [
    "## 특성 중요도를 시각화하자.\n",
    "\n",
    "plt.figure(figsize=(13,7))\n",
    "#plt.barh(np.arange(len(forest.feature_importances_)),forest.feature_importances_)\n",
    "\n",
    "#첫번째 매개인자 y는 \n",
    "plt.barh(cancer.feature_names,forest.feature_importances_)\n",
    "\n",
    "\n",
    "#plt.yticks(range(30),cancer.feature_names)\n",
    "plt.show()"
   ]
  },
  {
   "cell_type": "code",
   "execution_count": 9,
   "metadata": {},
   "outputs": [
    {
     "name": "stdout",
     "output_type": "stream",
     "text": [
      "특성 중요도:\n",
      "[0.82743395 0.17256605]\n"
     ]
    }
   ],
   "source": [
    "# 특성 중요도 출력하기"
   ]
  },
  {
   "cell_type": "code",
   "execution_count": 161,
   "metadata": {
    "scrolled": true
   },
   "outputs": [
    {
     "data": {
      "image/png": "[encoded data removed]",
      "text/plain": [
       "<Figure size 720x360 with 1 Axes>"
      ]
     },
     "metadata": {
      "needs_background": "light"
     },
     "output_type": "display_data"
    }
   ],
   "source": [
    "# 중요도 순으로 졍렬해서 시각화\n",
    "dictionary = {key:value for key,value in zip(cancer.feature_names,forest.feature_importances_)}\n",
    "datae = pd.Series(dictionary)\n",
    "\n",
    "plt.figure(figsize=(10,5))\n",
    "a = datae.sort_values(ascending=True).tail(10).values #여기서 이름때고, 값때고 ?\n",
    "b = datae.sort_values(ascending=True).tail(10).index\n",
    "#수작업...\n",
    "plt.barh(b,a, color=['#8fd9b6','#8fd3d9','#887fc7','#949260','#bdac82','#a88379','#a379a8','#a665a1','#657ea6','#6ea665'])\n",
    "\n",
    "plt.show()\n",
    "\n",
    "\n"
   ]
  },
  {
   "cell_type": "markdown",
   "metadata": {},
   "source": [
    "### GridSearch를 사용해서 하이퍼 파라미터값 중에서 최적의 값을 찾아보자\n",
    "<pre>\n",
    "params = {\n",
    "    'n_estimators':[100],\n",
    "    'max_depth' : [6, 8, 10, 12], \n",
    "    'min_samples_leaf' : [8, 12, 18 ],\n",
    "    'n_estimators' : [10,50,100]\n",
    "}\n",
    "</pre>"
   ]
  },
  {
   "cell_type": "code",
   "execution_count": 163,
   "metadata": {
    "scrolled": false
   },
   "outputs": [
    {
     "name": "stdout",
     "output_type": "stream",
     "text": [
      "Grid search를 통해 얻은 파라미터를 통한 예측률: \n",
      "\n"
     ]
    }
   ],
   "source": [
    "from sklearn.model_selection import GridSearchCV\n",
    "#grid 서치를 위한 모듈\n",
    "\n",
    "from sklearn.model_selection import KFold\n",
    "#k-fold \n",
    "#데이터셋의 양이 부족할때, 트레이닝 데이터의 일부를 테스트 셋으로 돌려 validation작업을 하기 위한 KFold\n",
    "forest = RandomForestClassifier(random_state=11)\n",
    "\n",
    "#parameter로 쓸 값들\n",
    "params = {\n",
    "    'n_estimators' : [10,50,100],\n",
    "    'max_depth' : [6, 8, 10, 12], \n",
    "    'min_samples_leaf' : [8, 12, 18 ],\n",
    "    'max_features':[1,5,7,11]\n",
    "}\n",
    "\n",
    "kf = KFold(random_state=30,\n",
    "           n_splits=10,\n",
    "           shuffle=True\n",
    "          )\n",
    "grid = GridSearchCV(estimator=forest,\n",
    "                    param_grid=params,\n",
    "                    cv=kf)\n",
    "\n",
    "grid.fit(X_train,y_train)\n",
    "\n",
    "print(\"Grid search를 통해 얻은 파라미터를 통한 예측률 ! \\n : {}\".format(grid.score(X_test,y_test)))"
   ]
  },
  {
   "cell_type": "markdown",
   "metadata": {},
   "source": [
    "#### GridSearch CV 테스트 결과"
   ]
  },
  {
   "cell_type": "code",
   "execution_count": 164,
   "metadata": {},
   "outputs": [
    {
     "name": "stdout",
     "output_type": "stream",
     "text": [
      "0.9473684210526315\n"
     ]
    }
   ],
   "source": [
    "print(grid.score(X_test,y_test))"
   ]
  },
  {
   "cell_type": "code",
   "execution_count": 165,
   "metadata": {
    "scrolled": true
   },
   "outputs": [
    {
     "data": {
      "text/plain": [
       "RandomForestClassifier(max_depth=6, max_features=1, min_samples_leaf=8,\n",
       "                       n_estimators=50, random_state=11)"
      ]
     },
     "execution_count": 165,
     "metadata": {},
     "output_type": "execute_result"
    }
   ],
   "source": [
    "#그리드는 어떤 놈들을 골랐을까?\n",
    "grid.best_estimator_"
   ]
  },
  {
   "cell_type": "code",
   "execution_count": 167,
   "metadata": {
    "scrolled": false
   },
   "outputs": [
    {
     "data": {
      "text/plain": [
       "0.9514975845410628"
      ]
     },
     "execution_count": 167,
     "metadata": {},
     "output_type": "execute_result"
    }
   ],
   "source": [
    "#훈련상 점수\n",
    "grid.best_score_"
   ]
  },
  {
   "cell_type": "code",
   "execution_count": 180,
   "metadata": {
    "scrolled": true
   },
   "outputs": [
    {
     "name": "stdout",
     "output_type": "stream",
     "text": [
      "max_depth=1 정확도 : 0.9649122807017544\n",
      "max_depth=3 정확도 : 0.9649122807017544\n",
      "max_depth=4 정확도 : 0.9649122807017544\n",
      "max_depth=6 정확도 : 0.9649122807017544\n",
      "max_depth=10 정확도 : 0.9736842105263158\n",
      "max_depth=15 정확도 : 0.9736842105263158\n"
     ]
    }
   ],
   "source": [
    "# max_depths = [1,3,4,6,10,15] 값이 변화됨에 따라서 정확도가 커지는 관계를 출력해보자\n",
    "\n",
    "max_depths = [1,3,4,6,10,15]\n",
    "\n",
    "for i in max_depths:\n",
    "    #model 지정\n",
    "    forest = RandomForestClassifier(max_depth=i,max_features='auto',random_state=100)\n",
    "    #model 학습\n",
    "    forest.fit(X_train,y_train)\n",
    "    #model 평가\n",
    "    \n",
    "    print(f\"max_depth={i} 정확도 : {forest.score(X_test,y_test)}\")\n",
    "    \n",
    "#실시간 학습?\n"
   ]
  },
  {
   "cell_type": "markdown",
   "metadata": {},
   "source": [
    "### Accuracy, precision, recall validation\n",
    "<span style =\"color:#8fd9b6\">-> confusion_matrix </span>"
   ]
  },
  {
   "cell_type": "code",
   "execution_count": 184,
   "metadata": {
    "scrolled": true
   },
   "outputs": [
    {
     "data": {
      "text/plain": [
       "array([[46,  3],\n",
       "       [ 1, 64]], dtype=int64)"
      ]
     },
     "execution_count": 184,
     "metadata": {},
     "output_type": "execute_result"
    }
   ],
   "source": [
    "from sklearn.metrics import confusion_matrix\n",
    "\n",
    "cfs = confusion_matrix(prediction,y_test)\n",
    "cfs"
   ]
  },
  {
   "cell_type": "code",
   "execution_count": 197,
   "metadata": {},
   "outputs": [
    {
     "data": {
      "text/html": [
       "<div>\n",
       "<style scoped>\n",
       "    .dataframe tbody tr th:only-of-type {\n",
       "        vertical-align: middle;\n",
       "    }\n",
       "\n",
       "    .dataframe tbody tr th {\n",
       "        vertical-align: top;\n",
       "    }\n",
       "\n",
       "    .dataframe thead th {\n",
       "        text-align: right;\n",
       "    }\n",
       "</style>\n",
       "<table border=\"1\" class=\"dataframe\">\n",
       "  <thead>\n",
       "    <tr style=\"text-align: right;\">\n",
       "      <th></th>\n",
       "      <th>malignant</th>\n",
       "      <th>benign</th>\n",
       "    </tr>\n",
       "  </thead>\n",
       "  <tbody>\n",
       "    <tr>\n",
       "      <th>malignant</th>\n",
       "      <td>46</td>\n",
       "      <td>3</td>\n",
       "    </tr>\n",
       "    <tr>\n",
       "      <th>benign</th>\n",
       "      <td>1</td>\n",
       "      <td>64</td>\n",
       "    </tr>\n",
       "  </tbody>\n",
       "</table>\n",
       "</div>"
      ],
      "text/plain": [
       "           malignant  benign\n",
       "malignant         46       3\n",
       "benign             1      64"
      ]
     },
     "execution_count": 197,
     "metadata": {},
     "output_type": "execute_result"
    }
   ],
   "source": [
    "pd.DataFrame(cfs,index=cancer.target_names,columns=cancer.target_names)"
   ]
  },
  {
   "cell_type": "code",
   "execution_count": 194,
   "metadata": {},
   "outputs": [
    {
     "name": "stdout",
     "output_type": "stream",
     "text": [
      "0.9649122807017544\n",
      "0.9649122807017544\n",
      "정밀도 분석결과 : 0.9787234042553191\n",
      "재현성 분석결과 : 0.9387755102040817\n"
     ]
    }
   ],
   "source": [
    "#정확도 손수 구하기\n",
    "accuracy_by_hand = (cfs[0][0]+cfs[1][1])/cfs.sum()\n",
    "\n",
    "print(accuracy)\n",
    "print(accuracy_score(prediction,y_test))\n",
    "\n",
    "#정밀도 구하기\n",
    "#사실인데 사실이라고 한 것 /거짓인데 사실이라고 한것 +사실인데 사실이라고 한것 \n",
    "precision = cfs[0][0] / (cfs[0][0]+cfs[1][0])\n",
    "print(\"정밀도 분석결과 : {}\".format(precision)) #이는 사실인 경우를 알 때만 구할 수 있음. 즉, y_test가 있어야 가능.\n",
    "#정밀도가 낮다?\n",
    "#거짓인데 사실이라고 한 것이 많다. \n",
    "#암을 예를 들어서, 암이 아닌데 암이라고 하였다. -> 암인데 암이 아니라고 하는 것보다는 훨씬 좋다. \n",
    "\n",
    "\n",
    "\n",
    "#재현성 구하기\n",
    "#사실인데 사실이라고 한 것 / 사실인데 거짓이라고 한 것 + 사실인데 사실이라고 한 것\n",
    "recall = cfs[0][0] / (cfs[0][0]+cfs[0][1])\n",
    "print(\"재현성 분석결과 : {}\".format(recall))\n"
   ]
  },
  {
   "cell_type": "markdown",
   "metadata": {},
   "source": [
    "### Lesson learned\n",
    "\n",
    "#### 정밀도\n",
    "* 정밀도가 낮다?\n",
    "    * 거짓인데 사실이라고 한 것이 많다. \n",
    "    * <span style= \"color:pink\">\"암일 확률\"</span>에 대한 정밀도라고 했을때를 예로 들면 암이 아닌데 암이라고 하는 경우. \n",
    "        * 암인데 암이 아니라고 하는 것보다는 훨씬 좋다. \n",
    "        \n",
    "    * <span style= \"color:pink\">그러나 \"암이 아닐 확률\"에 대한 정밀도라면?</span>\n",
    "        * 암이 아니다를 1, 암이 맞다를 0으로 계산...\n",
    "        * 따라서 이 때 정밀도가 낮으면, 암이 맞는데 암이 아니라고 하는 경우가 된다. \n",
    "        * 이때는 높은 정밀도가 요구.\n",
    "        <br><br>\n",
    "\n",
    "\n",
    "#### 재현성\n",
    "* 재현성이 떨어진다?\n",
    "    * 사실인데 거짓이라고 한 것이 많다.\n",
    "    * 위와 같은 예로, <span style= \"color:pink\">암일 확률을 구한다면</span> 암인데 암이 아니라고 하는 경우.\n",
    "    * 반대로 <span style= \"color:pink\">암이 아닐 확률을 구한다면</span>  암이 아닌데 암이라고 하는 경우. \n",
    "    <br><br>\n",
    "    \n",
    "#### 요약\n",
    "  \n",
    "    어떤의미에서 재현성과 정밀도는 '정확성'이라는것을 기준으로 하여, \n",
    "    내가 보고자 하는(positive value)가 무엇인가에 따라 그 의미가 상반되는 개념이다. \n",
    "    좋은 데이터는 재현성과 정밀도가 간극이 좁은 상태로 정확성이 높은 값이어야 할 것이다.\n",
    "    \n"
   ]
  },
  {
   "cell_type": "markdown",
   "metadata": {},
   "source": [
    "#### 끝마치기 전에... \n",
    "- 모델은 입력된 데이터를 토대로 해당 record (row)가 암인지 아닌지를 96.x% 확률로 알아낼 것이다...\n",
    "- 그런데 정밀도와 재현성에 대한 기준은 모호하다 \n",
    "    - 왜?\n",
    "        - 왜냐하면 정밀도, 재현성, 정확도는 모두 실제 레코드값을 비교해서 얻어지는데, 여기서 참인 값은 사람이 정하기 때문이다.\n",
    "        <br><br>\n",
    "        - 즉, 사람이 \"암인 경우를 참 이라고 정하겠다\" 라고 하면 실제로는 암인데 암이 아닌 경우를 높게 측정한(재현성)이 낮은 레코드가 좀더 믿기에는 위험한 자료가 될 것이고 \n",
    "        <br><br>\n",
    "        - \"정상인 경우(암이 아닌 경우)를 참이라고 하겠다\"라고 하면 실제로는 정상이 아닌데 정상이라고 한 정밀도가 낮은 모델이 위험한 모델이 된다. \n",
    "       "
   ]
  },
  {
   "cell_type": "code",
   "execution_count": null,
   "metadata": {},
   "outputs": [],
   "source": []
  }
 ],
 "metadata": {
  "kernelspec": {
   "display_name": "Python 3",
   "language": "python",
   "name": "python3"
  },
  "language_info": {
   "codemirror_mode": {
    "name": "ipython",
    "version": 3
   },
   "file_extension": ".py",
   "mimetype": "text/x-python",
   "name": "python",
   "nbconvert_exporter": "python",
   "pygments_lexer": "ipython3",
   "version": "3.8.8"
  },
  "toc": {
   "base_numbering": 1,
   "nav_menu": {},
   "number_sections": true,
   "sideBar": true,
   "skip_h1_title": false,
   "title_cell": "Table of Contents",
   "title_sidebar": "Contents",
   "toc_cell": false,
   "toc_position": {},
   "toc_section_display": true,
   "toc_window_display": false
  }
 },
 "nbformat": 4,
 "nbformat_minor": 4
}
