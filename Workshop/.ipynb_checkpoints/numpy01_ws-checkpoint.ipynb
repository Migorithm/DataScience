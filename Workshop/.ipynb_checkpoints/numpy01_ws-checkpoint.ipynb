{
 "cells": [
  {
   "cell_type": "markdown",
   "metadata": {},
   "source": [
    "# 계단오르내리기 예제"
   ]
  },
  {
   "cell_type": "code",
   "execution_count": 1,
   "metadata": {},
   "outputs": [],
   "source": [
    "import numpy as np \n",
    "np.random.seed(888)"
   ]
  },
  {
   "cell_type": "code",
   "execution_count": 2,
   "metadata": {},
   "outputs": [],
   "source": [
    "nsteps = 1000 \n",
    "# randint 함수를 사용하여 1000개의 랜덤값(0과 1 )을 만드세요.\n"
   ]
  },
  {
   "cell_type": "code",
   "execution_count": 3,
   "metadata": {},
   "outputs": [
    {
     "data": {
      "text/plain": [
       "array([0, 0, 1, 1, 0, 1, 1, 0, 1, 0, 1, 1, 0, 1, 0, 0, 1, 1, 0, 0, 0, 1,\n",
       "       0, 0, 0, 0, 1, 0, 1, 1, 0, 0, 0, 1, 0, 0, 1, 1, 0, 0, 0, 0, 1, 1,\n",
       "       0, 0, 0, 0, 1, 1, 0, 1, 1, 0, 0, 0, 0, 1, 0, 0, 0, 0, 0, 1, 0, 1,\n",
       "       1, 0, 0, 1, 1, 1, 0, 0, 1, 0, 0, 0, 1, 0, 1, 0, 0, 1, 0, 0, 0, 0,\n",
       "       1, 1, 1, 1, 0, 0, 1, 0, 1, 0, 0, 0, 1, 1, 1, 0, 0, 1, 1, 0, 0, 1,\n",
       "       1, 0, 0, 0, 0, 1, 1, 0, 0, 0, 0, 1, 1, 0, 1, 0, 1, 0, 1, 0, 0, 0,\n",
       "       0, 1, 1, 1, 0, 1, 1, 0, 1, 1, 1, 1, 1, 0, 0, 1, 1, 1, 0, 1, 1, 1,\n",
       "       1, 0, 1, 1, 1, 0, 0, 0, 0, 1, 0, 1, 1, 0, 0, 1, 0, 1, 0, 0, 1, 1,\n",
       "       0, 0, 0, 1, 1, 0, 1, 0, 0, 0, 0, 1, 0, 0, 0, 1, 0, 1, 0, 0, 0, 1,\n",
       "       0, 0, 1, 0, 1, 1, 0, 1, 0, 0, 1, 0, 1, 1, 0, 0, 1, 1, 1, 0, 0, 1,\n",
       "       0, 0, 1, 1, 0, 1, 1, 0, 0, 0, 0, 0, 0, 1, 0, 0, 1, 1, 1, 1, 0, 1,\n",
       "       1, 1, 1, 1, 0, 0, 0, 0, 0, 0, 0, 1, 0, 0, 1, 1, 1, 1, 0, 0, 1, 1,\n",
       "       1, 1, 1, 0, 0, 0, 0, 0, 1, 1, 0, 0, 0, 0, 1, 1, 0, 0, 1, 1, 0, 1,\n",
       "       0, 0, 0, 1, 0, 1, 1, 1, 0, 0, 0, 0, 1, 0, 0, 1, 1, 0, 0, 0, 1, 1,\n",
       "       0, 0, 1, 0, 1, 1, 0, 1, 0, 1, 1, 0, 1, 0, 0, 0, 0, 1, 1, 0, 1, 0,\n",
       "       1, 1, 1, 0, 0, 1, 1, 1, 1, 0, 0, 0, 0, 1, 0, 1, 1, 1, 0, 1, 1, 0,\n",
       "       0, 0, 1, 0, 0, 0, 1, 1, 1, 1, 0, 1, 0, 0, 0, 0, 0, 1, 1, 1, 0, 1,\n",
       "       0, 0, 1, 1, 0, 1, 0, 0, 1, 0, 1, 1, 0, 1, 0, 0, 0, 1, 0, 0, 1, 1,\n",
       "       1, 0, 1, 1, 1, 0, 0, 1, 0, 1, 1, 0, 0, 1, 0, 1, 1, 0, 0, 0, 0, 1,\n",
       "       0, 0, 0, 0, 1, 1, 1, 1, 1, 0, 0, 1, 1, 1, 1, 0, 0, 1, 1, 1, 1, 1,\n",
       "       1, 0, 0, 0, 0, 0, 0, 1, 1, 1, 1, 0, 0, 1, 0, 1, 0, 1, 1, 1, 0, 1,\n",
       "       1, 0, 1, 1, 0, 1, 1, 0, 0, 1, 0, 1, 1, 0, 1, 0, 0, 0, 1, 0, 0, 0,\n",
       "       0, 0, 1, 1, 1, 1, 0, 1, 1, 0, 1, 0, 0, 1, 1, 0, 1, 1, 0, 0, 0, 0,\n",
       "       0, 1, 0, 1, 1, 1, 0, 1, 0, 1, 1, 0, 0, 1, 1, 0, 0, 1, 0, 1, 1, 0,\n",
       "       1, 1, 0, 0, 1, 0, 1, 1, 0, 0, 1, 1, 1, 1, 1, 0, 1, 1, 0, 0, 0, 0,\n",
       "       0, 0, 1, 0, 1, 0, 1, 1, 1, 0, 1, 1, 0, 0, 1, 1, 1, 1, 1, 1, 0, 1,\n",
       "       0, 1, 0, 0, 1, 0, 0, 1, 0, 0, 1, 0, 0, 0, 0, 1, 0, 1, 1, 0, 1, 0,\n",
       "       1, 1, 1, 0, 1, 0, 0, 1, 1, 1, 0, 1, 0, 0, 1, 0, 0, 1, 1, 0, 0, 1,\n",
       "       1, 1, 1, 0, 1, 1, 1, 1, 0, 1, 1, 0, 1, 0, 1, 1, 0, 1, 0, 0, 1, 1,\n",
       "       1, 0, 1, 1, 0, 1, 0, 0, 0, 1, 1, 1, 1, 0, 0, 1, 0, 0, 1, 1, 0, 0,\n",
       "       1, 0, 1, 0, 1, 1, 1, 0, 1, 1, 0, 0, 0, 1, 0, 1, 0, 0, 0, 1, 1, 1,\n",
       "       1, 1, 0, 1, 0, 1, 0, 0, 0, 0, 0, 0, 1, 0, 1, 1, 0, 0, 1, 1, 0, 0,\n",
       "       1, 0, 1, 0, 0, 1, 0, 0, 0, 1, 1, 0, 0, 0, 1, 0, 1, 1, 0, 1, 0, 1,\n",
       "       1, 0, 0, 1, 0, 1, 0, 1, 0, 1, 0, 0, 1, 0, 1, 0, 0, 1, 1, 1, 1, 1,\n",
       "       1, 1, 1, 0, 1, 1, 0, 0, 1, 0, 0, 0, 0, 1, 0, 0, 1, 0, 1, 1, 1, 0,\n",
       "       1, 1, 0, 1, 0, 1, 0, 0, 0, 1, 1, 0, 0, 1, 0, 0, 1, 1, 1, 1, 0, 1,\n",
       "       1, 0, 0, 0, 1, 1, 0, 1, 0, 0, 0, 1, 0, 1, 0, 1, 1, 0, 0, 0, 1, 1,\n",
       "       1, 1, 0, 1, 1, 0, 0, 1, 1, 1, 1, 1, 0, 1, 1, 0, 1, 1, 1, 0, 0, 1,\n",
       "       1, 0, 0, 0, 0, 0, 1, 0, 1, 1, 0, 1, 1, 0, 0, 1, 1, 1, 0, 0, 1, 1,\n",
       "       0, 0, 1, 1, 1, 0, 1, 1, 0, 1, 1, 1, 0, 0, 1, 0, 0, 0, 1, 0, 1, 1,\n",
       "       1, 0, 0, 0, 0, 1, 1, 0, 1, 1, 1, 1, 1, 0, 1, 0, 1, 0, 1, 1, 1, 0,\n",
       "       0, 0, 0, 0, 0, 1, 0, 0, 0, 1, 1, 1, 1, 0, 1, 0, 1, 0, 1, 1, 0, 0,\n",
       "       1, 1, 1, 1, 0, 0, 1, 0, 0, 1, 1, 0, 1, 1, 1, 0, 1, 1, 0, 1, 0, 0,\n",
       "       1, 1, 0, 0, 0, 0, 0, 1, 0, 1, 1, 0, 0, 1, 1, 0, 0, 0, 1, 0, 0, 1,\n",
       "       1, 0, 0, 1, 1, 0, 0, 1, 0, 0, 0, 1, 1, 0, 1, 0, 0, 1, 0, 1, 1, 0,\n",
       "       0, 0, 0, 0, 1, 1, 0, 1, 0, 1])"
      ]
     },
     "execution_count": 3,
     "metadata": {},
     "output_type": "execute_result"
    }
   ],
   "source": [
    "draws= np.random.randint(0,2,nsteps) #\n",
    "draws"
   ]
  },
  {
   "cell_type": "code",
   "execution_count": 4,
   "metadata": {},
   "outputs": [
    {
     "data": {
      "text/plain": [
       "array([ -1,  -2,  -1,   0,  -1,   0,   1,   0,   1,   0,   1,   2,   1,\n",
       "         2,   1,   0,   1,   2,   1,   0,  -1,   0,  -1,  -2,  -3,  -4,\n",
       "        -3,  -4,  -3,  -2,  -3,  -4,  -5,  -4,  -5,  -6,  -5,  -4,  -5,\n",
       "        -6,  -7,  -8,  -7,  -6,  -7,  -8,  -9, -10,  -9,  -8,  -9,  -8,\n",
       "        -7,  -8,  -9, -10, -11, -10, -11, -12, -13, -14, -15, -14, -15,\n",
       "       -14, -13, -14, -15, -14, -13, -12, -13, -14, -13, -14, -15, -16,\n",
       "       -15, -16, -15, -16, -17, -16, -17, -18, -19, -20, -19, -18, -17,\n",
       "       -16, -17, -18, -17, -18, -17, -18, -19, -20, -19, -18, -17, -18,\n",
       "       -19, -18, -17, -18, -19, -18, -17, -18, -19, -20, -21, -20, -19,\n",
       "       -20, -21, -22, -23, -22, -21, -22, -21, -22, -21, -22, -21, -22,\n",
       "       -23, -24, -25, -24, -23, -22, -23, -22, -21, -22, -21, -20, -19,\n",
       "       -18, -17, -18, -19, -18, -17, -16, -17, -16, -15, -14, -13, -14,\n",
       "       -13, -12, -11, -12, -13, -14, -15, -14, -15, -14, -13, -14, -15,\n",
       "       -14, -15, -14, -15, -16, -15, -14, -15, -16, -17, -16, -15, -16,\n",
       "       -15, -16, -17, -18, -19, -18, -19, -20, -21, -20, -21, -20, -21,\n",
       "       -22, -23, -22, -23, -24, -23, -24, -23, -22, -23, -22, -23, -24,\n",
       "       -23, -24, -23, -22, -23, -24, -23, -22, -21, -22, -23, -22, -23,\n",
       "       -24, -23, -22, -23, -22, -21, -22, -23, -24, -25, -26, -27, -26,\n",
       "       -27, -28, -27, -26, -25, -24, -25, -24, -23, -22, -21, -20, -21,\n",
       "       -22, -23, -24, -25, -26, -27, -26, -27, -28, -27, -26, -25, -24,\n",
       "       -25, -26, -25, -24, -23, -22, -21, -22, -23, -24, -25, -26, -25,\n",
       "       -24, -25, -26, -27, -28, -27, -26, -27, -28, -27, -26, -27, -26,\n",
       "       -27, -28, -29, -28, -29, -28, -27, -26, -27, -28, -29, -30, -29,\n",
       "       -30, -31, -30, -29, -30, -31, -32, -31, -30, -31, -32, -31, -32,\n",
       "       -31, -30, -31, -30, -31, -30, -29, -30, -29, -30, -31, -32, -33,\n",
       "       -32, -31, -32, -31, -32, -31, -30, -29, -30, -31, -30, -29, -28,\n",
       "       -27, -28, -29, -30, -31, -30, -31, -30, -29, -28, -29, -28, -27,\n",
       "       -28, -29, -30, -29, -30, -31, -32, -31, -30, -29, -28, -29, -28,\n",
       "       -29, -30, -31, -32, -33, -32, -31, -30, -31, -30, -31, -32, -31,\n",
       "       -30, -31, -30, -31, -32, -31, -32, -31, -30, -31, -30, -31, -32,\n",
       "       -33, -32, -33, -34, -33, -32, -31, -32, -31, -30, -29, -30, -31,\n",
       "       -30, -31, -30, -29, -30, -31, -30, -31, -30, -29, -30, -31, -32,\n",
       "       -33, -32, -33, -34, -35, -36, -35, -34, -33, -32, -31, -32, -33,\n",
       "       -32, -31, -30, -29, -30, -31, -30, -29, -28, -27, -26, -25, -26,\n",
       "       -27, -28, -29, -30, -31, -30, -29, -28, -27, -28, -29, -28, -29,\n",
       "       -28, -29, -28, -27, -26, -27, -26, -25, -26, -25, -24, -25, -24,\n",
       "       -23, -24, -25, -24, -25, -24, -23, -24, -23, -24, -25, -26, -25,\n",
       "       -26, -27, -28, -29, -30, -29, -28, -27, -26, -27, -26, -25, -26,\n",
       "       -25, -26, -27, -26, -25, -26, -25, -24, -25, -26, -27, -28, -29,\n",
       "       -28, -29, -28, -27, -26, -27, -26, -27, -26, -25, -26, -27, -26,\n",
       "       -25, -26, -27, -26, -27, -26, -25, -26, -25, -24, -25, -26, -25,\n",
       "       -26, -25, -24, -25, -26, -25, -24, -23, -22, -21, -22, -21, -20,\n",
       "       -21, -22, -23, -24, -25, -26, -25, -26, -25, -26, -25, -24, -23,\n",
       "       -24, -23, -22, -23, -24, -23, -22, -21, -20, -19, -18, -19, -18,\n",
       "       -19, -18, -19, -20, -19, -20, -21, -20, -21, -22, -21, -22, -23,\n",
       "       -24, -25, -24, -25, -24, -23, -24, -23, -24, -23, -22, -21, -22,\n",
       "       -21, -22, -23, -22, -21, -20, -21, -20, -21, -22, -21, -22, -23,\n",
       "       -22, -21, -22, -23, -22, -21, -20, -19, -20, -19, -18, -17, -16,\n",
       "       -17, -16, -15, -16, -15, -16, -15, -14, -15, -14, -15, -16, -15,\n",
       "       -14, -13, -14, -13, -12, -13, -12, -13, -14, -15, -14, -13, -12,\n",
       "       -11, -12, -13, -12, -13, -14, -13, -12, -13, -14, -13, -14, -13,\n",
       "       -14, -13, -12, -11, -12, -11, -10, -11, -12, -13, -12, -13, -12,\n",
       "       -13, -14, -15, -14, -13, -12, -11, -10, -11, -10, -11, -10, -11,\n",
       "       -12, -13, -14, -15, -16, -15, -16, -15, -14, -15, -16, -15, -14,\n",
       "       -15, -16, -15, -16, -15, -16, -17, -16, -17, -18, -19, -18, -17,\n",
       "       -18, -19, -20, -19, -20, -19, -18, -19, -18, -19, -18, -17, -18,\n",
       "       -19, -18, -19, -18, -19, -18, -19, -18, -19, -20, -19, -20, -19,\n",
       "       -20, -21, -20, -19, -18, -17, -16, -15, -14, -13, -14, -13, -12,\n",
       "       -13, -14, -13, -14, -15, -16, -17, -16, -17, -18, -17, -18, -17,\n",
       "       -16, -15, -16, -15, -14, -15, -14, -15, -14, -15, -16, -17, -16,\n",
       "       -15, -16, -17, -16, -17, -18, -17, -16, -15, -14, -15, -14, -13,\n",
       "       -14, -15, -16, -15, -14, -15, -14, -15, -16, -17, -16, -17, -16,\n",
       "       -17, -16, -15, -16, -17, -18, -17, -16, -15, -14, -15, -14, -13,\n",
       "       -14, -15, -14, -13, -12, -11, -10, -11, -10,  -9, -10,  -9,  -8,\n",
       "        -7,  -8,  -9,  -8,  -7,  -8,  -9, -10, -11, -12, -11, -12, -11,\n",
       "       -10, -11, -10,  -9, -10, -11, -10,  -9,  -8,  -9, -10,  -9,  -8,\n",
       "        -9, -10,  -9,  -8,  -7,  -8,  -7,  -6,  -7,  -6,  -5,  -4,  -5,\n",
       "        -6,  -5,  -6,  -7,  -8,  -7,  -8,  -7,  -6,  -5,  -6,  -7,  -8,\n",
       "        -9,  -8,  -7,  -8,  -7,  -6,  -5,  -4,  -3,  -4,  -3,  -4,  -3,\n",
       "        -4,  -3,  -2,  -1,  -2,  -3,  -4,  -5,  -6,  -7,  -6,  -7,  -8,\n",
       "        -9,  -8,  -7,  -6,  -5,  -6,  -5,  -6,  -5,  -6,  -5,  -4,  -5,\n",
       "        -6,  -5,  -4,  -3,  -2,  -3,  -4,  -3,  -4,  -5,  -4,  -3,  -4,\n",
       "        -3,  -2,  -1,  -2,  -1,   0,  -1,   0,  -1,  -2,  -1,   0,  -1,\n",
       "        -2,  -3,  -4,  -5,  -4,  -5,  -4,  -3,  -4,  -5,  -4,  -3,  -4,\n",
       "        -5,  -6,  -5,  -6,  -7,  -6,  -5,  -6,  -7,  -6,  -5,  -6,  -7,\n",
       "        -6,  -7,  -8,  -9,  -8,  -7,  -8,  -7,  -8,  -9,  -8,  -9,  -8,\n",
       "        -7,  -8,  -9, -10, -11, -12, -11, -10, -11, -10, -11, -10],\n",
       "      dtype=int32)"
      ]
     },
     "execution_count": 4,
     "metadata": {},
     "output_type": "execute_result"
    }
   ],
   "source": [
    "# steps은 앞의 draws 값이 0보다 크면 1, 0보다 작거나 같으면 -1으로 만든 새로운 벡터(특정 함수 활용)\n",
    "# walk는 계단을 오르거나 내려간 값의 누적합 \n",
    "\n",
    "steps = np.where(draws>0,1,-1)\n",
    "walk = np.cumsum(steps) #cumulative summation\n",
    "walk"
   ]
  },
  {
   "cell_type": "code",
   "execution_count": 5,
   "metadata": {
    "scrolled": true
   },
   "outputs": [
    {
     "data": {
      "text/plain": [
       "-36"
      ]
     },
     "execution_count": 5,
     "metadata": {},
     "output_type": "execute_result"
    }
   ],
   "source": [
    "#walk의 최소값 \n",
    "walk.min()"
   ]
  },
  {
   "cell_type": "code",
   "execution_count": 13,
   "metadata": {},
   "outputs": [],
   "source": [
    "#wark의 최대값 \n",
    "walk.max()\n",
    "\n"
   ]
  },
  {
   "cell_type": "code",
   "execution_count": 14,
   "metadata": {},
   "outputs": [
    {
     "name": "stdout",
     "output_type": "stream",
     "text": [
      "47\n"
     ]
    }
   ],
   "source": [
    "# 1. 계단의 처음 위치에서 10칸이상 떨어진 시점을 구하자.\n",
    "#    가. 최초로 10 혹은 -10인 시점을 구한다. \n",
    "#    나. boolean 배열에서 최대값의 처음 색인을 반환하는 함수를 사용\n",
    "import math\n",
    "\n",
    "#bool_walk = np.where(np.absolute(walk)>=10) #복잡한 방식\n",
    "#print(bool_walk[0][0])\n",
    "\n",
    "max_walk =np.argmax(np.absolute(walk) >= 10)  #간단한 방식 (False, True값이 어떻게 인식되는가에 대한 이해가 필요.)\n",
    "print(max_walk)\n",
    "\n"
   ]
  },
  {
   "cell_type": "markdown",
   "metadata": {},
   "source": [
    "### Visualization"
   ]
  },
  {
   "cell_type": "code",
   "execution_count": 8,
   "metadata": {},
   "outputs": [
    {
     "data": {
      "image/png": "[encoded data removed]",
      "text/plain": [
       "<Figure size 720x432 with 1 Axes>"
      ]
     },
     "metadata": {
      "needs_background": "light"
     },
     "output_type": "display_data"
    }
   ],
   "source": [
    "import matplotlib.pyplot as plt\n",
    "\n",
    "\n",
    "plt.figure(figsize=(10,6))\n",
    "plt.plot(walk)\n",
    "plt.savefig('nsteps.png')\n",
    "plt.grid()\n",
    "plt.title(\"Assignment Team_3\",fontsize=16)\n",
    "plt.xlabel(\"Number of steps taken\",fontsize=16)\n",
    "plt.ylabel(\"level you are at\",fontsize=16)\n",
    "\n",
    "plt.show()"
   ]
  }
 ],
 "metadata": {
  "kernelspec": {
   "display_name": "Python 3",
   "language": "python",
   "name": "python3"
  },
  "language_info": {
   "codemirror_mode": {
    "name": "ipython",
    "version": 3
   },
   "file_extension": ".py",
   "mimetype": "text/x-python",
   "name": "python",
   "nbconvert_exporter": "python",
   "pygments_lexer": "ipython3",
   "version": "3.8.8"
  }
 },
 "nbformat": 4,
 "nbformat_minor": 2
}
