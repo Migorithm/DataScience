{
 "cells": [
  {
   "cell_type": "markdown",
   "metadata": {
    "colab_type": "text",
    "id": "IL6dIhEak3HO"
   },
   "source": [
    "# 머신러닝 심화반 실습 예제 - 측정 공식(Evaluation Metric)"
   ]
  },
  {
   "cell_type": "markdown",
   "metadata": {},
   "source": [
    "지금까지 선형 회귀(Linear Regression), 로지스틱 회귀(Logistic Regression) 등 많은 알고리즘을 다뤘지만 현업에서, 그리고 실제 연구에서 이 알고리즘을 사용하기 위해서는 알고리즘의 성능을 정량적으로 측정하고 그 성능을 분석하는게 중요합니다. 이번 시간에는 구현한 머신러닝 모델의 성능을 평가(evaluate)하는 다양한 방법에 대해 살펴볼 것입니다.\n",
    "\n",
    "측정 공식은 크게 1) 분류(Classification) 문제인지 2) 회귀(Regression) 문제인지에 따라 달라집니다. 먼저 분류 문제부터 보겠습니다."
   ]
  },
  {
   "cell_type": "markdown",
   "metadata": {
    "colab_type": "text",
    "id": "cCGHzn7ak3IY"
   },
   "source": [
    "## 분류(Classification) 문제에서 사용하는 측정 공식"
   ]
  },
  {
   "cell_type": "markdown",
   "metadata": {
    "colab_type": "text",
    "id": "B2IwGwjJk3IZ"
   },
   "source": [
    "### 오차행렬(Confusion Matrix)"
   ]
  },
  {
   "cell_type": "markdown",
   "metadata": {
    "colab_type": "text",
    "id": "Rak6ez5fk3Ia"
   },
   "source": [
    "이진 분류 모델의 성능을 평가하는 방법으로 잘 활용되는 방법은 Confusion Matrix를 만들어보는 것입니다. Confusion Matrix는 다음과 같은 2x2 행렬에서 실제값과 예측값이 어떻게 매핑되는지를 나타냅니다. \n",
    "\n",
    "<img src=\"http://drive.google.com/uc?export=view&id=1bcJ-dYqnocfV7EOs7nXAJ9cWq1Oq5BWd\" width=\"800\">\n",
    "\n",
    "\n",
    "이진 분류에서 사용하는 용어 중 \"**positive**\"와 \"**negative**\"는 모델이 내놓은 예측값 기준으로 분류한 것이고, \"**true**\"와 \"**false**\"는 예측값과 실제값의 일치 여부를 기준으로 분류한 것입니다. 각 경우별로 살펴본다면 다음과 같습니다. <br>\n",
    "- True Negative(TN): 실제 False인 값을 False라고 예측 (정답)\n",
    "- False Positive(FP): 실제 False인 값을 True라고 예측 (오답)\n",
    "- False Negative(FN): 실제 True인 값을 False라고 예측 (오답)\n",
    "- True Positive(TP): 실제 True인 값을 True라고 예측 (정답) <br>"
   ]
  },
  {
   "cell_type": "markdown",
   "metadata": {
    "colab_type": "text",
    "id": "evnfPQSdk3Ib"
   },
   "source": [
    "우선, 분류 모델에 대한 측정 공식을 알아보기 위한 예제 데이터셋을 랜덤으로 생성합니다."
   ]
  },
  {
   "cell_type": "code",
   "execution_count": 1,
   "metadata": {
    "colab": {},
    "colab_type": "code",
    "id": "8btgwg9sk3Ic",
    "outputId": "52c039b3-967c-4eb3-f2fb-f5a5f39c2aae"
   },
   "outputs": [
    {
     "name": "stdout",
     "output_type": "stream",
     "text": [
      "(20,)\n",
      "(20,)\n",
      "[0 1 1 1 0 0 1 0 1 0 0 1 1 0 1 0 1 1 0 1]\n",
      "[0 1 0 1 1 0 0 1 0 1 1 0 1 0 1 1 1 1 1 1]\n"
     ]
    }
   ],
   "source": [
    "import numpy as np\n",
    "\n",
    "# numpy를 사용하여 랜덤한 값을 만들 것입니다. \n",
    "# numpy의 random(np.random)은 랜덤 값을 생성하는 기능들을 포함하고 있습니다. \n",
    "# 코드를 실행할 때마다 랜덤으로 값이 만들어지기 때문에 결과를 고정하기 위해 seed를 고정합니다.\n",
    "np.random.seed = 123\n",
    "\n",
    "# np.random.randint()는 최솟값(low), 최대값(high), 개수(size)를 입력받습니다. \n",
    "# 최솟값과 최댓값 사이에서 지정한 개수만큼 랜덤하게 정수(Integer)를 추출합니다.\n",
    "y_true = np.random.randint(low=0, high=2, size=20)\n",
    "y_pred = np.random.randint(low=0, high=2, size=20)\n",
    "\n",
    "# y_true와 y_pred의 shape를 확인합니다.\n",
    "# 20개가 잘 뽑혔다면 (20, 1) 또는 (20, )이 출력됩니다.\n",
    "print(y_true.shape)\n",
    "print(y_pred.shape)\n",
    "\n",
    "# y_true와 y_pred의 값을 확인합니다.\n",
    "print(y_true)\n",
    "print(y_pred)"
   ]
  },
  {
   "cell_type": "markdown",
   "metadata": {
    "colab_type": "text",
    "id": "6iBbXVU3k3If"
   },
   "source": [
    "사이킷런은 Confusion Matrix를 만드는 **confusion_matrix()** API를 제공합니다. 실제값인 y_true와 예측값인 y_pred를 confusion_matrix()의 인자로 입력합니다. "
   ]
  },
  {
   "cell_type": "code",
   "execution_count": 2,
   "metadata": {
    "colab": {},
    "colab_type": "code",
    "id": "qDilyGynk3If",
    "outputId": "91064f93-0946-4ad5-df12-d193320971b6"
   },
   "outputs": [
    {
     "data": {
      "text/plain": [
       "array([[3, 6],\n",
       "       [4, 7]], dtype=int64)"
      ]
     },
     "execution_count": 2,
     "metadata": {},
     "output_type": "execute_result"
    }
   ],
   "source": [
    "# 사이킷런의 confusion_matrix를 불러옵니다.\n",
    "# Evaluation Metric과 관련된 함수는 사이킷런의 metrics에 포함되어 있습니다.\n",
    "from sklearn.metrics import confusion_matrix\n",
    "\n",
    "# confusion_matrix()는 실제값(y_true), 예측값(y_pred)을 입력받습니다.\n",
    "confusion_matrix(y_true, y_pred)"
   ]
  },
  {
   "cell_type": "markdown",
   "metadata": {
    "colab_type": "text",
    "id": "Xm7lf4Zwk3Ih"
   },
   "source": [
    "출력된 Confusion Matrix은 array 형태입니다. 이진 분류의 TN, FP, FN, TP는 위의 표에서와 위치가 같습니다. 즉, TN은 array[0,0], FP는 array[0,1], FN은 array[1,0], TP는 array[1,1]에 해당합니다."
   ]
  },
  {
   "cell_type": "code",
   "execution_count": 3,
   "metadata": {
    "colab": {},
    "colab_type": "code",
    "id": "vmoBpv3Uk3Ii",
    "outputId": "fbe8b8e1-c7e3-4361-c7a0-c828214ad5e8"
   },
   "outputs": [
    {
     "name": "stdout",
     "output_type": "stream",
     "text": [
      "tn: 3, fp: 6, fn: 4, tp: 7\n"
     ]
    }
   ],
   "source": [
    "# Confusion Matrix의 각 요소를 가져와봅시다. \n",
    "tn = confusion_matrix(y_true, y_pred)[0, 0]\n",
    "fp = confusion_matrix(y_true, y_pred)[0, 1]\n",
    "fn = confusion_matrix(y_true, y_pred)[1, 0]\n",
    "tp = confusion_matrix(y_true, y_pred)[1, 1]\n",
    "\n",
    "# 다음의 방법으로도 각 요소를 가져올 수 있습니다. \n",
    "# tn, fp, fn, tp = confusion_matrix(y_true, y_pred).ravel()\n",
    "\n",
    "print('tn: %d, fp: %d, fn: %d, tp: %d'%(tn, fp, fn, tp))"
   ]
  },
  {
   "cell_type": "markdown",
   "metadata": {
    "colab_type": "text",
    "id": "VDRtvw22k3Il"
   },
   "source": [
    "### 정확도(Accuracy)"
   ]
  },
  {
   "cell_type": "markdown",
   "metadata": {
    "colab_type": "text",
    "id": "69RWG_2Ek3Il"
   },
   "source": [
    "Accuracy는 실제값과 예측값이 얼마나 같은지를 판단하는 지표입니다. 즉, Confusion Matrix에서 True에 해당하는 값인 **TN**과 **TP**에 좌우됩니다. Accuracy는 Confusion Matrix와 관련하여 다음과 같이 정의될 수 있습니다.\n",
    "$$ Accuracy = \\frac{예측값과 실제값이 일치하는 데이터 수}{전체 데이터 수} = \\frac{TN + TP}{TN + FP + FN + TP}$$ \n",
    "\n",
    "Accuracy를 구하는 기능은 다음과 같이 구현할 수 있습니다. "
   ]
  },
  {
   "cell_type": "code",
   "execution_count": 4,
   "metadata": {
    "colab": {},
    "colab_type": "code",
    "id": "PfBYrNZWk3Im",
    "outputId": "8bbc86eb-088a-4d1b-e4cf-9f531198788d"
   },
   "outputs": [
    {
     "data": {
      "text/plain": [
       "0.5"
      ]
     },
     "execution_count": 4,
     "metadata": {},
     "output_type": "execute_result"
    }
   ],
   "source": [
    "# 방법 1\n",
    "\n",
    "# 예측값과 실제값이 일치하는 데이터의 수를 계산하여 n_correct에 저장합니다.\n",
    "n_correct = sum(y_pred == y_true)\n",
    "\n",
    "# 전체 데이터 수로 나누어줍니다.\n",
    "accuracy_1 = n_correct / len(y_pred)\n",
    "\n",
    "# 결과를 출력합니다.\n",
    "accuracy_1"
   ]
  },
  {
   "cell_type": "code",
   "execution_count": 5,
   "metadata": {
    "colab": {},
    "colab_type": "code",
    "id": "R-By_rUuk3Io",
    "outputId": "acce5e3b-07ca-43cd-d1c3-5ea653f0952e"
   },
   "outputs": [
    {
     "data": {
      "text/plain": [
       "0.5"
      ]
     },
     "execution_count": 5,
     "metadata": {},
     "output_type": "execute_result"
    }
   ],
   "source": [
    "# 방법 2\n",
    "\n",
    "# 예측값과 실제값이 일치하는 데이터의 평균을 계산합니다.\n",
    "accuracy_2 = (y_pred == y_true).mean(axis=0)\n",
    "\n",
    "# 결과를 출력합니다.\n",
    "accuracy_2"
   ]
  },
  {
   "cell_type": "markdown",
   "metadata": {
    "colab_type": "text",
    "id": "mx4J8ohsk3Iq"
   },
   "source": [
    "사이킷런은 Accuracy를 측정하는 **accuracy_score()** 함수를 제공합니다. 첫 번째 파라미터로 실제값, 두 번째 파라미터로 예측값을 입력하면 됩니다. "
   ]
  },
  {
   "cell_type": "code",
   "execution_count": 6,
   "metadata": {
    "colab": {},
    "colab_type": "code",
    "id": "zMz--Laqk3Ir",
    "outputId": "6c9221b5-85c1-493d-89a8-953748105ff1"
   },
   "outputs": [
    {
     "data": {
      "text/plain": [
       "0.5"
      ]
     },
     "execution_count": 6,
     "metadata": {},
     "output_type": "execute_result"
    }
   ],
   "source": [
    "# 사이킷런의 accuracy_score를 불러옵니다.\n",
    "from sklearn.metrics import accuracy_score\n",
    "\n",
    "# accuracy_score()는 실제값과 예측값을 입력받습니다.\n",
    "accuracy_3 = accuracy_score(y_true, y_pred)\n",
    "\n",
    "# 결과를 출력합니다.\n",
    "accuracy_3"
   ]
  },
  {
   "cell_type": "markdown",
   "metadata": {
    "colab_type": "text",
    "id": "2buV-dBfk3It"
   },
   "source": [
    "그러나, **불균형한 데이터 세트**에서는 Accuracy만으로는 모델 신뢰도가 떨어질 수 있습니다. 예를 들어, 전체 데이터가 100개라고 할 때 10개만 1, 나머지 90개는 0인 데이터 세트가 있다고 가정합시다. 이 데이터 세트에 모든 데이터를 0으로 예측하는 모델을 이용해 Accuracy를 측정하면 90%의 Accuracy를 나타냅니다. 적절하지 않은 모델을 사용하고도 높은 수치가 나타날 수 있다는 것이 Accuracy를 평가 지표로 사용할 때의 문제점입니다. <br>\n",
    "\n",
    "불균형한 데이터 세트에서 Accuracy의 이러한 **단점을 보완**할 수 있는 평가 지표로 정밀도(Precision)와 재현율(Recall)이 있습니다. Precision와 Recall은 \"**positive**\" 데이터 세트의 예측 성능에 좀더 초점을 맞춘 평가 지표입니다."
   ]
  },
  {
   "cell_type": "markdown",
   "metadata": {
    "colab_type": "text",
    "id": "cFiuz37xk3It"
   },
   "source": [
    "### 정밀도(Precision)"
   ]
  },
  {
   "cell_type": "markdown",
   "metadata": {
    "colab_type": "text",
    "id": "Ts_E-EY0k3Iu"
   },
   "source": [
    "Precision는 \"positive\"로 예측한 대상 중에 예측값과 실제값이 일치하는 데이터의 비율을 말합니다. 따라서 Precision이 높을수록 좋은 모형입니다. Precision는 Confusion Matrix와 관련하여 다음과 같이 정의될 수 있습니다. \n",
    "$$Precision = \\frac{TP}{FP + TP} $$\n",
    "\n",
    "Precision을 구하는 기능은 다음과 같이 구현할 수 있습니다. "
   ]
  },
  {
   "cell_type": "code",
   "execution_count": 7,
   "metadata": {
    "colab": {},
    "colab_type": "code",
    "id": "SKhibsP9k3Iw",
    "outputId": "ac6a0375-06c4-4f31-fc10-c118ec1ba21c"
   },
   "outputs": [
    {
     "data": {
      "text/plain": [
       "0.5384615384615384"
      ]
     },
     "execution_count": 7,
     "metadata": {},
     "output_type": "execute_result"
    }
   ],
   "source": [
    "# 위에서 confusion_matrix로 구한 TP(True Positive)와 FP(False Positive)로 Precision을 구합니다.\n",
    "precision_1 = tp / (fp + tp)\n",
    "\n",
    "# 결과를 출력합니다. \n",
    "precision_1"
   ]
  },
  {
   "cell_type": "markdown",
   "metadata": {
    "colab_type": "text",
    "id": "pulF5OKMk3Iy"
   },
   "source": [
    "사이킷런은 Precision을 계산하는 **precision_score()** 함수를 제공합니다. 첫 번째 파라미터로 실제값, 두 번째 파라미터로 예측값을 입력하면 됩니다. "
   ]
  },
  {
   "cell_type": "code",
   "execution_count": 8,
   "metadata": {
    "colab": {},
    "colab_type": "code",
    "id": "sf27pc59k3Iz",
    "outputId": "9f04b980-348e-4948-c92b-8d15cdd61260"
   },
   "outputs": [
    {
     "data": {
      "text/plain": [
       "0.5384615384615384"
      ]
     },
     "execution_count": 8,
     "metadata": {},
     "output_type": "execute_result"
    }
   ],
   "source": [
    "# 사이킷런의 precision_score를 불러옵니다.\n",
    "from sklearn.metrics import precision_score\n",
    "\n",
    "# precision_score()는 실제값과 예측값을 입력받습니다.\n",
    "precision_2 = precision_score(y_true, y_pred)\n",
    "\n",
    "# 결과를 출력합니다.\n",
    "precision_2"
   ]
  },
  {
   "cell_type": "markdown",
   "metadata": {
    "colab_type": "text",
    "id": "qhJ5ThJMk3I1"
   },
   "source": [
    "### 재현율(Recall)"
   ]
  },
  {
   "cell_type": "markdown",
   "metadata": {
    "colab_type": "text",
    "id": "m24LeOWbk3I2"
   },
   "source": [
    "Recall은 실제값이 \"positive\"인 대상 중에 예측값과 실제값이 일치하는 데이터의 비율을 말합니다. 따라서 Recall이 높을수록 좋은 모형입니다. Recall은 민감도(Sensitivity) 또는 TPR(True Positive Rate)라고도 불립니다. Recall은 Confusion Matrix와 관련하여 다음과 같이 정의될 수 있습니다.\n",
    "$$ Recall = \\frac{TP}{FN + TP} $$\n",
    "\n",
    "Recall을 구하는 기능은 다음과 같이 구현할 수 있습니다."
   ]
  },
  {
   "cell_type": "code",
   "execution_count": 9,
   "metadata": {
    "colab": {},
    "colab_type": "code",
    "id": "_L23CQYUk3I3",
    "outputId": "c591c941-c29b-423b-89bd-3b5697f4605a"
   },
   "outputs": [
    {
     "data": {
      "text/plain": [
       "0.6363636363636364"
      ]
     },
     "execution_count": 9,
     "metadata": {},
     "output_type": "execute_result"
    }
   ],
   "source": [
    "# 위에서 confusion_matrix로 구한 TP(True Positive)와 FN(False Negative)로 Recall을 구합니다.\n",
    "recall_1 = tp / (fn + tp)\n",
    "\n",
    "# 결과를 출력합니다.\n",
    "recall_1"
   ]
  },
  {
   "cell_type": "markdown",
   "metadata": {
    "colab_type": "text",
    "id": "YZ4kcreLk3I6"
   },
   "source": [
    "사이킷런은 재현율을 계산하는 **recall_score()** 함수를 제공합니다. 첫 번째 파라미터로 실제값, 두 번째 파라미터로 예측값을 입력하면 됩니다. "
   ]
  },
  {
   "cell_type": "code",
   "execution_count": 10,
   "metadata": {
    "colab": {},
    "colab_type": "code",
    "id": "Wt2x-CN0k3I7",
    "outputId": "e99f3862-db54-48d7-d61d-ba6b72a98621"
   },
   "outputs": [
    {
     "data": {
      "text/plain": [
       "0.6363636363636364"
      ]
     },
     "execution_count": 10,
     "metadata": {},
     "output_type": "execute_result"
    }
   ],
   "source": [
    "# 사이킷런의 recall_score를 불러옵니다.\n",
    "from sklearn.metrics import recall_score\n",
    "\n",
    "# recall_score()는 실제값과 예측값을 입력받습니다.\n",
    "recall_2 = recall_score(y_true, y_pred)\n",
    "\n",
    "# 결과를 출력합니다.\n",
    "recall_2"
   ]
  },
  {
   "cell_type": "markdown",
   "metadata": {
    "colab_type": "text",
    "id": "oBGFi1C4k3I-"
   },
   "source": [
    "상황에 따라 Precision이 더 중요할 수도 있고 Recall이 더 중요한 지표가 될 수도 있습니다. <br>\n",
    "\n",
    "실제 \"negative\"인 데이터를 \"positive\"로 잘못 판단했을 때 업무상 큰 영향을 주는 경우에는 Precision이 상대적으로 더 중요한 지표가 됩니다. 반대로 실제 \"positive\"인 데이터를 \"negative\"로 잘못 판단했을 때 업무상 큰 영향을 주는 경우에는 Recall이 상대적으로 더 중요한 지표가 됩니다. <br>\n",
    "\n",
    "예를 들어 스팸 메일 여부를 판단하는 모델의 경우, 실제 스팸 메일(positive)인데 일반 메일(negative)로 분류한다면 사용자는 불편함을 느끼는 정도일 것입니다. 그러나 실제로 중요한 일반 메일(negative)를 스팸 메일(positive)로 분류하는 경우 업무에 차질이 생기게 될 것입니다. 이때에는 Precision이 더 중요한 지표가 됩니다. <br>\n",
    "\n",
    "다른 예로, 암 환자를 판단하는 모델에서는 Recall이 더 중요한 지표가 됩니다. 실제로 암 환자(positive)인데 암 환자가 아니라고(negative) 판단하는 경우에 제때 치료를 받지 못하게 되므로 심각한 문제를 일으킬 수 있습니다. 반면 실제로 암 환자가 아닌(negative) 경우에 암 환자(positive)인 것으로 잘못 판단되는 경우에는 재검사 비용이 소모되기는 하겠지만 생명을 앗아가지는 않을 것입니다. <br>\n",
    "\n",
    "Precision와 Recall의 공식을 살펴보면, 두 지표 모두 TP를 높이는 데 동일하게 초점을 맞추지만, Precision은 FP를, Recall은 FN을 낮추는 데 초점을 맞춥니다. 이러한 특성 때문에 Precision와 Recall은 분류의 성능을 평가하는 데 있어서 서로 보완적으로 작용합니다. <br>\n",
    "\n",
    "따라서 Precision와 Recall 중 어느 하나만 매우 높고 다른 수치는 매우 낮은 결과를 나타내는 경우 바람직하지 않습니다."
   ]
  },
  {
   "cell_type": "markdown",
   "metadata": {
    "colab_type": "text",
    "id": "gLgjT_hnk3I-"
   },
   "source": [
    "### F1 스코어(F1 Score)"
   ]
  },
  {
   "cell_type": "markdown",
   "metadata": {
    "colab_type": "text",
    "id": "kka_TuTpk3I_"
   },
   "source": [
    "**F 스코어**는 **Precision**과 **Recall**의 **가중조화평균**으로, Precision에 주어지는 가중치를 베타(Beta)라고 합니다. Precision과 Recall을 결합한 지표로 분류의 종합적인 성능 평가에 사용될 수 있습니다. \n",
    "$$ F_β=\\frac{(1+β^2)(Precision*Recall)}{β^2Precision+Recall} $$\n",
    "\n",
    "베타가 1인 경우를 특별히 F1 스코어라고 합니다. F1 스코어는 Precision와 Recall이 어느 한쪽으로 치우치지 않을 때 상대적으로 높은 값을 가집니다. \n",
    "$$ F1 = \\frac{2}{\\frac{1}{Recall}+\\frac{1}{Precision}} = \\frac{2*Precision*Recall}{Precision + Recall} $$ \n",
    "\n",
    "f1 score을 구하는 기능은 다음과 같이 구현할 수 있습니다."
   ]
  },
  {
   "cell_type": "code",
   "execution_count": 11,
   "metadata": {
    "colab": {},
    "colab_type": "code",
    "id": "wc9ZmJXpk3JA",
    "outputId": "43eebe31-b6ec-45e2-fba0-799b9e129ecd"
   },
   "outputs": [
    {
     "data": {
      "text/plain": [
       "0.5833333333333334"
      ]
     },
     "execution_count": 11,
     "metadata": {},
     "output_type": "execute_result"
    }
   ],
   "source": [
    "# 위에서 구한 precision과 recall 값을 이용합니다.\n",
    "f1_1 = (2 * precision_1 * recall_1) / (precision_1 + recall_1)\n",
    "\n",
    "# 결과를 출력합니다.\n",
    "f1_1"
   ]
  },
  {
   "cell_type": "markdown",
   "metadata": {
    "colab_type": "text",
    "id": "CdZ1RVcAk3JD"
   },
   "source": [
    "사이킷런은 F1 스코어를 구하는 **f1_score()**라는 API를 제공합니다. 첫 번째 파라미터로 실제값, 두 번째 파라미터로 예측값을 입력하면 됩니다. "
   ]
  },
  {
   "cell_type": "code",
   "execution_count": 12,
   "metadata": {
    "colab": {},
    "colab_type": "code",
    "id": "HdSKDqSBk3JE",
    "outputId": "a8ab1065-907f-4cf9-bdd4-57eb652abadb"
   },
   "outputs": [
    {
     "data": {
      "text/plain": [
       "0.5833333333333334"
      ]
     },
     "execution_count": 12,
     "metadata": {},
     "output_type": "execute_result"
    }
   ],
   "source": [
    "# 사이킷런의 f1_score를 불러옵니다.\n",
    "from sklearn.metrics import f1_score\n",
    "\n",
    "# f1_score()는 실제값과 예측값을 입력받습니다.\n",
    "f1_2 = f1_score(y_true, y_pred)\n",
    "\n",
    "# 결과를 출력합니다.\n",
    "f1_2"
   ]
  },
  {
   "cell_type": "markdown",
   "metadata": {
    "colab_type": "text",
    "id": "Jlx6k_k0k3JG"
   },
   "source": [
    "사이킷런의 metrics 패키지에서는 Precision, Recall, F1 스코어를 포함한 주요 분류 측정 공식을 구하는 **classification_report()** 함수를 제공합니다. 이 함수는 딕셔너리 형태의 결과값을 반환합니다."
   ]
  },
  {
   "cell_type": "code",
   "execution_count": 13,
   "metadata": {
    "colab": {},
    "colab_type": "code",
    "id": "V6UzM04yk3JI",
    "outputId": "e40b13c6-61b7-43fd-ed9c-f4f5ff4acdcf"
   },
   "outputs": [
    {
     "name": "stdout",
     "output_type": "stream",
     "text": [
      "              precision    recall  f1-score   support\n",
      "\n",
      "     class 0       0.43      0.33      0.38         9\n",
      "     class 1       0.54      0.64      0.58        11\n",
      "\n",
      "    accuracy                           0.50        20\n",
      "   macro avg       0.48      0.48      0.48        20\n",
      "weighted avg       0.49      0.50      0.49        20\n",
      "\n"
     ]
    }
   ],
   "source": [
    "# 사이킷런의 classification_report를 불러옵니다.\n",
    "from sklearn.metrics import classification_report\n",
    "\n",
    "# classification_report()는 실제값, 예측값, 을 입력받습니다.\n",
    "print(classification_report(y_true, y_pred, target_names=['class 0', 'class 1']))"
   ]
  },
  {
   "cell_type": "code",
   "execution_count": 14,
   "metadata": {
    "colab_type": "text",
    "id": "T4vRX1lrk3JZ"
   },
   "outputs": [],
   "source": [
    "## 2) 측정 공식 - 회귀 모델"
   ]
  },
  {
   "cell_type": "markdown",
   "metadata": {
    "colab_type": "text",
    "id": "clqY3SkFk3Ja"
   },
   "source": [
    "이번에는 회귀 모델의 성능을 평가하는 방법에 대해 알아보겠습니다. <br>\n",
    "\n",
    "수치(Float) 값을 예측하는 모델은 정확도 등의 분류 모델 평가 기준으로 평가하는 것이 애매합니다. 분류 모델은 맞게 분류했는지/아닌지만 평가하면 되지만, 회귀 모델은 정확하게 예측하지 못했더라도, 정답과 비슷하게 맞추면 성능이 좋다고 평가해야 합니다. 따라서 회귀의 평가를 위한 지표는 실제값과 예측값의 차이를 기반으로 합니다. <br>\n",
    "\n",
    "이때 실제값과 예측값의 차이를 그냥 더하면 +와 -가 섞여서 오류가 상쇄됩니다. 이 때문에 오류의 절댓값 평균이나 제곱, 또는 제곱한 뒤 다시 루트를 씌운 평균값을 구합니다. 일반적으로 회귀의 성능을 평가하는 지표로는 **MAE**, **MSE**, **RMSE**, **R^2**, **MSLE**, **RMSLE** 등이 있습니다. "
   ]
  },
  {
   "cell_type": "markdown",
   "metadata": {
    "colab_type": "text",
    "id": "qcYrsaYwk3Jb"
   },
   "source": [
    "우선, 회귀 모델에 대한 측정 공식을 알아보기 위한 예제 데이터셋을 랜덤으로 생성합니다"
   ]
  },
  {
   "cell_type": "code",
   "execution_count": 15,
   "metadata": {
    "colab": {},
    "colab_type": "code",
    "id": "fgZ2MAcnk3Jb",
    "outputId": "6b013ade-d184-47c4-f803-1e022e0f77df"
   },
   "outputs": [
    {
     "name": "stdout",
     "output_type": "stream",
     "text": [
      "(500,)\n",
      "(500,)\n"
     ]
    },
    {
     "data": {
      "text/html": [
       "<div>\n",
       "<style scoped>\n",
       "    .dataframe tbody tr th:only-of-type {\n",
       "        vertical-align: middle;\n",
       "    }\n",
       "\n",
       "    .dataframe tbody tr th {\n",
       "        vertical-align: top;\n",
       "    }\n",
       "\n",
       "    .dataframe thead th {\n",
       "        text-align: right;\n",
       "    }\n",
       "</style>\n",
       "<table border=\"1\" class=\"dataframe\">\n",
       "  <thead>\n",
       "    <tr style=\"text-align: right;\">\n",
       "      <th></th>\n",
       "      <th>y_true</th>\n",
       "      <th>y_pred</th>\n",
       "    </tr>\n",
       "  </thead>\n",
       "  <tbody>\n",
       "    <tr>\n",
       "      <th>0</th>\n",
       "      <td>293</td>\n",
       "      <td>292.6</td>\n",
       "    </tr>\n",
       "    <tr>\n",
       "      <th>2</th>\n",
       "      <td>461</td>\n",
       "      <td>453.8</td>\n",
       "    </tr>\n",
       "    <tr>\n",
       "      <th>3</th>\n",
       "      <td>154</td>\n",
       "      <td>153.6</td>\n",
       "    </tr>\n",
       "    <tr>\n",
       "      <th>4</th>\n",
       "      <td>223</td>\n",
       "      <td>220.2</td>\n",
       "    </tr>\n",
       "    <tr>\n",
       "      <th>8</th>\n",
       "      <td>408</td>\n",
       "      <td>399.0</td>\n",
       "    </tr>\n",
       "    <tr>\n",
       "      <th>9</th>\n",
       "      <td>337</td>\n",
       "      <td>329.8</td>\n",
       "    </tr>\n",
       "    <tr>\n",
       "      <th>11</th>\n",
       "      <td>208</td>\n",
       "      <td>206.5</td>\n",
       "    </tr>\n",
       "    <tr>\n",
       "      <th>16</th>\n",
       "      <td>875</td>\n",
       "      <td>867.0</td>\n",
       "    </tr>\n",
       "    <tr>\n",
       "      <th>17</th>\n",
       "      <td>855</td>\n",
       "      <td>853.0</td>\n",
       "    </tr>\n",
       "    <tr>\n",
       "      <th>20</th>\n",
       "      <td>310</td>\n",
       "      <td>304.6</td>\n",
       "    </tr>\n",
       "  </tbody>\n",
       "</table>\n",
       "</div>"
      ],
      "text/plain": [
       "    y_true  y_pred\n",
       "0      293   292.6\n",
       "2      461   453.8\n",
       "3      154   153.6\n",
       "4      223   220.2\n",
       "8      408   399.0\n",
       "9      337   329.8\n",
       "11     208   206.5\n",
       "16     875   867.0\n",
       "17     855   853.0\n",
       "20     310   304.6"
      ]
     },
     "execution_count": 15,
     "metadata": {},
     "output_type": "execute_result"
    }
   ],
   "source": [
    "import numpy as np\n",
    "import pandas as pd\n",
    "\n",
    "# 코드를 실행할 때마다 랜덤으로 값이 만들어지기 때문에 결과를 고정하기 위해 seed를 고정합니다.\n",
    "np.random.seed = 123\n",
    "\n",
    "# np.random.randint()는 최솟값(low), 최대값(high), 개수(size)를 입력받습니다. \n",
    "# 최솟값과 최댓값 사이에서 지정한 개수만큼 랜덤하게 정수(Integer)를 추출합니다.\n",
    "y_true = np.random.randint(low=10, high=900, size=500)\n",
    "\n",
    "# np.random.random()는 개수(size)를 입력받습니다.\n",
    "# 구간 [0.0, 1.0)에서 지정한 개수만큼 랜덤하게 Floats를 추출합니다.\n",
    "y_pred = y_true + np.round(np.random.random(500), decimals=1) * np.random.randint(low=-10, high=10, size=500)\n",
    "\n",
    "# y_true와 y_pred의 shape를 확인합니다.\n",
    "# 500개가 잘 뽑혔다면 (500, 1) 또는 (500, )이 출력됩니다.\n",
    "print(y_true.shape)\n",
    "print(y_pred.shape)\n",
    "\n",
    "# y_true와 y_pred의 값을 확인합니다.\n",
    "y_df = pd.DataFrame(y_true, columns=['y_true'])\n",
    "y_df['y_pred'] = y_pred\n",
    "y_df[y_df['y_true'] > y_df['y_pred']].head(10)"
   ]
  },
  {
   "cell_type": "markdown",
   "metadata": {
    "colab_type": "text",
    "id": "497ipVCMk3Je"
   },
   "source": [
    "### MAE (Mean Absolute Error)"
   ]
  },
  {
   "cell_type": "markdown",
   "metadata": {
    "colab_type": "text",
    "id": "PXCB5wylk3Je"
   },
   "source": [
    "MAE(Mean Absolute Error)는 실제값과 예측값의 차이를 **절댓값**으로 변환해 평균한 것입니다. \n",
    "$$ MAE = \\frac{1}{n}\\sum_{i=1}^{n}\\left|Y_{i}-\\hat{Y}_{i}\\right| $$\n",
    "\n",
    "MAE를 구하는 기능은 다음과 같이 구현할 수 있습니다. "
   ]
  },
  {
   "cell_type": "code",
   "execution_count": 16,
   "metadata": {
    "colab": {},
    "colab_type": "code",
    "id": "bTn4Ll-Ik3Jf",
    "outputId": "920b88ad-844d-4b77-ab19-58535cc25a92"
   },
   "outputs": [
    {
     "data": {
      "text/plain": [
       "2.4553999999999996"
      ]
     },
     "execution_count": 16,
     "metadata": {},
     "output_type": "execute_result"
    }
   ],
   "source": [
    "# 예측값과 실제값의 차이의 절댓값을 평균하여 mae_1에 저장합니다.\n",
    "mae_1 = abs(y_pred - y_true).mean()\n",
    "\n",
    "# 결과를 출력합니다.\n",
    "mae_1"
   ]
  },
  {
   "cell_type": "markdown",
   "metadata": {
    "colab_type": "text",
    "id": "UpLPNa0ik3Jh"
   },
   "source": [
    "사이킷런은 MAE를 계산하는 **mean_absolute_error()** 함수를 제공합니다. 첫 번째 파라미터로 실제값을, 두 번째 파라미터로 예측값을 입력하면 됩니다. "
   ]
  },
  {
   "cell_type": "code",
   "execution_count": 17,
   "metadata": {
    "colab": {},
    "colab_type": "code",
    "id": "nHCS-1xEk3Ji",
    "outputId": "02ba2da1-0eaf-4a81-aeb0-8f6a2a2a2083"
   },
   "outputs": [
    {
     "data": {
      "text/plain": [
       "2.4553999999999996"
      ]
     },
     "execution_count": 17,
     "metadata": {},
     "output_type": "execute_result"
    }
   ],
   "source": [
    "# 사이킷런의 mean_absolute_error를 불러옵니다.\n",
    "from sklearn.metrics import mean_absolute_error\n",
    "\n",
    "# mean_absolute_error()는 실제값과 예측값을 입력받습니다.\n",
    "mae_2 = mean_absolute_error(y_true, y_pred)\n",
    "\n",
    "# 결과를 출력합니다.\n",
    "mae_2"
   ]
  },
  {
   "cell_type": "markdown",
   "metadata": {
    "colab_type": "text",
    "id": "Thmo3TG-k3Jk"
   },
   "source": [
    "### MSE (Mean Squared Error)"
   ]
  },
  {
   "cell_type": "markdown",
   "metadata": {
    "colab_type": "text",
    "id": "IBK5_U57k3Jl"
   },
   "source": [
    "MSE(Mean Squared Error)는 실제값과 예측값의 차이를 **제곱**해 평균한 것입니다. \n",
    "$$ MSE = \\frac{1}{n}\\sum_{i=1}^{n}(Y_{i}-\\hat{Y}_{i})^2 $$\n",
    "\n",
    "MSE를 구하는 기능은 다음과 같이 구현할 수 있습니다. "
   ]
  },
  {
   "cell_type": "code",
   "execution_count": 18,
   "metadata": {
    "colab": {},
    "colab_type": "code",
    "id": "e3wHCyclk3Jm",
    "outputId": "62654f4a-b68b-45d0-fedb-b2c6d25a3ac2"
   },
   "outputs": [
    {
     "data": {
      "text/plain": [
       "11.154420000000002"
      ]
     },
     "execution_count": 18,
     "metadata": {},
     "output_type": "execute_result"
    }
   ],
   "source": [
    "# 예측값과 실제값의 차의 제곱을 평균한 것을 mse_1에 저장합니다.\n",
    "mse_1 = ((y_pred - y_true)**2).mean()\n",
    "\n",
    "# 결과를 출력합니다.\n",
    "mse_1"
   ]
  },
  {
   "cell_type": "markdown",
   "metadata": {
    "colab_type": "text",
    "id": "3sbakoVfk3Jo"
   },
   "source": [
    "사이킷런은 MSE를 계산하는 **mean_squared_error()** 함수를 제공합니다. 첫 번째 파라미터로 실제값을, 두 번째 파라미터로 예측값을 입력하면 됩니다."
   ]
  },
  {
   "cell_type": "code",
   "execution_count": 19,
   "metadata": {
    "colab": {},
    "colab_type": "code",
    "id": "wdNx7SFvk3Jp",
    "outputId": "b52879a8-95e2-4554-d6cf-93c81312908b"
   },
   "outputs": [
    {
     "data": {
      "text/plain": [
       "11.154420000000002"
      ]
     },
     "execution_count": 19,
     "metadata": {},
     "output_type": "execute_result"
    }
   ],
   "source": [
    "# 사이킷런의 mean_squared_error를 불러옵니다.\n",
    "from sklearn.metrics import mean_squared_error\n",
    "\n",
    "# mean_squared_error()는 실제값, 예측값을 입력받습니다.\n",
    "mse_2 = mean_squared_error(y_true, y_pred)\n",
    "\n",
    "# 결과를 출력합니다.\n",
    "mse_2"
   ]
  },
  {
   "cell_type": "markdown",
   "metadata": {
    "colab_type": "text",
    "id": "NWuca5jTk3Jq"
   },
   "source": [
    "### RMSE (Root Mean Squared Error)"
   ]
  },
  {
   "cell_type": "markdown",
   "metadata": {
    "colab_type": "text",
    "id": "IvlWPWgyk3Jr"
   },
   "source": [
    "RMSE(Root Mean Squared Error)는 MSE가 오류의 제곱을 구하므로 실제 오류 평균보다 더 커지는 특성이 있으므로 MSE에 **루트**를 씌운 것입니다.\n",
    "$$ RMSE = \\sqrt{\\frac{1}{n}\\sum_{i=1}^{n}(Y_{i}-\\hat{Y}_{i})^2} $$\n",
    "\n",
    "사이킷런은 RMSE를 제공하지 않으므로 RMSE를 구하기 위해서는 MSE에 제곱근을 씌워서 계산하는 함수를 직접 만들어야 합니다. "
   ]
  },
  {
   "cell_type": "code",
   "execution_count": 20,
   "metadata": {
    "colab": {},
    "colab_type": "code",
    "id": "6vaF5Imzk3Js",
    "outputId": "f48d58fe-aea3-41c8-c88a-676890c19452"
   },
   "outputs": [
    {
     "data": {
      "text/plain": [
       "3.3398233486219002"
      ]
     },
     "execution_count": 20,
     "metadata": {},
     "output_type": "execute_result"
    }
   ],
   "source": [
    "# 예측값과 실제값의 차의 제곱을 평균하여 mse에 저장합니다.\n",
    "mse = ((y_pred - y_true)**2).mean()\n",
    "\n",
    "# np.sqrt()는 제곱근을 계산해줍니다.\n",
    "rmse = np.sqrt(mse)\n",
    "\n",
    "# 결과를 출력합니다.\n",
    "rmse"
   ]
  },
  {
   "cell_type": "markdown",
   "metadata": {
    "colab_type": "text",
    "id": "tIjDUHWJk3Jv"
   },
   "source": [
    "### MSLE (Mean Squared Logarithmic Error)"
   ]
  },
  {
   "cell_type": "markdown",
   "metadata": {
    "colab_type": "text",
    "id": "FIwvQCX4k3Jv"
   },
   "source": [
    "MSLE(Mean Squared Logarithmic Error)는 실제값에 로그를 취한 값과 예측값에 로그를 취한 값의 차이를 **제곱**해 평균한 것입니다. \n",
    "\n",
    "$$ MSLE = \\frac{1}{n}\\sum_{i=1}^{n}(\\log{(p_{i}+1)}-\\log{(a_{i}+1)})^2 $$\n",
    "\n",
    "MSLE를 구하는 기능은 다음과 같이 구현할 수 있습니다. "
   ]
  },
  {
   "cell_type": "code",
   "execution_count": 21,
   "metadata": {
    "colab": {},
    "colab_type": "code",
    "id": "ay1exJ-Wk3Jw",
    "outputId": "8a33ef7f-28e5-443e-cf57-6a0801909877"
   },
   "outputs": [
    {
     "data": {
      "text/plain": [
       "0.0013293626548196936"
      ]
     },
     "execution_count": 21,
     "metadata": {},
     "output_type": "execute_result"
    }
   ],
   "source": [
    "# np.log1p(x)는 log(1 + x)를 계산해줍니다.\n",
    "msle_1 = ((np.log1p(y_pred) - np.log1p(y_true))**2).mean()\n",
    "\n",
    "# 결과를 출력합니다.\n",
    "msle_1"
   ]
  },
  {
   "cell_type": "markdown",
   "metadata": {
    "colab_type": "text",
    "id": "9nSNRcREk3Jz"
   },
   "source": [
    "사이킷런은 MSLE를 계산하는 **mean_squared_log_error()** 함수를 제공합니다. 첫 번째 파라미터로 실제값을, 두 번째 파라미터로 예측값을 입력하면 됩니다."
   ]
  },
  {
   "cell_type": "code",
   "execution_count": 22,
   "metadata": {
    "colab": {},
    "colab_type": "code",
    "id": "ogGzbplzk3Jz",
    "outputId": "ac0b4bc0-a547-4216-edd4-602b4fd7a9d6"
   },
   "outputs": [
    {
     "data": {
      "text/plain": [
       "0.0013293626548196936"
      ]
     },
     "execution_count": 22,
     "metadata": {},
     "output_type": "execute_result"
    }
   ],
   "source": [
    "# 사이킷런의 mean_squared_log_error를 불러옵니다.\n",
    "from sklearn.metrics import mean_squared_log_error\n",
    "\n",
    "# mean_squared_log_error는 실제값과 예측값을 입력받습니다.\n",
    "msle_2 = mean_squared_log_error(y_true, y_pred)\n",
    "\n",
    "# 결과를 출력합니다.\n",
    "msle_2"
   ]
  },
  {
   "cell_type": "markdown",
   "metadata": {
    "colab_type": "text",
    "id": "z0DnSjw_k3J1"
   },
   "source": [
    "### RMSLE (Root Mean Squared Logarithmic Error)"
   ]
  },
  {
   "cell_type": "markdown",
   "metadata": {
    "colab_type": "text",
    "id": "d8Mvcdauk3J1"
   },
   "source": [
    "RMSLE(Root Mean Squared Logarithmic Error)는 MSLE가 오류의 제곱을 구하므로 실제 오류 평균보다 더 커지는 특성이 있으므로 MSLE에 **루트**를 씌운 것입니다.\n",
    "\n",
    "$$ RMSLE = \\sqrt{\\frac{1}{n}\\sum_{i=1}^{n}(\\log{(p_{i}+1)}-\\log{(a_{i}+1)})^2} $$\n",
    "\n",
    "사이킷런은 RMSLE를 제공하지 않으므로 RMSLE를 구하기 위해서는 MSLE에 제곱근을 씌워서 계산하는 함수를 직접 만들어야 합니다. "
   ]
  },
  {
   "cell_type": "code",
   "execution_count": 23,
   "metadata": {
    "colab": {},
    "colab_type": "code",
    "id": "zOslpW0Sk3J2",
    "outputId": "1fd29b22-d634-4e77-e8c0-a5e35dd6bccf"
   },
   "outputs": [
    {
     "data": {
      "text/plain": [
       "0.03646042587271429"
      ]
     },
     "execution_count": 23,
     "metadata": {},
     "output_type": "execute_result"
    }
   ],
   "source": [
    "# np.log1p(x)는 log(1 + x)를 계산해줍니다.\n",
    "msle = ((np.log1p(y_pred) - np.log1p(y_true))**2).mean()\n",
    "\n",
    "# np.sqrt()는 제곱근을 계산해줍니다.\n",
    "rmsle = np.sqrt(msle)\n",
    "\n",
    "# 결과를 출력합니다.\n",
    "rmsle"
   ]
  },
  {
   "cell_type": "markdown",
   "metadata": {
    "colab_type": "text",
    "id": "C6ROGyHWk3J3"
   },
   "source": [
    "### R^2"
   ]
  },
  {
   "cell_type": "markdown",
   "metadata": {
    "colab_type": "text",
    "id": "yUzWdhTtk3J4"
   },
   "source": [
    "R^2는 분산 기반으로 예측 성능을 평가합니다. 실제값의 분산 대비 예측값의 분산 비율을 지표로 하며, 1에 가까울수록 예측 정확도가 높습니다. \n",
    "\n",
    "$$ R^2 = 1 - \\frac{SS_{res}}{SS_{tot}} = 1 - \\frac{\\sum_{i=1}^{n}(Y_{i}-\\hat{Y}_{i})^2}{\\sum_{i=1}^{n}(Y_{i}-\\bar{Y})^2} $$\n",
    "\n",
    "R^2를 구하는 기능은 다음과 같이 구현할 수 있습니다."
   ]
  },
  {
   "cell_type": "code",
   "execution_count": 24,
   "metadata": {
    "colab": {},
    "colab_type": "code",
    "id": "GEIziJzRk3J4",
    "outputId": "6d01c1c6-7804-46d8-da4a-87ee520e748b"
   },
   "outputs": [
    {
     "data": {
      "text/plain": [
       "0.9998348383127511"
      ]
     },
     "execution_count": 24,
     "metadata": {},
     "output_type": "execute_result"
    }
   ],
   "source": [
    "ssres = sum((y_true - y_pred)**2)\n",
    "sstot = sum((y_true - y_true.mean())**2)\n",
    "r2_1 = 1 - ssres / sstot\n",
    "\n",
    "# 결과를 출력합니다.\n",
    "r2_1"
   ]
  },
  {
   "cell_type": "markdown",
   "metadata": {
    "colab_type": "text",
    "id": "1MD5lpXvk3J-"
   },
   "source": [
    "사이킷런은 R^2를 계산하는 **r2_score()** 함수를 제공합니다. 첫 번째 파라미터로 실제값을, 두 번째 파라미터로 예측값을 입력하면 됩니다."
   ]
  },
  {
   "cell_type": "code",
   "execution_count": 25,
   "metadata": {
    "colab": {},
    "colab_type": "code",
    "id": "4ggOfg2Kk3J-",
    "outputId": "6e52aa96-0081-4a05-998b-49a20b97e9c8"
   },
   "outputs": [
    {
     "data": {
      "text/plain": [
       "0.9998348383127511"
      ]
     },
     "execution_count": 25,
     "metadata": {},
     "output_type": "execute_result"
    }
   ],
   "source": [
    "# 사이킷런의 r2_score를 불러옵니다.\n",
    "from sklearn.metrics import r2_score\n",
    "\n",
    "# r2_score는 실제값과 예측값을 입력받습니다.\n",
    "r2_2 = r2_score(y_true, y_pred)\n",
    "\n",
    "# 결과를 출력합니다.\n",
    "r2_2"
   ]
  },
  {
   "cell_type": "markdown",
   "metadata": {
    "colab_type": "text",
    "id": "w0wUhYwzk3KC"
   },
   "source": [
    "### MAPE (Mean Absolute Percentage Error)"
   ]
  },
  {
   "cell_type": "markdown",
   "metadata": {
    "colab_type": "text",
    "id": "eXCKB8JJk3KD"
   },
   "source": [
    "MAE(Mean Absolute Percentage Error)는 Scale Dependent Error의 단점을 커버하는 지표입니다. MAPE의 공식은 아래와 같습니다. \n",
    "$$ MAPE = \\frac{100}{n}\\sum_{i=1}^{n}\\left|\\frac{Y_{i}-\\hat{Y}_{i}}{Y_{i}}\\right| $$\n",
    "\n",
    "MAPE는 예측값과 실제값의 차이를 실제값으로 나눈 값의 절댓값을 평균한 후 100을 곱하여 백분율로 표현합니다. "
   ]
  },
  {
   "cell_type": "code",
   "execution_count": 26,
   "metadata": {
    "colab": {},
    "colab_type": "code",
    "id": "gXtbp59Qk3KD",
    "outputId": "43fbbc76-054f-489a-b79f-19c001c26149"
   },
   "outputs": [
    {
     "data": {
      "text/plain": [
       "1.4047387019553468"
      ]
     },
     "execution_count": 26,
     "metadata": {},
     "output_type": "execute_result"
    }
   ],
   "source": [
    "# 실제값 대비 예측값과 실제값의 차이의 절댓값을 평균하여 100을 곱합니다.\n",
    "mape = (abs(y_true - y_pred) / y_true).mean() * 100 \n",
    "\n",
    "# 결과를 출력합니다.\n",
    "mape"
   ]
  }
 ],
 "metadata": {
  "colab": {
   "name": "07_Model_Evaluation-v2(수정중).ipynb",
   "provenance": []
  },
  "kernelspec": {
   "display_name": "Python 3",
   "language": "python",
   "name": "python3"
  },
  "language_info": {
   "codemirror_mode": {
    "name": "ipython",
    "version": 3
   },
   "file_extension": ".py",
   "mimetype": "text/x-python",
   "name": "python",
   "nbconvert_exporter": "python",
   "pygments_lexer": "ipython3",
   "version": "3.8.8"
  }
 },
 "nbformat": 4,
 "nbformat_minor": 1
}
