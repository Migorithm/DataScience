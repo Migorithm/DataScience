{
 "cells": [
  {
   "cell_type": "markdown",
   "id": "a583ec51",
   "metadata": {},
   "source": [
    "### Module\n",
    "- cx_Oracle\n",
    "- pandas/numpy"
   ]
  },
  {
   "cell_type": "code",
   "execution_count": 1,
   "id": "90fbf75b",
   "metadata": {},
   "outputs": [
    {
     "name": "stdout",
     "output_type": "stream",
     "text": [
      "Collecting cx_Oracle\n",
      "  Downloading cx_Oracle-8.2.1-cp38-cp38-win_amd64.whl (219 kB)\n",
      "Installing collected packages: cx-Oracle\n",
      "Successfully installed cx-Oracle-8.2.1\n"
     ]
    }
   ],
   "source": [
    "!pip install cx_Oracle"
   ]
  },
  {
   "cell_type": "code",
   "execution_count": 1,
   "id": "b0869f37",
   "metadata": {},
   "outputs": [],
   "source": [
    "import cx_Oracle\n",
    "import pandas as pd\n",
    "import numpy as np\n"
   ]
  },
  {
   "cell_type": "markdown",
   "id": "6a7bfcb8",
   "metadata": {},
   "source": [
    "### Connecting to oracle"
   ]
  },
  {
   "cell_type": "code",
   "execution_count": 2,
   "id": "e79d1484",
   "metadata": {},
   "outputs": [],
   "source": [
    "dsn = cx_Oracle.makedsn(\"localhost\", 1521, service_name=\"XE\")\n",
    "connection = cx_Oracle.connect(user=\"migo\", password=\"admin1234\", dsn=dsn,\n",
    "                               encoding=\"UTF-8\")\n"
   ]
  },
  {
   "cell_type": "markdown",
   "id": "825c4b06",
   "metadata": {},
   "source": [
    "#### Getting a cursor, pull data"
   ]
  },
  {
   "cell_type": "code",
   "execution_count": 3,
   "id": "04bdf97c",
   "metadata": {},
   "outputs": [],
   "source": [
    "cur = connection.cursor()"
   ]
  },
  {
   "cell_type": "code",
   "execution_count": 4,
   "id": "e7818a8f",
   "metadata": {},
   "outputs": [
    {
     "data": {
      "text/html": [
       "<div>\n",
       "<style scoped>\n",
       "    .dataframe tbody tr th:only-of-type {\n",
       "        vertical-align: middle;\n",
       "    }\n",
       "\n",
       "    .dataframe tbody tr th {\n",
       "        vertical-align: top;\n",
       "    }\n",
       "\n",
       "    .dataframe thead th {\n",
       "        text-align: right;\n",
       "    }\n",
       "</style>\n",
       "<table border=\"1\" class=\"dataframe\">\n",
       "  <thead>\n",
       "    <tr style=\"text-align: right;\">\n",
       "      <th></th>\n",
       "      <th>UserID</th>\n",
       "      <th>Password</th>\n",
       "    </tr>\n",
       "  </thead>\n",
       "  <tbody>\n",
       "    <tr>\n",
       "      <th>0</th>\n",
       "      <td>walnut</td>\n",
       "      <td>admin1234</td>\n",
       "    </tr>\n",
       "    <tr>\n",
       "      <th>1</th>\n",
       "      <td>almond</td>\n",
       "      <td>admin1234</td>\n",
       "    </tr>\n",
       "    <tr>\n",
       "      <th>2</th>\n",
       "      <td>smith</td>\n",
       "      <td>admin1234</td>\n",
       "    </tr>\n",
       "    <tr>\n",
       "      <th>3</th>\n",
       "      <td>migo</td>\n",
       "      <td>admin1234</td>\n",
       "    </tr>\n",
       "    <tr>\n",
       "      <th>4</th>\n",
       "      <td>khan</td>\n",
       "      <td>admin1234</td>\n",
       "    </tr>\n",
       "    <tr>\n",
       "      <th>5</th>\n",
       "      <td>encore</td>\n",
       "      <td>admin1234</td>\n",
       "    </tr>\n",
       "  </tbody>\n",
       "</table>\n",
       "</div>"
      ],
      "text/plain": [
       "   UserID   Password\n",
       "0  walnut  admin1234\n",
       "1  almond  admin1234\n",
       "2   smith  admin1234\n",
       "3    migo  admin1234\n",
       "4    khan  admin1234\n",
       "5  encore  admin1234"
      ]
     },
     "execution_count": 4,
     "metadata": {},
     "output_type": "execute_result"
    }
   ],
   "source": [
    "cur.execute(\"SELECT * FROM CHAT_USER\")\n",
    "lst = []\n",
    "for i in cur:\n",
    "    lst.append(i)\n",
    "    \n",
    "pd.DataFrame(lst,columns=['UserID','Password'])"
   ]
  }
 ],
 "metadata": {
  "kernelspec": {
   "display_name": "Python 3",
   "language": "python",
   "name": "python3"
  },
  "language_info": {
   "codemirror_mode": {
    "name": "ipython",
    "version": 3
   },
   "file_extension": ".py",
   "mimetype": "text/x-python",
   "name": "python",
   "nbconvert_exporter": "python",
   "pygments_lexer": "ipython3",
   "version": "3.8.8"
  },
  "toc": {
   "base_numbering": 1,
   "nav_menu": {},
   "number_sections": true,
   "sideBar": true,
   "skip_h1_title": false,
   "title_cell": "Table of Contents",
   "title_sidebar": "Contents",
   "toc_cell": false,
   "toc_position": {},
   "toc_section_display": true,
   "toc_window_display": false
  }
 },
 "nbformat": 4,
 "nbformat_minor": 5
}
