{
 "cells": [
  {
   "cell_type": "code",
   "execution_count": 2,
   "id": "d1f12b83",
   "metadata": {},
   "outputs": [],
   "source": [
    "from sklearn.tree import DecisionTreeClassifier\n",
    "from sklearn.datasets import load_breast_cancer\n",
    "from sklearn.model_selection import train_test_split"
   ]
  },
  {
   "cell_type": "code",
   "execution_count": 3,
   "id": "2979593b",
   "metadata": {
    "scrolled": true
   },
   "outputs": [
    {
     "data": {
      "text/plain": [
       "{'data': array([[1.799e+01, 1.038e+01, 1.228e+02, ..., 2.654e-01, 4.601e-01,\n",
       "         1.189e-01],\n",
       "        [2.057e+01, 1.777e+01, 1.329e+02, ..., 1.860e-01, 2.750e-01,\n",
       "         8.902e-02],\n",
       "        [1.969e+01, 2.125e+01, 1.300e+02, ..., 2.430e-01, 3.613e-01,\n",
       "         8.758e-02],\n",
       "        ...,\n",
       "        [1.660e+01, 2.808e+01, 1.083e+02, ..., 1.418e-01, 2.218e-01,\n",
       "         7.820e-02],\n",
       "        [2.060e+01, 2.933e+01, 1.401e+02, ..., 2.650e-01, 4.087e-01,\n",
       "         1.240e-01],\n",
       "        [7.760e+00, 2.454e+01, 4.792e+01, ..., 0.000e+00, 2.871e-01,\n",
       "         7.039e-02]]),\n",
       " 'target': array([0, 0, 0, 0, 0, 0, 0, 0, 0, 0, 0, 0, 0, 0, 0, 0, 0, 0, 0, 1, 1, 1,\n",
       "        0, 0, 0, 0, 0, 0, 0, 0, 0, 0, 0, 0, 0, 0, 0, 1, 0, 0, 0, 0, 0, 0,\n",
       "        0, 0, 1, 0, 1, 1, 1, 1, 1, 0, 0, 1, 0, 0, 1, 1, 1, 1, 0, 1, 0, 0,\n",
       "        1, 1, 1, 1, 0, 1, 0, 0, 1, 0, 1, 0, 0, 1, 1, 1, 0, 0, 1, 0, 0, 0,\n",
       "        1, 1, 1, 0, 1, 1, 0, 0, 1, 1, 1, 0, 0, 1, 1, 1, 1, 0, 1, 1, 0, 1,\n",
       "        1, 1, 1, 1, 1, 1, 1, 0, 0, 0, 1, 0, 0, 1, 1, 1, 0, 0, 1, 0, 1, 0,\n",
       "        0, 1, 0, 0, 1, 1, 0, 1, 1, 0, 1, 1, 1, 1, 0, 1, 1, 1, 1, 1, 1, 1,\n",
       "        1, 1, 0, 1, 1, 1, 1, 0, 0, 1, 0, 1, 1, 0, 0, 1, 1, 0, 0, 1, 1, 1,\n",
       "        1, 0, 1, 1, 0, 0, 0, 1, 0, 1, 0, 1, 1, 1, 0, 1, 1, 0, 0, 1, 0, 0,\n",
       "        0, 0, 1, 0, 0, 0, 1, 0, 1, 0, 1, 1, 0, 1, 0, 0, 0, 0, 1, 1, 0, 0,\n",
       "        1, 1, 1, 0, 1, 1, 1, 1, 1, 0, 0, 1, 1, 0, 1, 1, 0, 0, 1, 0, 1, 1,\n",
       "        1, 1, 0, 1, 1, 1, 1, 1, 0, 1, 0, 0, 0, 0, 0, 0, 0, 0, 0, 0, 0, 0,\n",
       "        0, 0, 1, 1, 1, 1, 1, 1, 0, 1, 0, 1, 1, 0, 1, 1, 0, 1, 0, 0, 1, 1,\n",
       "        1, 1, 1, 1, 1, 1, 1, 1, 1, 1, 1, 0, 1, 1, 0, 1, 0, 1, 1, 1, 1, 1,\n",
       "        1, 1, 1, 1, 1, 1, 1, 1, 1, 0, 1, 1, 1, 0, 1, 0, 1, 1, 1, 1, 0, 0,\n",
       "        0, 1, 1, 1, 1, 0, 1, 0, 1, 0, 1, 1, 1, 0, 1, 1, 1, 1, 1, 1, 1, 0,\n",
       "        0, 0, 1, 1, 1, 1, 1, 1, 1, 1, 1, 1, 1, 0, 0, 1, 0, 0, 0, 1, 0, 0,\n",
       "        1, 1, 1, 1, 1, 0, 1, 1, 1, 1, 1, 0, 1, 1, 1, 0, 1, 1, 0, 0, 1, 1,\n",
       "        1, 1, 1, 1, 0, 1, 1, 1, 1, 1, 1, 1, 0, 1, 1, 1, 1, 1, 0, 1, 1, 0,\n",
       "        1, 1, 1, 1, 1, 1, 1, 1, 1, 1, 1, 1, 0, 1, 0, 0, 1, 0, 1, 1, 1, 1,\n",
       "        1, 0, 1, 1, 0, 1, 0, 1, 1, 0, 1, 0, 1, 1, 1, 1, 1, 1, 1, 1, 0, 0,\n",
       "        1, 1, 1, 1, 1, 1, 0, 1, 1, 1, 1, 1, 1, 1, 1, 1, 1, 0, 1, 1, 1, 1,\n",
       "        1, 1, 1, 0, 1, 0, 1, 1, 0, 1, 1, 1, 1, 1, 0, 0, 1, 0, 1, 0, 1, 1,\n",
       "        1, 1, 1, 0, 1, 1, 0, 1, 0, 1, 0, 0, 1, 1, 1, 0, 1, 1, 1, 1, 1, 1,\n",
       "        1, 1, 1, 1, 1, 0, 1, 0, 0, 1, 1, 1, 1, 1, 1, 1, 1, 1, 1, 1, 1, 1,\n",
       "        1, 1, 1, 1, 1, 1, 1, 1, 1, 1, 1, 1, 0, 0, 0, 0, 0, 0, 1]),\n",
       " 'frame': None,\n",
       " 'target_names': array(['malignant', 'benign'], dtype='<U9'),\n",
       " 'DESCR': '.. _breast_cancer_dataset:\\n\\nBreast cancer wisconsin (diagnostic) dataset\\n--------------------------------------------\\n\\n**Data Set Characteristics:**\\n\\n    :Number of Instances: 569\\n\\n    :Number of Attributes: 30 numeric, predictive attributes and the class\\n\\n    :Attribute Information:\\n        - radius (mean of distances from center to points on the perimeter)\\n        - texture (standard deviation of gray-scale values)\\n        - perimeter\\n        - area\\n        - smoothness (local variation in radius lengths)\\n        - compactness (perimeter^2 / area - 1.0)\\n        - concavity (severity of concave portions of the contour)\\n        - concave points (number of concave portions of the contour)\\n        - symmetry\\n        - fractal dimension (\"coastline approximation\" - 1)\\n\\n        The mean, standard error, and \"worst\" or largest (mean of the three\\n        worst/largest values) of these features were computed for each image,\\n        resulting in 30 features.  For instance, field 0 is Mean Radius, field\\n        10 is Radius SE, field 20 is Worst Radius.\\n\\n        - class:\\n                - WDBC-Malignant\\n                - WDBC-Benign\\n\\n    :Summary Statistics:\\n\\n    ===================================== ====== ======\\n                                           Min    Max\\n    ===================================== ====== ======\\n    radius (mean):                        6.981  28.11\\n    texture (mean):                       9.71   39.28\\n    perimeter (mean):                     43.79  188.5\\n    area (mean):                          143.5  2501.0\\n    smoothness (mean):                    0.053  0.163\\n    compactness (mean):                   0.019  0.345\\n    concavity (mean):                     0.0    0.427\\n    concave points (mean):                0.0    0.201\\n    symmetry (mean):                      0.106  0.304\\n    fractal dimension (mean):             0.05   0.097\\n    radius (standard error):              0.112  2.873\\n    texture (standard error):             0.36   4.885\\n    perimeter (standard error):           0.757  21.98\\n    area (standard error):                6.802  542.2\\n    smoothness (standard error):          0.002  0.031\\n    compactness (standard error):         0.002  0.135\\n    concavity (standard error):           0.0    0.396\\n    concave points (standard error):      0.0    0.053\\n    symmetry (standard error):            0.008  0.079\\n    fractal dimension (standard error):   0.001  0.03\\n    radius (worst):                       7.93   36.04\\n    texture (worst):                      12.02  49.54\\n    perimeter (worst):                    50.41  251.2\\n    area (worst):                         185.2  4254.0\\n    smoothness (worst):                   0.071  0.223\\n    compactness (worst):                  0.027  1.058\\n    concavity (worst):                    0.0    1.252\\n    concave points (worst):               0.0    0.291\\n    symmetry (worst):                     0.156  0.664\\n    fractal dimension (worst):            0.055  0.208\\n    ===================================== ====== ======\\n\\n    :Missing Attribute Values: None\\n\\n    :Class Distribution: 212 - Malignant, 357 - Benign\\n\\n    :Creator:  Dr. William H. Wolberg, W. Nick Street, Olvi L. Mangasarian\\n\\n    :Donor: Nick Street\\n\\n    :Date: November, 1995\\n\\nThis is a copy of UCI ML Breast Cancer Wisconsin (Diagnostic) datasets.\\nhttps://goo.gl/U2Uwz2\\n\\nFeatures are computed from a digitized image of a fine needle\\naspirate (FNA) of a breast mass.  They describe\\ncharacteristics of the cell nuclei present in the image.\\n\\nSeparating plane described above was obtained using\\nMultisurface Method-Tree (MSM-T) [K. P. Bennett, \"Decision Tree\\nConstruction Via Linear Programming.\" Proceedings of the 4th\\nMidwest Artificial Intelligence and Cognitive Science Society,\\npp. 97-101, 1992], a classification method which uses linear\\nprogramming to construct a decision tree.  Relevant features\\nwere selected using an exhaustive search in the space of 1-4\\nfeatures and 1-3 separating planes.\\n\\nThe actual linear program used to obtain the separating plane\\nin the 3-dimensional space is that described in:\\n[K. P. Bennett and O. L. Mangasarian: \"Robust Linear\\nProgramming Discrimination of Two Linearly Inseparable Sets\",\\nOptimization Methods and Software 1, 1992, 23-34].\\n\\nThis database is also available through the UW CS ftp server:\\n\\nftp ftp.cs.wisc.edu\\ncd math-prog/cpo-dataset/machine-learn/WDBC/\\n\\n.. topic:: References\\n\\n   - W.N. Street, W.H. Wolberg and O.L. Mangasarian. Nuclear feature extraction \\n     for breast tumor diagnosis. IS&T/SPIE 1993 International Symposium on \\n     Electronic Imaging: Science and Technology, volume 1905, pages 861-870,\\n     San Jose, CA, 1993.\\n   - O.L. Mangasarian, W.N. Street and W.H. Wolberg. Breast cancer diagnosis and \\n     prognosis via linear programming. Operations Research, 43(4), pages 570-577, \\n     July-August 1995.\\n   - W.H. Wolberg, W.N. Street, and O.L. Mangasarian. Machine learning techniques\\n     to diagnose breast cancer from fine-needle aspirates. Cancer Letters 77 (1994) \\n     163-171.',\n",
       " 'feature_names': array(['mean radius', 'mean texture', 'mean perimeter', 'mean area',\n",
       "        'mean smoothness', 'mean compactness', 'mean concavity',\n",
       "        'mean concave points', 'mean symmetry', 'mean fractal dimension',\n",
       "        'radius error', 'texture error', 'perimeter error', 'area error',\n",
       "        'smoothness error', 'compactness error', 'concavity error',\n",
       "        'concave points error', 'symmetry error',\n",
       "        'fractal dimension error', 'worst radius', 'worst texture',\n",
       "        'worst perimeter', 'worst area', 'worst smoothness',\n",
       "        'worst compactness', 'worst concavity', 'worst concave points',\n",
       "        'worst symmetry', 'worst fractal dimension'], dtype='<U23'),\n",
       " 'filename': 'C:\\\\anaconda3\\\\lib\\\\site-packages\\\\sklearn\\\\datasets\\\\data\\\\breast_cancer.csv'}"
      ]
     },
     "execution_count": 3,
     "metadata": {},
     "output_type": "execute_result"
    }
   ],
   "source": [
    "cancer = load_breast_cancer()\n",
    "cancer"
   ]
  },
  {
   "cell_type": "markdown",
   "id": "5a2b41f8",
   "metadata": {},
   "source": [
    "### sklearn data 조회 및 핸들링하기"
   ]
  },
  {
   "cell_type": "code",
   "execution_count": 8,
   "id": "d134ebf4",
   "metadata": {},
   "outputs": [],
   "source": [
    "X= cancer.data #feature\n",
    "y= cancer.target #label"
   ]
  },
  {
   "cell_type": "code",
   "execution_count": 10,
   "id": "289a9bd5",
   "metadata": {},
   "outputs": [
    {
     "name": "stdout",
     "output_type": "stream",
     "text": [
      "Feature_Names \n",
      " : ['mean radius' 'mean texture' 'mean perimeter' 'mean area'\n",
      " 'mean smoothness' 'mean compactness' 'mean concavity'\n",
      " 'mean concave points' 'mean symmetry' 'mean fractal dimension'\n",
      " 'radius error' 'texture error' 'perimeter error' 'area error'\n",
      " 'smoothness error' 'compactness error' 'concavity error'\n",
      " 'concave points error' 'symmetry error' 'fractal dimension error'\n",
      " 'worst radius' 'worst texture' 'worst perimeter' 'worst area'\n",
      " 'worst smoothness' 'worst compactness' 'worst concavity'\n",
      " 'worst concave points' 'worst symmetry' 'worst fractal dimension']\n",
      "****************************************************************************************************\n",
      "Target_Names \n",
      " : ['malignant' 'benign']\n",
      "****************************************************************************************************\n",
      "Cancer Data Shape \n",
      " (569, 30)\n"
     ]
    }
   ],
   "source": [
    "print(\"Feature_Names \\n :\",cancer.feature_names)\n",
    "print(\"*\"*100)\n",
    "print(\"Target_Names \\n :\",cancer.target_names)\n",
    "print(\"*\"*100)\n",
    "print(\"Cancer Data Shape \\n\",cancer.data.shape)"
   ]
  },
  {
   "cell_type": "code",
   "execution_count": 12,
   "id": "719ab2d9",
   "metadata": {
    "scrolled": false
   },
   "outputs": [
    {
     "data": {
      "text/plain": [
       "['DESCR',\n",
       " 'data',\n",
       " 'feature_names',\n",
       " 'filename',\n",
       " 'frame',\n",
       " 'target',\n",
       " 'target_names']"
      ]
     },
     "execution_count": 12,
     "metadata": {},
     "output_type": "execute_result"
    }
   ],
   "source": [
    "#조회\n",
    "dir(cancer)"
   ]
  },
  {
   "cell_type": "code",
   "execution_count": 35,
   "id": "50ef3c40",
   "metadata": {},
   "outputs": [
    {
     "name": "stdout",
     "output_type": "stream",
     "text": [
      "212\n",
      "357\n"
     ]
    }
   ],
   "source": [
    "import numpy as np\n",
    "\n",
    "#악성이 몇개인지 양성이 몇개인지 확인\n",
    "#Imbalanced Data는 머신러닝 넣기 전에 반드시 처리한 후 학습해야 한다.\n",
    "np.bincount(cancer.target)\n",
    "\n",
    "#bincount를 모른다면?\n",
    "print((cancer.target==0).sum())\n",
    "print((cancer.target==1).sum())"
   ]
  },
  {
   "cell_type": "code",
   "execution_count": 43,
   "id": "e8156752",
   "metadata": {},
   "outputs": [
    {
     "name": "stdout",
     "output_type": "stream",
     "text": [
      "1. cancer.keys(): \n",
      "dict_keys(['data', 'target', 'frame', 'target_names', 'DESCR', 'feature_names', 'filename'])\n",
      "----------------------------------------------------------------------------------------------------\n",
      "2. shape of cancer data : \n",
      "(569, 30)\n",
      "----------------------------------------------------------------------------------------------------\n",
      "3. sample count per class : \n",
      "{'malignant': 212, 'benign': 357}\n",
      "----------------------------------------------------------------------------------------------------\n",
      "4. feature names: \n",
      "['mean radius' 'mean texture' 'mean perimeter' 'mean area'\n",
      " 'mean smoothness' 'mean compactness' 'mean concavity'\n",
      " 'mean concave points' 'mean symmetry' 'mean fractal dimension'\n",
      " 'radius error' 'texture error' 'perimeter error' 'area error'\n",
      " 'smoothness error' 'compactness error' 'concavity error'\n",
      " 'concave points error' 'symmetry error' 'fractal dimension error'\n",
      " 'worst radius' 'worst texture' 'worst perimeter' 'worst area'\n",
      " 'worst smoothness' 'worst compactness' 'worst concavity'\n",
      " 'worst concave points' 'worst symmetry' 'worst fractal dimension']\n"
     ]
    }
   ],
   "source": [
    "print(\"1. cancer.keys(): \\n{}\".format(cancer.keys()))\n",
    "print(\"--\"*50)\n",
    "\n",
    "print(\"2. shape of cancer data : \\n{}\".format(cancer.data.shape))\n",
    "print(\"--\"*50)\n",
    "\n",
    "\n",
    "print(\"3. sample count per class : \\n{}\".format(\n",
    "        {n:v for n,v in zip(cancer.target_names,np.bincount(cancer.target))}))\n",
    "#dictionary comprehension! zip을 이용해 key:value 패턴 완성.\n",
    "\n",
    "print(\"--\"*50)\n",
    "print(\"4. feature names: \\n{}\".format(cancer.feature_names))"
   ]
  },
  {
   "cell_type": "code",
   "execution_count": 45,
   "id": "bcf50b7d",
   "metadata": {},
   "outputs": [
    {
     "name": "stdout",
     "output_type": "stream",
     "text": [
      "01 : mean radius\n",
      "02 : mean texture\n",
      "03 : mean perimeter\n",
      "04 : mean area\n",
      "05 : mean smoothness\n",
      "06 : mean compactness\n",
      "07 : mean concavity\n",
      "08 : mean concave points\n",
      "09 : mean symmetry\n",
      "10 : mean fractal dimension\n",
      "11 : radius error\n",
      "12 : texture error\n",
      "13 : perimeter error\n",
      "14 : area error\n",
      "15 : smoothness error\n",
      "16 : compactness error\n",
      "17 : concavity error\n",
      "18 : concave points error\n",
      "19 : symmetry error\n",
      "20 : fractal dimension error\n",
      "21 : worst radius\n",
      "22 : worst texture\n",
      "23 : worst perimeter\n",
      "24 : worst area\n",
      "25 : worst smoothness\n",
      "26 : worst compactness\n",
      "27 : worst concavity\n",
      "28 : worst concave points\n",
      "29 : worst symmetry\n",
      "30 : worst fractal dimension\n"
     ]
    }
   ],
   "source": [
    "for i, name in enumerate(cancer.feature_names,1):\n",
    "    print(\"%02d : %s\" %(i,name))\n",
    "    #퍼센트 표현식. 2칸을 하는데, 0을 허용하여 넣겠다. \n",
    "    "
   ]
  },
  {
   "cell_type": "code",
   "execution_count": 44,
   "id": "a8306516",
   "metadata": {
    "scrolled": true
   },
   "outputs": [
    {
     "data": {
      "text/plain": [
       "array(['mean radius', 'mean texture', 'mean perimeter', 'mean area',\n",
       "       'mean smoothness', 'mean compactness', 'mean concavity',\n",
       "       'mean concave points', 'mean symmetry', 'mean fractal dimension',\n",
       "       'radius error', 'texture error', 'perimeter error', 'area error',\n",
       "       'smoothness error', 'compactness error', 'concavity error',\n",
       "       'concave points error', 'symmetry error',\n",
       "       'fractal dimension error', 'worst radius', 'worst texture',\n",
       "       'worst perimeter', 'worst area', 'worst smoothness',\n",
       "       'worst compactness', 'worst concavity', 'worst concave points',\n",
       "       'worst symmetry', 'worst fractal dimension'], dtype='<U23')"
      ]
     },
     "execution_count": 44,
     "metadata": {},
     "output_type": "execute_result"
    }
   ],
   "source": [
    "cancer.feature_names"
   ]
  },
  {
   "cell_type": "markdown",
   "id": "bff3b5e7",
   "metadata": {},
   "source": [
    "### Split and Shuffle"
   ]
  },
  {
   "cell_type": "code",
   "execution_count": 61,
   "id": "07618f02",
   "metadata": {},
   "outputs": [],
   "source": [
    "X_train, X_test,y_train,y_test = train_test_split(X,y,test_size=0.2,random_state=42)\n"
   ]
  },
  {
   "cell_type": "code",
   "execution_count": null,
   "id": "733baeff",
   "metadata": {},
   "outputs": [],
   "source": []
  },
  {
   "cell_type": "markdown",
   "id": "0fc22c61",
   "metadata": {},
   "source": [
    "#### 모델 생성"
   ]
  },
  {
   "cell_type": "code",
   "execution_count": 62,
   "id": "f4c8f5ec",
   "metadata": {
    "scrolled": true
   },
   "outputs": [
    {
     "data": {
      "text/plain": [
       "DecisionTreeClassifier()"
      ]
     },
     "execution_count": 62,
     "metadata": {},
     "output_type": "execute_result"
    }
   ],
   "source": [
    "dTree = DecisionTreeClassifier()\n",
    "dTree.fit(X_train,y_train)"
   ]
  },
  {
   "cell_type": "code",
   "execution_count": 63,
   "id": "654f81e2",
   "metadata": {},
   "outputs": [
    {
     "data": {
      "text/plain": [
       "array([1, 0, 0, 1, 1, 0, 0, 0, 0, 1, 1, 0, 1, 0, 1, 0, 1, 1, 1, 0, 1, 1,\n",
       "       0, 1, 1, 1, 1, 1, 1, 0, 1, 1, 1, 1, 1, 1, 0, 1, 0, 1, 1, 0, 1, 1,\n",
       "       1, 1, 0, 1, 1, 1, 0, 0, 1, 1, 1, 1, 1, 0, 0, 1, 1, 0, 0, 1, 1, 1,\n",
       "       0, 0, 1, 1, 0, 0, 1, 0, 1, 1, 1, 1, 1, 1, 0, 1, 1, 0, 0, 0, 0, 0,\n",
       "       1, 1, 1, 1, 1, 1, 1, 1, 0, 0, 1, 0, 0, 1, 0, 0, 1, 1, 1, 0, 0, 1,\n",
       "       0, 1, 1, 0])"
      ]
     },
     "execution_count": 63,
     "metadata": {},
     "output_type": "execute_result"
    }
   ],
   "source": [
    "pred = dTree.predict(X_test)\n",
    "pred"
   ]
  },
  {
   "cell_type": "code",
   "execution_count": 65,
   "id": "7d280f95",
   "metadata": {},
   "outputs": [],
   "source": [
    "from sklearn.metrics import accuracy_score"
   ]
  },
  {
   "cell_type": "code",
   "execution_count": 69,
   "id": "1e39d5fd",
   "metadata": {},
   "outputs": [
    {
     "data": {
      "text/plain": [
       "0.9473684210526315"
      ]
     },
     "execution_count": 69,
     "metadata": {},
     "output_type": "execute_result"
    }
   ],
   "source": [
    "score = accuracy_score(pred,y_test,normalize=False) #몇개를 맞췄는가. \n",
    "score = accuracy_score(pred,y_test,normalize=True) #확률값\n",
    "score"
   ]
  },
  {
   "cell_type": "markdown",
   "id": "5473a135",
   "metadata": {},
   "source": [
    "### 특성중요도"
   ]
  },
  {
   "cell_type": "code",
   "execution_count": 72,
   "id": "325f5d04",
   "metadata": {},
   "outputs": [
    {
     "name": "stdout",
     "output_type": "stream",
     "text": [
      "특성중요도 : \n",
      "[0.         0.05847766 0.         0.         0.         0.00627578\n",
      " 0.         0.69141955 0.         0.         0.01198257 0.\n",
      " 0.         0.         0.00123678 0.         0.         0.01593081\n",
      " 0.         0.02662332 0.05229927 0.00937631 0.05149396 0.\n",
      " 0.00923319 0.         0.         0.06565079 0.         0.        ]\n"
     ]
    }
   ],
   "source": [
    "print(\"특성중요도 : \\n{}\".format(dTree.feature_importances_))\n",
    "\n",
    "#이렇게 해서 어떤 피쳐가 무엇을 말하는지 어떻게 아는가?"
   ]
  },
  {
   "cell_type": "code",
   "execution_count": 87,
   "id": "1f7e668a",
   "metadata": {
    "scrolled": true
   },
   "outputs": [
    {
     "data": {
      "image/png": "[encoded data removed]",
      "text/plain": [
       "<Figure size 1080x720 with 1 Axes>"
      ]
     },
     "metadata": {
      "needs_background": "light"
     },
     "output_type": "display_data"
    }
   ],
   "source": [
    "import matplotlib.pyplot as plt\n",
    "def plot_feature_importances(model):\n",
    "    \n",
    "    n_feature = cancer.data.shape[1]\n",
    "    plt.figure(figsize=(15,10))\n",
    "    plt.barh(range(n_feature),model.feature_importances_,align='center') #align\n",
    "    \n",
    "    plt.yticks(np.arange(n_feature),cancer.feature_names) #이름붙이기.\n",
    "    plt.xlabel(\"Feature importance\")\n",
    "    plt.ylabel(\"Index Number of Feats\")\n",
    "plot_feature_importances(dTree)"
   ]
  },
  {
   "cell_type": "code",
   "execution_count": 95,
   "id": "1bc835cb",
   "metadata": {},
   "outputs": [
    {
     "data": {
      "text/plain": [
       "array(['mean radius', 'mean texture', 'mean perimeter', 'mean area',\n",
       "       'mean smoothness', 'mean compactness', 'mean concavity',\n",
       "       'mean concave points', 'mean symmetry', 'mean fractal dimension',\n",
       "       'radius error', 'texture error', 'perimeter error', 'area error',\n",
       "       'smoothness error', 'compactness error', 'concavity error',\n",
       "       'concave points error', 'symmetry error',\n",
       "       'fractal dimension error', 'worst radius', 'worst texture',\n",
       "       'worst perimeter', 'worst area', 'worst smoothness',\n",
       "       'worst compactness', 'worst concavity', 'worst concave points',\n",
       "       'worst symmetry', 'worst fractal dimension'], dtype='<U23')"
      ]
     },
     "execution_count": 95,
     "metadata": {},
     "output_type": "execute_result"
    }
   ],
   "source": []
  },
  {
   "cell_type": "code",
   "execution_count": 49,
   "id": "a3ad69b8",
   "metadata": {},
   "outputs": [
    {
     "data": {
      "text/plain": [
       "17070"
      ]
     },
     "execution_count": 49,
     "metadata": {},
     "output_type": "execute_result"
    }
   ],
   "source": [
    "cancer.data.size"
   ]
  },
  {
   "cell_type": "code",
   "execution_count": 81,
   "id": "05faad10",
   "metadata": {},
   "outputs": [
    {
     "data": {
      "text/plain": [
       "array(['mean radius', 'mean texture', 'mean perimeter', 'mean area',\n",
       "       'mean smoothness', 'mean compactness', 'mean concavity',\n",
       "       'mean concave points', 'mean symmetry', 'mean fractal dimension',\n",
       "       'radius error', 'texture error', 'perimeter error', 'area error',\n",
       "       'smoothness error', 'compactness error', 'concavity error',\n",
       "       'concave points error', 'symmetry error',\n",
       "       'fractal dimension error', 'worst radius', 'worst texture',\n",
       "       'worst perimeter', 'worst area', 'worst smoothness',\n",
       "       'worst compactness', 'worst concavity', 'worst concave points',\n",
       "       'worst symmetry', 'worst fractal dimension'], dtype='<U23')"
      ]
     },
     "execution_count": 81,
     "metadata": {},
     "output_type": "execute_result"
    }
   ],
   "source": [
    "cancer.feature_names"
   ]
  },
  {
   "cell_type": "code",
   "execution_count": 83,
   "id": "042c842b",
   "metadata": {},
   "outputs": [
    {
     "data": {
      "text/plain": [
       "array([[9.029e+00, 1.733e+01, 5.879e+01, ..., 1.750e-01, 4.228e-01,\n",
       "        1.175e-01],\n",
       "       [2.109e+01, 2.657e+01, 1.427e+02, ..., 2.903e-01, 4.098e-01,\n",
       "        1.284e-01],\n",
       "       [9.173e+00, 1.386e+01, 5.920e+01, ..., 5.087e-02, 3.282e-01,\n",
       "        8.490e-02],\n",
       "       ...,\n",
       "       [1.429e+01, 1.682e+01, 9.030e+01, ..., 3.333e-02, 2.458e-01,\n",
       "        6.120e-02],\n",
       "       [1.398e+01, 1.962e+01, 9.112e+01, ..., 1.827e-01, 3.179e-01,\n",
       "        1.055e-01],\n",
       "       [1.218e+01, 2.052e+01, 7.722e+01, ..., 7.431e-02, 2.694e-01,\n",
       "        6.878e-02]])"
      ]
     },
     "execution_count": 83,
     "metadata": {},
     "output_type": "execute_result"
    }
   ],
   "source": [
    "X_train"
   ]
  },
  {
   "cell_type": "code",
   "execution_count": 85,
   "id": "1702a027",
   "metadata": {},
   "outputs": [
    {
     "data": {
      "image/svg+xml": [
       "<?xml version=\"1.0\" encoding=\"UTF-8\" standalone=\"no\"?>\r\n",
       "<!DOCTYPE svg PUBLIC \"-//W3C//DTD SVG 1.1//EN\"\r\n",
       " \"http://www.w3.org/Graphics/SVG/1.1/DTD/svg11.dtd\">\r\n",
       "<!-- Generated by graphviz version 2.38.0 (20140413.2041)\r\n",
       " -->\r\n",
       "<!-- Title: Tree Pages: 1 -->\r\n",
       "<svg width=\"1546pt\" height=\"909pt\"\r\n",
       " viewBox=\"0.00 0.00 1546.00 909.00\" xmlns=\"http://www.w3.org/2000/svg\" xmlns:xlink=\"http://www.w3.org/1999/xlink\">\r\n",
       "<g id=\"graph0\" class=\"graph\" transform=\"scale(1 1) rotate(0) translate(4 905)\">\r\n",
       "<title>Tree</title>\r\n",
       "<polygon fill=\"white\" stroke=\"none\" points=\"-4,4 -4,-905 1542,-905 1542,4 -4,4\"/>\r\n",
       "<!-- 0 -->\r\n",
       "<g id=\"node1\" class=\"node\"><title>0</title>\r\n",
       "<polygon fill=\"#aed7f4\" stroke=\"black\" points=\"1089,-901 900,-901 900,-818 1089,-818 1089,-901\"/>\r\n",
       "<text text-anchor=\"middle\" x=\"994.5\" y=\"-885.8\" font-family=\"Times New Roman,serif\" font-size=\"14.00\">mean concave points &lt;= 0.051</text>\r\n",
       "<text text-anchor=\"middle\" x=\"994.5\" y=\"-870.8\" font-family=\"Times New Roman,serif\" font-size=\"14.00\">gini = 0.467</text>\r\n",
       "<text text-anchor=\"middle\" x=\"994.5\" y=\"-855.8\" font-family=\"Times New Roman,serif\" font-size=\"14.00\">samples = 455</text>\r\n",
       "<text text-anchor=\"middle\" x=\"994.5\" y=\"-840.8\" font-family=\"Times New Roman,serif\" font-size=\"14.00\">value = [169, 286]</text>\r\n",
       "<text text-anchor=\"middle\" x=\"994.5\" y=\"-825.8\" font-family=\"Times New Roman,serif\" font-size=\"14.00\">class = benign</text>\r\n",
       "</g>\r\n",
       "<!-- 1 -->\r\n",
       "<g id=\"node2\" class=\"node\"><title>1</title>\r\n",
       "<polygon fill=\"#45a3e7\" stroke=\"black\" points=\"934.5,-782 794.5,-782 794.5,-699 934.5,-699 934.5,-782\"/>\r\n",
       "<text text-anchor=\"middle\" x=\"864.5\" y=\"-766.8\" font-family=\"Times New Roman,serif\" font-size=\"14.00\">worst radius &lt;= 16.83</text>\r\n",
       "<text text-anchor=\"middle\" x=\"864.5\" y=\"-751.8\" font-family=\"Times New Roman,serif\" font-size=\"14.00\">gini = 0.107</text>\r\n",
       "<text text-anchor=\"middle\" x=\"864.5\" y=\"-736.8\" font-family=\"Times New Roman,serif\" font-size=\"14.00\">samples = 282</text>\r\n",
       "<text text-anchor=\"middle\" x=\"864.5\" y=\"-721.8\" font-family=\"Times New Roman,serif\" font-size=\"14.00\">value = [16, 266]</text>\r\n",
       "<text text-anchor=\"middle\" x=\"864.5\" y=\"-706.8\" font-family=\"Times New Roman,serif\" font-size=\"14.00\">class = benign</text>\r\n",
       "</g>\r\n",
       "<!-- 0&#45;&gt;1 -->\r\n",
       "<g id=\"edge1\" class=\"edge\"><title>0&#45;&gt;1</title>\r\n",
       "<path fill=\"none\" stroke=\"black\" d=\"M949.397,-817.907C939.011,-808.56 927.875,-798.538 917.199,-788.929\"/>\r\n",
       "<polygon fill=\"black\" stroke=\"black\" points=\"919.297,-786.109 909.523,-782.021 914.615,-791.312 919.297,-786.109\"/>\r\n",
       "<text text-anchor=\"middle\" x=\"910.837\" y=\"-803.286\" font-family=\"Times New Roman,serif\" font-size=\"14.00\">True</text>\r\n",
       "</g>\r\n",
       "<!-- 22 -->\r\n",
       "<g id=\"node23\" class=\"node\"><title>22</title>\r\n",
       "<polygon fill=\"#e89153\" stroke=\"black\" points=\"1221,-782 1030,-782 1030,-699 1221,-699 1221,-782\"/>\r\n",
       "<text text-anchor=\"middle\" x=\"1125.5\" y=\"-766.8\" font-family=\"Times New Roman,serif\" font-size=\"14.00\">worst concave points &lt;= 0.147</text>\r\n",
       "<text text-anchor=\"middle\" x=\"1125.5\" y=\"-751.8\" font-family=\"Times New Roman,serif\" font-size=\"14.00\">gini = 0.204</text>\r\n",
       "<text text-anchor=\"middle\" x=\"1125.5\" y=\"-736.8\" font-family=\"Times New Roman,serif\" font-size=\"14.00\">samples = 173</text>\r\n",
       "<text text-anchor=\"middle\" x=\"1125.5\" y=\"-721.8\" font-family=\"Times New Roman,serif\" font-size=\"14.00\">value = [153, 20]</text>\r\n",
       "<text text-anchor=\"middle\" x=\"1125.5\" y=\"-706.8\" font-family=\"Times New Roman,serif\" font-size=\"14.00\">class = malignant</text>\r\n",
       "</g>\r\n",
       "<!-- 0&#45;&gt;22 -->\r\n",
       "<g id=\"edge22\" class=\"edge\"><title>0&#45;&gt;22</title>\r\n",
       "<path fill=\"none\" stroke=\"black\" d=\"M1039.95,-817.907C1050.42,-808.56 1061.64,-798.538 1072.4,-788.929\"/>\r\n",
       "<polygon fill=\"black\" stroke=\"black\" points=\"1075,-791.293 1080.13,-782.021 1070.34,-786.072 1075,-791.293\"/>\r\n",
       "<text text-anchor=\"middle\" x=\"1078.72\" y=\"-803.281\" font-family=\"Times New Roman,serif\" font-size=\"14.00\">False</text>\r\n",
       "</g>\r\n",
       "<!-- 2 -->\r\n",
       "<g id=\"node3\" class=\"node\"><title>2</title>\r\n",
       "<polygon fill=\"#3d9fe6\" stroke=\"black\" points=\"658.5,-663 522.5,-663 522.5,-580 658.5,-580 658.5,-663\"/>\r\n",
       "<text text-anchor=\"middle\" x=\"590.5\" y=\"-647.8\" font-family=\"Times New Roman,serif\" font-size=\"14.00\">radius error &lt;= 0.626</text>\r\n",
       "<text text-anchor=\"middle\" x=\"590.5\" y=\"-632.8\" font-family=\"Times New Roman,serif\" font-size=\"14.00\">gini = 0.037</text>\r\n",
       "<text text-anchor=\"middle\" x=\"590.5\" y=\"-617.8\" font-family=\"Times New Roman,serif\" font-size=\"14.00\">samples = 263</text>\r\n",
       "<text text-anchor=\"middle\" x=\"590.5\" y=\"-602.8\" font-family=\"Times New Roman,serif\" font-size=\"14.00\">value = [5, 258]</text>\r\n",
       "<text text-anchor=\"middle\" x=\"590.5\" y=\"-587.8\" font-family=\"Times New Roman,serif\" font-size=\"14.00\">class = benign</text>\r\n",
       "</g>\r\n",
       "<!-- 1&#45;&gt;2 -->\r\n",
       "<g id=\"edge2\" class=\"edge\"><title>1&#45;&gt;2</title>\r\n",
       "<path fill=\"none\" stroke=\"black\" d=\"M794.294,-709.522C755.688,-693.036 707.713,-672.551 668.01,-655.597\"/>\r\n",
       "<polygon fill=\"black\" stroke=\"black\" points=\"669.201,-652.3 658.63,-651.592 666.452,-658.738 669.201,-652.3\"/>\r\n",
       "</g>\r\n",
       "<!-- 17 -->\r\n",
       "<g id=\"node18\" class=\"node\"><title>17</title>\r\n",
       "<polygon fill=\"#f8ddc9\" stroke=\"black\" points=\"935.5,-663 793.5,-663 793.5,-580 935.5,-580 935.5,-663\"/>\r\n",
       "<text text-anchor=\"middle\" x=\"864.5\" y=\"-647.8\" font-family=\"Times New Roman,serif\" font-size=\"14.00\">mean texture &lt;= 16.19</text>\r\n",
       "<text text-anchor=\"middle\" x=\"864.5\" y=\"-632.8\" font-family=\"Times New Roman,serif\" font-size=\"14.00\">gini = 0.488</text>\r\n",
       "<text text-anchor=\"middle\" x=\"864.5\" y=\"-617.8\" font-family=\"Times New Roman,serif\" font-size=\"14.00\">samples = 19</text>\r\n",
       "<text text-anchor=\"middle\" x=\"864.5\" y=\"-602.8\" font-family=\"Times New Roman,serif\" font-size=\"14.00\">value = [11, 8]</text>\r\n",
       "<text text-anchor=\"middle\" x=\"864.5\" y=\"-587.8\" font-family=\"Times New Roman,serif\" font-size=\"14.00\">class = malignant</text>\r\n",
       "</g>\r\n",
       "<!-- 1&#45;&gt;17 -->\r\n",
       "<g id=\"edge17\" class=\"edge\"><title>1&#45;&gt;17</title>\r\n",
       "<path fill=\"none\" stroke=\"black\" d=\"M864.5,-698.907C864.5,-690.649 864.5,-681.864 864.5,-673.302\"/>\r\n",
       "<polygon fill=\"black\" stroke=\"black\" points=\"868,-673.021 864.5,-663.021 861,-673.021 868,-673.021\"/>\r\n",
       "</g>\r\n",
       "<!-- 3 -->\r\n",
       "<g id=\"node4\" class=\"node\"><title>3</title>\r\n",
       "<polygon fill=\"#3b9ee5\" stroke=\"black\" points=\"483,-544 310,-544 310,-461 483,-461 483,-544\"/>\r\n",
       "<text text-anchor=\"middle\" x=\"396.5\" y=\"-528.8\" font-family=\"Times New Roman,serif\" font-size=\"14.00\">worst smoothness &lt;= 0.178</text>\r\n",
       "<text text-anchor=\"middle\" x=\"396.5\" y=\"-513.8\" font-family=\"Times New Roman,serif\" font-size=\"14.00\">gini = 0.023</text>\r\n",
       "<text text-anchor=\"middle\" x=\"396.5\" y=\"-498.8\" font-family=\"Times New Roman,serif\" font-size=\"14.00\">samples = 260</text>\r\n",
       "<text text-anchor=\"middle\" x=\"396.5\" y=\"-483.8\" font-family=\"Times New Roman,serif\" font-size=\"14.00\">value = [3, 257]</text>\r\n",
       "<text text-anchor=\"middle\" x=\"396.5\" y=\"-468.8\" font-family=\"Times New Roman,serif\" font-size=\"14.00\">class = benign</text>\r\n",
       "</g>\r\n",
       "<!-- 2&#45;&gt;3 -->\r\n",
       "<g id=\"edge3\" class=\"edge\"><title>2&#45;&gt;3</title>\r\n",
       "<path fill=\"none\" stroke=\"black\" d=\"M523.193,-579.907C506.791,-570.016 489.135,-559.368 472.366,-549.254\"/>\r\n",
       "<polygon fill=\"black\" stroke=\"black\" points=\"474.059,-546.188 463.688,-544.021 470.444,-552.182 474.059,-546.188\"/>\r\n",
       "</g>\r\n",
       "<!-- 14 -->\r\n",
       "<g id=\"node15\" class=\"node\"><title>14</title>\r\n",
       "<polygon fill=\"#f2c09c\" stroke=\"black\" points=\"679.5,-544 501.5,-544 501.5,-461 679.5,-461 679.5,-544\"/>\r\n",
       "<text text-anchor=\"middle\" x=\"590.5\" y=\"-528.8\" font-family=\"Times New Roman,serif\" font-size=\"14.00\">mean compactness &lt;= 0.063</text>\r\n",
       "<text text-anchor=\"middle\" x=\"590.5\" y=\"-513.8\" font-family=\"Times New Roman,serif\" font-size=\"14.00\">gini = 0.444</text>\r\n",
       "<text text-anchor=\"middle\" x=\"590.5\" y=\"-498.8\" font-family=\"Times New Roman,serif\" font-size=\"14.00\">samples = 3</text>\r\n",
       "<text text-anchor=\"middle\" x=\"590.5\" y=\"-483.8\" font-family=\"Times New Roman,serif\" font-size=\"14.00\">value = [2, 1]</text>\r\n",
       "<text text-anchor=\"middle\" x=\"590.5\" y=\"-468.8\" font-family=\"Times New Roman,serif\" font-size=\"14.00\">class = malignant</text>\r\n",
       "</g>\r\n",
       "<!-- 2&#45;&gt;14 -->\r\n",
       "<g id=\"edge14\" class=\"edge\"><title>2&#45;&gt;14</title>\r\n",
       "<path fill=\"none\" stroke=\"black\" d=\"M590.5,-579.907C590.5,-571.649 590.5,-562.864 590.5,-554.302\"/>\r\n",
       "<polygon fill=\"black\" stroke=\"black\" points=\"594,-554.021 590.5,-544.021 587,-554.021 594,-554.021\"/>\r\n",
       "</g>\r\n",
       "<!-- 4 -->\r\n",
       "<g id=\"node5\" class=\"node\"><title>4</title>\r\n",
       "<polygon fill=\"#3b9ee5\" stroke=\"black\" points=\"340,-425 171,-425 171,-342 340,-342 340,-425\"/>\r\n",
       "<text text-anchor=\"middle\" x=\"255.5\" y=\"-409.8\" font-family=\"Times New Roman,serif\" font-size=\"14.00\">smoothness error &lt;= 0.003</text>\r\n",
       "<text text-anchor=\"middle\" x=\"255.5\" y=\"-394.8\" font-family=\"Times New Roman,serif\" font-size=\"14.00\">gini = 0.015</text>\r\n",
       "<text text-anchor=\"middle\" x=\"255.5\" y=\"-379.8\" font-family=\"Times New Roman,serif\" font-size=\"14.00\">samples = 259</text>\r\n",
       "<text text-anchor=\"middle\" x=\"255.5\" y=\"-364.8\" font-family=\"Times New Roman,serif\" font-size=\"14.00\">value = [2, 257]</text>\r\n",
       "<text text-anchor=\"middle\" x=\"255.5\" y=\"-349.8\" font-family=\"Times New Roman,serif\" font-size=\"14.00\">class = benign</text>\r\n",
       "</g>\r\n",
       "<!-- 3&#45;&gt;4 -->\r\n",
       "<g id=\"edge4\" class=\"edge\"><title>3&#45;&gt;4</title>\r\n",
       "<path fill=\"none\" stroke=\"black\" d=\"M347.581,-460.907C336.207,-451.469 324.003,-441.343 312.321,-431.649\"/>\r\n",
       "<polygon fill=\"black\" stroke=\"black\" points=\"314.263,-428.713 304.333,-425.021 309.793,-434.1 314.263,-428.713\"/>\r\n",
       "</g>\r\n",
       "<!-- 13 -->\r\n",
       "<g id=\"node14\" class=\"node\"><title>13</title>\r\n",
       "<polygon fill=\"#e58139\" stroke=\"black\" points=\"471,-417.5 358,-417.5 358,-349.5 471,-349.5 471,-417.5\"/>\r\n",
       "<text text-anchor=\"middle\" x=\"414.5\" y=\"-402.3\" font-family=\"Times New Roman,serif\" font-size=\"14.00\">gini = 0.0</text>\r\n",
       "<text text-anchor=\"middle\" x=\"414.5\" y=\"-387.3\" font-family=\"Times New Roman,serif\" font-size=\"14.00\">samples = 1</text>\r\n",
       "<text text-anchor=\"middle\" x=\"414.5\" y=\"-372.3\" font-family=\"Times New Roman,serif\" font-size=\"14.00\">value = [1, 0]</text>\r\n",
       "<text text-anchor=\"middle\" x=\"414.5\" y=\"-357.3\" font-family=\"Times New Roman,serif\" font-size=\"14.00\">class = malignant</text>\r\n",
       "</g>\r\n",
       "<!-- 3&#45;&gt;13 -->\r\n",
       "<g id=\"edge13\" class=\"edge\"><title>3&#45;&gt;13</title>\r\n",
       "<path fill=\"none\" stroke=\"black\" d=\"M402.745,-460.907C404.392,-450.204 406.175,-438.615 407.842,-427.776\"/>\r\n",
       "<polygon fill=\"black\" stroke=\"black\" points=\"411.336,-428.083 409.397,-417.667 404.417,-427.018 411.336,-428.083\"/>\r\n",
       "</g>\r\n",
       "<!-- 5 -->\r\n",
       "<g id=\"node6\" class=\"node\"><title>5</title>\r\n",
       "<polygon fill=\"#5aade9\" stroke=\"black\" points=\"260,-306 63,-306 63,-223 260,-223 260,-306\"/>\r\n",
       "<text text-anchor=\"middle\" x=\"161.5\" y=\"-290.8\" font-family=\"Times New Roman,serif\" font-size=\"14.00\">fractal dimension error &lt;= 0.001</text>\r\n",
       "<text text-anchor=\"middle\" x=\"161.5\" y=\"-275.8\" font-family=\"Times New Roman,serif\" font-size=\"14.00\">gini = 0.245</text>\r\n",
       "<text text-anchor=\"middle\" x=\"161.5\" y=\"-260.8\" font-family=\"Times New Roman,serif\" font-size=\"14.00\">samples = 7</text>\r\n",
       "<text text-anchor=\"middle\" x=\"161.5\" y=\"-245.8\" font-family=\"Times New Roman,serif\" font-size=\"14.00\">value = [1, 6]</text>\r\n",
       "<text text-anchor=\"middle\" x=\"161.5\" y=\"-230.8\" font-family=\"Times New Roman,serif\" font-size=\"14.00\">class = benign</text>\r\n",
       "</g>\r\n",
       "<!-- 4&#45;&gt;5 -->\r\n",
       "<g id=\"edge5\" class=\"edge\"><title>4&#45;&gt;5</title>\r\n",
       "<path fill=\"none\" stroke=\"black\" d=\"M222.887,-341.907C215.669,-332.923 207.95,-323.315 200.506,-314.05\"/>\r\n",
       "<polygon fill=\"black\" stroke=\"black\" points=\"203.047,-311.624 194.055,-306.021 197.59,-316.009 203.047,-311.624\"/>\r\n",
       "</g>\r\n",
       "<!-- 8 -->\r\n",
       "<g id=\"node9\" class=\"node\"><title>8</title>\r\n",
       "<polygon fill=\"#3a9de5\" stroke=\"black\" points=\"422.5,-306 278.5,-306 278.5,-223 422.5,-223 422.5,-306\"/>\r\n",
       "<text text-anchor=\"middle\" x=\"350.5\" y=\"-290.8\" font-family=\"Times New Roman,serif\" font-size=\"14.00\">worst texture &lt;= 33.35</text>\r\n",
       "<text text-anchor=\"middle\" x=\"350.5\" y=\"-275.8\" font-family=\"Times New Roman,serif\" font-size=\"14.00\">gini = 0.008</text>\r\n",
       "<text text-anchor=\"middle\" x=\"350.5\" y=\"-260.8\" font-family=\"Times New Roman,serif\" font-size=\"14.00\">samples = 252</text>\r\n",
       "<text text-anchor=\"middle\" x=\"350.5\" y=\"-245.8\" font-family=\"Times New Roman,serif\" font-size=\"14.00\">value = [1, 251]</text>\r\n",
       "<text text-anchor=\"middle\" x=\"350.5\" y=\"-230.8\" font-family=\"Times New Roman,serif\" font-size=\"14.00\">class = benign</text>\r\n",
       "</g>\r\n",
       "<!-- 4&#45;&gt;8 -->\r\n",
       "<g id=\"edge8\" class=\"edge\"><title>4&#45;&gt;8</title>\r\n",
       "<path fill=\"none\" stroke=\"black\" d=\"M288.46,-341.907C295.755,-332.923 303.556,-323.315 311.079,-314.05\"/>\r\n",
       "<polygon fill=\"black\" stroke=\"black\" points=\"314.012,-315.99 317.598,-306.021 308.578,-311.578 314.012,-315.99\"/>\r\n",
       "</g>\r\n",
       "<!-- 6 -->\r\n",
       "<g id=\"node7\" class=\"node\"><title>6</title>\r\n",
       "<polygon fill=\"#e58139\" stroke=\"black\" points=\"113,-179.5 0,-179.5 0,-111.5 113,-111.5 113,-179.5\"/>\r\n",
       "<text text-anchor=\"middle\" x=\"56.5\" y=\"-164.3\" font-family=\"Times New Roman,serif\" font-size=\"14.00\">gini = 0.0</text>\r\n",
       "<text text-anchor=\"middle\" x=\"56.5\" y=\"-149.3\" font-family=\"Times New Roman,serif\" font-size=\"14.00\">samples = 1</text>\r\n",
       "<text text-anchor=\"middle\" x=\"56.5\" y=\"-134.3\" font-family=\"Times New Roman,serif\" font-size=\"14.00\">value = [1, 0]</text>\r\n",
       "<text text-anchor=\"middle\" x=\"56.5\" y=\"-119.3\" font-family=\"Times New Roman,serif\" font-size=\"14.00\">class = malignant</text>\r\n",
       "</g>\r\n",
       "<!-- 5&#45;&gt;6 -->\r\n",
       "<g id=\"edge6\" class=\"edge\"><title>5&#45;&gt;6</title>\r\n",
       "<path fill=\"none\" stroke=\"black\" d=\"M125.071,-222.907C114.673,-211.321 103.344,-198.698 92.9453,-187.111\"/>\r\n",
       "<polygon fill=\"black\" stroke=\"black\" points=\"95.5492,-184.772 86.2652,-179.667 90.3395,-189.447 95.5492,-184.772\"/>\r\n",
       "</g>\r\n",
       "<!-- 7 -->\r\n",
       "<g id=\"node8\" class=\"node\"><title>7</title>\r\n",
       "<polygon fill=\"#399de5\" stroke=\"black\" points=\"228,-179.5 131,-179.5 131,-111.5 228,-111.5 228,-179.5\"/>\r\n",
       "<text text-anchor=\"middle\" x=\"179.5\" y=\"-164.3\" font-family=\"Times New Roman,serif\" font-size=\"14.00\">gini = 0.0</text>\r\n",
       "<text text-anchor=\"middle\" x=\"179.5\" y=\"-149.3\" font-family=\"Times New Roman,serif\" font-size=\"14.00\">samples = 6</text>\r\n",
       "<text text-anchor=\"middle\" x=\"179.5\" y=\"-134.3\" font-family=\"Times New Roman,serif\" font-size=\"14.00\">value = [0, 6]</text>\r\n",
       "<text text-anchor=\"middle\" x=\"179.5\" y=\"-119.3\" font-family=\"Times New Roman,serif\" font-size=\"14.00\">class = benign</text>\r\n",
       "</g>\r\n",
       "<!-- 5&#45;&gt;7 -->\r\n",
       "<g id=\"edge7\" class=\"edge\"><title>5&#45;&gt;7</title>\r\n",
       "<path fill=\"none\" stroke=\"black\" d=\"M167.745,-222.907C169.392,-212.204 171.175,-200.615 172.842,-189.776\"/>\r\n",
       "<polygon fill=\"black\" stroke=\"black\" points=\"176.336,-190.083 174.397,-179.667 169.417,-189.018 176.336,-190.083\"/>\r\n",
       "</g>\r\n",
       "<!-- 9 -->\r\n",
       "<g id=\"node10\" class=\"node\"><title>9</title>\r\n",
       "<polygon fill=\"#399de5\" stroke=\"black\" points=\"367.5,-179.5 263.5,-179.5 263.5,-111.5 367.5,-111.5 367.5,-179.5\"/>\r\n",
       "<text text-anchor=\"middle\" x=\"315.5\" y=\"-164.3\" font-family=\"Times New Roman,serif\" font-size=\"14.00\">gini = 0.0</text>\r\n",
       "<text text-anchor=\"middle\" x=\"315.5\" y=\"-149.3\" font-family=\"Times New Roman,serif\" font-size=\"14.00\">samples = 237</text>\r\n",
       "<text text-anchor=\"middle\" x=\"315.5\" y=\"-134.3\" font-family=\"Times New Roman,serif\" font-size=\"14.00\">value = [0, 237]</text>\r\n",
       "<text text-anchor=\"middle\" x=\"315.5\" y=\"-119.3\" font-family=\"Times New Roman,serif\" font-size=\"14.00\">class = benign</text>\r\n",
       "</g>\r\n",
       "<!-- 8&#45;&gt;9 -->\r\n",
       "<g id=\"edge9\" class=\"edge\"><title>8&#45;&gt;9</title>\r\n",
       "<path fill=\"none\" stroke=\"black\" d=\"M338.357,-222.907C335.122,-212.094 331.617,-200.376 328.346,-189.441\"/>\r\n",
       "<polygon fill=\"black\" stroke=\"black\" points=\"331.641,-188.244 325.422,-179.667 324.935,-190.251 331.641,-188.244\"/>\r\n",
       "</g>\r\n",
       "<!-- 10 -->\r\n",
       "<g id=\"node11\" class=\"node\"><title>10</title>\r\n",
       "<polygon fill=\"#47a4e7\" stroke=\"black\" points=\"529.5,-187 385.5,-187 385.5,-104 529.5,-104 529.5,-187\"/>\r\n",
       "<text text-anchor=\"middle\" x=\"457.5\" y=\"-171.8\" font-family=\"Times New Roman,serif\" font-size=\"14.00\">worst texture &lt;= 33.56</text>\r\n",
       "<text text-anchor=\"middle\" x=\"457.5\" y=\"-156.8\" font-family=\"Times New Roman,serif\" font-size=\"14.00\">gini = 0.124</text>\r\n",
       "<text text-anchor=\"middle\" x=\"457.5\" y=\"-141.8\" font-family=\"Times New Roman,serif\" font-size=\"14.00\">samples = 15</text>\r\n",
       "<text text-anchor=\"middle\" x=\"457.5\" y=\"-126.8\" font-family=\"Times New Roman,serif\" font-size=\"14.00\">value = [1, 14]</text>\r\n",
       "<text text-anchor=\"middle\" x=\"457.5\" y=\"-111.8\" font-family=\"Times New Roman,serif\" font-size=\"14.00\">class = benign</text>\r\n",
       "</g>\r\n",
       "<!-- 8&#45;&gt;10 -->\r\n",
       "<g id=\"edge10\" class=\"edge\"><title>8&#45;&gt;10</title>\r\n",
       "<path fill=\"none\" stroke=\"black\" d=\"M387.623,-222.907C396.006,-213.742 404.982,-203.927 413.613,-194.489\"/>\r\n",
       "<polygon fill=\"black\" stroke=\"black\" points=\"416.277,-196.762 420.443,-187.021 411.111,-192.038 416.277,-196.762\"/>\r\n",
       "</g>\r\n",
       "<!-- 11 -->\r\n",
       "<g id=\"node12\" class=\"node\"><title>11</title>\r\n",
       "<polygon fill=\"#e58139\" stroke=\"black\" points=\"452,-68 339,-68 339,-0 452,-0 452,-68\"/>\r\n",
       "<text text-anchor=\"middle\" x=\"395.5\" y=\"-52.8\" font-family=\"Times New Roman,serif\" font-size=\"14.00\">gini = 0.0</text>\r\n",
       "<text text-anchor=\"middle\" x=\"395.5\" y=\"-37.8\" font-family=\"Times New Roman,serif\" font-size=\"14.00\">samples = 1</text>\r\n",
       "<text text-anchor=\"middle\" x=\"395.5\" y=\"-22.8\" font-family=\"Times New Roman,serif\" font-size=\"14.00\">value = [1, 0]</text>\r\n",
       "<text text-anchor=\"middle\" x=\"395.5\" y=\"-7.8\" font-family=\"Times New Roman,serif\" font-size=\"14.00\">class = malignant</text>\r\n",
       "</g>\r\n",
       "<!-- 10&#45;&gt;11 -->\r\n",
       "<g id=\"edge11\" class=\"edge\"><title>10&#45;&gt;11</title>\r\n",
       "<path fill=\"none\" stroke=\"black\" d=\"M434.413,-103.726C429.507,-95.0615 424.318,-85.8962 419.383,-77.1802\"/>\r\n",
       "<polygon fill=\"black\" stroke=\"black\" points=\"422.327,-75.277 414.355,-68.2996 416.236,-78.726 422.327,-75.277\"/>\r\n",
       "</g>\r\n",
       "<!-- 12 -->\r\n",
       "<g id=\"node13\" class=\"node\"><title>12</title>\r\n",
       "<polygon fill=\"#399de5\" stroke=\"black\" points=\"568.5,-68 470.5,-68 470.5,-0 568.5,-0 568.5,-68\"/>\r\n",
       "<text text-anchor=\"middle\" x=\"519.5\" y=\"-52.8\" font-family=\"Times New Roman,serif\" font-size=\"14.00\">gini = 0.0</text>\r\n",
       "<text text-anchor=\"middle\" x=\"519.5\" y=\"-37.8\" font-family=\"Times New Roman,serif\" font-size=\"14.00\">samples = 14</text>\r\n",
       "<text text-anchor=\"middle\" x=\"519.5\" y=\"-22.8\" font-family=\"Times New Roman,serif\" font-size=\"14.00\">value = [0, 14]</text>\r\n",
       "<text text-anchor=\"middle\" x=\"519.5\" y=\"-7.8\" font-family=\"Times New Roman,serif\" font-size=\"14.00\">class = benign</text>\r\n",
       "</g>\r\n",
       "<!-- 10&#45;&gt;12 -->\r\n",
       "<g id=\"edge12\" class=\"edge\"><title>10&#45;&gt;12</title>\r\n",
       "<path fill=\"none\" stroke=\"black\" d=\"M480.587,-103.726C485.493,-95.0615 490.682,-85.8962 495.617,-77.1802\"/>\r\n",
       "<polygon fill=\"black\" stroke=\"black\" points=\"498.764,-78.726 500.645,-68.2996 492.673,-75.277 498.764,-78.726\"/>\r\n",
       "</g>\r\n",
       "<!-- 15 -->\r\n",
       "<g id=\"node16\" class=\"node\"><title>15</title>\r\n",
       "<polygon fill=\"#e58139\" stroke=\"black\" points=\"619,-417.5 506,-417.5 506,-349.5 619,-349.5 619,-417.5\"/>\r\n",
       "<text text-anchor=\"middle\" x=\"562.5\" y=\"-402.3\" font-family=\"Times New Roman,serif\" font-size=\"14.00\">gini = 0.0</text>\r\n",
       "<text text-anchor=\"middle\" x=\"562.5\" y=\"-387.3\" font-family=\"Times New Roman,serif\" font-size=\"14.00\">samples = 2</text>\r\n",
       "<text text-anchor=\"middle\" x=\"562.5\" y=\"-372.3\" font-family=\"Times New Roman,serif\" font-size=\"14.00\">value = [2, 0]</text>\r\n",
       "<text text-anchor=\"middle\" x=\"562.5\" y=\"-357.3\" font-family=\"Times New Roman,serif\" font-size=\"14.00\">class = malignant</text>\r\n",
       "</g>\r\n",
       "<!-- 14&#45;&gt;15 -->\r\n",
       "<g id=\"edge15\" class=\"edge\"><title>14&#45;&gt;15</title>\r\n",
       "<path fill=\"none\" stroke=\"black\" d=\"M580.786,-460.907C578.198,-450.094 575.393,-438.376 572.777,-427.441\"/>\r\n",
       "<polygon fill=\"black\" stroke=\"black\" points=\"576.169,-426.578 570.437,-417.667 569.361,-428.207 576.169,-426.578\"/>\r\n",
       "</g>\r\n",
       "<!-- 16 -->\r\n",
       "<g id=\"node17\" class=\"node\"><title>16</title>\r\n",
       "<polygon fill=\"#399de5\" stroke=\"black\" points=\"734,-417.5 637,-417.5 637,-349.5 734,-349.5 734,-417.5\"/>\r\n",
       "<text text-anchor=\"middle\" x=\"685.5\" y=\"-402.3\" font-family=\"Times New Roman,serif\" font-size=\"14.00\">gini = 0.0</text>\r\n",
       "<text text-anchor=\"middle\" x=\"685.5\" y=\"-387.3\" font-family=\"Times New Roman,serif\" font-size=\"14.00\">samples = 1</text>\r\n",
       "<text text-anchor=\"middle\" x=\"685.5\" y=\"-372.3\" font-family=\"Times New Roman,serif\" font-size=\"14.00\">value = [0, 1]</text>\r\n",
       "<text text-anchor=\"middle\" x=\"685.5\" y=\"-357.3\" font-family=\"Times New Roman,serif\" font-size=\"14.00\">class = benign</text>\r\n",
       "</g>\r\n",
       "<!-- 14&#45;&gt;16 -->\r\n",
       "<g id=\"edge16\" class=\"edge\"><title>14&#45;&gt;16</title>\r\n",
       "<path fill=\"none\" stroke=\"black\" d=\"M623.46,-460.907C632.778,-449.432 642.922,-436.938 652.257,-425.442\"/>\r\n",
       "<polygon fill=\"black\" stroke=\"black\" points=\"654.983,-427.636 658.57,-417.667 649.549,-423.224 654.983,-427.636\"/>\r\n",
       "</g>\r\n",
       "<!-- 18 -->\r\n",
       "<g id=\"node19\" class=\"node\"><title>18</title>\r\n",
       "<polygon fill=\"#399de5\" stroke=\"black\" points=\"795,-536.5 698,-536.5 698,-468.5 795,-468.5 795,-536.5\"/>\r\n",
       "<text text-anchor=\"middle\" x=\"746.5\" y=\"-521.3\" font-family=\"Times New Roman,serif\" font-size=\"14.00\">gini = 0.0</text>\r\n",
       "<text text-anchor=\"middle\" x=\"746.5\" y=\"-506.3\" font-family=\"Times New Roman,serif\" font-size=\"14.00\">samples = 6</text>\r\n",
       "<text text-anchor=\"middle\" x=\"746.5\" y=\"-491.3\" font-family=\"Times New Roman,serif\" font-size=\"14.00\">value = [0, 6]</text>\r\n",
       "<text text-anchor=\"middle\" x=\"746.5\" y=\"-476.3\" font-family=\"Times New Roman,serif\" font-size=\"14.00\">class = benign</text>\r\n",
       "</g>\r\n",
       "<!-- 17&#45;&gt;18 -->\r\n",
       "<g id=\"edge18\" class=\"edge\"><title>17&#45;&gt;18</title>\r\n",
       "<path fill=\"none\" stroke=\"black\" d=\"M823.56,-579.907C811.764,-568.211 798.901,-555.457 787.124,-543.78\"/>\r\n",
       "<polygon fill=\"black\" stroke=\"black\" points=\"789.516,-541.222 779.95,-536.667 784.587,-546.193 789.516,-541.222\"/>\r\n",
       "</g>\r\n",
       "<!-- 19 -->\r\n",
       "<g id=\"node20\" class=\"node\"><title>19</title>\r\n",
       "<polygon fill=\"#ea985d\" stroke=\"black\" points=\"993.5,-544 813.5,-544 813.5,-461 993.5,-461 993.5,-544\"/>\r\n",
       "<text text-anchor=\"middle\" x=\"903.5\" y=\"-528.8\" font-family=\"Times New Roman,serif\" font-size=\"14.00\">concave points error &lt;= 0.01</text>\r\n",
       "<text text-anchor=\"middle\" x=\"903.5\" y=\"-513.8\" font-family=\"Times New Roman,serif\" font-size=\"14.00\">gini = 0.26</text>\r\n",
       "<text text-anchor=\"middle\" x=\"903.5\" y=\"-498.8\" font-family=\"Times New Roman,serif\" font-size=\"14.00\">samples = 13</text>\r\n",
       "<text text-anchor=\"middle\" x=\"903.5\" y=\"-483.8\" font-family=\"Times New Roman,serif\" font-size=\"14.00\">value = [11, 2]</text>\r\n",
       "<text text-anchor=\"middle\" x=\"903.5\" y=\"-468.8\" font-family=\"Times New Roman,serif\" font-size=\"14.00\">class = malignant</text>\r\n",
       "</g>\r\n",
       "<!-- 17&#45;&gt;19 -->\r\n",
       "<g id=\"edge19\" class=\"edge\"><title>17&#45;&gt;19</title>\r\n",
       "<path fill=\"none\" stroke=\"black\" d=\"M878.031,-579.907C880.844,-571.468 883.841,-562.477 886.754,-553.738\"/>\r\n",
       "<polygon fill=\"black\" stroke=\"black\" points=\"890.151,-554.614 889.993,-544.021 883.51,-552.401 890.151,-554.614\"/>\r\n",
       "</g>\r\n",
       "<!-- 20 -->\r\n",
       "<g id=\"node21\" class=\"node\"><title>20</title>\r\n",
       "<polygon fill=\"#e58139\" stroke=\"black\" points=\"884,-417.5 771,-417.5 771,-349.5 884,-349.5 884,-417.5\"/>\r\n",
       "<text text-anchor=\"middle\" x=\"827.5\" y=\"-402.3\" font-family=\"Times New Roman,serif\" font-size=\"14.00\">gini = 0.0</text>\r\n",
       "<text text-anchor=\"middle\" x=\"827.5\" y=\"-387.3\" font-family=\"Times New Roman,serif\" font-size=\"14.00\">samples = 11</text>\r\n",
       "<text text-anchor=\"middle\" x=\"827.5\" y=\"-372.3\" font-family=\"Times New Roman,serif\" font-size=\"14.00\">value = [11, 0]</text>\r\n",
       "<text text-anchor=\"middle\" x=\"827.5\" y=\"-357.3\" font-family=\"Times New Roman,serif\" font-size=\"14.00\">class = malignant</text>\r\n",
       "</g>\r\n",
       "<!-- 19&#45;&gt;20 -->\r\n",
       "<g id=\"edge20\" class=\"edge\"><title>19&#45;&gt;20</title>\r\n",
       "<path fill=\"none\" stroke=\"black\" d=\"M877.132,-460.907C869.821,-449.652 861.874,-437.418 854.526,-426.106\"/>\r\n",
       "<polygon fill=\"black\" stroke=\"black\" points=\"857.427,-424.146 849.044,-417.667 851.557,-427.96 857.427,-424.146\"/>\r\n",
       "</g>\r\n",
       "<!-- 21 -->\r\n",
       "<g id=\"node22\" class=\"node\"><title>21</title>\r\n",
       "<polygon fill=\"#399de5\" stroke=\"black\" points=\"999,-417.5 902,-417.5 902,-349.5 999,-349.5 999,-417.5\"/>\r\n",
       "<text text-anchor=\"middle\" x=\"950.5\" y=\"-402.3\" font-family=\"Times New Roman,serif\" font-size=\"14.00\">gini = 0.0</text>\r\n",
       "<text text-anchor=\"middle\" x=\"950.5\" y=\"-387.3\" font-family=\"Times New Roman,serif\" font-size=\"14.00\">samples = 2</text>\r\n",
       "<text text-anchor=\"middle\" x=\"950.5\" y=\"-372.3\" font-family=\"Times New Roman,serif\" font-size=\"14.00\">value = [0, 2]</text>\r\n",
       "<text text-anchor=\"middle\" x=\"950.5\" y=\"-357.3\" font-family=\"Times New Roman,serif\" font-size=\"14.00\">class = benign</text>\r\n",
       "</g>\r\n",
       "<!-- 19&#45;&gt;21 -->\r\n",
       "<g id=\"edge21\" class=\"edge\"><title>19&#45;&gt;21</title>\r\n",
       "<path fill=\"none\" stroke=\"black\" d=\"M919.806,-460.907C924.195,-449.983 928.953,-438.137 933.384,-427.107\"/>\r\n",
       "<polygon fill=\"black\" stroke=\"black\" points=\"936.697,-428.251 937.177,-417.667 930.201,-425.642 936.697,-428.251\"/>\r\n",
       "</g>\r\n",
       "<!-- 23 -->\r\n",
       "<g id=\"node24\" class=\"node\"><title>23</title>\r\n",
       "<polygon fill=\"#f4fafe\" stroke=\"black\" points=\"1208,-663 1043,-663 1043,-580 1208,-580 1208,-663\"/>\r\n",
       "<text text-anchor=\"middle\" x=\"1125.5\" y=\"-647.8\" font-family=\"Times New Roman,serif\" font-size=\"14.00\">worst perimeter &lt;= 115.25</text>\r\n",
       "<text text-anchor=\"middle\" x=\"1125.5\" y=\"-632.8\" font-family=\"Times New Roman,serif\" font-size=\"14.00\">gini = 0.5</text>\r\n",
       "<text text-anchor=\"middle\" x=\"1125.5\" y=\"-617.8\" font-family=\"Times New Roman,serif\" font-size=\"14.00\">samples = 35</text>\r\n",
       "<text text-anchor=\"middle\" x=\"1125.5\" y=\"-602.8\" font-family=\"Times New Roman,serif\" font-size=\"14.00\">value = [17, 18]</text>\r\n",
       "<text text-anchor=\"middle\" x=\"1125.5\" y=\"-587.8\" font-family=\"Times New Roman,serif\" font-size=\"14.00\">class = benign</text>\r\n",
       "</g>\r\n",
       "<!-- 22&#45;&gt;23 -->\r\n",
       "<g id=\"edge23\" class=\"edge\"><title>22&#45;&gt;23</title>\r\n",
       "<path fill=\"none\" stroke=\"black\" d=\"M1125.5,-698.907C1125.5,-690.649 1125.5,-681.864 1125.5,-673.302\"/>\r\n",
       "<polygon fill=\"black\" stroke=\"black\" points=\"1129,-673.021 1125.5,-663.021 1122,-673.021 1129,-673.021\"/>\r\n",
       "</g>\r\n",
       "<!-- 28 -->\r\n",
       "<g id=\"node29\" class=\"node\"><title>28</title>\r\n",
       "<polygon fill=\"#e5833c\" stroke=\"black\" points=\"1465,-663 1268,-663 1268,-580 1465,-580 1465,-663\"/>\r\n",
       "<text text-anchor=\"middle\" x=\"1366.5\" y=\"-647.8\" font-family=\"Times New Roman,serif\" font-size=\"14.00\">fractal dimension error &lt;= 0.013</text>\r\n",
       "<text text-anchor=\"middle\" x=\"1366.5\" y=\"-632.8\" font-family=\"Times New Roman,serif\" font-size=\"14.00\">gini = 0.029</text>\r\n",
       "<text text-anchor=\"middle\" x=\"1366.5\" y=\"-617.8\" font-family=\"Times New Roman,serif\" font-size=\"14.00\">samples = 138</text>\r\n",
       "<text text-anchor=\"middle\" x=\"1366.5\" y=\"-602.8\" font-family=\"Times New Roman,serif\" font-size=\"14.00\">value = [136, 2]</text>\r\n",
       "<text text-anchor=\"middle\" x=\"1366.5\" y=\"-587.8\" font-family=\"Times New Roman,serif\" font-size=\"14.00\">class = malignant</text>\r\n",
       "</g>\r\n",
       "<!-- 22&#45;&gt;28 -->\r\n",
       "<g id=\"edge28\" class=\"edge\"><title>22&#45;&gt;28</title>\r\n",
       "<path fill=\"none\" stroke=\"black\" d=\"M1209.11,-698.907C1230.05,-688.743 1252.63,-677.781 1273.97,-667.42\"/>\r\n",
       "<polygon fill=\"black\" stroke=\"black\" points=\"1275.57,-670.537 1283.03,-663.021 1272.51,-664.24 1275.57,-670.537\"/>\r\n",
       "</g>\r\n",
       "<!-- 24 -->\r\n",
       "<g id=\"node25\" class=\"node\"><title>24</title>\r\n",
       "<polygon fill=\"#65b3eb\" stroke=\"black\" points=\"1161,-544 1012,-544 1012,-461 1161,-461 1161,-544\"/>\r\n",
       "<text text-anchor=\"middle\" x=\"1086.5\" y=\"-528.8\" font-family=\"Times New Roman,serif\" font-size=\"14.00\">mean texture &lt;= 21.055</text>\r\n",
       "<text text-anchor=\"middle\" x=\"1086.5\" y=\"-513.8\" font-family=\"Times New Roman,serif\" font-size=\"14.00\">gini = 0.298</text>\r\n",
       "<text text-anchor=\"middle\" x=\"1086.5\" y=\"-498.8\" font-family=\"Times New Roman,serif\" font-size=\"14.00\">samples = 22</text>\r\n",
       "<text text-anchor=\"middle\" x=\"1086.5\" y=\"-483.8\" font-family=\"Times New Roman,serif\" font-size=\"14.00\">value = [4, 18]</text>\r\n",
       "<text text-anchor=\"middle\" x=\"1086.5\" y=\"-468.8\" font-family=\"Times New Roman,serif\" font-size=\"14.00\">class = benign</text>\r\n",
       "</g>\r\n",
       "<!-- 23&#45;&gt;24 -->\r\n",
       "<g id=\"edge24\" class=\"edge\"><title>23&#45;&gt;24</title>\r\n",
       "<path fill=\"none\" stroke=\"black\" d=\"M1111.97,-579.907C1109.16,-571.468 1106.16,-562.477 1103.25,-553.738\"/>\r\n",
       "<polygon fill=\"black\" stroke=\"black\" points=\"1106.49,-552.401 1100.01,-544.021 1099.85,-554.614 1106.49,-552.401\"/>\r\n",
       "</g>\r\n",
       "<!-- 27 -->\r\n",
       "<g id=\"node28\" class=\"node\"><title>27</title>\r\n",
       "<polygon fill=\"#e58139\" stroke=\"black\" points=\"1292,-536.5 1179,-536.5 1179,-468.5 1292,-468.5 1292,-536.5\"/>\r\n",
       "<text text-anchor=\"middle\" x=\"1235.5\" y=\"-521.3\" font-family=\"Times New Roman,serif\" font-size=\"14.00\">gini = 0.0</text>\r\n",
       "<text text-anchor=\"middle\" x=\"1235.5\" y=\"-506.3\" font-family=\"Times New Roman,serif\" font-size=\"14.00\">samples = 13</text>\r\n",
       "<text text-anchor=\"middle\" x=\"1235.5\" y=\"-491.3\" font-family=\"Times New Roman,serif\" font-size=\"14.00\">value = [13, 0]</text>\r\n",
       "<text text-anchor=\"middle\" x=\"1235.5\" y=\"-476.3\" font-family=\"Times New Roman,serif\" font-size=\"14.00\">class = malignant</text>\r\n",
       "</g>\r\n",
       "<!-- 23&#45;&gt;27 -->\r\n",
       "<g id=\"edge27\" class=\"edge\"><title>23&#45;&gt;27</title>\r\n",
       "<path fill=\"none\" stroke=\"black\" d=\"M1163.66,-579.907C1174.56,-568.321 1186.43,-555.698 1197.32,-544.111\"/>\r\n",
       "<polygon fill=\"black\" stroke=\"black\" points=\"1200.02,-546.35 1204.32,-536.667 1194.92,-541.555 1200.02,-546.35\"/>\r\n",
       "</g>\r\n",
       "<!-- 25 -->\r\n",
       "<g id=\"node26\" class=\"node\"><title>25</title>\r\n",
       "<polygon fill=\"#399de5\" stroke=\"black\" points=\"1125.5,-417.5 1027.5,-417.5 1027.5,-349.5 1125.5,-349.5 1125.5,-417.5\"/>\r\n",
       "<text text-anchor=\"middle\" x=\"1076.5\" y=\"-402.3\" font-family=\"Times New Roman,serif\" font-size=\"14.00\">gini = 0.0</text>\r\n",
       "<text text-anchor=\"middle\" x=\"1076.5\" y=\"-387.3\" font-family=\"Times New Roman,serif\" font-size=\"14.00\">samples = 18</text>\r\n",
       "<text text-anchor=\"middle\" x=\"1076.5\" y=\"-372.3\" font-family=\"Times New Roman,serif\" font-size=\"14.00\">value = [0, 18]</text>\r\n",
       "<text text-anchor=\"middle\" x=\"1076.5\" y=\"-357.3\" font-family=\"Times New Roman,serif\" font-size=\"14.00\">class = benign</text>\r\n",
       "</g>\r\n",
       "<!-- 24&#45;&gt;25 -->\r\n",
       "<g id=\"edge25\" class=\"edge\"><title>24&#45;&gt;25</title>\r\n",
       "<path fill=\"none\" stroke=\"black\" d=\"M1083.03,-460.907C1082.12,-450.204 1081.13,-438.615 1080.2,-427.776\"/>\r\n",
       "<polygon fill=\"black\" stroke=\"black\" points=\"1083.67,-427.333 1079.33,-417.667 1076.7,-427.929 1083.67,-427.333\"/>\r\n",
       "</g>\r\n",
       "<!-- 26 -->\r\n",
       "<g id=\"node27\" class=\"node\"><title>26</title>\r\n",
       "<polygon fill=\"#e58139\" stroke=\"black\" points=\"1257,-417.5 1144,-417.5 1144,-349.5 1257,-349.5 1257,-417.5\"/>\r\n",
       "<text text-anchor=\"middle\" x=\"1200.5\" y=\"-402.3\" font-family=\"Times New Roman,serif\" font-size=\"14.00\">gini = 0.0</text>\r\n",
       "<text text-anchor=\"middle\" x=\"1200.5\" y=\"-387.3\" font-family=\"Times New Roman,serif\" font-size=\"14.00\">samples = 4</text>\r\n",
       "<text text-anchor=\"middle\" x=\"1200.5\" y=\"-372.3\" font-family=\"Times New Roman,serif\" font-size=\"14.00\">value = [4, 0]</text>\r\n",
       "<text text-anchor=\"middle\" x=\"1200.5\" y=\"-357.3\" font-family=\"Times New Roman,serif\" font-size=\"14.00\">class = malignant</text>\r\n",
       "</g>\r\n",
       "<!-- 24&#45;&gt;26 -->\r\n",
       "<g id=\"edge26\" class=\"edge\"><title>24&#45;&gt;26</title>\r\n",
       "<path fill=\"none\" stroke=\"black\" d=\"M1126.05,-460.907C1137.34,-449.321 1149.64,-436.698 1160.93,-425.111\"/>\r\n",
       "<polygon fill=\"black\" stroke=\"black\" points=\"1163.71,-427.272 1168.18,-417.667 1158.7,-422.387 1163.71,-427.272\"/>\r\n",
       "</g>\r\n",
       "<!-- 29 -->\r\n",
       "<g id=\"node30\" class=\"node\"><title>29</title>\r\n",
       "<polygon fill=\"#e58139\" stroke=\"black\" points=\"1423,-536.5 1310,-536.5 1310,-468.5 1423,-468.5 1423,-536.5\"/>\r\n",
       "<text text-anchor=\"middle\" x=\"1366.5\" y=\"-521.3\" font-family=\"Times New Roman,serif\" font-size=\"14.00\">gini = 0.0</text>\r\n",
       "<text text-anchor=\"middle\" x=\"1366.5\" y=\"-506.3\" font-family=\"Times New Roman,serif\" font-size=\"14.00\">samples = 136</text>\r\n",
       "<text text-anchor=\"middle\" x=\"1366.5\" y=\"-491.3\" font-family=\"Times New Roman,serif\" font-size=\"14.00\">value = [136, 0]</text>\r\n",
       "<text text-anchor=\"middle\" x=\"1366.5\" y=\"-476.3\" font-family=\"Times New Roman,serif\" font-size=\"14.00\">class = malignant</text>\r\n",
       "</g>\r\n",
       "<!-- 28&#45;&gt;29 -->\r\n",
       "<g id=\"edge29\" class=\"edge\"><title>28&#45;&gt;29</title>\r\n",
       "<path fill=\"none\" stroke=\"black\" d=\"M1366.5,-579.907C1366.5,-569.204 1366.5,-557.615 1366.5,-546.776\"/>\r\n",
       "<polygon fill=\"black\" stroke=\"black\" points=\"1370,-546.667 1366.5,-536.667 1363,-546.667 1370,-546.667\"/>\r\n",
       "</g>\r\n",
       "<!-- 30 -->\r\n",
       "<g id=\"node31\" class=\"node\"><title>30</title>\r\n",
       "<polygon fill=\"#399de5\" stroke=\"black\" points=\"1538,-536.5 1441,-536.5 1441,-468.5 1538,-468.5 1538,-536.5\"/>\r\n",
       "<text text-anchor=\"middle\" x=\"1489.5\" y=\"-521.3\" font-family=\"Times New Roman,serif\" font-size=\"14.00\">gini = 0.0</text>\r\n",
       "<text text-anchor=\"middle\" x=\"1489.5\" y=\"-506.3\" font-family=\"Times New Roman,serif\" font-size=\"14.00\">samples = 2</text>\r\n",
       "<text text-anchor=\"middle\" x=\"1489.5\" y=\"-491.3\" font-family=\"Times New Roman,serif\" font-size=\"14.00\">value = [0, 2]</text>\r\n",
       "<text text-anchor=\"middle\" x=\"1489.5\" y=\"-476.3\" font-family=\"Times New Roman,serif\" font-size=\"14.00\">class = benign</text>\r\n",
       "</g>\r\n",
       "<!-- 28&#45;&gt;30 -->\r\n",
       "<g id=\"edge30\" class=\"edge\"><title>28&#45;&gt;30</title>\r\n",
       "<path fill=\"none\" stroke=\"black\" d=\"M1409.17,-579.907C1421.47,-568.211 1434.88,-555.457 1447.15,-543.78\"/>\r\n",
       "<polygon fill=\"black\" stroke=\"black\" points=\"1449.8,-546.095 1454.63,-536.667 1444.97,-541.023 1449.8,-546.095\"/>\r\n",
       "</g>\r\n",
       "</g>\r\n",
       "</svg>\r\n"
      ],
      "text/plain": [
       "<graphviz.files.Source at 0x26cc3d1b760>"
      ]
     },
     "metadata": {},
     "output_type": "display_data"
    },
    {
     "data": {
      "text/plain": [
       "'cancertree.pdf'"
      ]
     },
     "execution_count": 85,
     "metadata": {},
     "output_type": "execute_result"
    }
   ],
   "source": [
    "import graphviz\n",
    "from sklearn.tree import export_graphviz\n",
    "\n",
    "#graphvis를 구현하기 위한 모듈 sklearn.tree.export_graphviz\n",
    "\n",
    "#훈련시킨 decision tree 모델을 넣는다. \n",
    "#outfile 로 익스포트한다. \n",
    "#class_names로 label 를 지정한다.\n",
    "#feature_names로 feature 지정\n",
    "export_graphviz(dTree,out_file=\"cancertree.dot\",\n",
    "               class_names=cancer.target_names,\n",
    "               feature_names=cancer.feature_names,\n",
    "                filled =True, #optional filled 노드 색깔을 서로 다르게.\n",
    "                impurity = True #optional. 불순도를 체크해준다\n",
    "               )\n",
    "\n",
    "with open('cancertree.dot',encoding='utf-8') as f:\n",
    "    dot_graph= f.read()\n",
    "\n",
    "dot = graphviz.Source(dot_graph)\n",
    "\n",
    "#내장함수 display\n",
    "display(dot)\n",
    "\n",
    "\n",
    "#이미지 내보내기\n",
    "#default - pdf\n",
    "dot.render(filename = \"cancertree\")\n",
    "\n",
    "#약간 제멋대로인 결정 모형...\n",
    "#가장 상위가 가장 중요한 인자라고 하기에 뭔가 신뢰성이 낮다. "
   ]
  },
  {
   "cell_type": "code",
   "execution_count": null,
   "id": "79bd3b50",
   "metadata": {},
   "outputs": [],
   "source": []
  }
 ],
 "metadata": {
  "kernelspec": {
   "display_name": "Python 3",
   "language": "python",
   "name": "python3"
  },
  "language_info": {
   "codemirror_mode": {
    "name": "ipython",
    "version": 3
   },
   "file_extension": ".py",
   "mimetype": "text/x-python",
   "name": "python",
   "nbconvert_exporter": "python",
   "pygments_lexer": "ipython3",
   "version": "3.8.8"
  }
 },
 "nbformat": 4,
 "nbformat_minor": 5
}
