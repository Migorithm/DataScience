{
 "cells": [
  {
   "cell_type": "markdown",
   "id": "98f372a1",
   "metadata": {},
   "source": [
    "### 1.Module Configuration"
   ]
  },
  {
   "cell_type": "code",
   "execution_count": 1,
   "id": "c2b6ef0b",
   "metadata": {},
   "outputs": [],
   "source": [
    "import pandas as pd\n",
    "from sklearn.svm import SVC  #(Support Vector Classifier) "
   ]
  },
  {
   "cell_type": "markdown",
   "id": "162985fd",
   "metadata": {},
   "source": [
    "### 2. Data Load"
   ]
  },
  {
   "cell_type": "code",
   "execution_count": 2,
   "id": "ccc63869",
   "metadata": {
    "scrolled": true
   },
   "outputs": [
    {
     "data": {
      "text/html": [
       "<div>\n",
       "<style scoped>\n",
       "    .dataframe tbody tr th:only-of-type {\n",
       "        vertical-align: middle;\n",
       "    }\n",
       "\n",
       "    .dataframe tbody tr th {\n",
       "        vertical-align: top;\n",
       "    }\n",
       "\n",
       "    .dataframe thead th {\n",
       "        text-align: right;\n",
       "    }\n",
       "</style>\n",
       "<table border=\"1\" class=\"dataframe\">\n",
       "  <thead>\n",
       "    <tr style=\"text-align: right;\">\n",
       "      <th></th>\n",
       "      <th>sepal.length</th>\n",
       "      <th>sepal.width</th>\n",
       "      <th>petal.length</th>\n",
       "      <th>petal.width</th>\n",
       "      <th>variety</th>\n",
       "    </tr>\n",
       "  </thead>\n",
       "  <tbody>\n",
       "    <tr>\n",
       "      <th>0</th>\n",
       "      <td>5.1</td>\n",
       "      <td>3.5</td>\n",
       "      <td>1.4</td>\n",
       "      <td>0.2</td>\n",
       "      <td>Setosa</td>\n",
       "    </tr>\n",
       "    <tr>\n",
       "      <th>1</th>\n",
       "      <td>4.9</td>\n",
       "      <td>3.0</td>\n",
       "      <td>1.4</td>\n",
       "      <td>0.2</td>\n",
       "      <td>Setosa</td>\n",
       "    </tr>\n",
       "    <tr>\n",
       "      <th>2</th>\n",
       "      <td>4.7</td>\n",
       "      <td>3.2</td>\n",
       "      <td>1.3</td>\n",
       "      <td>0.2</td>\n",
       "      <td>Setosa</td>\n",
       "    </tr>\n",
       "    <tr>\n",
       "      <th>3</th>\n",
       "      <td>4.6</td>\n",
       "      <td>3.1</td>\n",
       "      <td>1.5</td>\n",
       "      <td>0.2</td>\n",
       "      <td>Setosa</td>\n",
       "    </tr>\n",
       "    <tr>\n",
       "      <th>4</th>\n",
       "      <td>5.0</td>\n",
       "      <td>3.6</td>\n",
       "      <td>1.4</td>\n",
       "      <td>0.2</td>\n",
       "      <td>Setosa</td>\n",
       "    </tr>\n",
       "    <tr>\n",
       "      <th>...</th>\n",
       "      <td>...</td>\n",
       "      <td>...</td>\n",
       "      <td>...</td>\n",
       "      <td>...</td>\n",
       "      <td>...</td>\n",
       "    </tr>\n",
       "    <tr>\n",
       "      <th>145</th>\n",
       "      <td>6.7</td>\n",
       "      <td>3.0</td>\n",
       "      <td>5.2</td>\n",
       "      <td>2.3</td>\n",
       "      <td>Virginica</td>\n",
       "    </tr>\n",
       "    <tr>\n",
       "      <th>146</th>\n",
       "      <td>6.3</td>\n",
       "      <td>2.5</td>\n",
       "      <td>5.0</td>\n",
       "      <td>1.9</td>\n",
       "      <td>Virginica</td>\n",
       "    </tr>\n",
       "    <tr>\n",
       "      <th>147</th>\n",
       "      <td>6.5</td>\n",
       "      <td>3.0</td>\n",
       "      <td>5.2</td>\n",
       "      <td>2.0</td>\n",
       "      <td>Virginica</td>\n",
       "    </tr>\n",
       "    <tr>\n",
       "      <th>148</th>\n",
       "      <td>6.2</td>\n",
       "      <td>3.4</td>\n",
       "      <td>5.4</td>\n",
       "      <td>2.3</td>\n",
       "      <td>Virginica</td>\n",
       "    </tr>\n",
       "    <tr>\n",
       "      <th>149</th>\n",
       "      <td>5.9</td>\n",
       "      <td>3.0</td>\n",
       "      <td>5.1</td>\n",
       "      <td>1.8</td>\n",
       "      <td>Virginica</td>\n",
       "    </tr>\n",
       "  </tbody>\n",
       "</table>\n",
       "<p>150 rows × 5 columns</p>\n",
       "</div>"
      ],
      "text/plain": [
       "     sepal.length  sepal.width  petal.length  petal.width    variety\n",
       "0             5.1          3.5           1.4          0.2     Setosa\n",
       "1             4.9          3.0           1.4          0.2     Setosa\n",
       "2             4.7          3.2           1.3          0.2     Setosa\n",
       "3             4.6          3.1           1.5          0.2     Setosa\n",
       "4             5.0          3.6           1.4          0.2     Setosa\n",
       "..            ...          ...           ...          ...        ...\n",
       "145           6.7          3.0           5.2          2.3  Virginica\n",
       "146           6.3          2.5           5.0          1.9  Virginica\n",
       "147           6.5          3.0           5.2          2.0  Virginica\n",
       "148           6.2          3.4           5.4          2.3  Virginica\n",
       "149           5.9          3.0           5.1          1.8  Virginica\n",
       "\n",
       "[150 rows x 5 columns]"
      ]
     },
     "execution_count": 2,
     "metadata": {},
     "output_type": "execute_result"
    }
   ],
   "source": [
    "csv = pd.read_csv(\"../data/iris.csv\")\n",
    "csv"
   ]
  },
  {
   "cell_type": "markdown",
   "id": "c7be616f",
   "metadata": {},
   "source": [
    "### 3. Data Split and Shuffle\n",
    "- Train DataSet 과 Test DataSet으로 분리"
   ]
  },
  {
   "cell_type": "code",
   "execution_count": 3,
   "id": "a511544e",
   "metadata": {},
   "outputs": [],
   "source": [
    "label = csv['variety']\n",
    "feature = csv.drop(axis=1,columns='variety')"
   ]
  },
  {
   "cell_type": "code",
   "execution_count": 4,
   "id": "ce99679e",
   "metadata": {
    "scrolled": true
   },
   "outputs": [
    {
     "data": {
      "text/plain": [
       "0         Setosa\n",
       "1         Setosa\n",
       "2         Setosa\n",
       "3         Setosa\n",
       "4         Setosa\n",
       "         ...    \n",
       "145    Virginica\n",
       "146    Virginica\n",
       "147    Virginica\n",
       "148    Virginica\n",
       "149    Virginica\n",
       "Name: variety, Length: 150, dtype: object"
      ]
     },
     "execution_count": 4,
     "metadata": {},
     "output_type": "execute_result"
    }
   ],
   "source": [
    "label \n",
    "\n",
    "#확인해보면, Setosa는 앞에, Virginica는 뒤에... \n",
    "#이런 경우 머신은 순서상 앞에 있는 것을 setosa로 한다든지 등의 패턴을 학습해버릴 수 있다. \n",
    "#따라서 데이터를 shuffle해주어야 한다!"
   ]
  },
  {
   "cell_type": "code",
   "execution_count": 5,
   "id": "0ea43b13",
   "metadata": {},
   "outputs": [],
   "source": [
    "from sklearn.model_selection import train_test_split \n",
    "#이름에서 알 수 있듯, training dataSet과 test dataset으로 나눠주는. 모듈이다.\n",
    "#해당 모듈은 결과값을 리스트 형태로 반환한다.\n",
    "#그 순서는 아래와 같다.\n",
    "#-train_data\n",
    "#-test_data\n",
    "#-train_label\n",
    "#-test_label \n",
    "\n"
   ]
  },
  {
   "cell_type": "code",
   "execution_count": 6,
   "id": "7218ab1d",
   "metadata": {},
   "outputs": [
    {
     "name": "stdout",
     "output_type": "stream",
     "text": [
      "112 38\n"
     ]
    }
   ],
   "source": [
    "train_data,test_data,train_label,test_label = train_test_split(feature,label)\n",
    "\n",
    "#기본적으로 위의 모듈은 \n",
    "#1)75% 25%로 split\n",
    "#2)순서를 shuffle 하는 기능을 한다. \n",
    "\n",
    "print(len(train_label),len(test_label))"
   ]
  },
  {
   "cell_type": "code",
   "execution_count": 7,
   "id": "cb6866ba",
   "metadata": {},
   "outputs": [],
   "source": [
    "#만약 트레이닝, 테스트 데이터셋의 비율을 바꾸고 싶다면 키워드 변수 test_size 추가.\n",
    "#또한, 랜덤하게 섞는 것이기 때문에 시드값을 주고 싶다면 random_state를 추가해준다.\n",
    "train_data,test_data,train_label,test_label = train_test_split(feature,label, test_size=0.2, random_state=0)"
   ]
  },
  {
   "cell_type": "markdown",
   "id": "a9415128",
   "metadata": {},
   "source": [
    "### 4. Model generate and training"
   ]
  },
  {
   "cell_type": "code",
   "execution_count": 8,
   "id": "d49aeff5",
   "metadata": {
    "scrolled": true
   },
   "outputs": [
    {
     "data": {
      "text/plain": [
       "SVC()"
      ]
     },
     "execution_count": 8,
     "metadata": {},
     "output_type": "execute_result"
    }
   ],
   "source": [
    "model = SVC()\n",
    "#support vector classifier\n",
    "\n",
    "#학습시킬때는 학습용 데이터만을 입력한다. \n",
    "#학습용 데이터만 넣으면 답을 알수 없으므로, 답지도 함께 준다. -> train_label\n",
    "model.fit(train_data,train_label)"
   ]
  },
  {
   "cell_type": "markdown",
   "id": "a8e00d3c",
   "metadata": {},
   "source": [
    "### 5. prediction"
   ]
  },
  {
   "cell_type": "code",
   "execution_count": 9,
   "id": "849072eb",
   "metadata": {},
   "outputs": [
    {
     "data": {
      "text/plain": [
       "0.0"
      ]
     },
     "execution_count": 9,
     "metadata": {},
     "output_type": "execute_result"
    }
   ],
   "source": [
    "#예측 데이터에는 데이터셋만 넣고\n",
    "pred = model.predict(test_data)\n",
    "\n",
    "\n",
    "\n",
    "\n",
    "#예측값을 정답값과 비교해준다. \n",
    "#method1 = 원시적인 방법..\n",
    "count= 0\n",
    "for i,j in zip(pred,test_label):\n",
    "    if i!=j:\n",
    "        count+=1\n",
    "count/len(test_label)"
   ]
  },
  {
   "cell_type": "markdown",
   "id": "bd48cbfe",
   "metadata": {},
   "source": [
    "### 6. performance review"
   ]
  },
  {
   "cell_type": "code",
   "execution_count": 10,
   "id": "d59f20de",
   "metadata": {
    "scrolled": true
   },
   "outputs": [
    {
     "name": "stdout",
     "output_type": "stream",
     "text": [
      "1.0\n"
     ]
    }
   ],
   "source": [
    "#method2 모듈 이용\n",
    "\n",
    "from sklearn.metrics import accuracy_score\n",
    "score = accuracy_score(pred,test_label) #예측값, 실제정답\n",
    "print(score)   #1 == 100%"
   ]
  },
  {
   "cell_type": "code",
   "execution_count": 13,
   "id": "97f18a74",
   "metadata": {},
   "outputs": [
    {
     "data": {
      "text/plain": [
       "'simple_digraph.png'"
      ]
     },
     "execution_count": 13,
     "metadata": {},
     "output_type": "execute_result"
    }
   ],
   "source": [
    "from graphviz import Source\n",
    "dot_digraph= \"\"\"\n",
    "digraph graphname {\n",
    "    rankdir=LR;\n",
    "    a ->b ->c ->e ->f;\n",
    "    b ->d\n",
    "}\n",
    "\"\"\"\n",
    "s = Source(dot_digraph,filename='simple_digraph',format='png')\n",
    "s.view()"
   ]
  },
  {
   "cell_type": "code",
   "execution_count": null,
   "id": "bd30938f",
   "metadata": {},
   "outputs": [],
   "source": []
  },
  {
   "cell_type": "code",
   "execution_count": null,
   "id": "45c996af",
   "metadata": {},
   "outputs": [],
   "source": []
  }
 ],
 "metadata": {
  "kernelspec": {
   "display_name": "Python 3",
   "language": "python",
   "name": "python3"
  },
  "language_info": {
   "codemirror_mode": {
    "name": "ipython",
    "version": 3
   },
   "file_extension": ".py",
   "mimetype": "text/x-python",
   "name": "python",
   "nbconvert_exporter": "python",
   "pygments_lexer": "ipython3",
   "version": "3.8.8"
  }
 },
 "nbformat": 4,
 "nbformat_minor": 5
}
