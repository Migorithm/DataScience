{
 "cells": [
  {
   "cell_type": "markdown",
   "metadata": {},
   "source": [
    "## Linear Regression이란?"
   ]
  },
  {
   "cell_type": "markdown",
   "metadata": {},
   "source": [
    "#### <span style=\"color:red\">딥러닝의 딥은 통계의 결과들이 무수히 얽혀있는 즉 연산들이 복잡하다는 뜻의 Deep이다.</span>\n",
    "<span style=\"color:red\">이 연산중에서 가장 기본이 되는 연산이 바로 Linear Regression 선형회귀다.</span>\n",
    "여기서는 과연 선형회귀가 어떤 것인지 차근차근 살펴보겠다\n",
    "\n",
    "학생들과 성적의 관계\n",
    "학생들마다 다 다양한 성적 분포를 가지는데...여기에 어떤 연관이 있는지 알아내고\n",
    "그 연관 관계를 이용해서 결국에는 특정학생의 성적을 예측해보자.\n",
    "학생들의 기말고사 성적은 [      ]에 따라 다르다\n",
    "\n",
    "[     ]안에 시험성적을 좌우할 만한 요소들로 무엇이 있을까?\n",
    "여기서 [     ]안에 들어갈 내용을 '정보'라 한다. 머신러닝과 딥러닝은 이 정보가 필요하다. \n",
    "정보를 정확히 준비해 놓기만 하면 성적을 예측하는 방정식을 만들수 있다.\n",
    "\n",
    "이것을 수학적으로 정의하면, 성적을 변하게 하는 '정보' 요소를 X라 하고, 이 값에 따라 변하는 '성적'을 Y라 한다. 'X값이 변함에 따라 Y값도 변한다'는 정의 안에서 독립적으로 변할수 있는 값 X를 독립변수라 한다.\n",
    "또한, 이 독립 변수에 따라 종속적으로 변하는 Y를 종속변수라 한다.\n",
    "<span style=\"color:red\">선형회귀는 독립변수 X를 이용해서 종속변수 Y를 예측하고 설명하는 작업을 말한다.</span>"
   ]
  },
  {
   "cell_type": "markdown",
   "metadata": {},
   "source": [
    "### 예측선 그리기"
   ]
  },
  {
   "cell_type": "markdown",
   "metadata": {},
   "source": [
    "기말고사를 준비하는 학생들을 대상으로 자료를 조사한 결과를 바탕으로 공부한 시간을 통해서 시험성적을 예측하자. <br/>\n",
    "     X = [2,  4,  6,  8] <br/> \n",
    "     Y = [81, 93, 91, 97]"
   ]
  },
  {
   "cell_type": "code",
   "execution_count": 1,
   "metadata": {},
   "outputs": [],
   "source": [
    "import numpy as np\n",
    "import pandas as pd\n",
    "import matplotlib.pyplot as plt"
   ]
  },
  {
   "cell_type": "code",
   "execution_count": 2,
   "metadata": {},
   "outputs": [],
   "source": [
    "import platform\n",
    "from matplotlib import font_manager, rc\n",
    "plt.rcParams['axes.unicode_minus'] = False\n",
    "\n",
    "if platform.system() == 'Darwin':\n",
    "    rc('font', family='AppleGothic')\n",
    "elif platform.system() == 'Windows':\n",
    "    path = \"c:/Windows/Fonts/malgun.ttf\"\n",
    "    font_name = font_manager.FontProperties(fname=path).get_name()\n",
    "    rc('font', family=font_name)\n",
    "else:\n",
    "    print('Unknown system!!') "
   ]
  },
  {
   "cell_type": "markdown",
   "metadata": {},
   "source": [
    "왼쪽이 아래로 향하고 오른쪽이 위를 향하는 선형(직선으로 표시되는 형태의 그래프)을 보인다. 선형회귀는 이 점들의 특징을 가장 잘 나타내는 선을 그리는 과정이다.  여기서 선은 곧 일차함수 그래프이며 다음과 같은 공식으로 표현된다.<br>\n",
    "      <span style=\"color:red\">y = ax + b</span>\n",
    "      <br>\n",
    "여기서 x값은 독립변수이고 y값은 종속변수이다. 즉, x 값에 따라서 y값은 반드시 달라진다. 다만, 정확하게 계산하려면 상수 a와 b의 값을 알아야한다.<br>\n",
    "\n",
    "따라서 선형회귀문제는 결과적으로 a와 b값을 알아내는 문제이다."
   ]
  },
  {
   "cell_type": "markdown",
   "metadata": {},
   "source": [
    "### 최소제곱법\n",
    "    일차함수의 기울기 a와 절편 b를 구할수 있다\n",
    "    \n",
    "    a = (x-x평균)(y-y평균)의 합 / (x-x평균)**의 합\n",
    "    b = y의 평균-(x의 평균x기울기a)\n",
    "    \n",
    "    a = 2.3    b = 79\n",
    "\n",
    "### <span style=\"color:red\"><center>y = 2.3x + 79</center></span>"
   ]
  },
  {
   "cell_type": "code",
   "execution_count": 13,
   "metadata": {},
   "outputs": [],
   "source": [
    "X = [2, 4, 6, 8]\n",
    "Y = [81, 93, 91, 97]"
   ]
  },
  {
   "cell_type": "code",
   "execution_count": 7,
   "metadata": {},
   "outputs": [],
   "source": []
  },
  {
   "cell_type": "code",
   "execution_count": 21,
   "metadata": {},
   "outputs": [
    {
     "data": {
      "text/plain": [
       "(2.3, 79.0)"
      ]
     },
     "execution_count": 21,
     "metadata": {},
     "output_type": "execute_result"
    }
   ],
   "source": [
    "#a는 (x-x평균)(y-y평균)의 합 / (x-x평균)**의 합이라 하였다.\n",
    "\n",
    "\n",
    "def mls(X,Y):\n",
    "    X = np.array(X) \n",
    "    Y = np.array(Y)\n",
    "    \n",
    "    #(x1 - mx)(y1-my) + (x2 - mx)(y2-my) +...\n",
    "    inc = sum((X-X.mean())*(Y-Y.mean()))/ sum((X-X.mean())**2)\n",
    "    \n",
    "    #y의 평균 - (x의 평균x기울기 )\n",
    "    b = Y.mean()- (X.mean()*inc)\n",
    "    return inc,b\n",
    "\n",
    "mls(X,Y)\n"
   ]
  },
  {
   "cell_type": "code",
   "execution_count": 22,
   "metadata": {},
   "outputs": [
    {
     "data": {
      "text/plain": [
       "array([83.6, 88.2, 92.8, 97.4])"
      ]
     },
     "execution_count": 22,
     "metadata": {},
     "output_type": "execute_result"
    }
   ],
   "source": [
    "#예측   - y = ax+b 를 넘파이 어레이의 각 요소에 적용시켜본다.\n",
    "\n",
    "predict = mls(X,Y)[0]*np.array(X) + mls(X,Y)[1]\n",
    "\n",
    "\n",
    "predict"
   ]
  },
  {
   "cell_type": "code",
   "execution_count": 24,
   "metadata": {},
   "outputs": [
    {
     "data": {
      "image/png": "[encoded data removed]",
      "text/plain": [
       "<Figure size 432x288 with 1 Axes>"
      ]
     },
     "metadata": {
      "needs_background": "light"
     },
     "output_type": "display_data"
    },
    {
     "data": {
      "text/plain": [
       "[2, 4, 6, 8]"
      ]
     },
     "execution_count": 24,
     "metadata": {},
     "output_type": "execute_result"
    }
   ],
   "source": [
    "plt.scatter(X,Y)\n",
    "plt.plot(X,predict,c='r')\n",
    "plt.xlabel(\"공부한 시간\")\n",
    "plt.ylabel(\"성적\")\n",
    "plt.show()\n"
   ]
  },
  {
   "cell_type": "markdown",
   "metadata": {},
   "source": [
    "### 평균제곱 오차 \n",
    "<span style=\"color:red\">\n",
    "   $$\n",
    "   \\frac{1}{n}\\sum(pred_i - y_i)^2\n",
    "   $$\n",
    "</span>"
   ]
  },
  {
   "cell_type": "markdown",
   "metadata": {},
   "source": [
    "#### 평균제곱 오차가 작다는 것은 실제값과 예측값 사이의 간극이 크지 않다는 것을 말한다.\n",
    "    앞으로 딥러닝과 머신러닝을 공부할때 굉장히 많이 나오는 공식으로 이 값이 작으면 작을수록 예측한값의\n",
    "    정확도가 높아짐을 의미한다.\n",
    "#### 선형회귀란 임의의 직선을 그어서 이에 대한 평균제곱 오차를 구하고 이 값을 가장 작게 만들어주는  a와 b값을 찾아가는 작업이다.\n"
   ]
  },
  {
   "cell_type": "code",
   "execution_count": 29,
   "metadata": {
    "scrolled": true
   },
   "outputs": [
    {
     "data": {
      "text/plain": [
       "8.299999999999985"
      ]
     },
     "execution_count": 29,
     "metadata": {},
     "output_type": "execute_result"
    }
   ],
   "source": [
    "#평균제곱 오차 구하기! -> 최소제곱법을 통해 구한 예측모델에 대한 검증.\n",
    "\n",
    "def mse(y_hat,y):\n",
    "    return ((y_hat-y)**2).mean()\n",
    "\n",
    "mse(predict,Y)\n"
   ]
  },
  {
   "cell_type": "code",
   "execution_count": null,
   "metadata": {},
   "outputs": [],
   "source": []
  },
  {
   "cell_type": "markdown",
   "metadata": {},
   "source": [
    "### MSE 실습하기"
   ]
  },
  {
   "cell_type": "code",
   "execution_count": 30,
   "metadata": {},
   "outputs": [],
   "source": []
  },
  {
   "cell_type": "code",
   "execution_count": null,
   "metadata": {},
   "outputs": [],
   "source": []
  },
  {
   "cell_type": "code",
   "execution_count": null,
   "metadata": {},
   "outputs": [],
   "source": [
    "# 일차방정식 Y = aX + b 를 반환하는 함수 정의\n",
    "def predict(x):\n",
    "    return temp_a_b[0]*x + temp_a_b[1]"
   ]
  },
  {
   "cell_type": "code",
   "execution_count": null,
   "metadata": {},
   "outputs": [],
   "source": [
    "# 평균제곱근(MSE)공식을 그대로 파이썬 함수로 정의.\n",
    "def mse(y_hat, y):\n",
    "    return ((y_hat - y)**2).mean()"
   ]
  },
  {
   "cell_type": "code",
   "execution_count": null,
   "metadata": {},
   "outputs": [],
   "source": [
    "# MSE() 함수에 값을 입력하여 최종값을 구하는 함수를 정의\n",
    "def mse_val(predict_result, y): \n",
    "    return mse(np.array(predict_result), np.array(y))"
   ]
  }
 ],
 "metadata": {
  "kernelspec": {
   "display_name": "Python 3",
   "language": "python",
   "name": "python3"
  },
  "language_info": {
   "codemirror_mode": {
    "name": "ipython",
    "version": 3
   },
   "file_extension": ".py",
   "mimetype": "text/x-python",
   "name": "python",
   "nbconvert_exporter": "python",
   "pygments_lexer": "ipython3",
   "version": "3.8.8"
  },
  "toc": {
   "base_numbering": 1,
   "nav_menu": {},
   "number_sections": true,
   "sideBar": true,
   "skip_h1_title": false,
   "title_cell": "Table of Contents",
   "title_sidebar": "Contents",
   "toc_cell": false,
   "toc_position": {},
   "toc_section_display": true,
   "toc_window_display": false
  }
 },
 "nbformat": 4,
 "nbformat_minor": 4
}
