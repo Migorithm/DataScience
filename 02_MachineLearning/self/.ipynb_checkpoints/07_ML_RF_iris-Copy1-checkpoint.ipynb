{
 "cells": [
  {
   "cell_type": "markdown",
   "id": "5627f1fb",
   "metadata": {},
   "source": [
    "---\n",
    "### 머신러닝 단계 Pipe Line\n",
    "\n",
    "\n",
    "- Date loader\n",
    "- Modelling\n",
    "- prediction and evalution\n",
    "\n",
    "--- \n",
    "\n",
    "\n",
    "<분류 모델에서 평가 부분, 정확도(Accuracy)와 오차행렬(Confusion Matrix)을 살펴보자.>"
   ]
  },
  {
   "cell_type": "markdown",
   "id": "9ba9bdb9",
   "metadata": {},
   "source": [
    "#### Bagging Algorithm\n",
    "\n",
    "- RandomForest모델에서 사용하는 대표적인 알고리즘\n",
    "- Sample추출 법은 Bootstrap방식을 따르고 최종적으로 예측하는 방법을 Aggregation으로 한다.\n",
    "- 사이킷런은 RandomForestClassifier를 클래스를 통해 해당 모델 알고리즘을 생성하도록 지원한다."
   ]
  },
  {
   "cell_type": "code",
   "execution_count": 9,
   "id": "cd7c1f40",
   "metadata": {},
   "outputs": [],
   "source": [
    "import numpy as np\n",
    "import pandas as pd\n",
    "import matplotlib.pyplot as plt\n",
    "import seaborn as sns\n",
    "from sklearn import datasets\n",
    "from sklearn.model_selection import train_test_split"
   ]
  },
  {
   "cell_type": "markdown",
   "id": "fb8df50f",
   "metadata": {},
   "source": [
    "#### Data loader, Split and Shuffle "
   ]
  },
  {
   "cell_type": "code",
   "execution_count": 14,
   "id": "1738974e",
   "metadata": {},
   "outputs": [],
   "source": [
    "iris = datasets.load_iris()\n",
    "X_train, X_test, y_train, y_test = train_test_split(iris.data,iris.target,test_size=0.2)"
   ]
  },
  {
   "cell_type": "markdown",
   "id": "36920870",
   "metadata": {},
   "source": [
    "---\n",
    "### RandomForest Model Generator"
   ]
  },
  {
   "cell_type": "code",
   "execution_count": 17,
   "id": "87887208",
   "metadata": {},
   "outputs": [
    {
     "data": {
      "text/plain": [
       "RandomForestClassifier(random_state=42)"
      ]
     },
     "execution_count": 17,
     "metadata": {},
     "output_type": "execute_result"
    }
   ],
   "source": [
    "from sklearn.ensemble import RandomForestClassifier\n",
    "\n",
    "#n_estimator=100 -> 의사결정 트리 100개\n",
    "model = RandomForestClassifier(n_estimators=100, random_state=42)\n",
    "\n",
    "model.fit(X_train,y_train)\n"
   ]
  },
  {
   "cell_type": "code",
   "execution_count": 18,
   "id": "67a6d9fa",
   "metadata": {},
   "outputs": [
    {
     "data": {
      "text/plain": [
       "0.9333333333333333"
      ]
     },
     "execution_count": 18,
     "metadata": {},
     "output_type": "execute_result"
    }
   ],
   "source": [
    "pred = model.predict(X_test)\n",
    "\n",
    "from sklearn.metrics import accuracy_score\n",
    "accuracy = accuracy_score(pred,y_test)\n",
    "accuracy"
   ]
  },
  {
   "cell_type": "markdown",
   "id": "7e30e37b",
   "metadata": {},
   "source": [
    "--- \n",
    "\n",
    "### Confusion Matrix\n",
    "\n",
    "- 성능지표에서 잘 활용하고 있는 Confusion Matrix는 학습이 끝낸 모델이 예측을 수행하면서\n",
    "- 얼마나 혼란스러워하는지, 헷갈려하는지(?)를 잘 보여주는 지표."
   ]
  },
  {
   "cell_type": "code",
   "execution_count": 19,
   "id": "cb1bfc36",
   "metadata": {},
   "outputs": [],
   "source": [
    "from sklearn.metrics import confusion_matrix"
   ]
  },
  {
   "cell_type": "code",
   "execution_count": 20,
   "id": "fb4f545b",
   "metadata": {
    "scrolled": true
   },
   "outputs": [
    {
     "data": {
      "text/plain": [
       "array([[2, 0, 0],\n",
       "       [0, 0, 1],\n",
       "       [1, 0, 2]], dtype=int64)"
      ]
     },
     "execution_count": 20,
     "metadata": {},
     "output_type": "execute_result"
    }
   ],
   "source": [
    "y_true = [2,0,2,2,0,1] #실제 정답\n",
    "y_pred = [0,0,2,2,0,2] #예측 \n",
    "confusion_matrix(y_true,y_pred) #실제 정답을 먼저 놓고, 예측 결과값을 넣는다.\n"
   ]
  },
  {
   "cell_type": "markdown",
   "id": "c1deeaf6",
   "metadata": {},
   "source": [
    "#### 해석\n",
    "(대각선)\n",
    "- 실제 0인데 0으로 예측한게 2개. \n",
    "- 실제 2인데 실제로 예측한게 2개. \n",
    "- 실제 1인데 실제로 예측한게 0개.\n",
    "\n",
    "([2,0] -> 실제로는 2인데 0으로 예측한 값이 1개)\n"
   ]
  },
  {
   "cell_type": "code",
   "execution_count": 21,
   "id": "829fb67b",
   "metadata": {},
   "outputs": [
    {
     "data": {
      "text/plain": [
       "array([[1, 1, 0],\n",
       "       [0, 1, 0],\n",
       "       [0, 1, 1]], dtype=int64)"
      ]
     },
     "execution_count": 21,
     "metadata": {},
     "output_type": "execute_result"
    }
   ],
   "source": [
    "a = ['cherry','apple','apple','banana','cherry'] #답\n",
    "b = ['banana','banana','apple','banana','cherry'] #예측\n",
    "confusion_matrix(a,b) #알파벳으로 정렬된다는 것에 주의. (apple - > banana - > cherry 순)"
   ]
  },
  {
   "cell_type": "code",
   "execution_count": 22,
   "id": "3b11537f",
   "metadata": {
    "scrolled": true
   },
   "outputs": [
    {
     "data": {
      "text/plain": [
       "array([[1, 1, 0],\n",
       "       [0, 1, 0],\n",
       "       [0, 1, 1]], dtype=int64)"
      ]
     },
     "execution_count": 22,
     "metadata": {},
     "output_type": "execute_result"
    }
   ],
   "source": [
    "#라벨 순서 정해서 해보기.\n",
    "\n",
    "a = ['cherry','apple','apple','banana','cherry'] #답\n",
    "b = ['banana','banana','apple','banana','cherry']\n",
    "confusion_matrix(a,b,labels=['cherry','banana','apple'])"
   ]
  },
  {
   "cell_type": "markdown",
   "id": "64147da2",
   "metadata": {},
   "source": [
    "#### Confusion Matrix 데이터프레임으로 구현"
   ]
  },
  {
   "cell_type": "code",
   "execution_count": 24,
   "id": "fd4daa1a",
   "metadata": {},
   "outputs": [
    {
     "data": {
      "text/html": [
       "<div>\n",
       "<style scoped>\n",
       "    .dataframe tbody tr th:only-of-type {\n",
       "        vertical-align: middle;\n",
       "    }\n",
       "\n",
       "    .dataframe tbody tr th {\n",
       "        vertical-align: top;\n",
       "    }\n",
       "\n",
       "    .dataframe thead th {\n",
       "        text-align: right;\n",
       "    }\n",
       "</style>\n",
       "<table border=\"1\" class=\"dataframe\">\n",
       "  <thead>\n",
       "    <tr style=\"text-align: right;\">\n",
       "      <th></th>\n",
       "      <th>setosa</th>\n",
       "      <th>versicolor</th>\n",
       "      <th>virginica</th>\n",
       "    </tr>\n",
       "  </thead>\n",
       "  <tbody>\n",
       "    <tr>\n",
       "      <th>setosa</th>\n",
       "      <td>10</td>\n",
       "      <td>0</td>\n",
       "      <td>0</td>\n",
       "    </tr>\n",
       "    <tr>\n",
       "      <th>versicolor</th>\n",
       "      <td>0</td>\n",
       "      <td>7</td>\n",
       "      <td>1</td>\n",
       "    </tr>\n",
       "    <tr>\n",
       "      <th>virginica</th>\n",
       "      <td>0</td>\n",
       "      <td>1</td>\n",
       "      <td>11</td>\n",
       "    </tr>\n",
       "  </tbody>\n",
       "</table>\n",
       "</div>"
      ],
      "text/plain": [
       "            setosa  versicolor  virginica\n",
       "setosa          10           0          0\n",
       "versicolor       0           7          1\n",
       "virginica        0           1         11"
      ]
     },
     "execution_count": 24,
     "metadata": {},
     "output_type": "execute_result"
    }
   ],
   "source": [
    "cm = pd.DataFrame(confusion_matrix(y_test,pred),columns=iris.target_names , index=iris.target_names)\n",
    "cm\n",
    "\n",
    "#훨씬 보기 편해졌다! "
   ]
  },
  {
   "cell_type": "code",
   "execution_count": 38,
   "id": "820e48fd",
   "metadata": {},
   "outputs": [
    {
     "data": {
      "text/plain": [
       "<AxesSubplot:>"
      ]
     },
     "execution_count": 38,
     "metadata": {},
     "output_type": "execute_result"
    },
    {
     "data": {
      "image/png": "[encoded data removed]",
      "text/plain": [
       "<Figure size 432x288 with 2 Axes>"
      ]
     },
     "metadata": {
      "needs_background": "light"
     },
     "output_type": "display_data"
    }
   ],
   "source": [
    "sns.heatmap(cm,annot=True,cmap=plt.cm.Greens)"
   ]
  },
  {
   "cell_type": "code",
   "execution_count": null,
   "id": "cd30902b",
   "metadata": {},
   "outputs": [],
   "source": []
  },
  {
   "cell_type": "code",
   "execution_count": null,
   "id": "5616038d",
   "metadata": {},
   "outputs": [],
   "source": []
  },
  {
   "cell_type": "code",
   "execution_count": null,
   "id": "caec1ab9",
   "metadata": {},
   "outputs": [],
   "source": []
  },
  {
   "cell_type": "code",
   "execution_count": null,
   "id": "8eac700b",
   "metadata": {},
   "outputs": [],
   "source": []
  },
  {
   "cell_type": "code",
   "execution_count": null,
   "id": "56244549",
   "metadata": {},
   "outputs": [],
   "source": []
  }
 ],
 "metadata": {
  "kernelspec": {
   "display_name": "Python 3",
   "language": "python",
   "name": "python3"
  },
  "language_info": {
   "codemirror_mode": {
    "name": "ipython",
    "version": 3
   },
   "file_extension": ".py",
   "mimetype": "text/x-python",
   "name": "python",
   "nbconvert_exporter": "python",
   "pygments_lexer": "ipython3",
   "version": "3.8.8"
  },
  "toc": {
   "base_numbering": 1,
   "nav_menu": {},
   "number_sections": true,
   "sideBar": true,
   "skip_h1_title": false,
   "title_cell": "Table of Contents",
   "title_sidebar": "Contents",
   "toc_cell": false,
   "toc_position": {
    "height": "calc(100% - 180px)",
    "left": "10px",
    "top": "150px",
    "width": "349.091px"
   },
   "toc_section_display": true,
   "toc_window_display": true
  }
 },
 "nbformat": 4,
 "nbformat_minor": 5
}
